{
 "cells": [
  {
   "cell_type": "markdown",
   "metadata": {},
   "source": [
    "# New York State Supplemental Nutrition Assistance Program\n",
    "\n",
    "### Introduction\n",
    "\n",
    "Administered by the U.S. Department of Agriculture (USDA), the New York State Supplemental Nutrition Assistance Program (SNAP), the new name for the food stamp program, issues monthly electronic benefits that can be used like cash at authorized retail food stores. Eligibility and benefit levels are based on household size, income, assets and other factors. \n",
    "\n",
    "There has been a lot of attenion surrounding the SNAP since the Trump administration approved a new rule that is estimated to remove about 700,000 people from the federal SNAP program as a result of tightening of work requirements and removing individual states' discretion to create waivers for people in high employment areas. Currently, people aged between 18 and 49 who are childless and not disabled are required to work at least 20 hours a week for more than three months over a 36-hour period to qualify for food stamps. States have previously been able to create waivers for people in this group who live in high unemployment areas that may not meet these requirements. Under the rule, effective April 1, 2020, an area eligible for a waiver would have to have a 24-month average unemployment rate that is not only 20 percent above the national average but also at least 6 percent.\n",
    "\n",
    "Using open data collected by the State of New York government (https://data.ny.gov) can take a high level look at how USDA new rules may affect SNAP recipients. According to the Center on Budget and Policy Priorities, 2,911,000 New York residents, or 15% of the state population (1 in 7) are SNAP recipients (www.cbpp.org/).\n",
    "\n",
    "**Throughout the project we will look at three key areas:**\n",
    "\n",
    "* SNAP and unemployment point in time analysis \n",
    "* Areas in New York we predict will see the largest impact\n",
    "* The number and which areas would continue to be eligible to create waviers\n"
   ]
  },
  {
   "cell_type": "markdown",
   "metadata": {},
   "source": [
    "### Data Cleaning "
   ]
  },
  {
   "cell_type": "code",
   "execution_count": 1,
   "metadata": {},
   "outputs": [],
   "source": [
    "import pandas as pd\n",
    "import matplotlib\n",
    "import matplotlib.pyplot as plt\n",
    "import numpy as np\n",
    "import plotly.graph_objects as go\n",
    "import plotly.express as px\n"
   ]
  },
  {
   "cell_type": "code",
   "execution_count": 2,
   "metadata": {},
   "outputs": [],
   "source": [
    "SNAP = pd.read_csv(\"supplemental-nutrition-assistance-program-snap-caseloads-and-expenditures-beginning-2002.csv\")\n",
    "UNEMPLOYMENT = pd.read_csv(\"local-area-unemployment-statistics-beginning-1976.csv\")"
   ]
  },
  {
   "cell_type": "code",
   "execution_count": 3,
   "metadata": {},
   "outputs": [
    {
     "data": {
      "text/html": [
       "<div>\n",
       "<style scoped>\n",
       "    .dataframe tbody tr th:only-of-type {\n",
       "        vertical-align: middle;\n",
       "    }\n",
       "\n",
       "    .dataframe tbody tr th {\n",
       "        vertical-align: top;\n",
       "    }\n",
       "\n",
       "    .dataframe thead th {\n",
       "        text-align: right;\n",
       "    }\n",
       "</style>\n",
       "<table border=\"1\" class=\"dataframe\">\n",
       "  <thead>\n",
       "    <tr style=\"text-align: right;\">\n",
       "      <th></th>\n",
       "      <th>Year</th>\n",
       "      <th>Month</th>\n",
       "      <th>Month Code</th>\n",
       "      <th>District Code</th>\n",
       "      <th>District</th>\n",
       "      <th>Total SNAP Households</th>\n",
       "      <th>Total SNAP Persons</th>\n",
       "      <th>Total SNAP Benefits</th>\n",
       "      <th>Temporary Assistance SNAP Households</th>\n",
       "      <th>Temporary Assistance SNAP Persons</th>\n",
       "      <th>Temporary Assistance SNAP Benefits</th>\n",
       "      <th>Non-Temporary Assistance SNAP Households</th>\n",
       "      <th>Non-Temporary Assistance SNAP Persons</th>\n",
       "      <th>Non-Temporary Assistance SNAP Benefits</th>\n",
       "    </tr>\n",
       "  </thead>\n",
       "  <tbody>\n",
       "    <tr>\n",
       "      <td>0</td>\n",
       "      <td>2019</td>\n",
       "      <td>September</td>\n",
       "      <td>9</td>\n",
       "      <td>1</td>\n",
       "      <td>Albany</td>\n",
       "      <td>17474</td>\n",
       "      <td>31806</td>\n",
       "      <td>4007529.0</td>\n",
       "      <td>5922</td>\n",
       "      <td>8142</td>\n",
       "      <td>1229277.0</td>\n",
       "      <td>11552</td>\n",
       "      <td>23664</td>\n",
       "      <td>2778252.0</td>\n",
       "    </tr>\n",
       "    <tr>\n",
       "      <td>1</td>\n",
       "      <td>2019</td>\n",
       "      <td>August</td>\n",
       "      <td>8</td>\n",
       "      <td>1</td>\n",
       "      <td>Albany</td>\n",
       "      <td>17509</td>\n",
       "      <td>31915</td>\n",
       "      <td>4025284.0</td>\n",
       "      <td>5982</td>\n",
       "      <td>8191</td>\n",
       "      <td>1241427.0</td>\n",
       "      <td>11527</td>\n",
       "      <td>23724</td>\n",
       "      <td>2783857.0</td>\n",
       "    </tr>\n",
       "    <tr>\n",
       "      <td>2</td>\n",
       "      <td>2019</td>\n",
       "      <td>July</td>\n",
       "      <td>7</td>\n",
       "      <td>1</td>\n",
       "      <td>Albany</td>\n",
       "      <td>17558</td>\n",
       "      <td>31957</td>\n",
       "      <td>4025929.0</td>\n",
       "      <td>5940</td>\n",
       "      <td>8113</td>\n",
       "      <td>1215922.0</td>\n",
       "      <td>11618</td>\n",
       "      <td>23844</td>\n",
       "      <td>2810007.0</td>\n",
       "    </tr>\n",
       "    <tr>\n",
       "      <td>3</td>\n",
       "      <td>2019</td>\n",
       "      <td>June</td>\n",
       "      <td>6</td>\n",
       "      <td>1</td>\n",
       "      <td>Albany</td>\n",
       "      <td>17489</td>\n",
       "      <td>31797</td>\n",
       "      <td>3985900.0</td>\n",
       "      <td>5904</td>\n",
       "      <td>8062</td>\n",
       "      <td>1204561.0</td>\n",
       "      <td>11585</td>\n",
       "      <td>23735</td>\n",
       "      <td>2781339.0</td>\n",
       "    </tr>\n",
       "    <tr>\n",
       "      <td>4</td>\n",
       "      <td>2019</td>\n",
       "      <td>May</td>\n",
       "      <td>5</td>\n",
       "      <td>1</td>\n",
       "      <td>Albany</td>\n",
       "      <td>17552</td>\n",
       "      <td>31820</td>\n",
       "      <td>3984954.0</td>\n",
       "      <td>5971</td>\n",
       "      <td>8119</td>\n",
       "      <td>1224905.0</td>\n",
       "      <td>11581</td>\n",
       "      <td>23701</td>\n",
       "      <td>2760049.0</td>\n",
       "    </tr>\n",
       "  </tbody>\n",
       "</table>\n",
       "</div>"
      ],
      "text/plain": [
       "   Year      Month  Month Code  District Code District  Total SNAP Households  \\\n",
       "0  2019  September           9              1   Albany                  17474   \n",
       "1  2019     August           8              1   Albany                  17509   \n",
       "2  2019       July           7              1   Albany                  17558   \n",
       "3  2019       June           6              1   Albany                  17489   \n",
       "4  2019        May           5              1   Albany                  17552   \n",
       "\n",
       "   Total SNAP Persons  Total SNAP Benefits  \\\n",
       "0               31806            4007529.0   \n",
       "1               31915            4025284.0   \n",
       "2               31957            4025929.0   \n",
       "3               31797            3985900.0   \n",
       "4               31820            3984954.0   \n",
       "\n",
       "   Temporary Assistance SNAP Households  Temporary Assistance SNAP Persons  \\\n",
       "0                                  5922                               8142   \n",
       "1                                  5982                               8191   \n",
       "2                                  5940                               8113   \n",
       "3                                  5904                               8062   \n",
       "4                                  5971                               8119   \n",
       "\n",
       "   Temporary Assistance SNAP Benefits  \\\n",
       "0                           1229277.0   \n",
       "1                           1241427.0   \n",
       "2                           1215922.0   \n",
       "3                           1204561.0   \n",
       "4                           1224905.0   \n",
       "\n",
       "   Non-Temporary Assistance SNAP Households  \\\n",
       "0                                     11552   \n",
       "1                                     11527   \n",
       "2                                     11618   \n",
       "3                                     11585   \n",
       "4                                     11581   \n",
       "\n",
       "   Non-Temporary Assistance SNAP Persons  \\\n",
       "0                                  23664   \n",
       "1                                  23724   \n",
       "2                                  23844   \n",
       "3                                  23735   \n",
       "4                                  23701   \n",
       "\n",
       "   Non-Temporary Assistance SNAP Benefits  \n",
       "0                               2778252.0  \n",
       "1                               2783857.0  \n",
       "2                               2810007.0  \n",
       "3                               2781339.0  \n",
       "4                               2760049.0  "
      ]
     },
     "execution_count": 3,
     "metadata": {},
     "output_type": "execute_result"
    }
   ],
   "source": [
    "SNAP.head()"
   ]
  },
  {
   "cell_type": "code",
   "execution_count": 4,
   "metadata": {},
   "outputs": [
    {
     "data": {
      "text/html": [
       "<div>\n",
       "<style scoped>\n",
       "    .dataframe tbody tr th:only-of-type {\n",
       "        vertical-align: middle;\n",
       "    }\n",
       "\n",
       "    .dataframe tbody tr th {\n",
       "        vertical-align: top;\n",
       "    }\n",
       "\n",
       "    .dataframe thead th {\n",
       "        text-align: right;\n",
       "    }\n",
       "</style>\n",
       "<table border=\"1\" class=\"dataframe\">\n",
       "  <thead>\n",
       "    <tr style=\"text-align: right;\">\n",
       "      <th></th>\n",
       "      <th>Area</th>\n",
       "      <th>Year</th>\n",
       "      <th>Month</th>\n",
       "      <th>Labor Force</th>\n",
       "      <th>Employed</th>\n",
       "      <th>Unemployed</th>\n",
       "      <th>Unemployment Rate</th>\n",
       "    </tr>\n",
       "  </thead>\n",
       "  <tbody>\n",
       "    <tr>\n",
       "      <td>0</td>\n",
       "      <td>Albany City</td>\n",
       "      <td>2019</td>\n",
       "      <td>10</td>\n",
       "      <td>47300</td>\n",
       "      <td>45200</td>\n",
       "      <td>2100</td>\n",
       "      <td>4.4</td>\n",
       "    </tr>\n",
       "    <tr>\n",
       "      <td>1</td>\n",
       "      <td>Albany City</td>\n",
       "      <td>2019</td>\n",
       "      <td>9</td>\n",
       "      <td>46900</td>\n",
       "      <td>44800</td>\n",
       "      <td>2100</td>\n",
       "      <td>4.4</td>\n",
       "    </tr>\n",
       "    <tr>\n",
       "      <td>2</td>\n",
       "      <td>Albany City</td>\n",
       "      <td>2019</td>\n",
       "      <td>8</td>\n",
       "      <td>46600</td>\n",
       "      <td>44300</td>\n",
       "      <td>2300</td>\n",
       "      <td>4.9</td>\n",
       "    </tr>\n",
       "    <tr>\n",
       "      <td>3</td>\n",
       "      <td>Albany City</td>\n",
       "      <td>2019</td>\n",
       "      <td>7</td>\n",
       "      <td>46800</td>\n",
       "      <td>44600</td>\n",
       "      <td>2200</td>\n",
       "      <td>4.7</td>\n",
       "    </tr>\n",
       "    <tr>\n",
       "      <td>4</td>\n",
       "      <td>Albany City</td>\n",
       "      <td>2019</td>\n",
       "      <td>6</td>\n",
       "      <td>47200</td>\n",
       "      <td>45200</td>\n",
       "      <td>2000</td>\n",
       "      <td>4.2</td>\n",
       "    </tr>\n",
       "  </tbody>\n",
       "</table>\n",
       "</div>"
      ],
      "text/plain": [
       "          Area  Year  Month  Labor Force  Employed  Unemployed  \\\n",
       "0  Albany City  2019     10        47300     45200        2100   \n",
       "1  Albany City  2019      9        46900     44800        2100   \n",
       "2  Albany City  2019      8        46600     44300        2300   \n",
       "3  Albany City  2019      7        46800     44600        2200   \n",
       "4  Albany City  2019      6        47200     45200        2000   \n",
       "\n",
       "   Unemployment Rate                                                                                                                                                                        \n",
       "0                                                4.4                                                                                                                                        \n",
       "1                                                4.4                                                                                                                                        \n",
       "2                                                4.9                                                                                                                                        \n",
       "3                                                4.7                                                                                                                                        \n",
       "4                                                4.2                                                                                                                                        "
      ]
     },
     "execution_count": 4,
     "metadata": {},
     "output_type": "execute_result"
    }
   ],
   "source": [
    "UNEMPLOYMENT.head()"
   ]
  },
  {
   "cell_type": "code",
   "execution_count": 5,
   "metadata": {},
   "outputs": [],
   "source": [
    "#We have unemployment data from 1990 - 2019 and SNAP data from 2002-2019 so we will subset so that the \n",
    "#data is even and since we don't have a full year of 2019 data we will stop at 2018\n",
    "\n",
    "SNAP = SNAP.loc[(SNAP.Year >= 2002) & (SNAP.Year <= 2018)]\n",
    "UNEMPLOYMENT = UNEMPLOYMENT.loc[(UNEMPLOYMENT.Year >= 2002) & (UNEMPLOYMENT.Year <= 2018)]"
   ]
  },
  {
   "cell_type": "code",
   "execution_count": 6,
   "metadata": {},
   "outputs": [
    {
     "name": "stdout",
     "output_type": "stream",
     "text": [
      "<class 'pandas.core.frame.DataFrame'>\n",
      "Int64Index: 11832 entries, 9 to 12353\n",
      "Data columns (total 14 columns):\n",
      "Year                                        11832 non-null int64\n",
      "Month                                       11832 non-null object\n",
      "Month Code                                  11832 non-null int64\n",
      "District Code                               11832 non-null int64\n",
      "District                                    11832 non-null object\n",
      "Total SNAP Households                       11832 non-null int64\n",
      "Total SNAP Persons                          11832 non-null int64\n",
      "Total SNAP Benefits                         11832 non-null float64\n",
      "Temporary Assistance SNAP Households        11832 non-null int64\n",
      "Temporary Assistance SNAP Persons           11832 non-null int64\n",
      "Temporary Assistance SNAP Benefits          11832 non-null float64\n",
      "Non-Temporary Assistance SNAP Households    11832 non-null int64\n",
      "Non-Temporary Assistance SNAP Persons       11832 non-null int64\n",
      "Non-Temporary Assistance SNAP Benefits      11832 non-null float64\n",
      "dtypes: float64(3), int64(9), object(2)\n",
      "memory usage: 1.4+ MB\n",
      "<class 'pandas.core.frame.DataFrame'>\n",
      "Int64Index: 44880 entries, 10 to 78207\n",
      "Data columns (total 7 columns):\n",
      "Area                                                                                                                                                                                       44880 non-null object\n",
      "Year                                                                                                                                                                                       44880 non-null int64\n",
      "Month                                                                                                                                                                                      44880 non-null int64\n",
      "Labor Force                                                                                                                                                                                44880 non-null int64\n",
      "Employed                                                                                                                                                                                   44880 non-null int64\n",
      "Unemployed                                                                                                                                                                                 44880 non-null int64\n",
      "Unemployment Rate                                                                                                                                                                          44880 non-null float64\n",
      "dtypes: float64(1), int64(5), object(1)\n",
      "memory usage: 2.7+ MB\n"
     ]
    }
   ],
   "source": [
    "SNAP.info()\n",
    "UNEMPLOYMENT.info()"
   ]
  },
  {
   "cell_type": "code",
   "execution_count": 7,
   "metadata": {},
   "outputs": [],
   "source": [
    "#changing data type from float to integer \n",
    "SNAP['Total SNAP Benefits'] = SNAP['Total SNAP Benefits'].astype('int64')\n",
    "SNAP['Temporary Assistance SNAP Benefits'] = SNAP['Temporary Assistance SNAP Benefits'].astype('int64')\n",
    "SNAP['Non-Temporary Assistance SNAP Benefits'] = SNAP['Non-Temporary Assistance SNAP Benefits'].astype('int64')"
   ]
  },
  {
   "cell_type": "code",
   "execution_count": 8,
   "metadata": {},
   "outputs": [
    {
     "data": {
      "text/plain": [
       "['Albany City',\n",
       " 'Albany County',\n",
       " 'Albany-Rensselaer-Schenectady Counties',\n",
       " 'Albany-Schenectady-Troy Metro Area',\n",
       " 'Allegany-Cattaraugus',\n",
       " 'Allegany County',\n",
       " 'Amherst Town',\n",
       " 'Auburn City',\n",
       " 'Babylon Town',\n",
       " 'BALANCE OF STATE',\n",
       " 'Bethlehem Town',\n",
       " 'Binghamton City',\n",
       " 'Binghamton Metro Area',\n",
       " 'Brighton Town',\n",
       " 'Bronx County',\n",
       " 'Brookhaven Town',\n",
       " 'Broome County',\n",
       " 'Broome-Tioga',\n",
       " 'Buffalo City',\n",
       " 'Buffalo-Niagara Falls Metro Area',\n",
       " 'Capital Region',\n",
       " 'Carmel Town',\n",
       " 'Cattaraugus County',\n",
       " 'Cayuga-Cortland',\n",
       " 'Cayuga County',\n",
       " 'Central New York Region',\n",
       " 'Chautauqua',\n",
       " 'Chautauqua County',\n",
       " 'Cheektowaga Town',\n",
       " 'Chemung County',\n",
       " 'Chemung-Schuyler-Steuben',\n",
       " 'Chenango County',\n",
       " 'Chenango-Delaware-Otsego',\n",
       " 'Chili Town',\n",
       " 'Cicero Town',\n",
       " 'Clarence Town',\n",
       " 'Clarkstown Town',\n",
       " 'Clay Town',\n",
       " 'Clifton Park Town',\n",
       " 'Clinton County',\n",
       " 'Clinton-Essex-Franklin-Hamilton',\n",
       " 'Colonie Town',\n",
       " 'Columbia County',\n",
       " 'Columbia-Greene',\n",
       " 'Cortland County',\n",
       " 'Cortlandt Town',\n",
       " 'Delaware County',\n",
       " 'De Witt Town',\n",
       " 'Dutchess',\n",
       " 'Dutchess County',\n",
       " 'Dutchess-Putnam Metropolitan Division',\n",
       " 'Eastchester Town',\n",
       " 'East Fishkill Town Ny',\n",
       " 'Elmira City',\n",
       " 'Elmira Metro Area',\n",
       " 'Erie',\n",
       " 'Erie County',\n",
       " 'Essex County',\n",
       " 'Finger Lakes Region',\n",
       " 'Franklin County',\n",
       " 'Freeport Village',\n",
       " 'Fulton County',\n",
       " 'Fulton-Montgomery-Schoharie',\n",
       " 'Gates Town',\n",
       " 'Genesee County',\n",
       " 'Genesee-Livingston-Orleans-Wyoming',\n",
       " 'Glen Cove City',\n",
       " 'Glens Falls Metro Area',\n",
       " 'Glenville Town',\n",
       " 'Greece Town',\n",
       " 'Greenburgh Town',\n",
       " 'Greene County',\n",
       " 'Guilderland Town',\n",
       " 'Hamburg Town',\n",
       " 'Hamilton County',\n",
       " 'Harrison Village',\n",
       " 'Haverstraw Town',\n",
       " 'Hempstead-Long Beach',\n",
       " 'Hempstead Town',\n",
       " 'Hempstead Village',\n",
       " 'Henrietta Town',\n",
       " 'Herkimer County',\n",
       " 'Herkimer-Madison-Oneida',\n",
       " 'Hudson Valley Region',\n",
       " 'Huntington Town',\n",
       " 'Irondequoit Town',\n",
       " 'Islip Town',\n",
       " 'Ithaca City',\n",
       " 'Ithaca Metro Area',\n",
       " 'Jamestown City',\n",
       " 'Jefferson County',\n",
       " 'Jefferson-Lewis',\n",
       " 'Kings County',\n",
       " 'Kingston Metro Area',\n",
       " 'Lancaster Town',\n",
       " 'Lewis County',\n",
       " 'Lindenhurst',\n",
       " 'Livingston County',\n",
       " 'Lockport City',\n",
       " 'Long Beach City',\n",
       " 'Long Island Region',\n",
       " 'Madison County',\n",
       " 'Mamaroneck Town',\n",
       " 'Manlius Town',\n",
       " 'Middletown City',\n",
       " 'Mohawk Valley Region',\n",
       " 'Monroe',\n",
       " 'Monroe County',\n",
       " 'Monroe Town',\n",
       " 'Montgomery County',\n",
       " 'Mount Pleasant Town',\n",
       " 'Mount Vernon City',\n",
       " 'Nassau County',\n",
       " 'Nassau-Suffolk Metropolitan Division',\n",
       " 'Newburgh City',\n",
       " 'Newburgh Town',\n",
       " 'New Rochelle City',\n",
       " 'New Windsor Town',\n",
       " 'New York City',\n",
       " 'New York City Region',\n",
       " 'New York County',\n",
       " 'New York State',\n",
       " 'Niagara',\n",
       " 'Niagara County',\n",
       " 'Niagara Falls City',\n",
       " 'North Country Region',\n",
       " 'North Hempstead Town',\n",
       " 'North Tonawanda City',\n",
       " 'Oneida County',\n",
       " 'Onondaga',\n",
       " 'Onondaga County',\n",
       " 'Ontario County',\n",
       " 'Ontario-Seneca-Wayne-Yates',\n",
       " 'Orange',\n",
       " 'Orange County',\n",
       " 'Orange-Rockland-Westchester Metro Area',\n",
       " 'Orangetown Town',\n",
       " 'Orchard Park Town',\n",
       " 'Orleans County',\n",
       " 'Ossining Town',\n",
       " 'Oswego',\n",
       " 'Oswego County',\n",
       " 'Otsego County',\n",
       " 'Oyster Bay-North Hempstead-Glen Cove',\n",
       " 'Oyster Bay Town',\n",
       " 'Penfield Town',\n",
       " 'Perinton Town',\n",
       " 'Pittsford Town',\n",
       " 'Port Chester Village Ny',\n",
       " 'Poughkeepsie City',\n",
       " 'Poughkeepsie Town',\n",
       " 'Putnam-Balance Of Westchester',\n",
       " 'Putnam County',\n",
       " 'Queensbury Town',\n",
       " 'Queens County',\n",
       " 'Ramapo Town',\n",
       " 'Rensselaer County',\n",
       " 'Richmond County',\n",
       " 'Riverhead Town Ny',\n",
       " 'Rochester City',\n",
       " 'Rochester Metro Area',\n",
       " 'Rockland',\n",
       " 'Rockland County',\n",
       " 'Rockville Centre',\n",
       " 'Rome City',\n",
       " 'Rotterdam Town',\n",
       " 'Rye Town',\n",
       " 'Salina Town',\n",
       " 'Saratoga County',\n",
       " 'Saratoga Springs City',\n",
       " 'Saratoga-Warren-Washington',\n",
       " 'Schenectady City',\n",
       " 'Schenectady County',\n",
       " 'Schoharie County',\n",
       " 'Schuyler County',\n",
       " 'Seneca County',\n",
       " 'Smithtown Town',\n",
       " 'Southampton',\n",
       " 'Southern Tier Region',\n",
       " 'Spring Valley Village',\n",
       " 'Steuben County',\n",
       " 'St. Lawrence',\n",
       " 'St. Lawrence County',\n",
       " 'Suffolk',\n",
       " 'Suffolk County',\n",
       " 'Sullivan',\n",
       " 'Sullivan County',\n",
       " 'Syracuse City',\n",
       " 'Syracuse Metro Area',\n",
       " 'Tioga County',\n",
       " 'Tompkins',\n",
       " 'Tompkins County',\n",
       " 'Tonawanda Town',\n",
       " 'Troy City',\n",
       " 'Ulster',\n",
       " 'Ulster County',\n",
       " 'Union Town',\n",
       " 'Utica City',\n",
       " 'Utica-Rome Metro Area',\n",
       " 'Valley Stream',\n",
       " 'Vestal Town',\n",
       " 'Wallkill Town Ny',\n",
       " 'Wappinger Town',\n",
       " 'Warren County',\n",
       " 'Warwick Town',\n",
       " 'Washington County',\n",
       " 'Watertown City',\n",
       " 'Watertown-Fort Drum Metro Area',\n",
       " 'Wayne County',\n",
       " 'Webster Town',\n",
       " 'Westchester County',\n",
       " 'Western New York Region',\n",
       " 'West Seneca Town',\n",
       " 'White Plains City',\n",
       " 'Wyoming County',\n",
       " 'Yates County',\n",
       " 'Yonkers',\n",
       " 'Yonkers City',\n",
       " 'Yorktown Town']"
      ]
     },
     "execution_count": 8,
     "metadata": {},
     "output_type": "execute_result"
    }
   ],
   "source": [
    "UNEMPLOYMENT[\"Area\"].unique().tolist()\n",
    "#This dataset gives use data at the county level, region, and metro area level. Since our SNAP data is at\n",
    "#the county level we will just use county "
   ]
  },
  {
   "cell_type": "code",
   "execution_count": 9,
   "metadata": {},
   "outputs": [
    {
     "data": {
      "text/plain": [
       "['Albany',\n",
       " 'Allegany',\n",
       " 'Broome',\n",
       " 'Cattaraugus',\n",
       " 'Cayuga',\n",
       " 'Chautauqua',\n",
       " 'Chemung',\n",
       " 'Chenango',\n",
       " 'Clinton',\n",
       " 'Columbia',\n",
       " 'Cortland',\n",
       " 'Delaware',\n",
       " 'Dutchess',\n",
       " 'Erie',\n",
       " 'Essex',\n",
       " 'Franklin',\n",
       " 'Fulton',\n",
       " 'Genesee',\n",
       " 'Greene',\n",
       " 'Hamilton',\n",
       " 'Herkimer',\n",
       " 'Jefferson',\n",
       " 'Lewis',\n",
       " 'Livingston',\n",
       " 'Madison',\n",
       " 'Monroe',\n",
       " 'Montgomery',\n",
       " 'Nassau',\n",
       " 'Niagara',\n",
       " 'Oneida',\n",
       " 'Onondaga',\n",
       " 'Ontario',\n",
       " 'Orange',\n",
       " 'Orleans',\n",
       " 'Oswego',\n",
       " 'Otsego',\n",
       " 'Putnam',\n",
       " 'Rensselaer',\n",
       " 'Rockland',\n",
       " 'St. Lawrence',\n",
       " 'Saratoga',\n",
       " 'Schenectady',\n",
       " 'Schoharie',\n",
       " 'Schuyler',\n",
       " 'Seneca',\n",
       " 'Steuben',\n",
       " 'Suffolk',\n",
       " 'Sullivan',\n",
       " 'Tioga',\n",
       " 'Tompkins',\n",
       " 'Ulster',\n",
       " 'Warren',\n",
       " 'Washington',\n",
       " 'Wayne',\n",
       " 'Westchester',\n",
       " 'Wyoming',\n",
       " 'Yates',\n",
       " 'New York City']"
      ]
     },
     "execution_count": 9,
     "metadata": {},
     "output_type": "execute_result"
    }
   ],
   "source": [
    "SNAP[\"District\"].unique().tolist()"
   ]
  },
  {
   "cell_type": "code",
   "execution_count": 10,
   "metadata": {},
   "outputs": [],
   "source": [
    "#New York City is considered the county seat of these five counties: New York County, Kings County, \n",
    "#Bronx County, Richmond County, and Queens County so we need to combine those into New York City \n",
    "NYC_Counties_list = ['Kings County', 'Bronx County', 'New York County','Richmond County','Queens County']\n",
    "NYC_Counties = UNEMPLOYMENT.loc[UNEMPLOYMENT['Area'].isin(NYC_Counties_list)]"
   ]
  },
  {
   "cell_type": "code",
   "execution_count": 11,
   "metadata": {},
   "outputs": [
    {
     "data": {
      "text/html": [
       "<div>\n",
       "<style scoped>\n",
       "    .dataframe tbody tr th:only-of-type {\n",
       "        vertical-align: middle;\n",
       "    }\n",
       "\n",
       "    .dataframe tbody tr th {\n",
       "        vertical-align: top;\n",
       "    }\n",
       "\n",
       "    .dataframe thead th {\n",
       "        text-align: right;\n",
       "    }\n",
       "</style>\n",
       "<table border=\"1\" class=\"dataframe\">\n",
       "  <thead>\n",
       "    <tr style=\"text-align: right;\">\n",
       "      <th></th>\n",
       "      <th>Area</th>\n",
       "      <th>Year</th>\n",
       "      <th>Month</th>\n",
       "      <th>Labor Force</th>\n",
       "      <th>Employed</th>\n",
       "      <th>Unemployed</th>\n",
       "      <th>Unemployment Rate</th>\n",
       "    </tr>\n",
       "  </thead>\n",
       "  <tbody>\n",
       "    <tr>\n",
       "      <td>5190</td>\n",
       "      <td>Bronx County</td>\n",
       "      <td>2018</td>\n",
       "      <td>12</td>\n",
       "      <td>606200</td>\n",
       "      <td>573100</td>\n",
       "      <td>33100</td>\n",
       "      <td>5.5</td>\n",
       "    </tr>\n",
       "    <tr>\n",
       "      <td>5191</td>\n",
       "      <td>Bronx County</td>\n",
       "      <td>2018</td>\n",
       "      <td>11</td>\n",
       "      <td>604600</td>\n",
       "      <td>573500</td>\n",
       "      <td>31100</td>\n",
       "      <td>5.1</td>\n",
       "    </tr>\n",
       "    <tr>\n",
       "      <td>5192</td>\n",
       "      <td>Bronx County</td>\n",
       "      <td>2018</td>\n",
       "      <td>10</td>\n",
       "      <td>605900</td>\n",
       "      <td>573700</td>\n",
       "      <td>32200</td>\n",
       "      <td>5.3</td>\n",
       "    </tr>\n",
       "    <tr>\n",
       "      <td>5193</td>\n",
       "      <td>Bronx County</td>\n",
       "      <td>2018</td>\n",
       "      <td>9</td>\n",
       "      <td>601300</td>\n",
       "      <td>570300</td>\n",
       "      <td>31000</td>\n",
       "      <td>5.2</td>\n",
       "    </tr>\n",
       "    <tr>\n",
       "      <td>5194</td>\n",
       "      <td>Bronx County</td>\n",
       "      <td>2018</td>\n",
       "      <td>8</td>\n",
       "      <td>604500</td>\n",
       "      <td>568400</td>\n",
       "      <td>36100</td>\n",
       "      <td>6.0</td>\n",
       "    </tr>\n",
       "  </tbody>\n",
       "</table>\n",
       "</div>"
      ],
      "text/plain": [
       "              Area  Year  Month  Labor Force  Employed  Unemployed  \\\n",
       "5190  Bronx County  2018     12       606200    573100       33100   \n",
       "5191  Bronx County  2018     11       604600    573500       31100   \n",
       "5192  Bronx County  2018     10       605900    573700       32200   \n",
       "5193  Bronx County  2018      9       601300    570300       31000   \n",
       "5194  Bronx County  2018      8       604500    568400       36100   \n",
       "\n",
       "      Unemployment Rate                                                                                                                                                                        \n",
       "5190                                                5.5                                                                                                                                        \n",
       "5191                                                5.1                                                                                                                                        \n",
       "5192                                                5.3                                                                                                                                        \n",
       "5193                                                5.2                                                                                                                                        \n",
       "5194                                                6.0                                                                                                                                        "
      ]
     },
     "execution_count": 11,
     "metadata": {},
     "output_type": "execute_result"
    }
   ],
   "source": [
    "NYC_Counties.head()\n",
    "#dataset of all NYC counties "
   ]
  },
  {
   "cell_type": "code",
   "execution_count": 12,
   "metadata": {},
   "outputs": [
    {
     "data": {
      "text/html": [
       "<div>\n",
       "<style scoped>\n",
       "    .dataframe tbody tr th:only-of-type {\n",
       "        vertical-align: middle;\n",
       "    }\n",
       "\n",
       "    .dataframe tbody tr th {\n",
       "        vertical-align: top;\n",
       "    }\n",
       "\n",
       "    .dataframe thead th {\n",
       "        text-align: right;\n",
       "    }\n",
       "</style>\n",
       "<table border=\"1\" class=\"dataframe\">\n",
       "  <thead>\n",
       "    <tr style=\"text-align: right;\">\n",
       "      <th></th>\n",
       "      <th>Year</th>\n",
       "      <th>Month</th>\n",
       "      <th>Labor Force</th>\n",
       "      <th>Employed</th>\n",
       "      <th>Unemployed</th>\n",
       "      <th>Unemployment Rate</th>\n",
       "      <th>Area</th>\n",
       "    </tr>\n",
       "  </thead>\n",
       "  <tbody>\n",
       "    <tr>\n",
       "      <td>0</td>\n",
       "      <td>2002</td>\n",
       "      <td>1</td>\n",
       "      <td>3676100</td>\n",
       "      <td>3372600</td>\n",
       "      <td>303700</td>\n",
       "      <td>41.0</td>\n",
       "      <td>New York City</td>\n",
       "    </tr>\n",
       "    <tr>\n",
       "      <td>1</td>\n",
       "      <td>2002</td>\n",
       "      <td>2</td>\n",
       "      <td>3712700</td>\n",
       "      <td>3408900</td>\n",
       "      <td>303800</td>\n",
       "      <td>40.6</td>\n",
       "      <td>New York City</td>\n",
       "    </tr>\n",
       "    <tr>\n",
       "      <td>2</td>\n",
       "      <td>2002</td>\n",
       "      <td>3</td>\n",
       "      <td>3709100</td>\n",
       "      <td>3406200</td>\n",
       "      <td>303100</td>\n",
       "      <td>40.5</td>\n",
       "      <td>New York City</td>\n",
       "    </tr>\n",
       "    <tr>\n",
       "      <td>3</td>\n",
       "      <td>2002</td>\n",
       "      <td>4</td>\n",
       "      <td>3695400</td>\n",
       "      <td>3403400</td>\n",
       "      <td>291800</td>\n",
       "      <td>39.3</td>\n",
       "      <td>New York City</td>\n",
       "    </tr>\n",
       "    <tr>\n",
       "      <td>4</td>\n",
       "      <td>2002</td>\n",
       "      <td>5</td>\n",
       "      <td>3680800</td>\n",
       "      <td>3401500</td>\n",
       "      <td>279300</td>\n",
       "      <td>38.0</td>\n",
       "      <td>New York City</td>\n",
       "    </tr>\n",
       "  </tbody>\n",
       "</table>\n",
       "</div>"
      ],
      "text/plain": [
       "   Year  Month  Labor Force  Employed  Unemployed  \\\n",
       "0  2002      1      3676100   3372600      303700   \n",
       "1  2002      2      3712700   3408900      303800   \n",
       "2  2002      3      3709100   3406200      303100   \n",
       "3  2002      4      3695400   3403400      291800   \n",
       "4  2002      5      3680800   3401500      279300   \n",
       "\n",
       "   Unemployment Rate                                                                                                                                                                        \\\n",
       "0                                               41.0                                                                                                                                         \n",
       "1                                               40.6                                                                                                                                         \n",
       "2                                               40.5                                                                                                                                         \n",
       "3                                               39.3                                                                                                                                         \n",
       "4                                               38.0                                                                                                                                         \n",
       "\n",
       "            Area  \n",
       "0  New York City  \n",
       "1  New York City  \n",
       "2  New York City  \n",
       "3  New York City  \n",
       "4  New York City  "
      ]
     },
     "execution_count": 12,
     "metadata": {},
     "output_type": "execute_result"
    }
   ],
   "source": [
    "NYC_Counties = NYC_Counties.groupby(['Year', 'Month']).sum()\n",
    "NYC_Counties['Area'] = 'New York City'\n",
    "NYC_Counties = NYC_Counties.reset_index() \n",
    "NYC_Counties.head()\n",
    "#sum NYC counties by year and month into one area "
   ]
  },
  {
   "cell_type": "code",
   "execution_count": 13,
   "metadata": {},
   "outputs": [],
   "source": [
    "#After combining NYC counties we can add combined data to orginal dataframe\n",
    "UNEMPLOYMENT = pd.concat([NYC_Counties, UNEMPLOYMENT], ignore_index=True, sort =False)"
   ]
  },
  {
   "cell_type": "code",
   "execution_count": 14,
   "metadata": {},
   "outputs": [],
   "source": [
    "UNEMPLOYMENT = UNEMPLOYMENT[~UNEMPLOYMENT.Area.isin(NYC_Counties_list)]\n",
    "#Remove individual NYC counties since we joined all NYC counties previously "
   ]
  },
  {
   "cell_type": "code",
   "execution_count": 15,
   "metadata": {},
   "outputs": [
    {
     "data": {
      "text/plain": [
       "['New York City',\n",
       " 'Albany County',\n",
       " 'Allegany County',\n",
       " 'Broome County',\n",
       " 'Cattaraugus County',\n",
       " 'Cayuga County',\n",
       " 'Chautauqua County',\n",
       " 'Chemung County',\n",
       " 'Chenango County',\n",
       " 'Clinton County',\n",
       " 'Columbia County',\n",
       " 'Cortland County',\n",
       " 'Delaware County',\n",
       " 'Dutchess County',\n",
       " 'Erie County',\n",
       " 'Essex County',\n",
       " 'Franklin County',\n",
       " 'Fulton County',\n",
       " 'Genesee County',\n",
       " 'Greene County',\n",
       " 'Hamilton County',\n",
       " 'Herkimer County',\n",
       " 'Jefferson County',\n",
       " 'Lewis County',\n",
       " 'Livingston County',\n",
       " 'Madison County',\n",
       " 'Monroe County',\n",
       " 'Montgomery County',\n",
       " 'Nassau County',\n",
       " 'Niagara County',\n",
       " 'Oneida County',\n",
       " 'Onondaga County',\n",
       " 'Ontario County',\n",
       " 'Orange County',\n",
       " 'Orleans County',\n",
       " 'Oswego County',\n",
       " 'Otsego County',\n",
       " 'Putnam County',\n",
       " 'Rensselaer County',\n",
       " 'Rockland County',\n",
       " 'Saratoga County',\n",
       " 'Schenectady County',\n",
       " 'Schoharie County',\n",
       " 'Schuyler County',\n",
       " 'Seneca County',\n",
       " 'Steuben County',\n",
       " 'St. Lawrence County',\n",
       " 'Suffolk County',\n",
       " 'Sullivan County',\n",
       " 'Tioga County',\n",
       " 'Tompkins County',\n",
       " 'Ulster County',\n",
       " 'Warren County',\n",
       " 'Washington County',\n",
       " 'Wayne County',\n",
       " 'Westchester County',\n",
       " 'Wyoming County',\n",
       " 'Yates County']"
      ]
     },
     "execution_count": 15,
     "metadata": {},
     "output_type": "execute_result"
    }
   ],
   "source": [
    "#Subset counties and NYC only \n",
    "UNEMPLOYMENT = UNEMPLOYMENT[(UNEMPLOYMENT.Area.str.contains(\"County\")) | (UNEMPLOYMENT['Area'] == 'New York City')]\n",
    "UNEMPLOYMENT[\"Area\"].unique().tolist()"
   ]
  },
  {
   "cell_type": "code",
   "execution_count": 16,
   "metadata": {},
   "outputs": [
    {
     "data": {
      "text/plain": [
       "True"
      ]
     },
     "execution_count": 16,
     "metadata": {},
     "output_type": "execute_result"
    }
   ],
   "source": [
    "UNEMPLOYMENT[\"Area\"].nunique() == SNAP[\"District\"].nunique()\n",
    "#confirm our county count is accurate"
   ]
  },
  {
   "cell_type": "markdown",
   "metadata": {},
   "source": [
    "### Counties Trends of SNAP Recipients and Unemployed Residents Over Time"
   ]
  },
  {
   "cell_type": "code",
   "execution_count": 30,
   "metadata": {},
   "outputs": [
    {
     "data": {
      "application/vnd.plotly.v1+json": {
       "config": {
        "plotlyServerURL": "https://plot.ly"
       },
       "data": [
        {
         "hoverlabel": {
          "namelength": 0
         },
         "hovertemplate": "<b>%{hovertext}</b><br><br>District=Albany<br>Year=%{x}<br>Total SNAP Persons=%{y}",
         "hovertext": [
          "Albany",
          "Albany",
          "Albany",
          "Albany",
          "Albany",
          "Albany",
          "Albany",
          "Albany",
          "Albany",
          "Albany",
          "Albany",
          "Albany",
          "Albany",
          "Albany",
          "Albany",
          "Albany",
          "Albany"
         ],
         "legendgroup": "District=Albany",
         "line": {
          "color": "#636efa",
          "dash": "solid"
         },
         "mode": "lines",
         "name": "District=Albany",
         "showlegend": true,
         "type": "scatter",
         "x": [
          2002,
          2003,
          2004,
          2005,
          2006,
          2007,
          2008,
          2009,
          2010,
          2011,
          2012,
          2013,
          2014,
          2015,
          2016,
          2017,
          2018
         ],
         "xaxis": "x",
         "y": [
          212892,
          225745,
          235090,
          244585,
          244952,
          244671,
          265642,
          320644,
          375465,
          409084,
          432346,
          445075,
          443884,
          440824,
          428900,
          416302,
          397574
         ],
         "yaxis": "y"
        },
        {
         "hoverlabel": {
          "namelength": 0
         },
         "hovertemplate": "<b>%{hovertext}</b><br><br>District=Allegany<br>Year=%{x}<br>Total SNAP Persons=%{y}",
         "hovertext": [
          "Allegany",
          "Allegany",
          "Allegany",
          "Allegany",
          "Allegany",
          "Allegany",
          "Allegany",
          "Allegany",
          "Allegany",
          "Allegany",
          "Allegany",
          "Allegany",
          "Allegany",
          "Allegany",
          "Allegany",
          "Allegany",
          "Allegany"
         ],
         "legendgroup": "District=Allegany",
         "line": {
          "color": "#EF553B",
          "dash": "solid"
         },
         "mode": "lines",
         "name": "District=Allegany",
         "showlegend": true,
         "type": "scatter",
         "x": [
          2002,
          2003,
          2004,
          2005,
          2006,
          2007,
          2008,
          2009,
          2010,
          2011,
          2012,
          2013,
          2014,
          2015,
          2016,
          2017,
          2018
         ],
         "xaxis": "x",
         "y": [
          44346,
          48341,
          53277,
          55574,
          55729,
          53543,
          57525,
          67265,
          75199,
          79795,
          78902,
          83134,
          81501,
          75053,
          72132,
          69802,
          65496
         ],
         "yaxis": "y"
        },
        {
         "hoverlabel": {
          "namelength": 0
         },
         "hovertemplate": "<b>%{hovertext}</b><br><br>District=Broome<br>Year=%{x}<br>Total SNAP Persons=%{y}",
         "hovertext": [
          "Broome",
          "Broome",
          "Broome",
          "Broome",
          "Broome",
          "Broome",
          "Broome",
          "Broome",
          "Broome",
          "Broome",
          "Broome",
          "Broome",
          "Broome",
          "Broome",
          "Broome",
          "Broome",
          "Broome"
         ],
         "legendgroup": "District=Broome",
         "line": {
          "color": "#00cc96",
          "dash": "solid"
         },
         "mode": "lines",
         "name": "District=Broome",
         "showlegend": true,
         "type": "scatter",
         "x": [
          2002,
          2003,
          2004,
          2005,
          2006,
          2007,
          2008,
          2009,
          2010,
          2011,
          2012,
          2013,
          2014,
          2015,
          2016,
          2017,
          2018
         ],
         "xaxis": "x",
         "y": [
          151255,
          165869,
          186882,
          205910,
          221682,
          228959,
          250071,
          296573,
          335380,
          354597,
          355906,
          374340,
          377440,
          378157,
          370039,
          363504,
          348026
         ],
         "yaxis": "y"
        },
        {
         "hoverlabel": {
          "namelength": 0
         },
         "hovertemplate": "<b>%{hovertext}</b><br><br>District=Cattaraugus<br>Year=%{x}<br>Total SNAP Persons=%{y}",
         "hovertext": [
          "Cattaraugus",
          "Cattaraugus",
          "Cattaraugus",
          "Cattaraugus",
          "Cattaraugus",
          "Cattaraugus",
          "Cattaraugus",
          "Cattaraugus",
          "Cattaraugus",
          "Cattaraugus",
          "Cattaraugus",
          "Cattaraugus",
          "Cattaraugus",
          "Cattaraugus",
          "Cattaraugus",
          "Cattaraugus",
          "Cattaraugus"
         ],
         "legendgroup": "District=Cattaraugus",
         "line": {
          "color": "#ab63fa",
          "dash": "solid"
         },
         "mode": "lines",
         "name": "District=Cattaraugus",
         "showlegend": true,
         "type": "scatter",
         "x": [
          2002,
          2003,
          2004,
          2005,
          2006,
          2007,
          2008,
          2009,
          2010,
          2011,
          2012,
          2013,
          2014,
          2015,
          2016,
          2017,
          2018
         ],
         "xaxis": "x",
         "y": [
          73162,
          78262,
          82842,
          86372,
          86160,
          83745,
          92578,
          109470,
          123300,
          130911,
          139646,
          147239,
          152405,
          151802,
          147876,
          144572,
          136115
         ],
         "yaxis": "y"
        },
        {
         "hoverlabel": {
          "namelength": 0
         },
         "hovertemplate": "<b>%{hovertext}</b><br><br>District=Cayuga<br>Year=%{x}<br>Total SNAP Persons=%{y}",
         "hovertext": [
          "Cayuga",
          "Cayuga",
          "Cayuga",
          "Cayuga",
          "Cayuga",
          "Cayuga",
          "Cayuga",
          "Cayuga",
          "Cayuga",
          "Cayuga",
          "Cayuga",
          "Cayuga",
          "Cayuga",
          "Cayuga",
          "Cayuga",
          "Cayuga",
          "Cayuga"
         ],
         "legendgroup": "District=Cayuga",
         "line": {
          "color": "#FFA15A",
          "dash": "solid"
         },
         "mode": "lines",
         "name": "District=Cayuga",
         "showlegend": true,
         "type": "scatter",
         "x": [
          2002,
          2003,
          2004,
          2005,
          2006,
          2007,
          2008,
          2009,
          2010,
          2011,
          2012,
          2013,
          2014,
          2015,
          2016,
          2017,
          2018
         ],
         "xaxis": "x",
         "y": [
          57005,
          61048,
          66002,
          74423,
          77462,
          79687,
          85473,
          102203,
          115042,
          121966,
          126953,
          129851,
          131404,
          129248,
          123072,
          121988,
          116959
         ],
         "yaxis": "y"
        },
        {
         "hoverlabel": {
          "namelength": 0
         },
         "hovertemplate": "<b>%{hovertext}</b><br><br>District=Chautauqua<br>Year=%{x}<br>Total SNAP Persons=%{y}",
         "hovertext": [
          "Chautauqua",
          "Chautauqua",
          "Chautauqua",
          "Chautauqua",
          "Chautauqua",
          "Chautauqua",
          "Chautauqua",
          "Chautauqua",
          "Chautauqua",
          "Chautauqua",
          "Chautauqua",
          "Chautauqua",
          "Chautauqua",
          "Chautauqua",
          "Chautauqua",
          "Chautauqua",
          "Chautauqua"
         ],
         "legendgroup": "District=Chautauqua",
         "line": {
          "color": "#19d3f3",
          "dash": "solid"
         },
         "mode": "lines",
         "name": "District=Chautauqua",
         "showlegend": true,
         "type": "scatter",
         "x": [
          2002,
          2003,
          2004,
          2005,
          2006,
          2007,
          2008,
          2009,
          2010,
          2011,
          2012,
          2013,
          2014,
          2015,
          2016,
          2017,
          2018
         ],
         "xaxis": "x",
         "y": [
          144396,
          159165,
          171071,
          183256,
          189469,
          191977,
          205519,
          249278,
          285910,
          301323,
          308436,
          321125,
          330397,
          323604,
          307698,
          297490,
          289932
         ],
         "yaxis": "y"
        },
        {
         "hoverlabel": {
          "namelength": 0
         },
         "hovertemplate": "<b>%{hovertext}</b><br><br>District=Chemung<br>Year=%{x}<br>Total SNAP Persons=%{y}",
         "hovertext": [
          "Chemung",
          "Chemung",
          "Chemung",
          "Chemung",
          "Chemung",
          "Chemung",
          "Chemung",
          "Chemung",
          "Chemung",
          "Chemung",
          "Chemung",
          "Chemung",
          "Chemung",
          "Chemung",
          "Chemung",
          "Chemung",
          "Chemung"
         ],
         "legendgroup": "District=Chemung",
         "line": {
          "color": "#FF6692",
          "dash": "solid"
         },
         "mode": "lines",
         "name": "District=Chemung",
         "showlegend": true,
         "type": "scatter",
         "x": [
          2002,
          2003,
          2004,
          2005,
          2006,
          2007,
          2008,
          2009,
          2010,
          2011,
          2012,
          2013,
          2014,
          2015,
          2016,
          2017,
          2018
         ],
         "xaxis": "x",
         "y": [
          75658,
          93428,
          110700,
          118289,
          122446,
          121814,
          125698,
          148510,
          170487,
          179840,
          184440,
          192097,
          191990,
          188723,
          184177,
          175088,
          163950
         ],
         "yaxis": "y"
        },
        {
         "hoverlabel": {
          "namelength": 0
         },
         "hovertemplate": "<b>%{hovertext}</b><br><br>District=Chenango<br>Year=%{x}<br>Total SNAP Persons=%{y}",
         "hovertext": [
          "Chenango",
          "Chenango",
          "Chenango",
          "Chenango",
          "Chenango",
          "Chenango",
          "Chenango",
          "Chenango",
          "Chenango",
          "Chenango",
          "Chenango",
          "Chenango",
          "Chenango",
          "Chenango",
          "Chenango",
          "Chenango",
          "Chenango"
         ],
         "legendgroup": "District=Chenango",
         "line": {
          "color": "#B6E880",
          "dash": "solid"
         },
         "mode": "lines",
         "name": "District=Chenango",
         "showlegend": true,
         "type": "scatter",
         "x": [
          2002,
          2003,
          2004,
          2005,
          2006,
          2007,
          2008,
          2009,
          2010,
          2011,
          2012,
          2013,
          2014,
          2015,
          2016,
          2017,
          2018
         ],
         "xaxis": "x",
         "y": [
          47315,
          53638,
          57392,
          58909,
          57970,
          59477,
          66481,
          83441,
          93911,
          99217,
          99022,
          96548,
          95158,
          91137,
          83919,
          80386,
          77135
         ],
         "yaxis": "y"
        },
        {
         "hoverlabel": {
          "namelength": 0
         },
         "hovertemplate": "<b>%{hovertext}</b><br><br>District=Clinton<br>Year=%{x}<br>Total SNAP Persons=%{y}",
         "hovertext": [
          "Clinton",
          "Clinton",
          "Clinton",
          "Clinton",
          "Clinton",
          "Clinton",
          "Clinton",
          "Clinton",
          "Clinton",
          "Clinton",
          "Clinton",
          "Clinton",
          "Clinton",
          "Clinton",
          "Clinton",
          "Clinton",
          "Clinton"
         ],
         "legendgroup": "District=Clinton",
         "line": {
          "color": "#FF97FF",
          "dash": "solid"
         },
         "mode": "lines",
         "name": "District=Clinton",
         "showlegend": true,
         "type": "scatter",
         "x": [
          2002,
          2003,
          2004,
          2005,
          2006,
          2007,
          2008,
          2009,
          2010,
          2011,
          2012,
          2013,
          2014,
          2015,
          2016,
          2017,
          2018
         ],
         "xaxis": "x",
         "y": [
          69797,
          75749,
          82654,
          86224,
          90394,
          92220,
          101519,
          118869,
          131790,
          140923,
          143209,
          146936,
          144953,
          140369,
          135900,
          133068,
          127674
         ],
         "yaxis": "y"
        },
        {
         "hoverlabel": {
          "namelength": 0
         },
         "hovertemplate": "<b>%{hovertext}</b><br><br>District=Columbia<br>Year=%{x}<br>Total SNAP Persons=%{y}",
         "hovertext": [
          "Columbia",
          "Columbia",
          "Columbia",
          "Columbia",
          "Columbia",
          "Columbia",
          "Columbia",
          "Columbia",
          "Columbia",
          "Columbia",
          "Columbia",
          "Columbia",
          "Columbia",
          "Columbia",
          "Columbia",
          "Columbia",
          "Columbia"
         ],
         "legendgroup": "District=Columbia",
         "line": {
          "color": "#FECB52",
          "dash": "solid"
         },
         "mode": "lines",
         "name": "District=Columbia",
         "showlegend": true,
         "type": "scatter",
         "x": [
          2002,
          2003,
          2004,
          2005,
          2006,
          2007,
          2008,
          2009,
          2010,
          2011,
          2012,
          2013,
          2014,
          2015,
          2016,
          2017,
          2018
         ],
         "xaxis": "x",
         "y": [
          30269,
          32651,
          35781,
          37446,
          36392,
          36492,
          38691,
          49052,
          56725,
          66523,
          73132,
          75909,
          79178,
          77299,
          74807,
          71529,
          67118
         ],
         "yaxis": "y"
        },
        {
         "hoverlabel": {
          "namelength": 0
         },
         "hovertemplate": "<b>%{hovertext}</b><br><br>District=Cortland<br>Year=%{x}<br>Total SNAP Persons=%{y}",
         "hovertext": [
          "Cortland",
          "Cortland",
          "Cortland",
          "Cortland",
          "Cortland",
          "Cortland",
          "Cortland",
          "Cortland",
          "Cortland",
          "Cortland",
          "Cortland",
          "Cortland",
          "Cortland",
          "Cortland",
          "Cortland",
          "Cortland",
          "Cortland"
         ],
         "legendgroup": "District=Cortland",
         "line": {
          "color": "#636efa",
          "dash": "solid"
         },
         "mode": "lines",
         "name": "District=Cortland",
         "showlegend": true,
         "type": "scatter",
         "x": [
          2002,
          2003,
          2004,
          2005,
          2006,
          2007,
          2008,
          2009,
          2010,
          2011,
          2012,
          2013,
          2014,
          2015,
          2016,
          2017,
          2018
         ],
         "xaxis": "x",
         "y": [
          41062,
          44321,
          47150,
          49673,
          52658,
          52536,
          56744,
          70933,
          80233,
          83380,
          86351,
          88841,
          86166,
          82151,
          77905,
          75758,
          71722
         ],
         "yaxis": "y"
        },
        {
         "hoverlabel": {
          "namelength": 0
         },
         "hovertemplate": "<b>%{hovertext}</b><br><br>District=Delaware<br>Year=%{x}<br>Total SNAP Persons=%{y}",
         "hovertext": [
          "Delaware",
          "Delaware",
          "Delaware",
          "Delaware",
          "Delaware",
          "Delaware",
          "Delaware",
          "Delaware",
          "Delaware",
          "Delaware",
          "Delaware",
          "Delaware",
          "Delaware",
          "Delaware",
          "Delaware",
          "Delaware",
          "Delaware"
         ],
         "legendgroup": "District=Delaware",
         "line": {
          "color": "#EF553B",
          "dash": "solid"
         },
         "mode": "lines",
         "name": "District=Delaware",
         "showlegend": true,
         "type": "scatter",
         "x": [
          2002,
          2003,
          2004,
          2005,
          2006,
          2007,
          2008,
          2009,
          2010,
          2011,
          2012,
          2013,
          2014,
          2015,
          2016,
          2017,
          2018
         ],
         "xaxis": "x",
         "y": [
          29015,
          30275,
          31996,
          33886,
          35134,
          35153,
          41298,
          54462,
          64693,
          69639,
          70662,
          77019,
          80217,
          77365,
          71783,
          68176,
          59641
         ],
         "yaxis": "y"
        },
        {
         "hoverlabel": {
          "namelength": 0
         },
         "hovertemplate": "<b>%{hovertext}</b><br><br>District=Dutchess<br>Year=%{x}<br>Total SNAP Persons=%{y}",
         "hovertext": [
          "Dutchess",
          "Dutchess",
          "Dutchess",
          "Dutchess",
          "Dutchess",
          "Dutchess",
          "Dutchess",
          "Dutchess",
          "Dutchess",
          "Dutchess",
          "Dutchess",
          "Dutchess",
          "Dutchess",
          "Dutchess",
          "Dutchess",
          "Dutchess",
          "Dutchess"
         ],
         "legendgroup": "District=Dutchess",
         "line": {
          "color": "#00cc96",
          "dash": "solid"
         },
         "mode": "lines",
         "name": "District=Dutchess",
         "showlegend": true,
         "type": "scatter",
         "x": [
          2002,
          2003,
          2004,
          2005,
          2006,
          2007,
          2008,
          2009,
          2010,
          2011,
          2012,
          2013,
          2014,
          2015,
          2016,
          2017,
          2018
         ],
         "xaxis": "x",
         "y": [
          77729,
          88231,
          105267,
          121334,
          126989,
          133834,
          150621,
          196259,
          242452,
          269928,
          286779,
          298790,
          294920,
          282692,
          248884,
          226845,
          216399
         ],
         "yaxis": "y"
        },
        {
         "hoverlabel": {
          "namelength": 0
         },
         "hovertemplate": "<b>%{hovertext}</b><br><br>District=Erie<br>Year=%{x}<br>Total SNAP Persons=%{y}",
         "hovertext": [
          "Erie",
          "Erie",
          "Erie",
          "Erie",
          "Erie",
          "Erie",
          "Erie",
          "Erie",
          "Erie",
          "Erie",
          "Erie",
          "Erie",
          "Erie",
          "Erie",
          "Erie",
          "Erie",
          "Erie"
         ],
         "legendgroup": "District=Erie",
         "line": {
          "color": "#ab63fa",
          "dash": "solid"
         },
         "mode": "lines",
         "name": "District=Erie",
         "showlegend": true,
         "type": "scatter",
         "x": [
          2002,
          2003,
          2004,
          2005,
          2006,
          2007,
          2008,
          2009,
          2010,
          2011,
          2012,
          2013,
          2014,
          2015,
          2016,
          2017,
          2018
         ],
         "xaxis": "x",
         "y": [
          897805,
          957449,
          1051264,
          1112610,
          1143063,
          1171712,
          1257360,
          1432066,
          1621903,
          1735020,
          1804841,
          1877630,
          1908597,
          1886187,
          1830314,
          1807108,
          1744673
         ],
         "yaxis": "y"
        },
        {
         "hoverlabel": {
          "namelength": 0
         },
         "hovertemplate": "<b>%{hovertext}</b><br><br>District=Essex<br>Year=%{x}<br>Total SNAP Persons=%{y}",
         "hovertext": [
          "Essex",
          "Essex",
          "Essex",
          "Essex",
          "Essex",
          "Essex",
          "Essex",
          "Essex",
          "Essex",
          "Essex",
          "Essex",
          "Essex",
          "Essex",
          "Essex",
          "Essex",
          "Essex",
          "Essex"
         ],
         "legendgroup": "District=Essex",
         "line": {
          "color": "#FFA15A",
          "dash": "solid"
         },
         "mode": "lines",
         "name": "District=Essex",
         "showlegend": true,
         "type": "scatter",
         "x": [
          2002,
          2003,
          2004,
          2005,
          2006,
          2007,
          2008,
          2009,
          2010,
          2011,
          2012,
          2013,
          2014,
          2015,
          2016,
          2017,
          2018
         ],
         "xaxis": "x",
         "y": [
          25950,
          26643,
          27239,
          27689,
          25961,
          24463,
          25938,
          34184,
          41291,
          44626,
          46184,
          46448,
          45751,
          44294,
          41288,
          40612,
          40073
         ],
         "yaxis": "y"
        },
        {
         "hoverlabel": {
          "namelength": 0
         },
         "hovertemplate": "<b>%{hovertext}</b><br><br>District=Franklin<br>Year=%{x}<br>Total SNAP Persons=%{y}",
         "hovertext": [
          "Franklin",
          "Franklin",
          "Franklin",
          "Franklin",
          "Franklin",
          "Franklin",
          "Franklin",
          "Franklin",
          "Franklin",
          "Franklin",
          "Franklin",
          "Franklin",
          "Franklin",
          "Franklin",
          "Franklin",
          "Franklin",
          "Franklin"
         ],
         "legendgroup": "District=Franklin",
         "line": {
          "color": "#19d3f3",
          "dash": "solid"
         },
         "mode": "lines",
         "name": "District=Franklin",
         "showlegend": true,
         "type": "scatter",
         "x": [
          2002,
          2003,
          2004,
          2005,
          2006,
          2007,
          2008,
          2009,
          2010,
          2011,
          2012,
          2013,
          2014,
          2015,
          2016,
          2017,
          2018
         ],
         "xaxis": "x",
         "y": [
          41750,
          45047,
          48346,
          53344,
          54616,
          55377,
          59335,
          68987,
          76277,
          81957,
          84651,
          89393,
          90745,
          90741,
          87907,
          85105,
          82640
         ],
         "yaxis": "y"
        },
        {
         "hoverlabel": {
          "namelength": 0
         },
         "hovertemplate": "<b>%{hovertext}</b><br><br>District=Fulton<br>Year=%{x}<br>Total SNAP Persons=%{y}",
         "hovertext": [
          "Fulton",
          "Fulton",
          "Fulton",
          "Fulton",
          "Fulton",
          "Fulton",
          "Fulton",
          "Fulton",
          "Fulton",
          "Fulton",
          "Fulton",
          "Fulton",
          "Fulton",
          "Fulton",
          "Fulton",
          "Fulton",
          "Fulton"
         ],
         "legendgroup": "District=Fulton",
         "line": {
          "color": "#FF6692",
          "dash": "solid"
         },
         "mode": "lines",
         "name": "District=Fulton",
         "showlegend": true,
         "type": "scatter",
         "x": [
          2002,
          2003,
          2004,
          2005,
          2006,
          2007,
          2008,
          2009,
          2010,
          2011,
          2012,
          2013,
          2014,
          2015,
          2016,
          2017,
          2018
         ],
         "xaxis": "x",
         "y": [
          51276,
          55565,
          61358,
          66061,
          67168,
          68351,
          78563,
          95394,
          105982,
          111184,
          113699,
          114933,
          115771,
          109900,
          104657,
          97592,
          89295
         ],
         "yaxis": "y"
        },
        {
         "hoverlabel": {
          "namelength": 0
         },
         "hovertemplate": "<b>%{hovertext}</b><br><br>District=Genesee<br>Year=%{x}<br>Total SNAP Persons=%{y}",
         "hovertext": [
          "Genesee",
          "Genesee",
          "Genesee",
          "Genesee",
          "Genesee",
          "Genesee",
          "Genesee",
          "Genesee",
          "Genesee",
          "Genesee",
          "Genesee",
          "Genesee",
          "Genesee",
          "Genesee",
          "Genesee",
          "Genesee",
          "Genesee"
         ],
         "legendgroup": "District=Genesee",
         "line": {
          "color": "#B6E880",
          "dash": "solid"
         },
         "mode": "lines",
         "name": "District=Genesee",
         "showlegend": true,
         "type": "scatter",
         "x": [
          2002,
          2003,
          2004,
          2005,
          2006,
          2007,
          2008,
          2009,
          2010,
          2011,
          2012,
          2013,
          2014,
          2015,
          2016,
          2017,
          2018
         ],
         "xaxis": "x",
         "y": [
          32819,
          37175,
          42134,
          47505,
          49594,
          49504,
          50888,
          56883,
          62052,
          68772,
          71852,
          74392,
          74143,
          72125,
          67160,
          64429,
          63410
         ],
         "yaxis": "y"
        },
        {
         "hoverlabel": {
          "namelength": 0
         },
         "hovertemplate": "<b>%{hovertext}</b><br><br>District=Greene<br>Year=%{x}<br>Total SNAP Persons=%{y}",
         "hovertext": [
          "Greene",
          "Greene",
          "Greene",
          "Greene",
          "Greene",
          "Greene",
          "Greene",
          "Greene",
          "Greene",
          "Greene",
          "Greene",
          "Greene",
          "Greene",
          "Greene",
          "Greene",
          "Greene",
          "Greene"
         ],
         "legendgroup": "District=Greene",
         "line": {
          "color": "#FF97FF",
          "dash": "solid"
         },
         "mode": "lines",
         "name": "District=Greene",
         "showlegend": true,
         "type": "scatter",
         "x": [
          2002,
          2003,
          2004,
          2005,
          2006,
          2007,
          2008,
          2009,
          2010,
          2011,
          2012,
          2013,
          2014,
          2015,
          2016,
          2017,
          2018
         ],
         "xaxis": "x",
         "y": [
          31946,
          35062,
          37495,
          38996,
          39295,
          39291,
          43861,
          55310,
          63673,
          70996,
          73873,
          76025,
          72611,
          69051,
          64613,
          60924,
          56665
         ],
         "yaxis": "y"
        },
        {
         "hoverlabel": {
          "namelength": 0
         },
         "hovertemplate": "<b>%{hovertext}</b><br><br>District=Hamilton<br>Year=%{x}<br>Total SNAP Persons=%{y}",
         "hovertext": [
          "Hamilton",
          "Hamilton",
          "Hamilton",
          "Hamilton",
          "Hamilton",
          "Hamilton",
          "Hamilton",
          "Hamilton",
          "Hamilton",
          "Hamilton",
          "Hamilton",
          "Hamilton",
          "Hamilton",
          "Hamilton",
          "Hamilton",
          "Hamilton",
          "Hamilton"
         ],
         "legendgroup": "District=Hamilton",
         "line": {
          "color": "#FECB52",
          "dash": "solid"
         },
         "mode": "lines",
         "name": "District=Hamilton",
         "showlegend": true,
         "type": "scatter",
         "x": [
          2002,
          2003,
          2004,
          2005,
          2006,
          2007,
          2008,
          2009,
          2010,
          2011,
          2012,
          2013,
          2014,
          2015,
          2016,
          2017,
          2018
         ],
         "xaxis": "x",
         "y": [
          3010,
          3364,
          3162,
          3077,
          3092,
          2975,
          2948,
          3167,
          3670,
          4110,
          5150,
          5259,
          5565,
          4939,
          4246,
          4325,
          4095
         ],
         "yaxis": "y"
        },
        {
         "hoverlabel": {
          "namelength": 0
         },
         "hovertemplate": "<b>%{hovertext}</b><br><br>District=Herkimer<br>Year=%{x}<br>Total SNAP Persons=%{y}",
         "hovertext": [
          "Herkimer",
          "Herkimer",
          "Herkimer",
          "Herkimer",
          "Herkimer",
          "Herkimer",
          "Herkimer",
          "Herkimer",
          "Herkimer",
          "Herkimer",
          "Herkimer",
          "Herkimer",
          "Herkimer",
          "Herkimer",
          "Herkimer",
          "Herkimer",
          "Herkimer"
         ],
         "legendgroup": "District=Herkimer",
         "line": {
          "color": "#636efa",
          "dash": "solid"
         },
         "mode": "lines",
         "name": "District=Herkimer",
         "showlegend": true,
         "type": "scatter",
         "x": [
          2002,
          2003,
          2004,
          2005,
          2006,
          2007,
          2008,
          2009,
          2010,
          2011,
          2012,
          2013,
          2014,
          2015,
          2016,
          2017,
          2018
         ],
         "xaxis": "x",
         "y": [
          52080,
          59790,
          66185,
          70683,
          72587,
          72531,
          82536,
          96599,
          110094,
          121037,
          123971,
          127210,
          126877,
          124392,
          116040,
          112278,
          106719
         ],
         "yaxis": "y"
        },
        {
         "hoverlabel": {
          "namelength": 0
         },
         "hovertemplate": "<b>%{hovertext}</b><br><br>District=Jefferson<br>Year=%{x}<br>Total SNAP Persons=%{y}",
         "hovertext": [
          "Jefferson",
          "Jefferson",
          "Jefferson",
          "Jefferson",
          "Jefferson",
          "Jefferson",
          "Jefferson",
          "Jefferson",
          "Jefferson",
          "Jefferson",
          "Jefferson",
          "Jefferson",
          "Jefferson",
          "Jefferson",
          "Jefferson",
          "Jefferson",
          "Jefferson"
         ],
         "legendgroup": "District=Jefferson",
         "line": {
          "color": "#EF553B",
          "dash": "solid"
         },
         "mode": "lines",
         "name": "District=Jefferson",
         "showlegend": true,
         "type": "scatter",
         "x": [
          2002,
          2003,
          2004,
          2005,
          2006,
          2007,
          2008,
          2009,
          2010,
          2011,
          2012,
          2013,
          2014,
          2015,
          2016,
          2017,
          2018
         ],
         "xaxis": "x",
         "y": [
          98738,
          106131,
          112321,
          119032,
          116046,
          113578,
          122420,
          149393,
          170768,
          185457,
          189297,
          192329,
          189065,
          187728,
          187820,
          187415,
          179395
         ],
         "yaxis": "y"
        },
        {
         "hoverlabel": {
          "namelength": 0
         },
         "hovertemplate": "<b>%{hovertext}</b><br><br>District=Lewis<br>Year=%{x}<br>Total SNAP Persons=%{y}",
         "hovertext": [
          "Lewis",
          "Lewis",
          "Lewis",
          "Lewis",
          "Lewis",
          "Lewis",
          "Lewis",
          "Lewis",
          "Lewis",
          "Lewis",
          "Lewis",
          "Lewis",
          "Lewis",
          "Lewis",
          "Lewis",
          "Lewis",
          "Lewis"
         ],
         "legendgroup": "District=Lewis",
         "line": {
          "color": "#00cc96",
          "dash": "solid"
         },
         "mode": "lines",
         "name": "District=Lewis",
         "showlegend": true,
         "type": "scatter",
         "x": [
          2002,
          2003,
          2004,
          2005,
          2006,
          2007,
          2008,
          2009,
          2010,
          2011,
          2012,
          2013,
          2014,
          2015,
          2016,
          2017,
          2018
         ],
         "xaxis": "x",
         "y": [
          22296,
          24314,
          25721,
          25969,
          25904,
          25692,
          29009,
          36295,
          39842,
          42313,
          43814,
          44183,
          43965,
          42957,
          42333,
          42322,
          37878
         ],
         "yaxis": "y"
        },
        {
         "hoverlabel": {
          "namelength": 0
         },
         "hovertemplate": "<b>%{hovertext}</b><br><br>District=Livingston<br>Year=%{x}<br>Total SNAP Persons=%{y}",
         "hovertext": [
          "Livingston",
          "Livingston",
          "Livingston",
          "Livingston",
          "Livingston",
          "Livingston",
          "Livingston",
          "Livingston",
          "Livingston",
          "Livingston",
          "Livingston",
          "Livingston",
          "Livingston",
          "Livingston",
          "Livingston",
          "Livingston",
          "Livingston"
         ],
         "legendgroup": "District=Livingston",
         "line": {
          "color": "#ab63fa",
          "dash": "solid"
         },
         "mode": "lines",
         "name": "District=Livingston",
         "showlegend": true,
         "type": "scatter",
         "x": [
          2002,
          2003,
          2004,
          2005,
          2006,
          2007,
          2008,
          2009,
          2010,
          2011,
          2012,
          2013,
          2014,
          2015,
          2016,
          2017,
          2018
         ],
         "xaxis": "x",
         "y": [
          39251,
          43379,
          47391,
          49247,
          50419,
          49632,
          55435,
          69560,
          76655,
          80716,
          82589,
          87733,
          90232,
          87380,
          82499,
          80849,
          74943
         ],
         "yaxis": "y"
        },
        {
         "hoverlabel": {
          "namelength": 0
         },
         "hovertemplate": "<b>%{hovertext}</b><br><br>District=Madison<br>Year=%{x}<br>Total SNAP Persons=%{y}",
         "hovertext": [
          "Madison",
          "Madison",
          "Madison",
          "Madison",
          "Madison",
          "Madison",
          "Madison",
          "Madison",
          "Madison",
          "Madison",
          "Madison",
          "Madison",
          "Madison",
          "Madison",
          "Madison",
          "Madison",
          "Madison"
         ],
         "legendgroup": "District=Madison",
         "line": {
          "color": "#FFA15A",
          "dash": "solid"
         },
         "mode": "lines",
         "name": "District=Madison",
         "showlegend": true,
         "type": "scatter",
         "x": [
          2002,
          2003,
          2004,
          2005,
          2006,
          2007,
          2008,
          2009,
          2010,
          2011,
          2012,
          2013,
          2014,
          2015,
          2016,
          2017,
          2018
         ],
         "xaxis": "x",
         "y": [
          40081,
          45990,
          50794,
          53205,
          54940,
          56892,
          67514,
          87900,
          101540,
          106145,
          108068,
          112079,
          111692,
          107600,
          98689,
          93289,
          85383
         ],
         "yaxis": "y"
        },
        {
         "hoverlabel": {
          "namelength": 0
         },
         "hovertemplate": "<b>%{hovertext}</b><br><br>District=Monroe<br>Year=%{x}<br>Total SNAP Persons=%{y}",
         "hovertext": [
          "Monroe",
          "Monroe",
          "Monroe",
          "Monroe",
          "Monroe",
          "Monroe",
          "Monroe",
          "Monroe",
          "Monroe",
          "Monroe",
          "Monroe",
          "Monroe",
          "Monroe",
          "Monroe",
          "Monroe",
          "Monroe",
          "Monroe"
         ],
         "legendgroup": "District=Monroe",
         "line": {
          "color": "#19d3f3",
          "dash": "solid"
         },
         "mode": "lines",
         "name": "District=Monroe",
         "showlegend": true,
         "type": "scatter",
         "x": [
          2002,
          2003,
          2004,
          2005,
          2006,
          2007,
          2008,
          2009,
          2010,
          2011,
          2012,
          2013,
          2014,
          2015,
          2016,
          2017,
          2018
         ],
         "xaxis": "x",
         "y": [
          729680,
          807058,
          873084,
          912366,
          909691,
          919338,
          968442,
          1097202,
          1239864,
          1332184,
          1369902,
          1431915,
          1460087,
          1470415,
          1466316,
          1454981,
          1409996
         ],
         "yaxis": "y"
        },
        {
         "hoverlabel": {
          "namelength": 0
         },
         "hovertemplate": "<b>%{hovertext}</b><br><br>District=Montgomery<br>Year=%{x}<br>Total SNAP Persons=%{y}",
         "hovertext": [
          "Montgomery",
          "Montgomery",
          "Montgomery",
          "Montgomery",
          "Montgomery",
          "Montgomery",
          "Montgomery",
          "Montgomery",
          "Montgomery",
          "Montgomery",
          "Montgomery",
          "Montgomery",
          "Montgomery",
          "Montgomery",
          "Montgomery",
          "Montgomery",
          "Montgomery"
         ],
         "legendgroup": "District=Montgomery",
         "line": {
          "color": "#FF6692",
          "dash": "solid"
         },
         "mode": "lines",
         "name": "District=Montgomery",
         "showlegend": true,
         "type": "scatter",
         "x": [
          2002,
          2003,
          2004,
          2005,
          2006,
          2007,
          2008,
          2009,
          2010,
          2011,
          2012,
          2013,
          2014,
          2015,
          2016,
          2017,
          2018
         ],
         "xaxis": "x",
         "y": [
          52934,
          59476,
          63632,
          64972,
          68281,
          72588,
          81594,
          95971,
          107650,
          111655,
          113453,
          119586,
          119500,
          115503,
          113821,
          109437,
          102702
         ],
         "yaxis": "y"
        },
        {
         "hoverlabel": {
          "namelength": 0
         },
         "hovertemplate": "<b>%{hovertext}</b><br><br>District=Nassau<br>Year=%{x}<br>Total SNAP Persons=%{y}",
         "hovertext": [
          "Nassau",
          "Nassau",
          "Nassau",
          "Nassau",
          "Nassau",
          "Nassau",
          "Nassau",
          "Nassau",
          "Nassau",
          "Nassau",
          "Nassau",
          "Nassau",
          "Nassau",
          "Nassau",
          "Nassau",
          "Nassau",
          "Nassau"
         ],
         "legendgroup": "District=Nassau",
         "line": {
          "color": "#B6E880",
          "dash": "solid"
         },
         "mode": "lines",
         "name": "District=Nassau",
         "showlegend": true,
         "type": "scatter",
         "x": [
          2002,
          2003,
          2004,
          2005,
          2006,
          2007,
          2008,
          2009,
          2010,
          2011,
          2012,
          2013,
          2014,
          2015,
          2016,
          2017,
          2018
         ],
         "xaxis": "x",
         "y": [
          207621,
          224868,
          266625,
          311727,
          311044,
          322907,
          361267,
          464015,
          607725,
          749992,
          807506,
          822379,
          813971,
          789147,
          723842,
          658247,
          592136
         ],
         "yaxis": "y"
        },
        {
         "hoverlabel": {
          "namelength": 0
         },
         "hovertemplate": "<b>%{hovertext}</b><br><br>District=New York City<br>Year=%{x}<br>Total SNAP Persons=%{y}",
         "hovertext": [
          "New York City",
          "New York City",
          "New York City",
          "New York City",
          "New York City",
          "New York City",
          "New York City",
          "New York City",
          "New York City",
          "New York City",
          "New York City",
          "New York City",
          "New York City",
          "New York City",
          "New York City",
          "New York City",
          "New York City"
         ],
         "legendgroup": "District=New York City",
         "line": {
          "color": "#FF97FF",
          "dash": "solid"
         },
         "mode": "lines",
         "name": "District=New York City",
         "showlegend": true,
         "type": "scatter",
         "x": [
          2002,
          2003,
          2004,
          2005,
          2006,
          2007,
          2008,
          2009,
          2010,
          2011,
          2012,
          2013,
          2014,
          2015,
          2016,
          2017,
          2018
         ],
         "xaxis": "x",
         "y": [
          9859561,
          10618905,
          12083131,
          13016864,
          13110499,
          13271767,
          15117067,
          18140701,
          20848685,
          21877784,
          22036775,
          22404732,
          21103254,
          20432043,
          20289484,
          19987958,
          19277245
         ],
         "yaxis": "y"
        },
        {
         "hoverlabel": {
          "namelength": 0
         },
         "hovertemplate": "<b>%{hovertext}</b><br><br>District=Niagara<br>Year=%{x}<br>Total SNAP Persons=%{y}",
         "hovertext": [
          "Niagara",
          "Niagara",
          "Niagara",
          "Niagara",
          "Niagara",
          "Niagara",
          "Niagara",
          "Niagara",
          "Niagara",
          "Niagara",
          "Niagara",
          "Niagara",
          "Niagara",
          "Niagara",
          "Niagara",
          "Niagara",
          "Niagara"
         ],
         "legendgroup": "District=Niagara",
         "line": {
          "color": "#FECB52",
          "dash": "solid"
         },
         "mode": "lines",
         "name": "District=Niagara",
         "showlegend": true,
         "type": "scatter",
         "x": [
          2002,
          2003,
          2004,
          2005,
          2006,
          2007,
          2008,
          2009,
          2010,
          2011,
          2012,
          2013,
          2014,
          2015,
          2016,
          2017,
          2018
         ],
         "xaxis": "x",
         "y": [
          158371,
          172964,
          193960,
          211607,
          219875,
          217525,
          240447,
          291809,
          332618,
          353386,
          361716,
          376704,
          390904,
          388927,
          375745,
          369088,
          351924
         ],
         "yaxis": "y"
        },
        {
         "hoverlabel": {
          "namelength": 0
         },
         "hovertemplate": "<b>%{hovertext}</b><br><br>District=Oneida<br>Year=%{x}<br>Total SNAP Persons=%{y}",
         "hovertext": [
          "Oneida",
          "Oneida",
          "Oneida",
          "Oneida",
          "Oneida",
          "Oneida",
          "Oneida",
          "Oneida",
          "Oneida",
          "Oneida",
          "Oneida",
          "Oneida",
          "Oneida",
          "Oneida",
          "Oneida",
          "Oneida",
          "Oneida"
         ],
         "legendgroup": "District=Oneida",
         "line": {
          "color": "#636efa",
          "dash": "solid"
         },
         "mode": "lines",
         "name": "District=Oneida",
         "showlegend": true,
         "type": "scatter",
         "x": [
          2002,
          2003,
          2004,
          2005,
          2006,
          2007,
          2008,
          2009,
          2010,
          2011,
          2012,
          2013,
          2014,
          2015,
          2016,
          2017,
          2018
         ],
         "xaxis": "x",
         "y": [
          245009,
          265358,
          283282,
          300662,
          302065,
          303477,
          324596,
          379431,
          429530,
          462798,
          485641,
          499074,
          501301,
          494095,
          477447,
          475528,
          469984
         ],
         "yaxis": "y"
        },
        {
         "hoverlabel": {
          "namelength": 0
         },
         "hovertemplate": "<b>%{hovertext}</b><br><br>District=Onondaga<br>Year=%{x}<br>Total SNAP Persons=%{y}",
         "hovertext": [
          "Onondaga",
          "Onondaga",
          "Onondaga",
          "Onondaga",
          "Onondaga",
          "Onondaga",
          "Onondaga",
          "Onondaga",
          "Onondaga",
          "Onondaga",
          "Onondaga",
          "Onondaga",
          "Onondaga",
          "Onondaga",
          "Onondaga",
          "Onondaga",
          "Onondaga"
         ],
         "legendgroup": "District=Onondaga",
         "line": {
          "color": "#EF553B",
          "dash": "solid"
         },
         "mode": "lines",
         "name": "District=Onondaga",
         "showlegend": true,
         "type": "scatter",
         "x": [
          2002,
          2003,
          2004,
          2005,
          2006,
          2007,
          2008,
          2009,
          2010,
          2011,
          2012,
          2013,
          2014,
          2015,
          2016,
          2017,
          2018
         ],
         "xaxis": "x",
         "y": [
          380378,
          425512,
          473481,
          496901,
          497665,
          493985,
          534561,
          648269,
          758106,
          825504,
          867132,
          894037,
          891569,
          888452,
          865113,
          845777,
          813201
         ],
         "yaxis": "y"
        },
        {
         "hoverlabel": {
          "namelength": 0
         },
         "hovertemplate": "<b>%{hovertext}</b><br><br>District=Ontario<br>Year=%{x}<br>Total SNAP Persons=%{y}",
         "hovertext": [
          "Ontario",
          "Ontario",
          "Ontario",
          "Ontario",
          "Ontario",
          "Ontario",
          "Ontario",
          "Ontario",
          "Ontario",
          "Ontario",
          "Ontario",
          "Ontario",
          "Ontario",
          "Ontario",
          "Ontario",
          "Ontario",
          "Ontario"
         ],
         "legendgroup": "District=Ontario",
         "line": {
          "color": "#00cc96",
          "dash": "solid"
         },
         "mode": "lines",
         "name": "District=Ontario",
         "showlegend": true,
         "type": "scatter",
         "x": [
          2002,
          2003,
          2004,
          2005,
          2006,
          2007,
          2008,
          2009,
          2010,
          2011,
          2012,
          2013,
          2014,
          2015,
          2016,
          2017,
          2018
         ],
         "xaxis": "x",
         "y": [
          53553,
          59568,
          63837,
          70295,
          71500,
          72563,
          77347,
          94130,
          110312,
          119126,
          119682,
          124221,
          125259,
          121069,
          111485,
          107471,
          103556
         ],
         "yaxis": "y"
        },
        {
         "hoverlabel": {
          "namelength": 0
         },
         "hovertemplate": "<b>%{hovertext}</b><br><br>District=Orange<br>Year=%{x}<br>Total SNAP Persons=%{y}",
         "hovertext": [
          "Orange",
          "Orange",
          "Orange",
          "Orange",
          "Orange",
          "Orange",
          "Orange",
          "Orange",
          "Orange",
          "Orange",
          "Orange",
          "Orange",
          "Orange",
          "Orange",
          "Orange",
          "Orange",
          "Orange"
         ],
         "legendgroup": "District=Orange",
         "line": {
          "color": "#ab63fa",
          "dash": "solid"
         },
         "mode": "lines",
         "name": "District=Orange",
         "showlegend": true,
         "type": "scatter",
         "x": [
          2002,
          2003,
          2004,
          2005,
          2006,
          2007,
          2008,
          2009,
          2010,
          2011,
          2012,
          2013,
          2014,
          2015,
          2016,
          2017,
          2018
         ],
         "xaxis": "x",
         "y": [
          226116,
          238355,
          248792,
          261682,
          266835,
          277730,
          304191,
          369618,
          456503,
          522262,
          540028,
          562717,
          576458,
          565340,
          534397,
          503593,
          491973
         ],
         "yaxis": "y"
        },
        {
         "hoverlabel": {
          "namelength": 0
         },
         "hovertemplate": "<b>%{hovertext}</b><br><br>District=Orleans<br>Year=%{x}<br>Total SNAP Persons=%{y}",
         "hovertext": [
          "Orleans",
          "Orleans",
          "Orleans",
          "Orleans",
          "Orleans",
          "Orleans",
          "Orleans",
          "Orleans",
          "Orleans",
          "Orleans",
          "Orleans",
          "Orleans",
          "Orleans",
          "Orleans",
          "Orleans",
          "Orleans",
          "Orleans"
         ],
         "legendgroup": "District=Orleans",
         "line": {
          "color": "#FFA15A",
          "dash": "solid"
         },
         "mode": "lines",
         "name": "District=Orleans",
         "showlegend": true,
         "type": "scatter",
         "x": [
          2002,
          2003,
          2004,
          2005,
          2006,
          2007,
          2008,
          2009,
          2010,
          2011,
          2012,
          2013,
          2014,
          2015,
          2016,
          2017,
          2018
         ],
         "xaxis": "x",
         "y": [
          36317,
          38522,
          43019,
          44794,
          46559,
          47083,
          50199,
          60645,
          67670,
          70397,
          71001,
          74425,
          76790,
          73957,
          72312,
          71892,
          68722
         ],
         "yaxis": "y"
        },
        {
         "hoverlabel": {
          "namelength": 0
         },
         "hovertemplate": "<b>%{hovertext}</b><br><br>District=Oswego<br>Year=%{x}<br>Total SNAP Persons=%{y}",
         "hovertext": [
          "Oswego",
          "Oswego",
          "Oswego",
          "Oswego",
          "Oswego",
          "Oswego",
          "Oswego",
          "Oswego",
          "Oswego",
          "Oswego",
          "Oswego",
          "Oswego",
          "Oswego",
          "Oswego",
          "Oswego",
          "Oswego",
          "Oswego"
         ],
         "legendgroup": "District=Oswego",
         "line": {
          "color": "#19d3f3",
          "dash": "solid"
         },
         "mode": "lines",
         "name": "District=Oswego",
         "showlegend": true,
         "type": "scatter",
         "x": [
          2002,
          2003,
          2004,
          2005,
          2006,
          2007,
          2008,
          2009,
          2010,
          2011,
          2012,
          2013,
          2014,
          2015,
          2016,
          2017,
          2018
         ],
         "xaxis": "x",
         "y": [
          106720,
          122197,
          127833,
          132441,
          135974,
          134800,
          149385,
          188626,
          222311,
          237820,
          243330,
          247010,
          248328,
          238550,
          232388,
          229146,
          221845
         ],
         "yaxis": "y"
        },
        {
         "hoverlabel": {
          "namelength": 0
         },
         "hovertemplate": "<b>%{hovertext}</b><br><br>District=Otsego<br>Year=%{x}<br>Total SNAP Persons=%{y}",
         "hovertext": [
          "Otsego",
          "Otsego",
          "Otsego",
          "Otsego",
          "Otsego",
          "Otsego",
          "Otsego",
          "Otsego",
          "Otsego",
          "Otsego",
          "Otsego",
          "Otsego",
          "Otsego",
          "Otsego",
          "Otsego",
          "Otsego",
          "Otsego"
         ],
         "legendgroup": "District=Otsego",
         "line": {
          "color": "#FF6692",
          "dash": "solid"
         },
         "mode": "lines",
         "name": "District=Otsego",
         "showlegend": true,
         "type": "scatter",
         "x": [
          2002,
          2003,
          2004,
          2005,
          2006,
          2007,
          2008,
          2009,
          2010,
          2011,
          2012,
          2013,
          2014,
          2015,
          2016,
          2017,
          2018
         ],
         "xaxis": "x",
         "y": [
          29841,
          34623,
          37875,
          39554,
          40178,
          40420,
          45171,
          58386,
          67402,
          72590,
          74466,
          75789,
          74924,
          73699,
          69661,
          69654,
          68855
         ],
         "yaxis": "y"
        },
        {
         "hoverlabel": {
          "namelength": 0
         },
         "hovertemplate": "<b>%{hovertext}</b><br><br>District=Putnam<br>Year=%{x}<br>Total SNAP Persons=%{y}",
         "hovertext": [
          "Putnam",
          "Putnam",
          "Putnam",
          "Putnam",
          "Putnam",
          "Putnam",
          "Putnam",
          "Putnam",
          "Putnam",
          "Putnam",
          "Putnam",
          "Putnam",
          "Putnam",
          "Putnam",
          "Putnam",
          "Putnam",
          "Putnam"
         ],
         "legendgroup": "District=Putnam",
         "line": {
          "color": "#B6E880",
          "dash": "solid"
         },
         "mode": "lines",
         "name": "District=Putnam",
         "showlegend": true,
         "type": "scatter",
         "x": [
          2002,
          2003,
          2004,
          2005,
          2006,
          2007,
          2008,
          2009,
          2010,
          2011,
          2012,
          2013,
          2014,
          2015,
          2016,
          2017,
          2018
         ],
         "xaxis": "x",
         "y": [
          8561,
          9677,
          10391,
          11153,
          11460,
          11911,
          12560,
          17370,
          21350,
          24989,
          29096,
          32491,
          33537,
          32161,
          31183,
          29608,
          27011
         ],
         "yaxis": "y"
        },
        {
         "hoverlabel": {
          "namelength": 0
         },
         "hovertemplate": "<b>%{hovertext}</b><br><br>District=Rensselaer<br>Year=%{x}<br>Total SNAP Persons=%{y}",
         "hovertext": [
          "Rensselaer",
          "Rensselaer",
          "Rensselaer",
          "Rensselaer",
          "Rensselaer",
          "Rensselaer",
          "Rensselaer",
          "Rensselaer",
          "Rensselaer",
          "Rensselaer",
          "Rensselaer",
          "Rensselaer",
          "Rensselaer",
          "Rensselaer",
          "Rensselaer",
          "Rensselaer",
          "Rensselaer"
         ],
         "legendgroup": "District=Rensselaer",
         "line": {
          "color": "#FF97FF",
          "dash": "solid"
         },
         "mode": "lines",
         "name": "District=Rensselaer",
         "showlegend": true,
         "type": "scatter",
         "x": [
          2002,
          2003,
          2004,
          2005,
          2006,
          2007,
          2008,
          2009,
          2010,
          2011,
          2012,
          2013,
          2014,
          2015,
          2016,
          2017,
          2018
         ],
         "xaxis": "x",
         "y": [
          103865,
          108272,
          119159,
          127978,
          134932,
          140512,
          156928,
          183626,
          208993,
          220811,
          223967,
          229191,
          226950,
          217239,
          203532,
          191089,
          183878
         ],
         "yaxis": "y"
        },
        {
         "hoverlabel": {
          "namelength": 0
         },
         "hovertemplate": "<b>%{hovertext}</b><br><br>District=Rockland<br>Year=%{x}<br>Total SNAP Persons=%{y}",
         "hovertext": [
          "Rockland",
          "Rockland",
          "Rockland",
          "Rockland",
          "Rockland",
          "Rockland",
          "Rockland",
          "Rockland",
          "Rockland",
          "Rockland",
          "Rockland",
          "Rockland",
          "Rockland",
          "Rockland",
          "Rockland",
          "Rockland",
          "Rockland"
         ],
         "legendgroup": "District=Rockland",
         "line": {
          "color": "#FECB52",
          "dash": "solid"
         },
         "mode": "lines",
         "name": "District=Rockland",
         "showlegend": true,
         "type": "scatter",
         "x": [
          2002,
          2003,
          2004,
          2005,
          2006,
          2007,
          2008,
          2009,
          2010,
          2011,
          2012,
          2013,
          2014,
          2015,
          2016,
          2017,
          2018
         ],
         "xaxis": "x",
         "y": [
          187087,
          199563,
          213939,
          236162,
          250371,
          260782,
          285201,
          341186,
          409939,
          476932,
          524035,
          555063,
          570413,
          567464,
          547904,
          532757,
          513673
         ],
         "yaxis": "y"
        },
        {
         "hoverlabel": {
          "namelength": 0
         },
         "hovertemplate": "<b>%{hovertext}</b><br><br>District=Saratoga<br>Year=%{x}<br>Total SNAP Persons=%{y}",
         "hovertext": [
          "Saratoga",
          "Saratoga",
          "Saratoga",
          "Saratoga",
          "Saratoga",
          "Saratoga",
          "Saratoga",
          "Saratoga",
          "Saratoga",
          "Saratoga",
          "Saratoga",
          "Saratoga",
          "Saratoga",
          "Saratoga",
          "Saratoga",
          "Saratoga",
          "Saratoga"
         ],
         "legendgroup": "District=Saratoga",
         "line": {
          "color": "#636efa",
          "dash": "solid"
         },
         "mode": "lines",
         "name": "District=Saratoga",
         "showlegend": true,
         "type": "scatter",
         "x": [
          2002,
          2003,
          2004,
          2005,
          2006,
          2007,
          2008,
          2009,
          2010,
          2011,
          2012,
          2013,
          2014,
          2015,
          2016,
          2017,
          2018
         ],
         "xaxis": "x",
         "y": [
          65964,
          75411,
          84080,
          90099,
          93373,
          95014,
          108238,
          141051,
          172297,
          187897,
          190855,
          197051,
          196376,
          183616,
          172232,
          165826,
          156341
         ],
         "yaxis": "y"
        },
        {
         "hoverlabel": {
          "namelength": 0
         },
         "hovertemplate": "<b>%{hovertext}</b><br><br>District=Schenectady<br>Year=%{x}<br>Total SNAP Persons=%{y}",
         "hovertext": [
          "Schenectady",
          "Schenectady",
          "Schenectady",
          "Schenectady",
          "Schenectady",
          "Schenectady",
          "Schenectady",
          "Schenectady",
          "Schenectady",
          "Schenectady",
          "Schenectady",
          "Schenectady",
          "Schenectady",
          "Schenectady",
          "Schenectady",
          "Schenectady",
          "Schenectady"
         ],
         "legendgroup": "District=Schenectady",
         "line": {
          "color": "#EF553B",
          "dash": "solid"
         },
         "mode": "lines",
         "name": "District=Schenectady",
         "showlegend": true,
         "type": "scatter",
         "x": [
          2002,
          2003,
          2004,
          2005,
          2006,
          2007,
          2008,
          2009,
          2010,
          2011,
          2012,
          2013,
          2014,
          2015,
          2016,
          2017,
          2018
         ],
         "xaxis": "x",
         "y": [
          109225,
          127900,
          143972,
          153683,
          158314,
          159734,
          164800,
          200136,
          250715,
          278367,
          291312,
          301923,
          307108,
          296418,
          279038,
          265513,
          252803
         ],
         "yaxis": "y"
        },
        {
         "hoverlabel": {
          "namelength": 0
         },
         "hovertemplate": "<b>%{hovertext}</b><br><br>District=Schoharie<br>Year=%{x}<br>Total SNAP Persons=%{y}",
         "hovertext": [
          "Schoharie",
          "Schoharie",
          "Schoharie",
          "Schoharie",
          "Schoharie",
          "Schoharie",
          "Schoharie",
          "Schoharie",
          "Schoharie",
          "Schoharie",
          "Schoharie",
          "Schoharie",
          "Schoharie",
          "Schoharie",
          "Schoharie",
          "Schoharie",
          "Schoharie"
         ],
         "legendgroup": "District=Schoharie",
         "line": {
          "color": "#00cc96",
          "dash": "solid"
         },
         "mode": "lines",
         "name": "District=Schoharie",
         "showlegend": true,
         "type": "scatter",
         "x": [
          2002,
          2003,
          2004,
          2005,
          2006,
          2007,
          2008,
          2009,
          2010,
          2011,
          2012,
          2013,
          2014,
          2015,
          2016,
          2017,
          2018
         ],
         "xaxis": "x",
         "y": [
          19519,
          21645,
          22726,
          22898,
          23253,
          23924,
          26741,
          34174,
          41035,
          45077,
          44968,
          46698,
          46557,
          45187,
          43595,
          42870,
          41754
         ],
         "yaxis": "y"
        },
        {
         "hoverlabel": {
          "namelength": 0
         },
         "hovertemplate": "<b>%{hovertext}</b><br><br>District=Schuyler<br>Year=%{x}<br>Total SNAP Persons=%{y}",
         "hovertext": [
          "Schuyler",
          "Schuyler",
          "Schuyler",
          "Schuyler",
          "Schuyler",
          "Schuyler",
          "Schuyler",
          "Schuyler",
          "Schuyler",
          "Schuyler",
          "Schuyler",
          "Schuyler",
          "Schuyler",
          "Schuyler",
          "Schuyler",
          "Schuyler",
          "Schuyler"
         ],
         "legendgroup": "District=Schuyler",
         "line": {
          "color": "#ab63fa",
          "dash": "solid"
         },
         "mode": "lines",
         "name": "District=Schuyler",
         "showlegend": true,
         "type": "scatter",
         "x": [
          2002,
          2003,
          2004,
          2005,
          2006,
          2007,
          2008,
          2009,
          2010,
          2011,
          2012,
          2013,
          2014,
          2015,
          2016,
          2017,
          2018
         ],
         "xaxis": "x",
         "y": [
          12434,
          14084,
          16729,
          19096,
          18074,
          17245,
          19368,
          24471,
          28231,
          31119,
          31117,
          31272,
          31215,
          29978,
          28095,
          27551,
          26011
         ],
         "yaxis": "y"
        },
        {
         "hoverlabel": {
          "namelength": 0
         },
         "hovertemplate": "<b>%{hovertext}</b><br><br>District=Seneca<br>Year=%{x}<br>Total SNAP Persons=%{y}",
         "hovertext": [
          "Seneca",
          "Seneca",
          "Seneca",
          "Seneca",
          "Seneca",
          "Seneca",
          "Seneca",
          "Seneca",
          "Seneca",
          "Seneca",
          "Seneca",
          "Seneca",
          "Seneca",
          "Seneca",
          "Seneca",
          "Seneca",
          "Seneca"
         ],
         "legendgroup": "District=Seneca",
         "line": {
          "color": "#FFA15A",
          "dash": "solid"
         },
         "mode": "lines",
         "name": "District=Seneca",
         "showlegend": true,
         "type": "scatter",
         "x": [
          2002,
          2003,
          2004,
          2005,
          2006,
          2007,
          2008,
          2009,
          2010,
          2011,
          2012,
          2013,
          2014,
          2015,
          2016,
          2017,
          2018
         ],
         "xaxis": "x",
         "y": [
          20633,
          23028,
          24425,
          24943,
          24059,
          22504,
          23277,
          29466,
          33333,
          35461,
          37617,
          42593,
          44163,
          41836,
          40261,
          38510,
          36234
         ],
         "yaxis": "y"
        },
        {
         "hoverlabel": {
          "namelength": 0
         },
         "hovertemplate": "<b>%{hovertext}</b><br><br>District=St. Lawrence<br>Year=%{x}<br>Total SNAP Persons=%{y}",
         "hovertext": [
          "St. Lawrence",
          "St. Lawrence",
          "St. Lawrence",
          "St. Lawrence",
          "St. Lawrence",
          "St. Lawrence",
          "St. Lawrence",
          "St. Lawrence",
          "St. Lawrence",
          "St. Lawrence",
          "St. Lawrence",
          "St. Lawrence",
          "St. Lawrence",
          "St. Lawrence",
          "St. Lawrence",
          "St. Lawrence",
          "St. Lawrence"
         ],
         "legendgroup": "District=St. Lawrence",
         "line": {
          "color": "#19d3f3",
          "dash": "solid"
         },
         "mode": "lines",
         "name": "District=St. Lawrence",
         "showlegend": true,
         "type": "scatter",
         "x": [
          2002,
          2003,
          2004,
          2005,
          2006,
          2007,
          2008,
          2009,
          2010,
          2011,
          2012,
          2013,
          2014,
          2015,
          2016,
          2017,
          2018
         ],
         "xaxis": "x",
         "y": [
          89643,
          97351,
          115717,
          123312,
          122861,
          124960,
          134578,
          163973,
          188641,
          198581,
          200228,
          204279,
          204273,
          197843,
          188837,
          183014,
          174945
         ],
         "yaxis": "y"
        },
        {
         "hoverlabel": {
          "namelength": 0
         },
         "hovertemplate": "<b>%{hovertext}</b><br><br>District=Steuben<br>Year=%{x}<br>Total SNAP Persons=%{y}",
         "hovertext": [
          "Steuben",
          "Steuben",
          "Steuben",
          "Steuben",
          "Steuben",
          "Steuben",
          "Steuben",
          "Steuben",
          "Steuben",
          "Steuben",
          "Steuben",
          "Steuben",
          "Steuben",
          "Steuben",
          "Steuben",
          "Steuben",
          "Steuben"
         ],
         "legendgroup": "District=Steuben",
         "line": {
          "color": "#FF6692",
          "dash": "solid"
         },
         "mode": "lines",
         "name": "District=Steuben",
         "showlegend": true,
         "type": "scatter",
         "x": [
          2002,
          2003,
          2004,
          2005,
          2006,
          2007,
          2008,
          2009,
          2010,
          2011,
          2012,
          2013,
          2014,
          2015,
          2016,
          2017,
          2018
         ],
         "xaxis": "x",
         "y": [
          78043,
          92148,
          100809,
          102819,
          99801,
          95939,
          96214,
          119557,
          141332,
          146623,
          145541,
          155203,
          155299,
          146340,
          137309,
          134333,
          127791
         ],
         "yaxis": "y"
        },
        {
         "hoverlabel": {
          "namelength": 0
         },
         "hovertemplate": "<b>%{hovertext}</b><br><br>District=Suffolk<br>Year=%{x}<br>Total SNAP Persons=%{y}",
         "hovertext": [
          "Suffolk",
          "Suffolk",
          "Suffolk",
          "Suffolk",
          "Suffolk",
          "Suffolk",
          "Suffolk",
          "Suffolk",
          "Suffolk",
          "Suffolk",
          "Suffolk",
          "Suffolk",
          "Suffolk",
          "Suffolk",
          "Suffolk",
          "Suffolk",
          "Suffolk"
         ],
         "legendgroup": "District=Suffolk",
         "line": {
          "color": "#B6E880",
          "dash": "solid"
         },
         "mode": "lines",
         "name": "District=Suffolk",
         "showlegend": true,
         "type": "scatter",
         "x": [
          2002,
          2003,
          2004,
          2005,
          2006,
          2007,
          2008,
          2009,
          2010,
          2011,
          2012,
          2013,
          2014,
          2015,
          2016,
          2017,
          2018
         ],
         "xaxis": "x",
         "y": [
          332689,
          366221,
          399281,
          439073,
          452529,
          474330,
          542199,
          754946,
          997259,
          1194867,
          1344634,
          1434631,
          1539957,
          1563634,
          1480891,
          1346630,
          1212861
         ],
         "yaxis": "y"
        },
        {
         "hoverlabel": {
          "namelength": 0
         },
         "hovertemplate": "<b>%{hovertext}</b><br><br>District=Sullivan<br>Year=%{x}<br>Total SNAP Persons=%{y}",
         "hovertext": [
          "Sullivan",
          "Sullivan",
          "Sullivan",
          "Sullivan",
          "Sullivan",
          "Sullivan",
          "Sullivan",
          "Sullivan",
          "Sullivan",
          "Sullivan",
          "Sullivan",
          "Sullivan",
          "Sullivan",
          "Sullivan",
          "Sullivan",
          "Sullivan",
          "Sullivan"
         ],
         "legendgroup": "District=Sullivan",
         "line": {
          "color": "#FF97FF",
          "dash": "solid"
         },
         "mode": "lines",
         "name": "District=Sullivan",
         "showlegend": true,
         "type": "scatter",
         "x": [
          2002,
          2003,
          2004,
          2005,
          2006,
          2007,
          2008,
          2009,
          2010,
          2011,
          2012,
          2013,
          2014,
          2015,
          2016,
          2017,
          2018
         ],
         "xaxis": "x",
         "y": [
          54163,
          60381,
          66630,
          72806,
          77390,
          80419,
          85842,
          104682,
          126105,
          135995,
          152927,
          161838,
          149503,
          149190,
          158849,
          157369,
          154184
         ],
         "yaxis": "y"
        },
        {
         "hoverlabel": {
          "namelength": 0
         },
         "hovertemplate": "<b>%{hovertext}</b><br><br>District=Tioga<br>Year=%{x}<br>Total SNAP Persons=%{y}",
         "hovertext": [
          "Tioga",
          "Tioga",
          "Tioga",
          "Tioga",
          "Tioga",
          "Tioga",
          "Tioga",
          "Tioga",
          "Tioga",
          "Tioga",
          "Tioga",
          "Tioga",
          "Tioga",
          "Tioga",
          "Tioga",
          "Tioga",
          "Tioga"
         ],
         "legendgroup": "District=Tioga",
         "line": {
          "color": "#FECB52",
          "dash": "solid"
         },
         "mode": "lines",
         "name": "District=Tioga",
         "showlegend": true,
         "type": "scatter",
         "x": [
          2002,
          2003,
          2004,
          2005,
          2006,
          2007,
          2008,
          2009,
          2010,
          2011,
          2012,
          2013,
          2014,
          2015,
          2016,
          2017,
          2018
         ],
         "xaxis": "x",
         "y": [
          30404,
          37626,
          41514,
          45378,
          47992,
          46973,
          50141,
          64285,
          73416,
          78282,
          75278,
          77532,
          77784,
          76658,
          72557,
          66995,
          62828
         ],
         "yaxis": "y"
        },
        {
         "hoverlabel": {
          "namelength": 0
         },
         "hovertemplate": "<b>%{hovertext}</b><br><br>District=Tompkins<br>Year=%{x}<br>Total SNAP Persons=%{y}",
         "hovertext": [
          "Tompkins",
          "Tompkins",
          "Tompkins",
          "Tompkins",
          "Tompkins",
          "Tompkins",
          "Tompkins",
          "Tompkins",
          "Tompkins",
          "Tompkins",
          "Tompkins",
          "Tompkins",
          "Tompkins",
          "Tompkins",
          "Tompkins",
          "Tompkins",
          "Tompkins"
         ],
         "legendgroup": "District=Tompkins",
         "line": {
          "color": "#636efa",
          "dash": "solid"
         },
         "mode": "lines",
         "name": "District=Tompkins",
         "showlegend": true,
         "type": "scatter",
         "x": [
          2002,
          2003,
          2004,
          2005,
          2006,
          2007,
          2008,
          2009,
          2010,
          2011,
          2012,
          2013,
          2014,
          2015,
          2016,
          2017,
          2018
         ],
         "xaxis": "x",
         "y": [
          45569,
          51280,
          57927,
          61312,
          65081,
          67449,
          72967,
          86518,
          98809,
          105389,
          109453,
          113041,
          112089,
          106526,
          100773,
          96935,
          91847
         ],
         "yaxis": "y"
        },
        {
         "hoverlabel": {
          "namelength": 0
         },
         "hovertemplate": "<b>%{hovertext}</b><br><br>District=Ulster<br>Year=%{x}<br>Total SNAP Persons=%{y}",
         "hovertext": [
          "Ulster",
          "Ulster",
          "Ulster",
          "Ulster",
          "Ulster",
          "Ulster",
          "Ulster",
          "Ulster",
          "Ulster",
          "Ulster",
          "Ulster",
          "Ulster",
          "Ulster",
          "Ulster",
          "Ulster",
          "Ulster",
          "Ulster"
         ],
         "legendgroup": "District=Ulster",
         "line": {
          "color": "#EF553B",
          "dash": "solid"
         },
         "mode": "lines",
         "name": "District=Ulster",
         "showlegend": true,
         "type": "scatter",
         "x": [
          2002,
          2003,
          2004,
          2005,
          2006,
          2007,
          2008,
          2009,
          2010,
          2011,
          2012,
          2013,
          2014,
          2015,
          2016,
          2017,
          2018
         ],
         "xaxis": "x",
         "y": [
          78824,
          87222,
          92794,
          100992,
          109456,
          114960,
          129509,
          173103,
          215936,
          239933,
          250496,
          258989,
          262015,
          255531,
          240579,
          224709,
          206041
         ],
         "yaxis": "y"
        },
        {
         "hoverlabel": {
          "namelength": 0
         },
         "hovertemplate": "<b>%{hovertext}</b><br><br>District=Warren<br>Year=%{x}<br>Total SNAP Persons=%{y}",
         "hovertext": [
          "Warren",
          "Warren",
          "Warren",
          "Warren",
          "Warren",
          "Warren",
          "Warren",
          "Warren",
          "Warren",
          "Warren",
          "Warren",
          "Warren",
          "Warren",
          "Warren",
          "Warren",
          "Warren",
          "Warren"
         ],
         "legendgroup": "District=Warren",
         "line": {
          "color": "#00cc96",
          "dash": "solid"
         },
         "mode": "lines",
         "name": "District=Warren",
         "showlegend": true,
         "type": "scatter",
         "x": [
          2002,
          2003,
          2004,
          2005,
          2006,
          2007,
          2008,
          2009,
          2010,
          2011,
          2012,
          2013,
          2014,
          2015,
          2016,
          2017,
          2018
         ],
         "xaxis": "x",
         "y": [
          37511,
          40001,
          42977,
          46396,
          47190,
          46615,
          54050,
          72105,
          87440,
          90636,
          88556,
          89678,
          90831,
          87759,
          86430,
          81838,
          78023
         ],
         "yaxis": "y"
        },
        {
         "hoverlabel": {
          "namelength": 0
         },
         "hovertemplate": "<b>%{hovertext}</b><br><br>District=Washington<br>Year=%{x}<br>Total SNAP Persons=%{y}",
         "hovertext": [
          "Washington",
          "Washington",
          "Washington",
          "Washington",
          "Washington",
          "Washington",
          "Washington",
          "Washington",
          "Washington",
          "Washington",
          "Washington",
          "Washington",
          "Washington",
          "Washington",
          "Washington",
          "Washington",
          "Washington"
         ],
         "legendgroup": "District=Washington",
         "line": {
          "color": "#ab63fa",
          "dash": "solid"
         },
         "mode": "lines",
         "name": "District=Washington",
         "showlegend": true,
         "type": "scatter",
         "x": [
          2002,
          2003,
          2004,
          2005,
          2006,
          2007,
          2008,
          2009,
          2010,
          2011,
          2012,
          2013,
          2014,
          2015,
          2016,
          2017,
          2018
         ],
         "xaxis": "x",
         "y": [
          40515,
          46030,
          47784,
          49138,
          50404,
          52739,
          58745,
          76237,
          85345,
          88294,
          91013,
          94338,
          94626,
          92494,
          87377,
          83904,
          78719
         ],
         "yaxis": "y"
        },
        {
         "hoverlabel": {
          "namelength": 0
         },
         "hovertemplate": "<b>%{hovertext}</b><br><br>District=Wayne<br>Year=%{x}<br>Total SNAP Persons=%{y}",
         "hovertext": [
          "Wayne",
          "Wayne",
          "Wayne",
          "Wayne",
          "Wayne",
          "Wayne",
          "Wayne",
          "Wayne",
          "Wayne",
          "Wayne",
          "Wayne",
          "Wayne",
          "Wayne",
          "Wayne",
          "Wayne",
          "Wayne",
          "Wayne"
         ],
         "legendgroup": "District=Wayne",
         "line": {
          "color": "#FFA15A",
          "dash": "solid"
         },
         "mode": "lines",
         "name": "District=Wayne",
         "showlegend": true,
         "type": "scatter",
         "x": [
          2002,
          2003,
          2004,
          2005,
          2006,
          2007,
          2008,
          2009,
          2010,
          2011,
          2012,
          2013,
          2014,
          2015,
          2016,
          2017,
          2018
         ],
         "xaxis": "x",
         "y": [
          56498,
          64807,
          67914,
          73235,
          74048,
          74837,
          81063,
          96808,
          110633,
          118599,
          125948,
          131449,
          130806,
          126381,
          119158,
          112486,
          106169
         ],
         "yaxis": "y"
        },
        {
         "hoverlabel": {
          "namelength": 0
         },
         "hovertemplate": "<b>%{hovertext}</b><br><br>District=Westchester<br>Year=%{x}<br>Total SNAP Persons=%{y}",
         "hovertext": [
          "Westchester",
          "Westchester",
          "Westchester",
          "Westchester",
          "Westchester",
          "Westchester",
          "Westchester",
          "Westchester",
          "Westchester",
          "Westchester",
          "Westchester",
          "Westchester",
          "Westchester",
          "Westchester",
          "Westchester",
          "Westchester",
          "Westchester"
         ],
         "legendgroup": "District=Westchester",
         "line": {
          "color": "#19d3f3",
          "dash": "solid"
         },
         "mode": "lines",
         "name": "District=Westchester",
         "showlegend": true,
         "type": "scatter",
         "x": [
          2002,
          2003,
          2004,
          2005,
          2006,
          2007,
          2008,
          2009,
          2010,
          2011,
          2012,
          2013,
          2014,
          2015,
          2016,
          2017,
          2018
         ],
         "xaxis": "x",
         "y": [
          381584,
          407393,
          440795,
          476935,
          475680,
          485509,
          532822,
          651574,
          784502,
          885030,
          941956,
          980048,
          1010886,
          1032598,
          1006401,
          957920,
          930401
         ],
         "yaxis": "y"
        },
        {
         "hoverlabel": {
          "namelength": 0
         },
         "hovertemplate": "<b>%{hovertext}</b><br><br>District=Wyoming<br>Year=%{x}<br>Total SNAP Persons=%{y}",
         "hovertext": [
          "Wyoming",
          "Wyoming",
          "Wyoming",
          "Wyoming",
          "Wyoming",
          "Wyoming",
          "Wyoming",
          "Wyoming",
          "Wyoming",
          "Wyoming",
          "Wyoming",
          "Wyoming",
          "Wyoming",
          "Wyoming",
          "Wyoming",
          "Wyoming",
          "Wyoming"
         ],
         "legendgroup": "District=Wyoming",
         "line": {
          "color": "#FF6692",
          "dash": "solid"
         },
         "mode": "lines",
         "name": "District=Wyoming",
         "showlegend": true,
         "type": "scatter",
         "x": [
          2002,
          2003,
          2004,
          2005,
          2006,
          2007,
          2008,
          2009,
          2010,
          2011,
          2012,
          2013,
          2014,
          2015,
          2016,
          2017,
          2018
         ],
         "xaxis": "x",
         "y": [
          18702,
          19997,
          22096,
          22385,
          23479,
          25046,
          27341,
          35031,
          38474,
          39549,
          39033,
          41641,
          41021,
          38264,
          34649,
          31967,
          30103
         ],
         "yaxis": "y"
        },
        {
         "hoverlabel": {
          "namelength": 0
         },
         "hovertemplate": "<b>%{hovertext}</b><br><br>District=Yates<br>Year=%{x}<br>Total SNAP Persons=%{y}",
         "hovertext": [
          "Yates",
          "Yates",
          "Yates",
          "Yates",
          "Yates",
          "Yates",
          "Yates",
          "Yates",
          "Yates",
          "Yates",
          "Yates",
          "Yates",
          "Yates",
          "Yates",
          "Yates",
          "Yates",
          "Yates"
         ],
         "legendgroup": "District=Yates",
         "line": {
          "color": "#B6E880",
          "dash": "solid"
         },
         "mode": "lines",
         "name": "District=Yates",
         "showlegend": true,
         "type": "scatter",
         "x": [
          2002,
          2003,
          2004,
          2005,
          2006,
          2007,
          2008,
          2009,
          2010,
          2011,
          2012,
          2013,
          2014,
          2015,
          2016,
          2017,
          2018
         ],
         "xaxis": "x",
         "y": [
          17311,
          20683,
          23171,
          26403,
          25960,
          24499,
          24554,
          31803,
          34402,
          34943,
          33276,
          32951,
          32499,
          32595,
          30375,
          29597,
          27783
         ],
         "yaxis": "y"
        }
       ],
       "layout": {
        "height": 600,
        "legend": {
         "tracegroupgap": 0
        },
        "margin": {
         "t": 60
        },
        "showlegend": false,
        "template": {
         "data": {
          "bar": [
           {
            "error_x": {
             "color": "#2a3f5f"
            },
            "error_y": {
             "color": "#2a3f5f"
            },
            "marker": {
             "line": {
              "color": "#E5ECF6",
              "width": 0.5
             }
            },
            "type": "bar"
           }
          ],
          "barpolar": [
           {
            "marker": {
             "line": {
              "color": "#E5ECF6",
              "width": 0.5
             }
            },
            "type": "barpolar"
           }
          ],
          "carpet": [
           {
            "aaxis": {
             "endlinecolor": "#2a3f5f",
             "gridcolor": "white",
             "linecolor": "white",
             "minorgridcolor": "white",
             "startlinecolor": "#2a3f5f"
            },
            "baxis": {
             "endlinecolor": "#2a3f5f",
             "gridcolor": "white",
             "linecolor": "white",
             "minorgridcolor": "white",
             "startlinecolor": "#2a3f5f"
            },
            "type": "carpet"
           }
          ],
          "choropleth": [
           {
            "colorbar": {
             "outlinewidth": 0,
             "ticks": ""
            },
            "type": "choropleth"
           }
          ],
          "contour": [
           {
            "colorbar": {
             "outlinewidth": 0,
             "ticks": ""
            },
            "colorscale": [
             [
              0,
              "#0d0887"
             ],
             [
              0.1111111111111111,
              "#46039f"
             ],
             [
              0.2222222222222222,
              "#7201a8"
             ],
             [
              0.3333333333333333,
              "#9c179e"
             ],
             [
              0.4444444444444444,
              "#bd3786"
             ],
             [
              0.5555555555555556,
              "#d8576b"
             ],
             [
              0.6666666666666666,
              "#ed7953"
             ],
             [
              0.7777777777777778,
              "#fb9f3a"
             ],
             [
              0.8888888888888888,
              "#fdca26"
             ],
             [
              1,
              "#f0f921"
             ]
            ],
            "type": "contour"
           }
          ],
          "contourcarpet": [
           {
            "colorbar": {
             "outlinewidth": 0,
             "ticks": ""
            },
            "type": "contourcarpet"
           }
          ],
          "heatmap": [
           {
            "colorbar": {
             "outlinewidth": 0,
             "ticks": ""
            },
            "colorscale": [
             [
              0,
              "#0d0887"
             ],
             [
              0.1111111111111111,
              "#46039f"
             ],
             [
              0.2222222222222222,
              "#7201a8"
             ],
             [
              0.3333333333333333,
              "#9c179e"
             ],
             [
              0.4444444444444444,
              "#bd3786"
             ],
             [
              0.5555555555555556,
              "#d8576b"
             ],
             [
              0.6666666666666666,
              "#ed7953"
             ],
             [
              0.7777777777777778,
              "#fb9f3a"
             ],
             [
              0.8888888888888888,
              "#fdca26"
             ],
             [
              1,
              "#f0f921"
             ]
            ],
            "type": "heatmap"
           }
          ],
          "heatmapgl": [
           {
            "colorbar": {
             "outlinewidth": 0,
             "ticks": ""
            },
            "colorscale": [
             [
              0,
              "#0d0887"
             ],
             [
              0.1111111111111111,
              "#46039f"
             ],
             [
              0.2222222222222222,
              "#7201a8"
             ],
             [
              0.3333333333333333,
              "#9c179e"
             ],
             [
              0.4444444444444444,
              "#bd3786"
             ],
             [
              0.5555555555555556,
              "#d8576b"
             ],
             [
              0.6666666666666666,
              "#ed7953"
             ],
             [
              0.7777777777777778,
              "#fb9f3a"
             ],
             [
              0.8888888888888888,
              "#fdca26"
             ],
             [
              1,
              "#f0f921"
             ]
            ],
            "type": "heatmapgl"
           }
          ],
          "histogram": [
           {
            "marker": {
             "colorbar": {
              "outlinewidth": 0,
              "ticks": ""
             }
            },
            "type": "histogram"
           }
          ],
          "histogram2d": [
           {
            "colorbar": {
             "outlinewidth": 0,
             "ticks": ""
            },
            "colorscale": [
             [
              0,
              "#0d0887"
             ],
             [
              0.1111111111111111,
              "#46039f"
             ],
             [
              0.2222222222222222,
              "#7201a8"
             ],
             [
              0.3333333333333333,
              "#9c179e"
             ],
             [
              0.4444444444444444,
              "#bd3786"
             ],
             [
              0.5555555555555556,
              "#d8576b"
             ],
             [
              0.6666666666666666,
              "#ed7953"
             ],
             [
              0.7777777777777778,
              "#fb9f3a"
             ],
             [
              0.8888888888888888,
              "#fdca26"
             ],
             [
              1,
              "#f0f921"
             ]
            ],
            "type": "histogram2d"
           }
          ],
          "histogram2dcontour": [
           {
            "colorbar": {
             "outlinewidth": 0,
             "ticks": ""
            },
            "colorscale": [
             [
              0,
              "#0d0887"
             ],
             [
              0.1111111111111111,
              "#46039f"
             ],
             [
              0.2222222222222222,
              "#7201a8"
             ],
             [
              0.3333333333333333,
              "#9c179e"
             ],
             [
              0.4444444444444444,
              "#bd3786"
             ],
             [
              0.5555555555555556,
              "#d8576b"
             ],
             [
              0.6666666666666666,
              "#ed7953"
             ],
             [
              0.7777777777777778,
              "#fb9f3a"
             ],
             [
              0.8888888888888888,
              "#fdca26"
             ],
             [
              1,
              "#f0f921"
             ]
            ],
            "type": "histogram2dcontour"
           }
          ],
          "mesh3d": [
           {
            "colorbar": {
             "outlinewidth": 0,
             "ticks": ""
            },
            "type": "mesh3d"
           }
          ],
          "parcoords": [
           {
            "line": {
             "colorbar": {
              "outlinewidth": 0,
              "ticks": ""
             }
            },
            "type": "parcoords"
           }
          ],
          "pie": [
           {
            "automargin": true,
            "type": "pie"
           }
          ],
          "scatter": [
           {
            "marker": {
             "colorbar": {
              "outlinewidth": 0,
              "ticks": ""
             }
            },
            "type": "scatter"
           }
          ],
          "scatter3d": [
           {
            "line": {
             "colorbar": {
              "outlinewidth": 0,
              "ticks": ""
             }
            },
            "marker": {
             "colorbar": {
              "outlinewidth": 0,
              "ticks": ""
             }
            },
            "type": "scatter3d"
           }
          ],
          "scattercarpet": [
           {
            "marker": {
             "colorbar": {
              "outlinewidth": 0,
              "ticks": ""
             }
            },
            "type": "scattercarpet"
           }
          ],
          "scattergeo": [
           {
            "marker": {
             "colorbar": {
              "outlinewidth": 0,
              "ticks": ""
             }
            },
            "type": "scattergeo"
           }
          ],
          "scattergl": [
           {
            "marker": {
             "colorbar": {
              "outlinewidth": 0,
              "ticks": ""
             }
            },
            "type": "scattergl"
           }
          ],
          "scattermapbox": [
           {
            "marker": {
             "colorbar": {
              "outlinewidth": 0,
              "ticks": ""
             }
            },
            "type": "scattermapbox"
           }
          ],
          "scatterpolar": [
           {
            "marker": {
             "colorbar": {
              "outlinewidth": 0,
              "ticks": ""
             }
            },
            "type": "scatterpolar"
           }
          ],
          "scatterpolargl": [
           {
            "marker": {
             "colorbar": {
              "outlinewidth": 0,
              "ticks": ""
             }
            },
            "type": "scatterpolargl"
           }
          ],
          "scatterternary": [
           {
            "marker": {
             "colorbar": {
              "outlinewidth": 0,
              "ticks": ""
             }
            },
            "type": "scatterternary"
           }
          ],
          "surface": [
           {
            "colorbar": {
             "outlinewidth": 0,
             "ticks": ""
            },
            "colorscale": [
             [
              0,
              "#0d0887"
             ],
             [
              0.1111111111111111,
              "#46039f"
             ],
             [
              0.2222222222222222,
              "#7201a8"
             ],
             [
              0.3333333333333333,
              "#9c179e"
             ],
             [
              0.4444444444444444,
              "#bd3786"
             ],
             [
              0.5555555555555556,
              "#d8576b"
             ],
             [
              0.6666666666666666,
              "#ed7953"
             ],
             [
              0.7777777777777778,
              "#fb9f3a"
             ],
             [
              0.8888888888888888,
              "#fdca26"
             ],
             [
              1,
              "#f0f921"
             ]
            ],
            "type": "surface"
           }
          ],
          "table": [
           {
            "cells": {
             "fill": {
              "color": "#EBF0F8"
             },
             "line": {
              "color": "white"
             }
            },
            "header": {
             "fill": {
              "color": "#C8D4E3"
             },
             "line": {
              "color": "white"
             }
            },
            "type": "table"
           }
          ]
         },
         "layout": {
          "annotationdefaults": {
           "arrowcolor": "#2a3f5f",
           "arrowhead": 0,
           "arrowwidth": 1
          },
          "coloraxis": {
           "colorbar": {
            "outlinewidth": 0,
            "ticks": ""
           }
          },
          "colorscale": {
           "diverging": [
            [
             0,
             "#8e0152"
            ],
            [
             0.1,
             "#c51b7d"
            ],
            [
             0.2,
             "#de77ae"
            ],
            [
             0.3,
             "#f1b6da"
            ],
            [
             0.4,
             "#fde0ef"
            ],
            [
             0.5,
             "#f7f7f7"
            ],
            [
             0.6,
             "#e6f5d0"
            ],
            [
             0.7,
             "#b8e186"
            ],
            [
             0.8,
             "#7fbc41"
            ],
            [
             0.9,
             "#4d9221"
            ],
            [
             1,
             "#276419"
            ]
           ],
           "sequential": [
            [
             0,
             "#0d0887"
            ],
            [
             0.1111111111111111,
             "#46039f"
            ],
            [
             0.2222222222222222,
             "#7201a8"
            ],
            [
             0.3333333333333333,
             "#9c179e"
            ],
            [
             0.4444444444444444,
             "#bd3786"
            ],
            [
             0.5555555555555556,
             "#d8576b"
            ],
            [
             0.6666666666666666,
             "#ed7953"
            ],
            [
             0.7777777777777778,
             "#fb9f3a"
            ],
            [
             0.8888888888888888,
             "#fdca26"
            ],
            [
             1,
             "#f0f921"
            ]
           ],
           "sequentialminus": [
            [
             0,
             "#0d0887"
            ],
            [
             0.1111111111111111,
             "#46039f"
            ],
            [
             0.2222222222222222,
             "#7201a8"
            ],
            [
             0.3333333333333333,
             "#9c179e"
            ],
            [
             0.4444444444444444,
             "#bd3786"
            ],
            [
             0.5555555555555556,
             "#d8576b"
            ],
            [
             0.6666666666666666,
             "#ed7953"
            ],
            [
             0.7777777777777778,
             "#fb9f3a"
            ],
            [
             0.8888888888888888,
             "#fdca26"
            ],
            [
             1,
             "#f0f921"
            ]
           ]
          },
          "colorway": [
           "#636efa",
           "#EF553B",
           "#00cc96",
           "#ab63fa",
           "#FFA15A",
           "#19d3f3",
           "#FF6692",
           "#B6E880",
           "#FF97FF",
           "#FECB52"
          ],
          "font": {
           "color": "#2a3f5f"
          },
          "geo": {
           "bgcolor": "white",
           "lakecolor": "white",
           "landcolor": "#E5ECF6",
           "showlakes": true,
           "showland": true,
           "subunitcolor": "white"
          },
          "hoverlabel": {
           "align": "left"
          },
          "hovermode": "closest",
          "mapbox": {
           "style": "light"
          },
          "paper_bgcolor": "white",
          "plot_bgcolor": "#E5ECF6",
          "polar": {
           "angularaxis": {
            "gridcolor": "white",
            "linecolor": "white",
            "ticks": ""
           },
           "bgcolor": "#E5ECF6",
           "radialaxis": {
            "gridcolor": "white",
            "linecolor": "white",
            "ticks": ""
           }
          },
          "scene": {
           "xaxis": {
            "backgroundcolor": "#E5ECF6",
            "gridcolor": "white",
            "gridwidth": 2,
            "linecolor": "white",
            "showbackground": true,
            "ticks": "",
            "zerolinecolor": "white"
           },
           "yaxis": {
            "backgroundcolor": "#E5ECF6",
            "gridcolor": "white",
            "gridwidth": 2,
            "linecolor": "white",
            "showbackground": true,
            "ticks": "",
            "zerolinecolor": "white"
           },
           "zaxis": {
            "backgroundcolor": "#E5ECF6",
            "gridcolor": "white",
            "gridwidth": 2,
            "linecolor": "white",
            "showbackground": true,
            "ticks": "",
            "zerolinecolor": "white"
           }
          },
          "shapedefaults": {
           "line": {
            "color": "#2a3f5f"
           }
          },
          "ternary": {
           "aaxis": {
            "gridcolor": "white",
            "linecolor": "white",
            "ticks": ""
           },
           "baxis": {
            "gridcolor": "white",
            "linecolor": "white",
            "ticks": ""
           },
           "bgcolor": "#E5ECF6",
           "caxis": {
            "gridcolor": "white",
            "linecolor": "white",
            "ticks": ""
           }
          },
          "title": {
           "x": 0.05
          },
          "xaxis": {
           "automargin": true,
           "gridcolor": "white",
           "linecolor": "white",
           "ticks": "",
           "title": {
            "standoff": 15
           },
           "zerolinecolor": "white",
           "zerolinewidth": 2
          },
          "yaxis": {
           "automargin": true,
           "gridcolor": "white",
           "linecolor": "white",
           "ticks": "",
           "title": {
            "standoff": 15
           },
           "zerolinecolor": "white",
           "zerolinewidth": 2
          }
         }
        },
        "title": {
         "text": "New York Counties SNAP Trend from 2002-2019"
        },
        "xaxis": {
         "anchor": "y",
         "domain": [
          0,
          1
         ],
         "rangeslider": {
          "visible": true
         },
         "title": {
          "text": "Year"
         }
        },
        "yaxis": {
         "anchor": "x",
         "domain": [
          0,
          1
         ],
         "title": {
          "text": "Total SNAP Participants in Millions"
         }
        }
       }
      },
      "text/html": [
       "<div>\n",
       "        \n",
       "        \n",
       "            <div id=\"0e2fa9e7-1ec1-4918-8c33-28e085394c0e\" class=\"plotly-graph-div\" style=\"height:600px; width:100%;\"></div>\n",
       "            <script type=\"text/javascript\">\n",
       "                require([\"plotly\"], function(Plotly) {\n",
       "                    window.PLOTLYENV=window.PLOTLYENV || {};\n",
       "                    \n",
       "                if (document.getElementById(\"0e2fa9e7-1ec1-4918-8c33-28e085394c0e\")) {\n",
       "                    Plotly.newPlot(\n",
       "                        '0e2fa9e7-1ec1-4918-8c33-28e085394c0e',\n",
       "                        [{\"hoverlabel\": {\"namelength\": 0}, \"hovertemplate\": \"<b>%{hovertext}</b><br><br>District=Albany<br>Year=%{x}<br>Total SNAP Persons=%{y}\", \"hovertext\": [\"Albany\", \"Albany\", \"Albany\", \"Albany\", \"Albany\", \"Albany\", \"Albany\", \"Albany\", \"Albany\", \"Albany\", \"Albany\", \"Albany\", \"Albany\", \"Albany\", \"Albany\", \"Albany\", \"Albany\"], \"legendgroup\": \"District=Albany\", \"line\": {\"color\": \"#636efa\", \"dash\": \"solid\"}, \"mode\": \"lines\", \"name\": \"District=Albany\", \"showlegend\": true, \"type\": \"scatter\", \"x\": [2002, 2003, 2004, 2005, 2006, 2007, 2008, 2009, 2010, 2011, 2012, 2013, 2014, 2015, 2016, 2017, 2018], \"xaxis\": \"x\", \"y\": [212892, 225745, 235090, 244585, 244952, 244671, 265642, 320644, 375465, 409084, 432346, 445075, 443884, 440824, 428900, 416302, 397574], \"yaxis\": \"y\"}, {\"hoverlabel\": {\"namelength\": 0}, \"hovertemplate\": \"<b>%{hovertext}</b><br><br>District=Allegany<br>Year=%{x}<br>Total SNAP Persons=%{y}\", \"hovertext\": [\"Allegany\", \"Allegany\", \"Allegany\", \"Allegany\", \"Allegany\", \"Allegany\", \"Allegany\", \"Allegany\", \"Allegany\", \"Allegany\", \"Allegany\", \"Allegany\", \"Allegany\", \"Allegany\", \"Allegany\", \"Allegany\", \"Allegany\"], \"legendgroup\": \"District=Allegany\", \"line\": {\"color\": \"#EF553B\", \"dash\": \"solid\"}, \"mode\": \"lines\", \"name\": \"District=Allegany\", \"showlegend\": true, \"type\": \"scatter\", \"x\": [2002, 2003, 2004, 2005, 2006, 2007, 2008, 2009, 2010, 2011, 2012, 2013, 2014, 2015, 2016, 2017, 2018], \"xaxis\": \"x\", \"y\": [44346, 48341, 53277, 55574, 55729, 53543, 57525, 67265, 75199, 79795, 78902, 83134, 81501, 75053, 72132, 69802, 65496], \"yaxis\": \"y\"}, {\"hoverlabel\": {\"namelength\": 0}, \"hovertemplate\": \"<b>%{hovertext}</b><br><br>District=Broome<br>Year=%{x}<br>Total SNAP Persons=%{y}\", \"hovertext\": [\"Broome\", \"Broome\", \"Broome\", \"Broome\", \"Broome\", \"Broome\", \"Broome\", \"Broome\", \"Broome\", \"Broome\", \"Broome\", \"Broome\", \"Broome\", \"Broome\", \"Broome\", \"Broome\", \"Broome\"], \"legendgroup\": \"District=Broome\", \"line\": {\"color\": \"#00cc96\", \"dash\": \"solid\"}, \"mode\": \"lines\", \"name\": \"District=Broome\", \"showlegend\": true, \"type\": \"scatter\", \"x\": [2002, 2003, 2004, 2005, 2006, 2007, 2008, 2009, 2010, 2011, 2012, 2013, 2014, 2015, 2016, 2017, 2018], \"xaxis\": \"x\", \"y\": [151255, 165869, 186882, 205910, 221682, 228959, 250071, 296573, 335380, 354597, 355906, 374340, 377440, 378157, 370039, 363504, 348026], \"yaxis\": \"y\"}, {\"hoverlabel\": {\"namelength\": 0}, \"hovertemplate\": \"<b>%{hovertext}</b><br><br>District=Cattaraugus<br>Year=%{x}<br>Total SNAP Persons=%{y}\", \"hovertext\": [\"Cattaraugus\", \"Cattaraugus\", \"Cattaraugus\", \"Cattaraugus\", \"Cattaraugus\", \"Cattaraugus\", \"Cattaraugus\", \"Cattaraugus\", \"Cattaraugus\", \"Cattaraugus\", \"Cattaraugus\", \"Cattaraugus\", \"Cattaraugus\", \"Cattaraugus\", \"Cattaraugus\", \"Cattaraugus\", \"Cattaraugus\"], \"legendgroup\": \"District=Cattaraugus\", \"line\": {\"color\": \"#ab63fa\", \"dash\": \"solid\"}, \"mode\": \"lines\", \"name\": \"District=Cattaraugus\", \"showlegend\": true, \"type\": \"scatter\", \"x\": [2002, 2003, 2004, 2005, 2006, 2007, 2008, 2009, 2010, 2011, 2012, 2013, 2014, 2015, 2016, 2017, 2018], \"xaxis\": \"x\", \"y\": [73162, 78262, 82842, 86372, 86160, 83745, 92578, 109470, 123300, 130911, 139646, 147239, 152405, 151802, 147876, 144572, 136115], \"yaxis\": \"y\"}, {\"hoverlabel\": {\"namelength\": 0}, \"hovertemplate\": \"<b>%{hovertext}</b><br><br>District=Cayuga<br>Year=%{x}<br>Total SNAP Persons=%{y}\", \"hovertext\": [\"Cayuga\", \"Cayuga\", \"Cayuga\", \"Cayuga\", \"Cayuga\", \"Cayuga\", \"Cayuga\", \"Cayuga\", \"Cayuga\", \"Cayuga\", \"Cayuga\", \"Cayuga\", \"Cayuga\", \"Cayuga\", \"Cayuga\", \"Cayuga\", \"Cayuga\"], \"legendgroup\": \"District=Cayuga\", \"line\": {\"color\": \"#FFA15A\", \"dash\": \"solid\"}, \"mode\": \"lines\", \"name\": \"District=Cayuga\", \"showlegend\": true, \"type\": \"scatter\", \"x\": [2002, 2003, 2004, 2005, 2006, 2007, 2008, 2009, 2010, 2011, 2012, 2013, 2014, 2015, 2016, 2017, 2018], \"xaxis\": \"x\", \"y\": [57005, 61048, 66002, 74423, 77462, 79687, 85473, 102203, 115042, 121966, 126953, 129851, 131404, 129248, 123072, 121988, 116959], \"yaxis\": \"y\"}, {\"hoverlabel\": {\"namelength\": 0}, \"hovertemplate\": \"<b>%{hovertext}</b><br><br>District=Chautauqua<br>Year=%{x}<br>Total SNAP Persons=%{y}\", \"hovertext\": [\"Chautauqua\", \"Chautauqua\", \"Chautauqua\", \"Chautauqua\", \"Chautauqua\", \"Chautauqua\", \"Chautauqua\", \"Chautauqua\", \"Chautauqua\", \"Chautauqua\", \"Chautauqua\", \"Chautauqua\", \"Chautauqua\", \"Chautauqua\", \"Chautauqua\", \"Chautauqua\", \"Chautauqua\"], \"legendgroup\": \"District=Chautauqua\", \"line\": {\"color\": \"#19d3f3\", \"dash\": \"solid\"}, \"mode\": \"lines\", \"name\": \"District=Chautauqua\", \"showlegend\": true, \"type\": \"scatter\", \"x\": [2002, 2003, 2004, 2005, 2006, 2007, 2008, 2009, 2010, 2011, 2012, 2013, 2014, 2015, 2016, 2017, 2018], \"xaxis\": \"x\", \"y\": [144396, 159165, 171071, 183256, 189469, 191977, 205519, 249278, 285910, 301323, 308436, 321125, 330397, 323604, 307698, 297490, 289932], \"yaxis\": \"y\"}, {\"hoverlabel\": {\"namelength\": 0}, \"hovertemplate\": \"<b>%{hovertext}</b><br><br>District=Chemung<br>Year=%{x}<br>Total SNAP Persons=%{y}\", \"hovertext\": [\"Chemung\", \"Chemung\", \"Chemung\", \"Chemung\", \"Chemung\", \"Chemung\", \"Chemung\", \"Chemung\", \"Chemung\", \"Chemung\", \"Chemung\", \"Chemung\", \"Chemung\", \"Chemung\", \"Chemung\", \"Chemung\", \"Chemung\"], \"legendgroup\": \"District=Chemung\", \"line\": {\"color\": \"#FF6692\", \"dash\": \"solid\"}, \"mode\": \"lines\", \"name\": \"District=Chemung\", \"showlegend\": true, \"type\": \"scatter\", \"x\": [2002, 2003, 2004, 2005, 2006, 2007, 2008, 2009, 2010, 2011, 2012, 2013, 2014, 2015, 2016, 2017, 2018], \"xaxis\": \"x\", \"y\": [75658, 93428, 110700, 118289, 122446, 121814, 125698, 148510, 170487, 179840, 184440, 192097, 191990, 188723, 184177, 175088, 163950], \"yaxis\": \"y\"}, {\"hoverlabel\": {\"namelength\": 0}, \"hovertemplate\": \"<b>%{hovertext}</b><br><br>District=Chenango<br>Year=%{x}<br>Total SNAP Persons=%{y}\", \"hovertext\": [\"Chenango\", \"Chenango\", \"Chenango\", \"Chenango\", \"Chenango\", \"Chenango\", \"Chenango\", \"Chenango\", \"Chenango\", \"Chenango\", \"Chenango\", \"Chenango\", \"Chenango\", \"Chenango\", \"Chenango\", \"Chenango\", \"Chenango\"], \"legendgroup\": \"District=Chenango\", \"line\": {\"color\": \"#B6E880\", \"dash\": \"solid\"}, \"mode\": \"lines\", \"name\": \"District=Chenango\", \"showlegend\": true, \"type\": \"scatter\", \"x\": [2002, 2003, 2004, 2005, 2006, 2007, 2008, 2009, 2010, 2011, 2012, 2013, 2014, 2015, 2016, 2017, 2018], \"xaxis\": \"x\", \"y\": [47315, 53638, 57392, 58909, 57970, 59477, 66481, 83441, 93911, 99217, 99022, 96548, 95158, 91137, 83919, 80386, 77135], \"yaxis\": \"y\"}, {\"hoverlabel\": {\"namelength\": 0}, \"hovertemplate\": \"<b>%{hovertext}</b><br><br>District=Clinton<br>Year=%{x}<br>Total SNAP Persons=%{y}\", \"hovertext\": [\"Clinton\", \"Clinton\", \"Clinton\", \"Clinton\", \"Clinton\", \"Clinton\", \"Clinton\", \"Clinton\", \"Clinton\", \"Clinton\", \"Clinton\", \"Clinton\", \"Clinton\", \"Clinton\", \"Clinton\", \"Clinton\", \"Clinton\"], \"legendgroup\": \"District=Clinton\", \"line\": {\"color\": \"#FF97FF\", \"dash\": \"solid\"}, \"mode\": \"lines\", \"name\": \"District=Clinton\", \"showlegend\": true, \"type\": \"scatter\", \"x\": [2002, 2003, 2004, 2005, 2006, 2007, 2008, 2009, 2010, 2011, 2012, 2013, 2014, 2015, 2016, 2017, 2018], \"xaxis\": \"x\", \"y\": [69797, 75749, 82654, 86224, 90394, 92220, 101519, 118869, 131790, 140923, 143209, 146936, 144953, 140369, 135900, 133068, 127674], \"yaxis\": \"y\"}, {\"hoverlabel\": {\"namelength\": 0}, \"hovertemplate\": \"<b>%{hovertext}</b><br><br>District=Columbia<br>Year=%{x}<br>Total SNAP Persons=%{y}\", \"hovertext\": [\"Columbia\", \"Columbia\", \"Columbia\", \"Columbia\", \"Columbia\", \"Columbia\", \"Columbia\", \"Columbia\", \"Columbia\", \"Columbia\", \"Columbia\", \"Columbia\", \"Columbia\", \"Columbia\", \"Columbia\", \"Columbia\", \"Columbia\"], \"legendgroup\": \"District=Columbia\", \"line\": {\"color\": \"#FECB52\", \"dash\": \"solid\"}, \"mode\": \"lines\", \"name\": \"District=Columbia\", \"showlegend\": true, \"type\": \"scatter\", \"x\": [2002, 2003, 2004, 2005, 2006, 2007, 2008, 2009, 2010, 2011, 2012, 2013, 2014, 2015, 2016, 2017, 2018], \"xaxis\": \"x\", \"y\": [30269, 32651, 35781, 37446, 36392, 36492, 38691, 49052, 56725, 66523, 73132, 75909, 79178, 77299, 74807, 71529, 67118], \"yaxis\": \"y\"}, {\"hoverlabel\": {\"namelength\": 0}, \"hovertemplate\": \"<b>%{hovertext}</b><br><br>District=Cortland<br>Year=%{x}<br>Total SNAP Persons=%{y}\", \"hovertext\": [\"Cortland\", \"Cortland\", \"Cortland\", \"Cortland\", \"Cortland\", \"Cortland\", \"Cortland\", \"Cortland\", \"Cortland\", \"Cortland\", \"Cortland\", \"Cortland\", \"Cortland\", \"Cortland\", \"Cortland\", \"Cortland\", \"Cortland\"], \"legendgroup\": \"District=Cortland\", \"line\": {\"color\": \"#636efa\", \"dash\": \"solid\"}, \"mode\": \"lines\", \"name\": \"District=Cortland\", \"showlegend\": true, \"type\": \"scatter\", \"x\": [2002, 2003, 2004, 2005, 2006, 2007, 2008, 2009, 2010, 2011, 2012, 2013, 2014, 2015, 2016, 2017, 2018], \"xaxis\": \"x\", \"y\": [41062, 44321, 47150, 49673, 52658, 52536, 56744, 70933, 80233, 83380, 86351, 88841, 86166, 82151, 77905, 75758, 71722], \"yaxis\": \"y\"}, {\"hoverlabel\": {\"namelength\": 0}, \"hovertemplate\": \"<b>%{hovertext}</b><br><br>District=Delaware<br>Year=%{x}<br>Total SNAP Persons=%{y}\", \"hovertext\": [\"Delaware\", \"Delaware\", \"Delaware\", \"Delaware\", \"Delaware\", \"Delaware\", \"Delaware\", \"Delaware\", \"Delaware\", \"Delaware\", \"Delaware\", \"Delaware\", \"Delaware\", \"Delaware\", \"Delaware\", \"Delaware\", \"Delaware\"], \"legendgroup\": \"District=Delaware\", \"line\": {\"color\": \"#EF553B\", \"dash\": \"solid\"}, \"mode\": \"lines\", \"name\": \"District=Delaware\", \"showlegend\": true, \"type\": \"scatter\", \"x\": [2002, 2003, 2004, 2005, 2006, 2007, 2008, 2009, 2010, 2011, 2012, 2013, 2014, 2015, 2016, 2017, 2018], \"xaxis\": \"x\", \"y\": [29015, 30275, 31996, 33886, 35134, 35153, 41298, 54462, 64693, 69639, 70662, 77019, 80217, 77365, 71783, 68176, 59641], \"yaxis\": \"y\"}, {\"hoverlabel\": {\"namelength\": 0}, \"hovertemplate\": \"<b>%{hovertext}</b><br><br>District=Dutchess<br>Year=%{x}<br>Total SNAP Persons=%{y}\", \"hovertext\": [\"Dutchess\", \"Dutchess\", \"Dutchess\", \"Dutchess\", \"Dutchess\", \"Dutchess\", \"Dutchess\", \"Dutchess\", \"Dutchess\", \"Dutchess\", \"Dutchess\", \"Dutchess\", \"Dutchess\", \"Dutchess\", \"Dutchess\", \"Dutchess\", \"Dutchess\"], \"legendgroup\": \"District=Dutchess\", \"line\": {\"color\": \"#00cc96\", \"dash\": \"solid\"}, \"mode\": \"lines\", \"name\": \"District=Dutchess\", \"showlegend\": true, \"type\": \"scatter\", \"x\": [2002, 2003, 2004, 2005, 2006, 2007, 2008, 2009, 2010, 2011, 2012, 2013, 2014, 2015, 2016, 2017, 2018], \"xaxis\": \"x\", \"y\": [77729, 88231, 105267, 121334, 126989, 133834, 150621, 196259, 242452, 269928, 286779, 298790, 294920, 282692, 248884, 226845, 216399], \"yaxis\": \"y\"}, {\"hoverlabel\": {\"namelength\": 0}, \"hovertemplate\": \"<b>%{hovertext}</b><br><br>District=Erie<br>Year=%{x}<br>Total SNAP Persons=%{y}\", \"hovertext\": [\"Erie\", \"Erie\", \"Erie\", \"Erie\", \"Erie\", \"Erie\", \"Erie\", \"Erie\", \"Erie\", \"Erie\", \"Erie\", \"Erie\", \"Erie\", \"Erie\", \"Erie\", \"Erie\", \"Erie\"], \"legendgroup\": \"District=Erie\", \"line\": {\"color\": \"#ab63fa\", \"dash\": \"solid\"}, \"mode\": \"lines\", \"name\": \"District=Erie\", \"showlegend\": true, \"type\": \"scatter\", \"x\": [2002, 2003, 2004, 2005, 2006, 2007, 2008, 2009, 2010, 2011, 2012, 2013, 2014, 2015, 2016, 2017, 2018], \"xaxis\": \"x\", \"y\": [897805, 957449, 1051264, 1112610, 1143063, 1171712, 1257360, 1432066, 1621903, 1735020, 1804841, 1877630, 1908597, 1886187, 1830314, 1807108, 1744673], \"yaxis\": \"y\"}, {\"hoverlabel\": {\"namelength\": 0}, \"hovertemplate\": \"<b>%{hovertext}</b><br><br>District=Essex<br>Year=%{x}<br>Total SNAP Persons=%{y}\", \"hovertext\": [\"Essex\", \"Essex\", \"Essex\", \"Essex\", \"Essex\", \"Essex\", \"Essex\", \"Essex\", \"Essex\", \"Essex\", \"Essex\", \"Essex\", \"Essex\", \"Essex\", \"Essex\", \"Essex\", \"Essex\"], \"legendgroup\": \"District=Essex\", \"line\": {\"color\": \"#FFA15A\", \"dash\": \"solid\"}, \"mode\": \"lines\", \"name\": \"District=Essex\", \"showlegend\": true, \"type\": \"scatter\", \"x\": [2002, 2003, 2004, 2005, 2006, 2007, 2008, 2009, 2010, 2011, 2012, 2013, 2014, 2015, 2016, 2017, 2018], \"xaxis\": \"x\", \"y\": [25950, 26643, 27239, 27689, 25961, 24463, 25938, 34184, 41291, 44626, 46184, 46448, 45751, 44294, 41288, 40612, 40073], \"yaxis\": \"y\"}, {\"hoverlabel\": {\"namelength\": 0}, \"hovertemplate\": \"<b>%{hovertext}</b><br><br>District=Franklin<br>Year=%{x}<br>Total SNAP Persons=%{y}\", \"hovertext\": [\"Franklin\", \"Franklin\", \"Franklin\", \"Franklin\", \"Franklin\", \"Franklin\", \"Franklin\", \"Franklin\", \"Franklin\", \"Franklin\", \"Franklin\", \"Franklin\", \"Franklin\", \"Franklin\", \"Franklin\", \"Franklin\", \"Franklin\"], \"legendgroup\": \"District=Franklin\", \"line\": {\"color\": \"#19d3f3\", \"dash\": \"solid\"}, \"mode\": \"lines\", \"name\": \"District=Franklin\", \"showlegend\": true, \"type\": \"scatter\", \"x\": [2002, 2003, 2004, 2005, 2006, 2007, 2008, 2009, 2010, 2011, 2012, 2013, 2014, 2015, 2016, 2017, 2018], \"xaxis\": \"x\", \"y\": [41750, 45047, 48346, 53344, 54616, 55377, 59335, 68987, 76277, 81957, 84651, 89393, 90745, 90741, 87907, 85105, 82640], \"yaxis\": \"y\"}, {\"hoverlabel\": {\"namelength\": 0}, \"hovertemplate\": \"<b>%{hovertext}</b><br><br>District=Fulton<br>Year=%{x}<br>Total SNAP Persons=%{y}\", \"hovertext\": [\"Fulton\", \"Fulton\", \"Fulton\", \"Fulton\", \"Fulton\", \"Fulton\", \"Fulton\", \"Fulton\", \"Fulton\", \"Fulton\", \"Fulton\", \"Fulton\", \"Fulton\", \"Fulton\", \"Fulton\", \"Fulton\", \"Fulton\"], \"legendgroup\": \"District=Fulton\", \"line\": {\"color\": \"#FF6692\", \"dash\": \"solid\"}, \"mode\": \"lines\", \"name\": \"District=Fulton\", \"showlegend\": true, \"type\": \"scatter\", \"x\": [2002, 2003, 2004, 2005, 2006, 2007, 2008, 2009, 2010, 2011, 2012, 2013, 2014, 2015, 2016, 2017, 2018], \"xaxis\": \"x\", \"y\": [51276, 55565, 61358, 66061, 67168, 68351, 78563, 95394, 105982, 111184, 113699, 114933, 115771, 109900, 104657, 97592, 89295], \"yaxis\": \"y\"}, {\"hoverlabel\": {\"namelength\": 0}, \"hovertemplate\": \"<b>%{hovertext}</b><br><br>District=Genesee<br>Year=%{x}<br>Total SNAP Persons=%{y}\", \"hovertext\": [\"Genesee\", \"Genesee\", \"Genesee\", \"Genesee\", \"Genesee\", \"Genesee\", \"Genesee\", \"Genesee\", \"Genesee\", \"Genesee\", \"Genesee\", \"Genesee\", \"Genesee\", \"Genesee\", \"Genesee\", \"Genesee\", \"Genesee\"], \"legendgroup\": \"District=Genesee\", \"line\": {\"color\": \"#B6E880\", \"dash\": \"solid\"}, \"mode\": \"lines\", \"name\": \"District=Genesee\", \"showlegend\": true, \"type\": \"scatter\", \"x\": [2002, 2003, 2004, 2005, 2006, 2007, 2008, 2009, 2010, 2011, 2012, 2013, 2014, 2015, 2016, 2017, 2018], \"xaxis\": \"x\", \"y\": [32819, 37175, 42134, 47505, 49594, 49504, 50888, 56883, 62052, 68772, 71852, 74392, 74143, 72125, 67160, 64429, 63410], \"yaxis\": \"y\"}, {\"hoverlabel\": {\"namelength\": 0}, \"hovertemplate\": \"<b>%{hovertext}</b><br><br>District=Greene<br>Year=%{x}<br>Total SNAP Persons=%{y}\", \"hovertext\": [\"Greene\", \"Greene\", \"Greene\", \"Greene\", \"Greene\", \"Greene\", \"Greene\", \"Greene\", \"Greene\", \"Greene\", \"Greene\", \"Greene\", \"Greene\", \"Greene\", \"Greene\", \"Greene\", \"Greene\"], \"legendgroup\": \"District=Greene\", \"line\": {\"color\": \"#FF97FF\", \"dash\": \"solid\"}, \"mode\": \"lines\", \"name\": \"District=Greene\", \"showlegend\": true, \"type\": \"scatter\", \"x\": [2002, 2003, 2004, 2005, 2006, 2007, 2008, 2009, 2010, 2011, 2012, 2013, 2014, 2015, 2016, 2017, 2018], \"xaxis\": \"x\", \"y\": [31946, 35062, 37495, 38996, 39295, 39291, 43861, 55310, 63673, 70996, 73873, 76025, 72611, 69051, 64613, 60924, 56665], \"yaxis\": \"y\"}, {\"hoverlabel\": {\"namelength\": 0}, \"hovertemplate\": \"<b>%{hovertext}</b><br><br>District=Hamilton<br>Year=%{x}<br>Total SNAP Persons=%{y}\", \"hovertext\": [\"Hamilton\", \"Hamilton\", \"Hamilton\", \"Hamilton\", \"Hamilton\", \"Hamilton\", \"Hamilton\", \"Hamilton\", \"Hamilton\", \"Hamilton\", \"Hamilton\", \"Hamilton\", \"Hamilton\", \"Hamilton\", \"Hamilton\", \"Hamilton\", \"Hamilton\"], \"legendgroup\": \"District=Hamilton\", \"line\": {\"color\": \"#FECB52\", \"dash\": \"solid\"}, \"mode\": \"lines\", \"name\": \"District=Hamilton\", \"showlegend\": true, \"type\": \"scatter\", \"x\": [2002, 2003, 2004, 2005, 2006, 2007, 2008, 2009, 2010, 2011, 2012, 2013, 2014, 2015, 2016, 2017, 2018], \"xaxis\": \"x\", \"y\": [3010, 3364, 3162, 3077, 3092, 2975, 2948, 3167, 3670, 4110, 5150, 5259, 5565, 4939, 4246, 4325, 4095], \"yaxis\": \"y\"}, {\"hoverlabel\": {\"namelength\": 0}, \"hovertemplate\": \"<b>%{hovertext}</b><br><br>District=Herkimer<br>Year=%{x}<br>Total SNAP Persons=%{y}\", \"hovertext\": [\"Herkimer\", \"Herkimer\", \"Herkimer\", \"Herkimer\", \"Herkimer\", \"Herkimer\", \"Herkimer\", \"Herkimer\", \"Herkimer\", \"Herkimer\", \"Herkimer\", \"Herkimer\", \"Herkimer\", \"Herkimer\", \"Herkimer\", \"Herkimer\", \"Herkimer\"], \"legendgroup\": \"District=Herkimer\", \"line\": {\"color\": \"#636efa\", \"dash\": \"solid\"}, \"mode\": \"lines\", \"name\": \"District=Herkimer\", \"showlegend\": true, \"type\": \"scatter\", \"x\": [2002, 2003, 2004, 2005, 2006, 2007, 2008, 2009, 2010, 2011, 2012, 2013, 2014, 2015, 2016, 2017, 2018], \"xaxis\": \"x\", \"y\": [52080, 59790, 66185, 70683, 72587, 72531, 82536, 96599, 110094, 121037, 123971, 127210, 126877, 124392, 116040, 112278, 106719], \"yaxis\": \"y\"}, {\"hoverlabel\": {\"namelength\": 0}, \"hovertemplate\": \"<b>%{hovertext}</b><br><br>District=Jefferson<br>Year=%{x}<br>Total SNAP Persons=%{y}\", \"hovertext\": [\"Jefferson\", \"Jefferson\", \"Jefferson\", \"Jefferson\", \"Jefferson\", \"Jefferson\", \"Jefferson\", \"Jefferson\", \"Jefferson\", \"Jefferson\", \"Jefferson\", \"Jefferson\", \"Jefferson\", \"Jefferson\", \"Jefferson\", \"Jefferson\", \"Jefferson\"], \"legendgroup\": \"District=Jefferson\", \"line\": {\"color\": \"#EF553B\", \"dash\": \"solid\"}, \"mode\": \"lines\", \"name\": \"District=Jefferson\", \"showlegend\": true, \"type\": \"scatter\", \"x\": [2002, 2003, 2004, 2005, 2006, 2007, 2008, 2009, 2010, 2011, 2012, 2013, 2014, 2015, 2016, 2017, 2018], \"xaxis\": \"x\", \"y\": [98738, 106131, 112321, 119032, 116046, 113578, 122420, 149393, 170768, 185457, 189297, 192329, 189065, 187728, 187820, 187415, 179395], \"yaxis\": \"y\"}, {\"hoverlabel\": {\"namelength\": 0}, \"hovertemplate\": \"<b>%{hovertext}</b><br><br>District=Lewis<br>Year=%{x}<br>Total SNAP Persons=%{y}\", \"hovertext\": [\"Lewis\", \"Lewis\", \"Lewis\", \"Lewis\", \"Lewis\", \"Lewis\", \"Lewis\", \"Lewis\", \"Lewis\", \"Lewis\", \"Lewis\", \"Lewis\", \"Lewis\", \"Lewis\", \"Lewis\", \"Lewis\", \"Lewis\"], \"legendgroup\": \"District=Lewis\", \"line\": {\"color\": \"#00cc96\", \"dash\": \"solid\"}, \"mode\": \"lines\", \"name\": \"District=Lewis\", \"showlegend\": true, \"type\": \"scatter\", \"x\": [2002, 2003, 2004, 2005, 2006, 2007, 2008, 2009, 2010, 2011, 2012, 2013, 2014, 2015, 2016, 2017, 2018], \"xaxis\": \"x\", \"y\": [22296, 24314, 25721, 25969, 25904, 25692, 29009, 36295, 39842, 42313, 43814, 44183, 43965, 42957, 42333, 42322, 37878], \"yaxis\": \"y\"}, {\"hoverlabel\": {\"namelength\": 0}, \"hovertemplate\": \"<b>%{hovertext}</b><br><br>District=Livingston<br>Year=%{x}<br>Total SNAP Persons=%{y}\", \"hovertext\": [\"Livingston\", \"Livingston\", \"Livingston\", \"Livingston\", \"Livingston\", \"Livingston\", \"Livingston\", \"Livingston\", \"Livingston\", \"Livingston\", \"Livingston\", \"Livingston\", \"Livingston\", \"Livingston\", \"Livingston\", \"Livingston\", \"Livingston\"], \"legendgroup\": \"District=Livingston\", \"line\": {\"color\": \"#ab63fa\", \"dash\": \"solid\"}, \"mode\": \"lines\", \"name\": \"District=Livingston\", \"showlegend\": true, \"type\": \"scatter\", \"x\": [2002, 2003, 2004, 2005, 2006, 2007, 2008, 2009, 2010, 2011, 2012, 2013, 2014, 2015, 2016, 2017, 2018], \"xaxis\": \"x\", \"y\": [39251, 43379, 47391, 49247, 50419, 49632, 55435, 69560, 76655, 80716, 82589, 87733, 90232, 87380, 82499, 80849, 74943], \"yaxis\": \"y\"}, {\"hoverlabel\": {\"namelength\": 0}, \"hovertemplate\": \"<b>%{hovertext}</b><br><br>District=Madison<br>Year=%{x}<br>Total SNAP Persons=%{y}\", \"hovertext\": [\"Madison\", \"Madison\", \"Madison\", \"Madison\", \"Madison\", \"Madison\", \"Madison\", \"Madison\", \"Madison\", \"Madison\", \"Madison\", \"Madison\", \"Madison\", \"Madison\", \"Madison\", \"Madison\", \"Madison\"], \"legendgroup\": \"District=Madison\", \"line\": {\"color\": \"#FFA15A\", \"dash\": \"solid\"}, \"mode\": \"lines\", \"name\": \"District=Madison\", \"showlegend\": true, \"type\": \"scatter\", \"x\": [2002, 2003, 2004, 2005, 2006, 2007, 2008, 2009, 2010, 2011, 2012, 2013, 2014, 2015, 2016, 2017, 2018], \"xaxis\": \"x\", \"y\": [40081, 45990, 50794, 53205, 54940, 56892, 67514, 87900, 101540, 106145, 108068, 112079, 111692, 107600, 98689, 93289, 85383], \"yaxis\": \"y\"}, {\"hoverlabel\": {\"namelength\": 0}, \"hovertemplate\": \"<b>%{hovertext}</b><br><br>District=Monroe<br>Year=%{x}<br>Total SNAP Persons=%{y}\", \"hovertext\": [\"Monroe\", \"Monroe\", \"Monroe\", \"Monroe\", \"Monroe\", \"Monroe\", \"Monroe\", \"Monroe\", \"Monroe\", \"Monroe\", \"Monroe\", \"Monroe\", \"Monroe\", \"Monroe\", \"Monroe\", \"Monroe\", \"Monroe\"], \"legendgroup\": \"District=Monroe\", \"line\": {\"color\": \"#19d3f3\", \"dash\": \"solid\"}, \"mode\": \"lines\", \"name\": \"District=Monroe\", \"showlegend\": true, \"type\": \"scatter\", \"x\": [2002, 2003, 2004, 2005, 2006, 2007, 2008, 2009, 2010, 2011, 2012, 2013, 2014, 2015, 2016, 2017, 2018], \"xaxis\": \"x\", \"y\": [729680, 807058, 873084, 912366, 909691, 919338, 968442, 1097202, 1239864, 1332184, 1369902, 1431915, 1460087, 1470415, 1466316, 1454981, 1409996], \"yaxis\": \"y\"}, {\"hoverlabel\": {\"namelength\": 0}, \"hovertemplate\": \"<b>%{hovertext}</b><br><br>District=Montgomery<br>Year=%{x}<br>Total SNAP Persons=%{y}\", \"hovertext\": [\"Montgomery\", \"Montgomery\", \"Montgomery\", \"Montgomery\", \"Montgomery\", \"Montgomery\", \"Montgomery\", \"Montgomery\", \"Montgomery\", \"Montgomery\", \"Montgomery\", \"Montgomery\", \"Montgomery\", \"Montgomery\", \"Montgomery\", \"Montgomery\", \"Montgomery\"], \"legendgroup\": \"District=Montgomery\", \"line\": {\"color\": \"#FF6692\", \"dash\": \"solid\"}, \"mode\": \"lines\", \"name\": \"District=Montgomery\", \"showlegend\": true, \"type\": \"scatter\", \"x\": [2002, 2003, 2004, 2005, 2006, 2007, 2008, 2009, 2010, 2011, 2012, 2013, 2014, 2015, 2016, 2017, 2018], \"xaxis\": \"x\", \"y\": [52934, 59476, 63632, 64972, 68281, 72588, 81594, 95971, 107650, 111655, 113453, 119586, 119500, 115503, 113821, 109437, 102702], \"yaxis\": \"y\"}, {\"hoverlabel\": {\"namelength\": 0}, \"hovertemplate\": \"<b>%{hovertext}</b><br><br>District=Nassau<br>Year=%{x}<br>Total SNAP Persons=%{y}\", \"hovertext\": [\"Nassau\", \"Nassau\", \"Nassau\", \"Nassau\", \"Nassau\", \"Nassau\", \"Nassau\", \"Nassau\", \"Nassau\", \"Nassau\", \"Nassau\", \"Nassau\", \"Nassau\", \"Nassau\", \"Nassau\", \"Nassau\", \"Nassau\"], \"legendgroup\": \"District=Nassau\", \"line\": {\"color\": \"#B6E880\", \"dash\": \"solid\"}, \"mode\": \"lines\", \"name\": \"District=Nassau\", \"showlegend\": true, \"type\": \"scatter\", \"x\": [2002, 2003, 2004, 2005, 2006, 2007, 2008, 2009, 2010, 2011, 2012, 2013, 2014, 2015, 2016, 2017, 2018], \"xaxis\": \"x\", \"y\": [207621, 224868, 266625, 311727, 311044, 322907, 361267, 464015, 607725, 749992, 807506, 822379, 813971, 789147, 723842, 658247, 592136], \"yaxis\": \"y\"}, {\"hoverlabel\": {\"namelength\": 0}, \"hovertemplate\": \"<b>%{hovertext}</b><br><br>District=New York City<br>Year=%{x}<br>Total SNAP Persons=%{y}\", \"hovertext\": [\"New York City\", \"New York City\", \"New York City\", \"New York City\", \"New York City\", \"New York City\", \"New York City\", \"New York City\", \"New York City\", \"New York City\", \"New York City\", \"New York City\", \"New York City\", \"New York City\", \"New York City\", \"New York City\", \"New York City\"], \"legendgroup\": \"District=New York City\", \"line\": {\"color\": \"#FF97FF\", \"dash\": \"solid\"}, \"mode\": \"lines\", \"name\": \"District=New York City\", \"showlegend\": true, \"type\": \"scatter\", \"x\": [2002, 2003, 2004, 2005, 2006, 2007, 2008, 2009, 2010, 2011, 2012, 2013, 2014, 2015, 2016, 2017, 2018], \"xaxis\": \"x\", \"y\": [9859561, 10618905, 12083131, 13016864, 13110499, 13271767, 15117067, 18140701, 20848685, 21877784, 22036775, 22404732, 21103254, 20432043, 20289484, 19987958, 19277245], \"yaxis\": \"y\"}, {\"hoverlabel\": {\"namelength\": 0}, \"hovertemplate\": \"<b>%{hovertext}</b><br><br>District=Niagara<br>Year=%{x}<br>Total SNAP Persons=%{y}\", \"hovertext\": [\"Niagara\", \"Niagara\", \"Niagara\", \"Niagara\", \"Niagara\", \"Niagara\", \"Niagara\", \"Niagara\", \"Niagara\", \"Niagara\", \"Niagara\", \"Niagara\", \"Niagara\", \"Niagara\", \"Niagara\", \"Niagara\", \"Niagara\"], \"legendgroup\": \"District=Niagara\", \"line\": {\"color\": \"#FECB52\", \"dash\": \"solid\"}, \"mode\": \"lines\", \"name\": \"District=Niagara\", \"showlegend\": true, \"type\": \"scatter\", \"x\": [2002, 2003, 2004, 2005, 2006, 2007, 2008, 2009, 2010, 2011, 2012, 2013, 2014, 2015, 2016, 2017, 2018], \"xaxis\": \"x\", \"y\": [158371, 172964, 193960, 211607, 219875, 217525, 240447, 291809, 332618, 353386, 361716, 376704, 390904, 388927, 375745, 369088, 351924], \"yaxis\": \"y\"}, {\"hoverlabel\": {\"namelength\": 0}, \"hovertemplate\": \"<b>%{hovertext}</b><br><br>District=Oneida<br>Year=%{x}<br>Total SNAP Persons=%{y}\", \"hovertext\": [\"Oneida\", \"Oneida\", \"Oneida\", \"Oneida\", \"Oneida\", \"Oneida\", \"Oneida\", \"Oneida\", \"Oneida\", \"Oneida\", \"Oneida\", \"Oneida\", \"Oneida\", \"Oneida\", \"Oneida\", \"Oneida\", \"Oneida\"], \"legendgroup\": \"District=Oneida\", \"line\": {\"color\": \"#636efa\", \"dash\": \"solid\"}, \"mode\": \"lines\", \"name\": \"District=Oneida\", \"showlegend\": true, \"type\": \"scatter\", \"x\": [2002, 2003, 2004, 2005, 2006, 2007, 2008, 2009, 2010, 2011, 2012, 2013, 2014, 2015, 2016, 2017, 2018], \"xaxis\": \"x\", \"y\": [245009, 265358, 283282, 300662, 302065, 303477, 324596, 379431, 429530, 462798, 485641, 499074, 501301, 494095, 477447, 475528, 469984], \"yaxis\": \"y\"}, {\"hoverlabel\": {\"namelength\": 0}, \"hovertemplate\": \"<b>%{hovertext}</b><br><br>District=Onondaga<br>Year=%{x}<br>Total SNAP Persons=%{y}\", \"hovertext\": [\"Onondaga\", \"Onondaga\", \"Onondaga\", \"Onondaga\", \"Onondaga\", \"Onondaga\", \"Onondaga\", \"Onondaga\", \"Onondaga\", \"Onondaga\", \"Onondaga\", \"Onondaga\", \"Onondaga\", \"Onondaga\", \"Onondaga\", \"Onondaga\", \"Onondaga\"], \"legendgroup\": \"District=Onondaga\", \"line\": {\"color\": \"#EF553B\", \"dash\": \"solid\"}, \"mode\": \"lines\", \"name\": \"District=Onondaga\", \"showlegend\": true, \"type\": \"scatter\", \"x\": [2002, 2003, 2004, 2005, 2006, 2007, 2008, 2009, 2010, 2011, 2012, 2013, 2014, 2015, 2016, 2017, 2018], \"xaxis\": \"x\", \"y\": [380378, 425512, 473481, 496901, 497665, 493985, 534561, 648269, 758106, 825504, 867132, 894037, 891569, 888452, 865113, 845777, 813201], \"yaxis\": \"y\"}, {\"hoverlabel\": {\"namelength\": 0}, \"hovertemplate\": \"<b>%{hovertext}</b><br><br>District=Ontario<br>Year=%{x}<br>Total SNAP Persons=%{y}\", \"hovertext\": [\"Ontario\", \"Ontario\", \"Ontario\", \"Ontario\", \"Ontario\", \"Ontario\", \"Ontario\", \"Ontario\", \"Ontario\", \"Ontario\", \"Ontario\", \"Ontario\", \"Ontario\", \"Ontario\", \"Ontario\", \"Ontario\", \"Ontario\"], \"legendgroup\": \"District=Ontario\", \"line\": {\"color\": \"#00cc96\", \"dash\": \"solid\"}, \"mode\": \"lines\", \"name\": \"District=Ontario\", \"showlegend\": true, \"type\": \"scatter\", \"x\": [2002, 2003, 2004, 2005, 2006, 2007, 2008, 2009, 2010, 2011, 2012, 2013, 2014, 2015, 2016, 2017, 2018], \"xaxis\": \"x\", \"y\": [53553, 59568, 63837, 70295, 71500, 72563, 77347, 94130, 110312, 119126, 119682, 124221, 125259, 121069, 111485, 107471, 103556], \"yaxis\": \"y\"}, {\"hoverlabel\": {\"namelength\": 0}, \"hovertemplate\": \"<b>%{hovertext}</b><br><br>District=Orange<br>Year=%{x}<br>Total SNAP Persons=%{y}\", \"hovertext\": [\"Orange\", \"Orange\", \"Orange\", \"Orange\", \"Orange\", \"Orange\", \"Orange\", \"Orange\", \"Orange\", \"Orange\", \"Orange\", \"Orange\", \"Orange\", \"Orange\", \"Orange\", \"Orange\", \"Orange\"], \"legendgroup\": \"District=Orange\", \"line\": {\"color\": \"#ab63fa\", \"dash\": \"solid\"}, \"mode\": \"lines\", \"name\": \"District=Orange\", \"showlegend\": true, \"type\": \"scatter\", \"x\": [2002, 2003, 2004, 2005, 2006, 2007, 2008, 2009, 2010, 2011, 2012, 2013, 2014, 2015, 2016, 2017, 2018], \"xaxis\": \"x\", \"y\": [226116, 238355, 248792, 261682, 266835, 277730, 304191, 369618, 456503, 522262, 540028, 562717, 576458, 565340, 534397, 503593, 491973], \"yaxis\": \"y\"}, {\"hoverlabel\": {\"namelength\": 0}, \"hovertemplate\": \"<b>%{hovertext}</b><br><br>District=Orleans<br>Year=%{x}<br>Total SNAP Persons=%{y}\", \"hovertext\": [\"Orleans\", \"Orleans\", \"Orleans\", \"Orleans\", \"Orleans\", \"Orleans\", \"Orleans\", \"Orleans\", \"Orleans\", \"Orleans\", \"Orleans\", \"Orleans\", \"Orleans\", \"Orleans\", \"Orleans\", \"Orleans\", \"Orleans\"], \"legendgroup\": \"District=Orleans\", \"line\": {\"color\": \"#FFA15A\", \"dash\": \"solid\"}, \"mode\": \"lines\", \"name\": \"District=Orleans\", \"showlegend\": true, \"type\": \"scatter\", \"x\": [2002, 2003, 2004, 2005, 2006, 2007, 2008, 2009, 2010, 2011, 2012, 2013, 2014, 2015, 2016, 2017, 2018], \"xaxis\": \"x\", \"y\": [36317, 38522, 43019, 44794, 46559, 47083, 50199, 60645, 67670, 70397, 71001, 74425, 76790, 73957, 72312, 71892, 68722], \"yaxis\": \"y\"}, {\"hoverlabel\": {\"namelength\": 0}, \"hovertemplate\": \"<b>%{hovertext}</b><br><br>District=Oswego<br>Year=%{x}<br>Total SNAP Persons=%{y}\", \"hovertext\": [\"Oswego\", \"Oswego\", \"Oswego\", \"Oswego\", \"Oswego\", \"Oswego\", \"Oswego\", \"Oswego\", \"Oswego\", \"Oswego\", \"Oswego\", \"Oswego\", \"Oswego\", \"Oswego\", \"Oswego\", \"Oswego\", \"Oswego\"], \"legendgroup\": \"District=Oswego\", \"line\": {\"color\": \"#19d3f3\", \"dash\": \"solid\"}, \"mode\": \"lines\", \"name\": \"District=Oswego\", \"showlegend\": true, \"type\": \"scatter\", \"x\": [2002, 2003, 2004, 2005, 2006, 2007, 2008, 2009, 2010, 2011, 2012, 2013, 2014, 2015, 2016, 2017, 2018], \"xaxis\": \"x\", \"y\": [106720, 122197, 127833, 132441, 135974, 134800, 149385, 188626, 222311, 237820, 243330, 247010, 248328, 238550, 232388, 229146, 221845], \"yaxis\": \"y\"}, {\"hoverlabel\": {\"namelength\": 0}, \"hovertemplate\": \"<b>%{hovertext}</b><br><br>District=Otsego<br>Year=%{x}<br>Total SNAP Persons=%{y}\", \"hovertext\": [\"Otsego\", \"Otsego\", \"Otsego\", \"Otsego\", \"Otsego\", \"Otsego\", \"Otsego\", \"Otsego\", \"Otsego\", \"Otsego\", \"Otsego\", \"Otsego\", \"Otsego\", \"Otsego\", \"Otsego\", \"Otsego\", \"Otsego\"], \"legendgroup\": \"District=Otsego\", \"line\": {\"color\": \"#FF6692\", \"dash\": \"solid\"}, \"mode\": \"lines\", \"name\": \"District=Otsego\", \"showlegend\": true, \"type\": \"scatter\", \"x\": [2002, 2003, 2004, 2005, 2006, 2007, 2008, 2009, 2010, 2011, 2012, 2013, 2014, 2015, 2016, 2017, 2018], \"xaxis\": \"x\", \"y\": [29841, 34623, 37875, 39554, 40178, 40420, 45171, 58386, 67402, 72590, 74466, 75789, 74924, 73699, 69661, 69654, 68855], \"yaxis\": \"y\"}, {\"hoverlabel\": {\"namelength\": 0}, \"hovertemplate\": \"<b>%{hovertext}</b><br><br>District=Putnam<br>Year=%{x}<br>Total SNAP Persons=%{y}\", \"hovertext\": [\"Putnam\", \"Putnam\", \"Putnam\", \"Putnam\", \"Putnam\", \"Putnam\", \"Putnam\", \"Putnam\", \"Putnam\", \"Putnam\", \"Putnam\", \"Putnam\", \"Putnam\", \"Putnam\", \"Putnam\", \"Putnam\", \"Putnam\"], \"legendgroup\": \"District=Putnam\", \"line\": {\"color\": \"#B6E880\", \"dash\": \"solid\"}, \"mode\": \"lines\", \"name\": \"District=Putnam\", \"showlegend\": true, \"type\": \"scatter\", \"x\": [2002, 2003, 2004, 2005, 2006, 2007, 2008, 2009, 2010, 2011, 2012, 2013, 2014, 2015, 2016, 2017, 2018], \"xaxis\": \"x\", \"y\": [8561, 9677, 10391, 11153, 11460, 11911, 12560, 17370, 21350, 24989, 29096, 32491, 33537, 32161, 31183, 29608, 27011], \"yaxis\": \"y\"}, {\"hoverlabel\": {\"namelength\": 0}, \"hovertemplate\": \"<b>%{hovertext}</b><br><br>District=Rensselaer<br>Year=%{x}<br>Total SNAP Persons=%{y}\", \"hovertext\": [\"Rensselaer\", \"Rensselaer\", \"Rensselaer\", \"Rensselaer\", \"Rensselaer\", \"Rensselaer\", \"Rensselaer\", \"Rensselaer\", \"Rensselaer\", \"Rensselaer\", \"Rensselaer\", \"Rensselaer\", \"Rensselaer\", \"Rensselaer\", \"Rensselaer\", \"Rensselaer\", \"Rensselaer\"], \"legendgroup\": \"District=Rensselaer\", \"line\": {\"color\": \"#FF97FF\", \"dash\": \"solid\"}, \"mode\": \"lines\", \"name\": \"District=Rensselaer\", \"showlegend\": true, \"type\": \"scatter\", \"x\": [2002, 2003, 2004, 2005, 2006, 2007, 2008, 2009, 2010, 2011, 2012, 2013, 2014, 2015, 2016, 2017, 2018], \"xaxis\": \"x\", \"y\": [103865, 108272, 119159, 127978, 134932, 140512, 156928, 183626, 208993, 220811, 223967, 229191, 226950, 217239, 203532, 191089, 183878], \"yaxis\": \"y\"}, {\"hoverlabel\": {\"namelength\": 0}, \"hovertemplate\": \"<b>%{hovertext}</b><br><br>District=Rockland<br>Year=%{x}<br>Total SNAP Persons=%{y}\", \"hovertext\": [\"Rockland\", \"Rockland\", \"Rockland\", \"Rockland\", \"Rockland\", \"Rockland\", \"Rockland\", \"Rockland\", \"Rockland\", \"Rockland\", \"Rockland\", \"Rockland\", \"Rockland\", \"Rockland\", \"Rockland\", \"Rockland\", \"Rockland\"], \"legendgroup\": \"District=Rockland\", \"line\": {\"color\": \"#FECB52\", \"dash\": \"solid\"}, \"mode\": \"lines\", \"name\": \"District=Rockland\", \"showlegend\": true, \"type\": \"scatter\", \"x\": [2002, 2003, 2004, 2005, 2006, 2007, 2008, 2009, 2010, 2011, 2012, 2013, 2014, 2015, 2016, 2017, 2018], \"xaxis\": \"x\", \"y\": [187087, 199563, 213939, 236162, 250371, 260782, 285201, 341186, 409939, 476932, 524035, 555063, 570413, 567464, 547904, 532757, 513673], \"yaxis\": \"y\"}, {\"hoverlabel\": {\"namelength\": 0}, \"hovertemplate\": \"<b>%{hovertext}</b><br><br>District=Saratoga<br>Year=%{x}<br>Total SNAP Persons=%{y}\", \"hovertext\": [\"Saratoga\", \"Saratoga\", \"Saratoga\", \"Saratoga\", \"Saratoga\", \"Saratoga\", \"Saratoga\", \"Saratoga\", \"Saratoga\", \"Saratoga\", \"Saratoga\", \"Saratoga\", \"Saratoga\", \"Saratoga\", \"Saratoga\", \"Saratoga\", \"Saratoga\"], \"legendgroup\": \"District=Saratoga\", \"line\": {\"color\": \"#636efa\", \"dash\": \"solid\"}, \"mode\": \"lines\", \"name\": \"District=Saratoga\", \"showlegend\": true, \"type\": \"scatter\", \"x\": [2002, 2003, 2004, 2005, 2006, 2007, 2008, 2009, 2010, 2011, 2012, 2013, 2014, 2015, 2016, 2017, 2018], \"xaxis\": \"x\", \"y\": [65964, 75411, 84080, 90099, 93373, 95014, 108238, 141051, 172297, 187897, 190855, 197051, 196376, 183616, 172232, 165826, 156341], \"yaxis\": \"y\"}, {\"hoverlabel\": {\"namelength\": 0}, \"hovertemplate\": \"<b>%{hovertext}</b><br><br>District=Schenectady<br>Year=%{x}<br>Total SNAP Persons=%{y}\", \"hovertext\": [\"Schenectady\", \"Schenectady\", \"Schenectady\", \"Schenectady\", \"Schenectady\", \"Schenectady\", \"Schenectady\", \"Schenectady\", \"Schenectady\", \"Schenectady\", \"Schenectady\", \"Schenectady\", \"Schenectady\", \"Schenectady\", \"Schenectady\", \"Schenectady\", \"Schenectady\"], \"legendgroup\": \"District=Schenectady\", \"line\": {\"color\": \"#EF553B\", \"dash\": \"solid\"}, \"mode\": \"lines\", \"name\": \"District=Schenectady\", \"showlegend\": true, \"type\": \"scatter\", \"x\": [2002, 2003, 2004, 2005, 2006, 2007, 2008, 2009, 2010, 2011, 2012, 2013, 2014, 2015, 2016, 2017, 2018], \"xaxis\": \"x\", \"y\": [109225, 127900, 143972, 153683, 158314, 159734, 164800, 200136, 250715, 278367, 291312, 301923, 307108, 296418, 279038, 265513, 252803], \"yaxis\": \"y\"}, {\"hoverlabel\": {\"namelength\": 0}, \"hovertemplate\": \"<b>%{hovertext}</b><br><br>District=Schoharie<br>Year=%{x}<br>Total SNAP Persons=%{y}\", \"hovertext\": [\"Schoharie\", \"Schoharie\", \"Schoharie\", \"Schoharie\", \"Schoharie\", \"Schoharie\", \"Schoharie\", \"Schoharie\", \"Schoharie\", \"Schoharie\", \"Schoharie\", \"Schoharie\", \"Schoharie\", \"Schoharie\", \"Schoharie\", \"Schoharie\", \"Schoharie\"], \"legendgroup\": \"District=Schoharie\", \"line\": {\"color\": \"#00cc96\", \"dash\": \"solid\"}, \"mode\": \"lines\", \"name\": \"District=Schoharie\", \"showlegend\": true, \"type\": \"scatter\", \"x\": [2002, 2003, 2004, 2005, 2006, 2007, 2008, 2009, 2010, 2011, 2012, 2013, 2014, 2015, 2016, 2017, 2018], \"xaxis\": \"x\", \"y\": [19519, 21645, 22726, 22898, 23253, 23924, 26741, 34174, 41035, 45077, 44968, 46698, 46557, 45187, 43595, 42870, 41754], \"yaxis\": \"y\"}, {\"hoverlabel\": {\"namelength\": 0}, \"hovertemplate\": \"<b>%{hovertext}</b><br><br>District=Schuyler<br>Year=%{x}<br>Total SNAP Persons=%{y}\", \"hovertext\": [\"Schuyler\", \"Schuyler\", \"Schuyler\", \"Schuyler\", \"Schuyler\", \"Schuyler\", \"Schuyler\", \"Schuyler\", \"Schuyler\", \"Schuyler\", \"Schuyler\", \"Schuyler\", \"Schuyler\", \"Schuyler\", \"Schuyler\", \"Schuyler\", \"Schuyler\"], \"legendgroup\": \"District=Schuyler\", \"line\": {\"color\": \"#ab63fa\", \"dash\": \"solid\"}, \"mode\": \"lines\", \"name\": \"District=Schuyler\", \"showlegend\": true, \"type\": \"scatter\", \"x\": [2002, 2003, 2004, 2005, 2006, 2007, 2008, 2009, 2010, 2011, 2012, 2013, 2014, 2015, 2016, 2017, 2018], \"xaxis\": \"x\", \"y\": [12434, 14084, 16729, 19096, 18074, 17245, 19368, 24471, 28231, 31119, 31117, 31272, 31215, 29978, 28095, 27551, 26011], \"yaxis\": \"y\"}, {\"hoverlabel\": {\"namelength\": 0}, \"hovertemplate\": \"<b>%{hovertext}</b><br><br>District=Seneca<br>Year=%{x}<br>Total SNAP Persons=%{y}\", \"hovertext\": [\"Seneca\", \"Seneca\", \"Seneca\", \"Seneca\", \"Seneca\", \"Seneca\", \"Seneca\", \"Seneca\", \"Seneca\", \"Seneca\", \"Seneca\", \"Seneca\", \"Seneca\", \"Seneca\", \"Seneca\", \"Seneca\", \"Seneca\"], \"legendgroup\": \"District=Seneca\", \"line\": {\"color\": \"#FFA15A\", \"dash\": \"solid\"}, \"mode\": \"lines\", \"name\": \"District=Seneca\", \"showlegend\": true, \"type\": \"scatter\", \"x\": [2002, 2003, 2004, 2005, 2006, 2007, 2008, 2009, 2010, 2011, 2012, 2013, 2014, 2015, 2016, 2017, 2018], \"xaxis\": \"x\", \"y\": [20633, 23028, 24425, 24943, 24059, 22504, 23277, 29466, 33333, 35461, 37617, 42593, 44163, 41836, 40261, 38510, 36234], \"yaxis\": \"y\"}, {\"hoverlabel\": {\"namelength\": 0}, \"hovertemplate\": \"<b>%{hovertext}</b><br><br>District=St. Lawrence<br>Year=%{x}<br>Total SNAP Persons=%{y}\", \"hovertext\": [\"St. Lawrence\", \"St. Lawrence\", \"St. Lawrence\", \"St. Lawrence\", \"St. Lawrence\", \"St. Lawrence\", \"St. Lawrence\", \"St. Lawrence\", \"St. Lawrence\", \"St. Lawrence\", \"St. Lawrence\", \"St. Lawrence\", \"St. Lawrence\", \"St. Lawrence\", \"St. Lawrence\", \"St. Lawrence\", \"St. Lawrence\"], \"legendgroup\": \"District=St. Lawrence\", \"line\": {\"color\": \"#19d3f3\", \"dash\": \"solid\"}, \"mode\": \"lines\", \"name\": \"District=St. Lawrence\", \"showlegend\": true, \"type\": \"scatter\", \"x\": [2002, 2003, 2004, 2005, 2006, 2007, 2008, 2009, 2010, 2011, 2012, 2013, 2014, 2015, 2016, 2017, 2018], \"xaxis\": \"x\", \"y\": [89643, 97351, 115717, 123312, 122861, 124960, 134578, 163973, 188641, 198581, 200228, 204279, 204273, 197843, 188837, 183014, 174945], \"yaxis\": \"y\"}, {\"hoverlabel\": {\"namelength\": 0}, \"hovertemplate\": \"<b>%{hovertext}</b><br><br>District=Steuben<br>Year=%{x}<br>Total SNAP Persons=%{y}\", \"hovertext\": [\"Steuben\", \"Steuben\", \"Steuben\", \"Steuben\", \"Steuben\", \"Steuben\", \"Steuben\", \"Steuben\", \"Steuben\", \"Steuben\", \"Steuben\", \"Steuben\", \"Steuben\", \"Steuben\", \"Steuben\", \"Steuben\", \"Steuben\"], \"legendgroup\": \"District=Steuben\", \"line\": {\"color\": \"#FF6692\", \"dash\": \"solid\"}, \"mode\": \"lines\", \"name\": \"District=Steuben\", \"showlegend\": true, \"type\": \"scatter\", \"x\": [2002, 2003, 2004, 2005, 2006, 2007, 2008, 2009, 2010, 2011, 2012, 2013, 2014, 2015, 2016, 2017, 2018], \"xaxis\": \"x\", \"y\": [78043, 92148, 100809, 102819, 99801, 95939, 96214, 119557, 141332, 146623, 145541, 155203, 155299, 146340, 137309, 134333, 127791], \"yaxis\": \"y\"}, {\"hoverlabel\": {\"namelength\": 0}, \"hovertemplate\": \"<b>%{hovertext}</b><br><br>District=Suffolk<br>Year=%{x}<br>Total SNAP Persons=%{y}\", \"hovertext\": [\"Suffolk\", \"Suffolk\", \"Suffolk\", \"Suffolk\", \"Suffolk\", \"Suffolk\", \"Suffolk\", \"Suffolk\", \"Suffolk\", \"Suffolk\", \"Suffolk\", \"Suffolk\", \"Suffolk\", \"Suffolk\", \"Suffolk\", \"Suffolk\", \"Suffolk\"], \"legendgroup\": \"District=Suffolk\", \"line\": {\"color\": \"#B6E880\", \"dash\": \"solid\"}, \"mode\": \"lines\", \"name\": \"District=Suffolk\", \"showlegend\": true, \"type\": \"scatter\", \"x\": [2002, 2003, 2004, 2005, 2006, 2007, 2008, 2009, 2010, 2011, 2012, 2013, 2014, 2015, 2016, 2017, 2018], \"xaxis\": \"x\", \"y\": [332689, 366221, 399281, 439073, 452529, 474330, 542199, 754946, 997259, 1194867, 1344634, 1434631, 1539957, 1563634, 1480891, 1346630, 1212861], \"yaxis\": \"y\"}, {\"hoverlabel\": {\"namelength\": 0}, \"hovertemplate\": \"<b>%{hovertext}</b><br><br>District=Sullivan<br>Year=%{x}<br>Total SNAP Persons=%{y}\", \"hovertext\": [\"Sullivan\", \"Sullivan\", \"Sullivan\", \"Sullivan\", \"Sullivan\", \"Sullivan\", \"Sullivan\", \"Sullivan\", \"Sullivan\", \"Sullivan\", \"Sullivan\", \"Sullivan\", \"Sullivan\", \"Sullivan\", \"Sullivan\", \"Sullivan\", \"Sullivan\"], \"legendgroup\": \"District=Sullivan\", \"line\": {\"color\": \"#FF97FF\", \"dash\": \"solid\"}, \"mode\": \"lines\", \"name\": \"District=Sullivan\", \"showlegend\": true, \"type\": \"scatter\", \"x\": [2002, 2003, 2004, 2005, 2006, 2007, 2008, 2009, 2010, 2011, 2012, 2013, 2014, 2015, 2016, 2017, 2018], \"xaxis\": \"x\", \"y\": [54163, 60381, 66630, 72806, 77390, 80419, 85842, 104682, 126105, 135995, 152927, 161838, 149503, 149190, 158849, 157369, 154184], \"yaxis\": \"y\"}, {\"hoverlabel\": {\"namelength\": 0}, \"hovertemplate\": \"<b>%{hovertext}</b><br><br>District=Tioga<br>Year=%{x}<br>Total SNAP Persons=%{y}\", \"hovertext\": [\"Tioga\", \"Tioga\", \"Tioga\", \"Tioga\", \"Tioga\", \"Tioga\", \"Tioga\", \"Tioga\", \"Tioga\", \"Tioga\", \"Tioga\", \"Tioga\", \"Tioga\", \"Tioga\", \"Tioga\", \"Tioga\", \"Tioga\"], \"legendgroup\": \"District=Tioga\", \"line\": {\"color\": \"#FECB52\", \"dash\": \"solid\"}, \"mode\": \"lines\", \"name\": \"District=Tioga\", \"showlegend\": true, \"type\": \"scatter\", \"x\": [2002, 2003, 2004, 2005, 2006, 2007, 2008, 2009, 2010, 2011, 2012, 2013, 2014, 2015, 2016, 2017, 2018], \"xaxis\": \"x\", \"y\": [30404, 37626, 41514, 45378, 47992, 46973, 50141, 64285, 73416, 78282, 75278, 77532, 77784, 76658, 72557, 66995, 62828], \"yaxis\": \"y\"}, {\"hoverlabel\": {\"namelength\": 0}, \"hovertemplate\": \"<b>%{hovertext}</b><br><br>District=Tompkins<br>Year=%{x}<br>Total SNAP Persons=%{y}\", \"hovertext\": [\"Tompkins\", \"Tompkins\", \"Tompkins\", \"Tompkins\", \"Tompkins\", \"Tompkins\", \"Tompkins\", \"Tompkins\", \"Tompkins\", \"Tompkins\", \"Tompkins\", \"Tompkins\", \"Tompkins\", \"Tompkins\", \"Tompkins\", \"Tompkins\", \"Tompkins\"], \"legendgroup\": \"District=Tompkins\", \"line\": {\"color\": \"#636efa\", \"dash\": \"solid\"}, \"mode\": \"lines\", \"name\": \"District=Tompkins\", \"showlegend\": true, \"type\": \"scatter\", \"x\": [2002, 2003, 2004, 2005, 2006, 2007, 2008, 2009, 2010, 2011, 2012, 2013, 2014, 2015, 2016, 2017, 2018], \"xaxis\": \"x\", \"y\": [45569, 51280, 57927, 61312, 65081, 67449, 72967, 86518, 98809, 105389, 109453, 113041, 112089, 106526, 100773, 96935, 91847], \"yaxis\": \"y\"}, {\"hoverlabel\": {\"namelength\": 0}, \"hovertemplate\": \"<b>%{hovertext}</b><br><br>District=Ulster<br>Year=%{x}<br>Total SNAP Persons=%{y}\", \"hovertext\": [\"Ulster\", \"Ulster\", \"Ulster\", \"Ulster\", \"Ulster\", \"Ulster\", \"Ulster\", \"Ulster\", \"Ulster\", \"Ulster\", \"Ulster\", \"Ulster\", \"Ulster\", \"Ulster\", \"Ulster\", \"Ulster\", \"Ulster\"], \"legendgroup\": \"District=Ulster\", \"line\": {\"color\": \"#EF553B\", \"dash\": \"solid\"}, \"mode\": \"lines\", \"name\": \"District=Ulster\", \"showlegend\": true, \"type\": \"scatter\", \"x\": [2002, 2003, 2004, 2005, 2006, 2007, 2008, 2009, 2010, 2011, 2012, 2013, 2014, 2015, 2016, 2017, 2018], \"xaxis\": \"x\", \"y\": [78824, 87222, 92794, 100992, 109456, 114960, 129509, 173103, 215936, 239933, 250496, 258989, 262015, 255531, 240579, 224709, 206041], \"yaxis\": \"y\"}, {\"hoverlabel\": {\"namelength\": 0}, \"hovertemplate\": \"<b>%{hovertext}</b><br><br>District=Warren<br>Year=%{x}<br>Total SNAP Persons=%{y}\", \"hovertext\": [\"Warren\", \"Warren\", \"Warren\", \"Warren\", \"Warren\", \"Warren\", \"Warren\", \"Warren\", \"Warren\", \"Warren\", \"Warren\", \"Warren\", \"Warren\", \"Warren\", \"Warren\", \"Warren\", \"Warren\"], \"legendgroup\": \"District=Warren\", \"line\": {\"color\": \"#00cc96\", \"dash\": \"solid\"}, \"mode\": \"lines\", \"name\": \"District=Warren\", \"showlegend\": true, \"type\": \"scatter\", \"x\": [2002, 2003, 2004, 2005, 2006, 2007, 2008, 2009, 2010, 2011, 2012, 2013, 2014, 2015, 2016, 2017, 2018], \"xaxis\": \"x\", \"y\": [37511, 40001, 42977, 46396, 47190, 46615, 54050, 72105, 87440, 90636, 88556, 89678, 90831, 87759, 86430, 81838, 78023], \"yaxis\": \"y\"}, {\"hoverlabel\": {\"namelength\": 0}, \"hovertemplate\": \"<b>%{hovertext}</b><br><br>District=Washington<br>Year=%{x}<br>Total SNAP Persons=%{y}\", \"hovertext\": [\"Washington\", \"Washington\", \"Washington\", \"Washington\", \"Washington\", \"Washington\", \"Washington\", \"Washington\", \"Washington\", \"Washington\", \"Washington\", \"Washington\", \"Washington\", \"Washington\", \"Washington\", \"Washington\", \"Washington\"], \"legendgroup\": \"District=Washington\", \"line\": {\"color\": \"#ab63fa\", \"dash\": \"solid\"}, \"mode\": \"lines\", \"name\": \"District=Washington\", \"showlegend\": true, \"type\": \"scatter\", \"x\": [2002, 2003, 2004, 2005, 2006, 2007, 2008, 2009, 2010, 2011, 2012, 2013, 2014, 2015, 2016, 2017, 2018], \"xaxis\": \"x\", \"y\": [40515, 46030, 47784, 49138, 50404, 52739, 58745, 76237, 85345, 88294, 91013, 94338, 94626, 92494, 87377, 83904, 78719], \"yaxis\": \"y\"}, {\"hoverlabel\": {\"namelength\": 0}, \"hovertemplate\": \"<b>%{hovertext}</b><br><br>District=Wayne<br>Year=%{x}<br>Total SNAP Persons=%{y}\", \"hovertext\": [\"Wayne\", \"Wayne\", \"Wayne\", \"Wayne\", \"Wayne\", \"Wayne\", \"Wayne\", \"Wayne\", \"Wayne\", \"Wayne\", \"Wayne\", \"Wayne\", \"Wayne\", \"Wayne\", \"Wayne\", \"Wayne\", \"Wayne\"], \"legendgroup\": \"District=Wayne\", \"line\": {\"color\": \"#FFA15A\", \"dash\": \"solid\"}, \"mode\": \"lines\", \"name\": \"District=Wayne\", \"showlegend\": true, \"type\": \"scatter\", \"x\": [2002, 2003, 2004, 2005, 2006, 2007, 2008, 2009, 2010, 2011, 2012, 2013, 2014, 2015, 2016, 2017, 2018], \"xaxis\": \"x\", \"y\": [56498, 64807, 67914, 73235, 74048, 74837, 81063, 96808, 110633, 118599, 125948, 131449, 130806, 126381, 119158, 112486, 106169], \"yaxis\": \"y\"}, {\"hoverlabel\": {\"namelength\": 0}, \"hovertemplate\": \"<b>%{hovertext}</b><br><br>District=Westchester<br>Year=%{x}<br>Total SNAP Persons=%{y}\", \"hovertext\": [\"Westchester\", \"Westchester\", \"Westchester\", \"Westchester\", \"Westchester\", \"Westchester\", \"Westchester\", \"Westchester\", \"Westchester\", \"Westchester\", \"Westchester\", \"Westchester\", \"Westchester\", \"Westchester\", \"Westchester\", \"Westchester\", \"Westchester\"], \"legendgroup\": \"District=Westchester\", \"line\": {\"color\": \"#19d3f3\", \"dash\": \"solid\"}, \"mode\": \"lines\", \"name\": \"District=Westchester\", \"showlegend\": true, \"type\": \"scatter\", \"x\": [2002, 2003, 2004, 2005, 2006, 2007, 2008, 2009, 2010, 2011, 2012, 2013, 2014, 2015, 2016, 2017, 2018], \"xaxis\": \"x\", \"y\": [381584, 407393, 440795, 476935, 475680, 485509, 532822, 651574, 784502, 885030, 941956, 980048, 1010886, 1032598, 1006401, 957920, 930401], \"yaxis\": \"y\"}, {\"hoverlabel\": {\"namelength\": 0}, \"hovertemplate\": \"<b>%{hovertext}</b><br><br>District=Wyoming<br>Year=%{x}<br>Total SNAP Persons=%{y}\", \"hovertext\": [\"Wyoming\", \"Wyoming\", \"Wyoming\", \"Wyoming\", \"Wyoming\", \"Wyoming\", \"Wyoming\", \"Wyoming\", \"Wyoming\", \"Wyoming\", \"Wyoming\", \"Wyoming\", \"Wyoming\", \"Wyoming\", \"Wyoming\", \"Wyoming\", \"Wyoming\"], \"legendgroup\": \"District=Wyoming\", \"line\": {\"color\": \"#FF6692\", \"dash\": \"solid\"}, \"mode\": \"lines\", \"name\": \"District=Wyoming\", \"showlegend\": true, \"type\": \"scatter\", \"x\": [2002, 2003, 2004, 2005, 2006, 2007, 2008, 2009, 2010, 2011, 2012, 2013, 2014, 2015, 2016, 2017, 2018], \"xaxis\": \"x\", \"y\": [18702, 19997, 22096, 22385, 23479, 25046, 27341, 35031, 38474, 39549, 39033, 41641, 41021, 38264, 34649, 31967, 30103], \"yaxis\": \"y\"}, {\"hoverlabel\": {\"namelength\": 0}, \"hovertemplate\": \"<b>%{hovertext}</b><br><br>District=Yates<br>Year=%{x}<br>Total SNAP Persons=%{y}\", \"hovertext\": [\"Yates\", \"Yates\", \"Yates\", \"Yates\", \"Yates\", \"Yates\", \"Yates\", \"Yates\", \"Yates\", \"Yates\", \"Yates\", \"Yates\", \"Yates\", \"Yates\", \"Yates\", \"Yates\", \"Yates\"], \"legendgroup\": \"District=Yates\", \"line\": {\"color\": \"#B6E880\", \"dash\": \"solid\"}, \"mode\": \"lines\", \"name\": \"District=Yates\", \"showlegend\": true, \"type\": \"scatter\", \"x\": [2002, 2003, 2004, 2005, 2006, 2007, 2008, 2009, 2010, 2011, 2012, 2013, 2014, 2015, 2016, 2017, 2018], \"xaxis\": \"x\", \"y\": [17311, 20683, 23171, 26403, 25960, 24499, 24554, 31803, 34402, 34943, 33276, 32951, 32499, 32595, 30375, 29597, 27783], \"yaxis\": \"y\"}],\n",
       "                        {\"height\": 600, \"legend\": {\"tracegroupgap\": 0}, \"margin\": {\"t\": 60}, \"showlegend\": false, \"template\": {\"data\": {\"bar\": [{\"error_x\": {\"color\": \"#2a3f5f\"}, \"error_y\": {\"color\": \"#2a3f5f\"}, \"marker\": {\"line\": {\"color\": \"#E5ECF6\", \"width\": 0.5}}, \"type\": \"bar\"}], \"barpolar\": [{\"marker\": {\"line\": {\"color\": \"#E5ECF6\", \"width\": 0.5}}, \"type\": \"barpolar\"}], \"carpet\": [{\"aaxis\": {\"endlinecolor\": \"#2a3f5f\", \"gridcolor\": \"white\", \"linecolor\": \"white\", \"minorgridcolor\": \"white\", \"startlinecolor\": \"#2a3f5f\"}, \"baxis\": {\"endlinecolor\": \"#2a3f5f\", \"gridcolor\": \"white\", \"linecolor\": \"white\", \"minorgridcolor\": \"white\", \"startlinecolor\": \"#2a3f5f\"}, \"type\": \"carpet\"}], \"choropleth\": [{\"colorbar\": {\"outlinewidth\": 0, \"ticks\": \"\"}, \"type\": \"choropleth\"}], \"contour\": [{\"colorbar\": {\"outlinewidth\": 0, \"ticks\": \"\"}, \"colorscale\": [[0.0, \"#0d0887\"], [0.1111111111111111, \"#46039f\"], [0.2222222222222222, \"#7201a8\"], [0.3333333333333333, \"#9c179e\"], [0.4444444444444444, \"#bd3786\"], [0.5555555555555556, \"#d8576b\"], [0.6666666666666666, \"#ed7953\"], [0.7777777777777778, \"#fb9f3a\"], [0.8888888888888888, \"#fdca26\"], [1.0, \"#f0f921\"]], \"type\": \"contour\"}], \"contourcarpet\": [{\"colorbar\": {\"outlinewidth\": 0, \"ticks\": \"\"}, \"type\": \"contourcarpet\"}], \"heatmap\": [{\"colorbar\": {\"outlinewidth\": 0, \"ticks\": \"\"}, \"colorscale\": [[0.0, \"#0d0887\"], [0.1111111111111111, \"#46039f\"], [0.2222222222222222, \"#7201a8\"], [0.3333333333333333, \"#9c179e\"], [0.4444444444444444, \"#bd3786\"], [0.5555555555555556, \"#d8576b\"], [0.6666666666666666, \"#ed7953\"], [0.7777777777777778, \"#fb9f3a\"], [0.8888888888888888, \"#fdca26\"], [1.0, \"#f0f921\"]], \"type\": \"heatmap\"}], \"heatmapgl\": [{\"colorbar\": {\"outlinewidth\": 0, \"ticks\": \"\"}, \"colorscale\": [[0.0, \"#0d0887\"], [0.1111111111111111, \"#46039f\"], [0.2222222222222222, \"#7201a8\"], [0.3333333333333333, \"#9c179e\"], [0.4444444444444444, \"#bd3786\"], [0.5555555555555556, \"#d8576b\"], [0.6666666666666666, \"#ed7953\"], [0.7777777777777778, \"#fb9f3a\"], [0.8888888888888888, \"#fdca26\"], [1.0, \"#f0f921\"]], \"type\": \"heatmapgl\"}], \"histogram\": [{\"marker\": {\"colorbar\": {\"outlinewidth\": 0, \"ticks\": \"\"}}, \"type\": \"histogram\"}], \"histogram2d\": [{\"colorbar\": {\"outlinewidth\": 0, \"ticks\": \"\"}, \"colorscale\": [[0.0, \"#0d0887\"], [0.1111111111111111, \"#46039f\"], [0.2222222222222222, \"#7201a8\"], [0.3333333333333333, \"#9c179e\"], [0.4444444444444444, \"#bd3786\"], [0.5555555555555556, \"#d8576b\"], [0.6666666666666666, \"#ed7953\"], [0.7777777777777778, \"#fb9f3a\"], [0.8888888888888888, \"#fdca26\"], [1.0, \"#f0f921\"]], \"type\": \"histogram2d\"}], \"histogram2dcontour\": [{\"colorbar\": {\"outlinewidth\": 0, \"ticks\": \"\"}, \"colorscale\": [[0.0, \"#0d0887\"], [0.1111111111111111, \"#46039f\"], [0.2222222222222222, \"#7201a8\"], [0.3333333333333333, \"#9c179e\"], [0.4444444444444444, \"#bd3786\"], [0.5555555555555556, \"#d8576b\"], [0.6666666666666666, \"#ed7953\"], [0.7777777777777778, \"#fb9f3a\"], [0.8888888888888888, \"#fdca26\"], [1.0, \"#f0f921\"]], \"type\": \"histogram2dcontour\"}], \"mesh3d\": [{\"colorbar\": {\"outlinewidth\": 0, \"ticks\": \"\"}, \"type\": \"mesh3d\"}], \"parcoords\": [{\"line\": {\"colorbar\": {\"outlinewidth\": 0, \"ticks\": \"\"}}, \"type\": \"parcoords\"}], \"pie\": [{\"automargin\": true, \"type\": \"pie\"}], \"scatter\": [{\"marker\": {\"colorbar\": {\"outlinewidth\": 0, \"ticks\": \"\"}}, \"type\": \"scatter\"}], \"scatter3d\": [{\"line\": {\"colorbar\": {\"outlinewidth\": 0, \"ticks\": \"\"}}, \"marker\": {\"colorbar\": {\"outlinewidth\": 0, \"ticks\": \"\"}}, \"type\": \"scatter3d\"}], \"scattercarpet\": [{\"marker\": {\"colorbar\": {\"outlinewidth\": 0, \"ticks\": \"\"}}, \"type\": \"scattercarpet\"}], \"scattergeo\": [{\"marker\": {\"colorbar\": {\"outlinewidth\": 0, \"ticks\": \"\"}}, \"type\": \"scattergeo\"}], \"scattergl\": [{\"marker\": {\"colorbar\": {\"outlinewidth\": 0, \"ticks\": \"\"}}, \"type\": \"scattergl\"}], \"scattermapbox\": [{\"marker\": {\"colorbar\": {\"outlinewidth\": 0, \"ticks\": \"\"}}, \"type\": \"scattermapbox\"}], \"scatterpolar\": [{\"marker\": {\"colorbar\": {\"outlinewidth\": 0, \"ticks\": \"\"}}, \"type\": \"scatterpolar\"}], \"scatterpolargl\": [{\"marker\": {\"colorbar\": {\"outlinewidth\": 0, \"ticks\": \"\"}}, \"type\": \"scatterpolargl\"}], \"scatterternary\": [{\"marker\": {\"colorbar\": {\"outlinewidth\": 0, \"ticks\": \"\"}}, \"type\": \"scatterternary\"}], \"surface\": [{\"colorbar\": {\"outlinewidth\": 0, \"ticks\": \"\"}, \"colorscale\": [[0.0, \"#0d0887\"], [0.1111111111111111, \"#46039f\"], [0.2222222222222222, \"#7201a8\"], [0.3333333333333333, \"#9c179e\"], [0.4444444444444444, \"#bd3786\"], [0.5555555555555556, \"#d8576b\"], [0.6666666666666666, \"#ed7953\"], [0.7777777777777778, \"#fb9f3a\"], [0.8888888888888888, \"#fdca26\"], [1.0, \"#f0f921\"]], \"type\": \"surface\"}], \"table\": [{\"cells\": {\"fill\": {\"color\": \"#EBF0F8\"}, \"line\": {\"color\": \"white\"}}, \"header\": {\"fill\": {\"color\": \"#C8D4E3\"}, \"line\": {\"color\": \"white\"}}, \"type\": \"table\"}]}, \"layout\": {\"annotationdefaults\": {\"arrowcolor\": \"#2a3f5f\", \"arrowhead\": 0, \"arrowwidth\": 1}, \"coloraxis\": {\"colorbar\": {\"outlinewidth\": 0, \"ticks\": \"\"}}, \"colorscale\": {\"diverging\": [[0, \"#8e0152\"], [0.1, \"#c51b7d\"], [0.2, \"#de77ae\"], [0.3, \"#f1b6da\"], [0.4, \"#fde0ef\"], [0.5, \"#f7f7f7\"], [0.6, \"#e6f5d0\"], [0.7, \"#b8e186\"], [0.8, \"#7fbc41\"], [0.9, \"#4d9221\"], [1, \"#276419\"]], \"sequential\": [[0.0, \"#0d0887\"], [0.1111111111111111, \"#46039f\"], [0.2222222222222222, \"#7201a8\"], [0.3333333333333333, \"#9c179e\"], [0.4444444444444444, \"#bd3786\"], [0.5555555555555556, \"#d8576b\"], [0.6666666666666666, \"#ed7953\"], [0.7777777777777778, \"#fb9f3a\"], [0.8888888888888888, \"#fdca26\"], [1.0, \"#f0f921\"]], \"sequentialminus\": [[0.0, \"#0d0887\"], [0.1111111111111111, \"#46039f\"], [0.2222222222222222, \"#7201a8\"], [0.3333333333333333, \"#9c179e\"], [0.4444444444444444, \"#bd3786\"], [0.5555555555555556, \"#d8576b\"], [0.6666666666666666, \"#ed7953\"], [0.7777777777777778, \"#fb9f3a\"], [0.8888888888888888, \"#fdca26\"], [1.0, \"#f0f921\"]]}, \"colorway\": [\"#636efa\", \"#EF553B\", \"#00cc96\", \"#ab63fa\", \"#FFA15A\", \"#19d3f3\", \"#FF6692\", \"#B6E880\", \"#FF97FF\", \"#FECB52\"], \"font\": {\"color\": \"#2a3f5f\"}, \"geo\": {\"bgcolor\": \"white\", \"lakecolor\": \"white\", \"landcolor\": \"#E5ECF6\", \"showlakes\": true, \"showland\": true, \"subunitcolor\": \"white\"}, \"hoverlabel\": {\"align\": \"left\"}, \"hovermode\": \"closest\", \"mapbox\": {\"style\": \"light\"}, \"paper_bgcolor\": \"white\", \"plot_bgcolor\": \"#E5ECF6\", \"polar\": {\"angularaxis\": {\"gridcolor\": \"white\", \"linecolor\": \"white\", \"ticks\": \"\"}, \"bgcolor\": \"#E5ECF6\", \"radialaxis\": {\"gridcolor\": \"white\", \"linecolor\": \"white\", \"ticks\": \"\"}}, \"scene\": {\"xaxis\": {\"backgroundcolor\": \"#E5ECF6\", \"gridcolor\": \"white\", \"gridwidth\": 2, \"linecolor\": \"white\", \"showbackground\": true, \"ticks\": \"\", \"zerolinecolor\": \"white\"}, \"yaxis\": {\"backgroundcolor\": \"#E5ECF6\", \"gridcolor\": \"white\", \"gridwidth\": 2, \"linecolor\": \"white\", \"showbackground\": true, \"ticks\": \"\", \"zerolinecolor\": \"white\"}, \"zaxis\": {\"backgroundcolor\": \"#E5ECF6\", \"gridcolor\": \"white\", \"gridwidth\": 2, \"linecolor\": \"white\", \"showbackground\": true, \"ticks\": \"\", \"zerolinecolor\": \"white\"}}, \"shapedefaults\": {\"line\": {\"color\": \"#2a3f5f\"}}, \"ternary\": {\"aaxis\": {\"gridcolor\": \"white\", \"linecolor\": \"white\", \"ticks\": \"\"}, \"baxis\": {\"gridcolor\": \"white\", \"linecolor\": \"white\", \"ticks\": \"\"}, \"bgcolor\": \"#E5ECF6\", \"caxis\": {\"gridcolor\": \"white\", \"linecolor\": \"white\", \"ticks\": \"\"}}, \"title\": {\"x\": 0.05}, \"xaxis\": {\"automargin\": true, \"gridcolor\": \"white\", \"linecolor\": \"white\", \"ticks\": \"\", \"title\": {\"standoff\": 15}, \"zerolinecolor\": \"white\", \"zerolinewidth\": 2}, \"yaxis\": {\"automargin\": true, \"gridcolor\": \"white\", \"linecolor\": \"white\", \"ticks\": \"\", \"title\": {\"standoff\": 15}, \"zerolinecolor\": \"white\", \"zerolinewidth\": 2}}}, \"title\": {\"text\": \"New York Counties SNAP Trend from 2002-2019\"}, \"xaxis\": {\"anchor\": \"y\", \"domain\": [0.0, 1.0], \"rangeslider\": {\"visible\": true}, \"title\": {\"text\": \"Year\"}}, \"yaxis\": {\"anchor\": \"x\", \"domain\": [0.0, 1.0], \"title\": {\"text\": \"Total SNAP Participants in Millions\"}}},\n",
       "                        {\"responsive\": true}\n",
       "                    ).then(function(){\n",
       "                            \n",
       "var gd = document.getElementById('0e2fa9e7-1ec1-4918-8c33-28e085394c0e');\n",
       "var x = new MutationObserver(function (mutations, observer) {{\n",
       "        var display = window.getComputedStyle(gd).display;\n",
       "        if (!display || display === 'none') {{\n",
       "            console.log([gd, 'removed!']);\n",
       "            Plotly.purge(gd);\n",
       "            observer.disconnect();\n",
       "        }}\n",
       "}});\n",
       "\n",
       "// Listen for the removal of the full notebook cells\n",
       "var notebookContainer = gd.closest('#notebook-container');\n",
       "if (notebookContainer) {{\n",
       "    x.observe(notebookContainer, {childList: true});\n",
       "}}\n",
       "\n",
       "// Listen for the clearing of the current output cell\n",
       "var outputEl = gd.closest('.output');\n",
       "if (outputEl) {{\n",
       "    x.observe(outputEl, {childList: true});\n",
       "}}\n",
       "\n",
       "                        })\n",
       "                };\n",
       "                });\n",
       "            </script>\n",
       "        </div>"
      ]
     },
     "metadata": {},
     "output_type": "display_data"
    }
   ],
   "source": [
    "df_snap = SNAP.groupby([\"District\",\"Year\"]).sum()\n",
    "df_snap = df_snap.reset_index() \n",
    "\n",
    "fig = px.line(df_snap, x=\"Year\", y=\"Total SNAP Persons\", color=\"District\",\n",
    "              line_group=\"District\", hover_name=\"District\")\n",
    "fig.update_layout(title_text='New York Counties SNAP Trend from 2002-2019', showlegend=False,\n",
    "                   yaxis_title= \"Total SNAP Participants in Millions\", xaxis_title=\"Year\", xaxis_rangeslider_visible=True)\n",
    "fig.show()"
   ]
  },
  {
   "cell_type": "code",
   "execution_count": 18,
   "metadata": {},
   "outputs": [
    {
     "data": {
      "application/vnd.plotly.v1+json": {
       "config": {
        "plotlyServerURL": "https://plot.ly"
       },
       "data": [
        {
         "hoverlabel": {
          "namelength": 0
         },
         "hovertemplate": "<b>%{hovertext}</b><br><br>Area=Albany County<br>Year=%{x}<br>Unemployed=%{y}",
         "hovertext": [
          "Albany County",
          "Albany County",
          "Albany County",
          "Albany County",
          "Albany County",
          "Albany County",
          "Albany County",
          "Albany County",
          "Albany County",
          "Albany County",
          "Albany County",
          "Albany County",
          "Albany County",
          "Albany County",
          "Albany County",
          "Albany County",
          "Albany County",
          "Albany County",
          "Albany County",
          "Albany County",
          "Albany County",
          "Albany County",
          "Albany County",
          "Albany County",
          "Albany County",
          "Albany County",
          "Albany County",
          "Albany County",
          "Albany County",
          "Albany County"
         ],
         "legendgroup": "Area=Albany County",
         "line": {
          "color": "#636efa",
          "dash": "solid"
         },
         "mode": "lines",
         "name": "Area=Albany County",
         "showlegend": true,
         "type": "scattergl",
         "x": [
          1990,
          1991,
          1992,
          1993,
          1994,
          1995,
          1996,
          1997,
          1998,
          1999,
          2000,
          2001,
          2002,
          2003,
          2004,
          2005,
          2006,
          2007,
          2008,
          2009,
          2010,
          2011,
          2012,
          2013,
          2014,
          2015,
          2016,
          2017,
          2018,
          2019
         ],
         "xaxis": "x",
         "y": [
          56200,
          89700,
          93900,
          79500,
          77400,
          78900,
          70300,
          63700,
          57200,
          54300,
          62300,
          62000,
          74000,
          79800,
          79400,
          74600,
          73000,
          73700,
          93400,
          129100,
          134800,
          131500,
          136800,
          117000,
          92400,
          82600,
          77000,
          79700,
          70300,
          55900
         ],
         "yaxis": "y"
        },
        {
         "hoverlabel": {
          "namelength": 0
         },
         "hovertemplate": "<b>%{hovertext}</b><br><br>Area=Allegany County<br>Year=%{x}<br>Unemployed=%{y}",
         "hovertext": [
          "Allegany County",
          "Allegany County",
          "Allegany County",
          "Allegany County",
          "Allegany County",
          "Allegany County",
          "Allegany County",
          "Allegany County",
          "Allegany County",
          "Allegany County",
          "Allegany County",
          "Allegany County",
          "Allegany County",
          "Allegany County",
          "Allegany County",
          "Allegany County",
          "Allegany County",
          "Allegany County",
          "Allegany County",
          "Allegany County",
          "Allegany County",
          "Allegany County",
          "Allegany County",
          "Allegany County",
          "Allegany County",
          "Allegany County",
          "Allegany County",
          "Allegany County",
          "Allegany County",
          "Allegany County"
         ],
         "legendgroup": "Area=Allegany County",
         "line": {
          "color": "#EF553B",
          "dash": "solid"
         },
         "mode": "lines",
         "name": "Area=Allegany County",
         "showlegend": true,
         "type": "scattergl",
         "x": [
          1990,
          1991,
          1992,
          1993,
          1994,
          1995,
          1996,
          1997,
          1998,
          1999,
          2000,
          2001,
          2002,
          2003,
          2004,
          2005,
          2006,
          2007,
          2008,
          2009,
          2010,
          2011,
          2012,
          2013,
          2014,
          2015,
          2016,
          2017,
          2018,
          2019
         ],
         "xaxis": "x",
         "y": [
          17900,
          22300,
          26500,
          23500,
          22800,
          21300,
          21400,
          23200,
          21200,
          21300,
          13300,
          13200,
          15100,
          18400,
          18000,
          16400,
          14600,
          15400,
          18600,
          25000,
          26500,
          25200,
          23700,
          21400,
          17300,
          15900,
          15100,
          15600,
          13000,
          10200
         ],
         "yaxis": "y"
        },
        {
         "hoverlabel": {
          "namelength": 0
         },
         "hovertemplate": "<b>%{hovertext}</b><br><br>Area=Bronx County<br>Year=%{x}<br>Unemployed=%{y}",
         "hovertext": [
          "Bronx County",
          "Bronx County",
          "Bronx County",
          "Bronx County",
          "Bronx County",
          "Bronx County",
          "Bronx County",
          "Bronx County",
          "Bronx County",
          "Bronx County",
          "Bronx County",
          "Bronx County",
          "Bronx County",
          "Bronx County",
          "Bronx County",
          "Bronx County",
          "Bronx County",
          "Bronx County",
          "Bronx County",
          "Bronx County",
          "Bronx County",
          "Bronx County",
          "Bronx County",
          "Bronx County",
          "Bronx County",
          "Bronx County",
          "Bronx County",
          "Bronx County",
          "Bronx County",
          "Bronx County"
         ],
         "legendgroup": "Area=Bronx County",
         "line": {
          "color": "#00cc96",
          "dash": "solid"
         },
         "mode": "lines",
         "name": "Area=Bronx County",
         "showlegend": true,
         "type": "scattergl",
         "x": [
          1990,
          1991,
          1992,
          1993,
          1994,
          1995,
          1996,
          1997,
          1998,
          1999,
          2000,
          2001,
          2002,
          2003,
          2004,
          2005,
          2006,
          2007,
          2008,
          2009,
          2010,
          2011,
          2012,
          2013,
          2014,
          2015,
          2016,
          2017,
          2018,
          2019
         ],
         "xaxis": "x",
         "y": [
          466300,
          564900,
          719000,
          662900,
          543900,
          513900,
          583700,
          672300,
          573400,
          474200,
          415100,
          426200,
          580900,
          633500,
          554600,
          461100,
          403600,
          419900,
          475100,
          770900,
          837800,
          836600,
          887500,
          852600,
          709700,
          565500,
          520400,
          459200,
          411900,
          345600
         ],
         "yaxis": "y"
        },
        {
         "hoverlabel": {
          "namelength": 0
         },
         "hovertemplate": "<b>%{hovertext}</b><br><br>Area=Broome County<br>Year=%{x}<br>Unemployed=%{y}",
         "hovertext": [
          "Broome County",
          "Broome County",
          "Broome County",
          "Broome County",
          "Broome County",
          "Broome County",
          "Broome County",
          "Broome County",
          "Broome County",
          "Broome County",
          "Broome County",
          "Broome County",
          "Broome County",
          "Broome County",
          "Broome County",
          "Broome County",
          "Broome County",
          "Broome County",
          "Broome County",
          "Broome County",
          "Broome County",
          "Broome County",
          "Broome County",
          "Broome County",
          "Broome County",
          "Broome County",
          "Broome County",
          "Broome County",
          "Broome County",
          "Broome County"
         ],
         "legendgroup": "Area=Broome County",
         "line": {
          "color": "#ab63fa",
          "dash": "solid"
         },
         "mode": "lines",
         "name": "Area=Broome County",
         "showlegend": true,
         "type": "scattergl",
         "x": [
          1990,
          1991,
          1992,
          1993,
          1994,
          1995,
          1996,
          1997,
          1998,
          1999,
          2000,
          2001,
          2002,
          2003,
          2004,
          2005,
          2006,
          2007,
          2008,
          2009,
          2010,
          2011,
          2012,
          2013,
          2014,
          2015,
          2016,
          2017,
          2018,
          2019
         ],
         "xaxis": "x",
         "y": [
          53300,
          73800,
          84300,
          85600,
          81300,
          62700,
          50900,
          50800,
          48100,
          48600,
          43000,
          50100,
          68300,
          67000,
          62700,
          56400,
          53400,
          51900,
          65600,
          95500,
          102200,
          97800,
          98100,
          85900,
          70300,
          62100,
          55800,
          56400,
          49400,
          38500
         ],
         "yaxis": "y"
        },
        {
         "hoverlabel": {
          "namelength": 0
         },
         "hovertemplate": "<b>%{hovertext}</b><br><br>Area=Cattaraugus County<br>Year=%{x}<br>Unemployed=%{y}",
         "hovertext": [
          "Cattaraugus County",
          "Cattaraugus County",
          "Cattaraugus County",
          "Cattaraugus County",
          "Cattaraugus County",
          "Cattaraugus County",
          "Cattaraugus County",
          "Cattaraugus County",
          "Cattaraugus County",
          "Cattaraugus County",
          "Cattaraugus County",
          "Cattaraugus County",
          "Cattaraugus County",
          "Cattaraugus County",
          "Cattaraugus County",
          "Cattaraugus County",
          "Cattaraugus County",
          "Cattaraugus County",
          "Cattaraugus County",
          "Cattaraugus County",
          "Cattaraugus County",
          "Cattaraugus County",
          "Cattaraugus County",
          "Cattaraugus County",
          "Cattaraugus County",
          "Cattaraugus County",
          "Cattaraugus County",
          "Cattaraugus County",
          "Cattaraugus County",
          "Cattaraugus County"
         ],
         "legendgroup": "Area=Cattaraugus County",
         "line": {
          "color": "#FFA15A",
          "dash": "solid"
         },
         "mode": "lines",
         "name": "Area=Cattaraugus County",
         "showlegend": true,
         "type": "scattergl",
         "x": [
          1990,
          1991,
          1992,
          1993,
          1994,
          1995,
          1996,
          1997,
          1998,
          1999,
          2000,
          2001,
          2002,
          2003,
          2004,
          2005,
          2006,
          2007,
          2008,
          2009,
          2010,
          2011,
          2012,
          2013,
          2014,
          2015,
          2016,
          2017,
          2018,
          2019
         ],
         "xaxis": "x",
         "y": [
          30300,
          43200,
          47100,
          41000,
          39400,
          36000,
          34700,
          36400,
          36000,
          35300,
          22300,
          24700,
          28000,
          29200,
          30400,
          27200,
          25700,
          25400,
          30500,
          43100,
          45200,
          43300,
          42800,
          39000,
          30800,
          26400,
          25000,
          25400,
          21900,
          16300
         ],
         "yaxis": "y"
        },
        {
         "hoverlabel": {
          "namelength": 0
         },
         "hovertemplate": "<b>%{hovertext}</b><br><br>Area=Cayuga County<br>Year=%{x}<br>Unemployed=%{y}",
         "hovertext": [
          "Cayuga County",
          "Cayuga County",
          "Cayuga County",
          "Cayuga County",
          "Cayuga County",
          "Cayuga County",
          "Cayuga County",
          "Cayuga County",
          "Cayuga County",
          "Cayuga County",
          "Cayuga County",
          "Cayuga County",
          "Cayuga County",
          "Cayuga County",
          "Cayuga County",
          "Cayuga County",
          "Cayuga County",
          "Cayuga County",
          "Cayuga County",
          "Cayuga County",
          "Cayuga County",
          "Cayuga County",
          "Cayuga County",
          "Cayuga County",
          "Cayuga County",
          "Cayuga County",
          "Cayuga County",
          "Cayuga County",
          "Cayuga County",
          "Cayuga County"
         ],
         "legendgroup": "Area=Cayuga County",
         "line": {
          "color": "#19d3f3",
          "dash": "solid"
         },
         "mode": "lines",
         "name": "Area=Cayuga County",
         "showlegend": true,
         "type": "scattergl",
         "x": [
          1990,
          1991,
          1992,
          1993,
          1994,
          1995,
          1996,
          1997,
          1998,
          1999,
          2000,
          2001,
          2002,
          2003,
          2004,
          2005,
          2006,
          2007,
          2008,
          2009,
          2010,
          2011,
          2012,
          2013,
          2014,
          2015,
          2016,
          2017,
          2018,
          2019
         ],
         "xaxis": "x",
         "y": [
          29100,
          39100,
          36900,
          32000,
          28200,
          28300,
          25700,
          27200,
          24100,
          23700,
          19000,
          20300,
          23600,
          26100,
          25800,
          24400,
          23000,
          21900,
          27700,
          41100,
          40900,
          38100,
          39000,
          34400,
          27000,
          23700,
          22200,
          21500,
          19400,
          15000
         ],
         "yaxis": "y"
        },
        {
         "hoverlabel": {
          "namelength": 0
         },
         "hovertemplate": "<b>%{hovertext}</b><br><br>Area=Chautauqua County<br>Year=%{x}<br>Unemployed=%{y}",
         "hovertext": [
          "Chautauqua County",
          "Chautauqua County",
          "Chautauqua County",
          "Chautauqua County",
          "Chautauqua County",
          "Chautauqua County",
          "Chautauqua County",
          "Chautauqua County",
          "Chautauqua County",
          "Chautauqua County",
          "Chautauqua County",
          "Chautauqua County",
          "Chautauqua County",
          "Chautauqua County",
          "Chautauqua County",
          "Chautauqua County",
          "Chautauqua County",
          "Chautauqua County",
          "Chautauqua County",
          "Chautauqua County",
          "Chautauqua County",
          "Chautauqua County",
          "Chautauqua County",
          "Chautauqua County",
          "Chautauqua County",
          "Chautauqua County",
          "Chautauqua County",
          "Chautauqua County",
          "Chautauqua County",
          "Chautauqua County"
         ],
         "legendgroup": "Area=Chautauqua County",
         "line": {
          "color": "#FF6692",
          "dash": "solid"
         },
         "mode": "lines",
         "name": "Area=Chautauqua County",
         "showlegend": true,
         "type": "scattergl",
         "x": [
          1990,
          1991,
          1992,
          1993,
          1994,
          1995,
          1996,
          1997,
          1998,
          1999,
          2000,
          2001,
          2002,
          2003,
          2004,
          2005,
          2006,
          2007,
          2008,
          2009,
          2010,
          2011,
          2012,
          2013,
          2014,
          2015,
          2016,
          2017,
          2018,
          2019
         ],
         "xaxis": "x",
         "y": [
          47300,
          63700,
          67400,
          56600,
          54000,
          47600,
          41900,
          47100,
          43400,
          40900,
          32800,
          37300,
          44700,
          46100,
          43800,
          38600,
          36100,
          35900,
          44700,
          65700,
          67800,
          60400,
          62700,
          57900,
          47400,
          41700,
          39000,
          39800,
          33100,
          24800
         ],
         "yaxis": "y"
        },
        {
         "hoverlabel": {
          "namelength": 0
         },
         "hovertemplate": "<b>%{hovertext}</b><br><br>Area=Chemung County<br>Year=%{x}<br>Unemployed=%{y}",
         "hovertext": [
          "Chemung County",
          "Chemung County",
          "Chemung County",
          "Chemung County",
          "Chemung County",
          "Chemung County",
          "Chemung County",
          "Chemung County",
          "Chemung County",
          "Chemung County",
          "Chemung County",
          "Chemung County",
          "Chemung County",
          "Chemung County",
          "Chemung County",
          "Chemung County",
          "Chemung County",
          "Chemung County",
          "Chemung County",
          "Chemung County",
          "Chemung County",
          "Chemung County",
          "Chemung County",
          "Chemung County",
          "Chemung County",
          "Chemung County",
          "Chemung County",
          "Chemung County",
          "Chemung County",
          "Chemung County"
         ],
         "legendgroup": "Area=Chemung County",
         "line": {
          "color": "#B6E880",
          "dash": "solid"
         },
         "mode": "lines",
         "name": "Area=Chemung County",
         "showlegend": true,
         "type": "scattergl",
         "x": [
          1990,
          1991,
          1992,
          1993,
          1994,
          1995,
          1996,
          1997,
          1998,
          1999,
          2000,
          2001,
          2002,
          2003,
          2004,
          2005,
          2006,
          2007,
          2008,
          2009,
          2010,
          2011,
          2012,
          2013,
          2014,
          2015,
          2016,
          2017,
          2018,
          2019
         ],
         "xaxis": "x",
         "y": [
          25600,
          34600,
          35200,
          29200,
          27300,
          24800,
          22600,
          23700,
          22900,
          25800,
          22200,
          25100,
          32300,
          31700,
          29200,
          25900,
          23700,
          22300,
          27700,
          43900,
          41900,
          38500,
          40900,
          37600,
          28800,
          26500,
          24800,
          23600,
          19800,
          14300
         ],
         "yaxis": "y"
        },
        {
         "hoverlabel": {
          "namelength": 0
         },
         "hovertemplate": "<b>%{hovertext}</b><br><br>Area=Chenango County<br>Year=%{x}<br>Unemployed=%{y}",
         "hovertext": [
          "Chenango County",
          "Chenango County",
          "Chenango County",
          "Chenango County",
          "Chenango County",
          "Chenango County",
          "Chenango County",
          "Chenango County",
          "Chenango County",
          "Chenango County",
          "Chenango County",
          "Chenango County",
          "Chenango County",
          "Chenango County",
          "Chenango County",
          "Chenango County",
          "Chenango County",
          "Chenango County",
          "Chenango County",
          "Chenango County",
          "Chenango County",
          "Chenango County",
          "Chenango County",
          "Chenango County",
          "Chenango County",
          "Chenango County",
          "Chenango County",
          "Chenango County",
          "Chenango County",
          "Chenango County"
         ],
         "legendgroup": "Area=Chenango County",
         "line": {
          "color": "#FF97FF",
          "dash": "solid"
         },
         "mode": "lines",
         "name": "Area=Chenango County",
         "showlegend": true,
         "type": "scattergl",
         "x": [
          1990,
          1991,
          1992,
          1993,
          1994,
          1995,
          1996,
          1997,
          1998,
          1999,
          2000,
          2001,
          2002,
          2003,
          2004,
          2005,
          2006,
          2007,
          2008,
          2009,
          2010,
          2011,
          2012,
          2013,
          2014,
          2015,
          2016,
          2017,
          2018,
          2019
         ],
         "xaxis": "x",
         "y": [
          16200,
          20500,
          23300,
          24600,
          24100,
          21700,
          18800,
          18300,
          16400,
          16800,
          11900,
          13100,
          16300,
          16800,
          16100,
          14400,
          14200,
          14500,
          18700,
          26200,
          26200,
          24800,
          24900,
          21100,
          17400,
          15100,
          13900,
          14200,
          12600,
          9500
         ],
         "yaxis": "y"
        },
        {
         "hoverlabel": {
          "namelength": 0
         },
         "hovertemplate": "<b>%{hovertext}</b><br><br>Area=Clinton County<br>Year=%{x}<br>Unemployed=%{y}",
         "hovertext": [
          "Clinton County",
          "Clinton County",
          "Clinton County",
          "Clinton County",
          "Clinton County",
          "Clinton County",
          "Clinton County",
          "Clinton County",
          "Clinton County",
          "Clinton County",
          "Clinton County",
          "Clinton County",
          "Clinton County",
          "Clinton County",
          "Clinton County",
          "Clinton County",
          "Clinton County",
          "Clinton County",
          "Clinton County",
          "Clinton County",
          "Clinton County",
          "Clinton County",
          "Clinton County",
          "Clinton County",
          "Clinton County",
          "Clinton County",
          "Clinton County",
          "Clinton County",
          "Clinton County",
          "Clinton County"
         ],
         "legendgroup": "Area=Clinton County",
         "line": {
          "color": "#FECB52",
          "dash": "solid"
         },
         "mode": "lines",
         "name": "Area=Clinton County",
         "showlegend": true,
         "type": "scattergl",
         "x": [
          1990,
          1991,
          1992,
          1993,
          1994,
          1995,
          1996,
          1997,
          1998,
          1999,
          2000,
          2001,
          2002,
          2003,
          2004,
          2005,
          2006,
          2007,
          2008,
          2009,
          2010,
          2011,
          2012,
          2013,
          2014,
          2015,
          2016,
          2017,
          2018,
          2019
         ],
         "xaxis": "x",
         "y": [
          28400,
          38300,
          43000,
          37400,
          38000,
          32800,
          32600,
          32500,
          29300,
          31100,
          21800,
          20700,
          25200,
          28700,
          29100,
          25100,
          25700,
          26700,
          31500,
          44600,
          46700,
          44300,
          42900,
          37000,
          28600,
          25000,
          23000,
          22700,
          19200,
          15200
         ],
         "yaxis": "y"
        },
        {
         "hoverlabel": {
          "namelength": 0
         },
         "hovertemplate": "<b>%{hovertext}</b><br><br>Area=Columbia County<br>Year=%{x}<br>Unemployed=%{y}",
         "hovertext": [
          "Columbia County",
          "Columbia County",
          "Columbia County",
          "Columbia County",
          "Columbia County",
          "Columbia County",
          "Columbia County",
          "Columbia County",
          "Columbia County",
          "Columbia County",
          "Columbia County",
          "Columbia County",
          "Columbia County",
          "Columbia County",
          "Columbia County",
          "Columbia County",
          "Columbia County",
          "Columbia County",
          "Columbia County",
          "Columbia County",
          "Columbia County",
          "Columbia County",
          "Columbia County",
          "Columbia County",
          "Columbia County",
          "Columbia County",
          "Columbia County",
          "Columbia County",
          "Columbia County",
          "Columbia County"
         ],
         "legendgroup": "Area=Columbia County",
         "line": {
          "color": "#636efa",
          "dash": "solid"
         },
         "mode": "lines",
         "name": "Area=Columbia County",
         "showlegend": true,
         "type": "scattergl",
         "x": [
          1990,
          1991,
          1992,
          1993,
          1994,
          1995,
          1996,
          1997,
          1998,
          1999,
          2000,
          2001,
          2002,
          2003,
          2004,
          2005,
          2006,
          2007,
          2008,
          2009,
          2010,
          2011,
          2012,
          2013,
          2014,
          2015,
          2016,
          2017,
          2018,
          2019
         ],
         "xaxis": "x",
         "y": [
          11900,
          20500,
          21700,
          20300,
          18200,
          16400,
          15900,
          14600,
          13300,
          12400,
          13000,
          13100,
          15800,
          16500,
          16700,
          14600,
          14100,
          15000,
          18400,
          27700,
          28100,
          26900,
          26900,
          23000,
          17800,
          15100,
          14000,
          14000,
          12600,
          9900
         ],
         "yaxis": "y"
        },
        {
         "hoverlabel": {
          "namelength": 0
         },
         "hovertemplate": "<b>%{hovertext}</b><br><br>Area=Cortland County<br>Year=%{x}<br>Unemployed=%{y}",
         "hovertext": [
          "Cortland County",
          "Cortland County",
          "Cortland County",
          "Cortland County",
          "Cortland County",
          "Cortland County",
          "Cortland County",
          "Cortland County",
          "Cortland County",
          "Cortland County",
          "Cortland County",
          "Cortland County",
          "Cortland County",
          "Cortland County",
          "Cortland County",
          "Cortland County",
          "Cortland County",
          "Cortland County",
          "Cortland County",
          "Cortland County",
          "Cortland County",
          "Cortland County",
          "Cortland County",
          "Cortland County",
          "Cortland County",
          "Cortland County",
          "Cortland County",
          "Cortland County",
          "Cortland County",
          "Cortland County"
         ],
         "legendgroup": "Area=Cortland County",
         "line": {
          "color": "#EF553B",
          "dash": "solid"
         },
         "mode": "lines",
         "name": "Area=Cortland County",
         "showlegend": true,
         "type": "scattergl",
         "x": [
          1990,
          1991,
          1992,
          1993,
          1994,
          1995,
          1996,
          1997,
          1998,
          1999,
          2000,
          2001,
          2002,
          2003,
          2004,
          2005,
          2006,
          2007,
          2008,
          2009,
          2010,
          2011,
          2012,
          2013,
          2014,
          2015,
          2016,
          2017,
          2018,
          2019
         ],
         "xaxis": "x",
         "y": [
          18800,
          22400,
          24500,
          23800,
          22600,
          19700,
          17400,
          19400,
          21800,
          18800,
          12700,
          13900,
          17500,
          16900,
          17800,
          15600,
          14900,
          14700,
          18600,
          26600,
          26200,
          24700,
          25400,
          22400,
          18600,
          16400,
          15500,
          15900,
          13900,
          10800
         ],
         "yaxis": "y"
        },
        {
         "hoverlabel": {
          "namelength": 0
         },
         "hovertemplate": "<b>%{hovertext}</b><br><br>Area=Delaware County<br>Year=%{x}<br>Unemployed=%{y}",
         "hovertext": [
          "Delaware County",
          "Delaware County",
          "Delaware County",
          "Delaware County",
          "Delaware County",
          "Delaware County",
          "Delaware County",
          "Delaware County",
          "Delaware County",
          "Delaware County",
          "Delaware County",
          "Delaware County",
          "Delaware County",
          "Delaware County",
          "Delaware County",
          "Delaware County",
          "Delaware County",
          "Delaware County",
          "Delaware County",
          "Delaware County",
          "Delaware County",
          "Delaware County",
          "Delaware County",
          "Delaware County",
          "Delaware County",
          "Delaware County",
          "Delaware County",
          "Delaware County",
          "Delaware County",
          "Delaware County"
         ],
         "legendgroup": "Area=Delaware County",
         "line": {
          "color": "#00cc96",
          "dash": "solid"
         },
         "mode": "lines",
         "name": "Area=Delaware County",
         "showlegend": true,
         "type": "scattergl",
         "x": [
          1990,
          1991,
          1992,
          1993,
          1994,
          1995,
          1996,
          1997,
          1998,
          1999,
          2000,
          2001,
          2002,
          2003,
          2004,
          2005,
          2006,
          2007,
          2008,
          2009,
          2010,
          2011,
          2012,
          2013,
          2014,
          2015,
          2016,
          2017,
          2018,
          2019
         ],
         "xaxis": "x",
         "y": [
          13300,
          17300,
          19900,
          17200,
          16100,
          13700,
          13100,
          13400,
          11500,
          13200,
          11200,
          11100,
          13000,
          13200,
          12600,
          12400,
          12000,
          12100,
          16500,
          22900,
          23700,
          22700,
          22800,
          20000,
          15800,
          14200,
          12600,
          12300,
          11000,
          8900
         ],
         "yaxis": "y"
        },
        {
         "hoverlabel": {
          "namelength": 0
         },
         "hovertemplate": "<b>%{hovertext}</b><br><br>Area=Dutchess County<br>Year=%{x}<br>Unemployed=%{y}",
         "hovertext": [
          "Dutchess County",
          "Dutchess County",
          "Dutchess County",
          "Dutchess County",
          "Dutchess County",
          "Dutchess County",
          "Dutchess County",
          "Dutchess County",
          "Dutchess County",
          "Dutchess County",
          "Dutchess County",
          "Dutchess County",
          "Dutchess County",
          "Dutchess County",
          "Dutchess County",
          "Dutchess County",
          "Dutchess County",
          "Dutchess County",
          "Dutchess County",
          "Dutchess County",
          "Dutchess County",
          "Dutchess County",
          "Dutchess County",
          "Dutchess County",
          "Dutchess County",
          "Dutchess County",
          "Dutchess County",
          "Dutchess County",
          "Dutchess County",
          "Dutchess County"
         ],
         "legendgroup": "Area=Dutchess County",
         "line": {
          "color": "#ab63fa",
          "dash": "solid"
         },
         "mode": "lines",
         "name": "Area=Dutchess County",
         "showlegend": true,
         "type": "scattergl",
         "x": [
          1990,
          1991,
          1992,
          1993,
          1994,
          1995,
          1996,
          1997,
          1998,
          1999,
          2000,
          2001,
          2002,
          2003,
          2004,
          2005,
          2006,
          2007,
          2008,
          2009,
          2010,
          2011,
          2012,
          2013,
          2014,
          2015,
          2016,
          2017,
          2018,
          2019
         ],
         "xaxis": "x",
         "y": [
          47300,
          81400,
          101000,
          126400,
          98000,
          69400,
          59600,
          58100,
          48800,
          49600,
          53600,
          57700,
          71600,
          70500,
          74100,
          69000,
          67200,
          68000,
          90300,
          133100,
          138200,
          131800,
          136800,
          116600,
          91000,
          77300,
          71200,
          73100,
          63800,
          50500
         ],
         "yaxis": "y"
        },
        {
         "hoverlabel": {
          "namelength": 0
         },
         "hovertemplate": "<b>%{hovertext}</b><br><br>Area=Erie County<br>Year=%{x}<br>Unemployed=%{y}",
         "hovertext": [
          "Erie County",
          "Erie County",
          "Erie County",
          "Erie County",
          "Erie County",
          "Erie County",
          "Erie County",
          "Erie County",
          "Erie County",
          "Erie County",
          "Erie County",
          "Erie County",
          "Erie County",
          "Erie County",
          "Erie County",
          "Erie County",
          "Erie County",
          "Erie County",
          "Erie County",
          "Erie County",
          "Erie County",
          "Erie County",
          "Erie County",
          "Erie County",
          "Erie County",
          "Erie County",
          "Erie County",
          "Erie County",
          "Erie County",
          "Erie County"
         ],
         "legendgroup": "Area=Erie County",
         "line": {
          "color": "#FFA15A",
          "dash": "solid"
         },
         "mode": "lines",
         "name": "Area=Erie County",
         "showlegend": true,
         "type": "scattergl",
         "x": [
          1990,
          1991,
          1992,
          1993,
          1994,
          1995,
          1996,
          1997,
          1998,
          1999,
          2000,
          2001,
          2002,
          2003,
          2004,
          2005,
          2006,
          2007,
          2008,
          2009,
          2010,
          2011,
          2012,
          2013,
          2014,
          2015,
          2016,
          2017,
          2018,
          2019
         ],
         "xaxis": "x",
         "y": [
          301000,
          397900,
          415900,
          372800,
          331600,
          291900,
          271900,
          287100,
          289200,
          288100,
          236400,
          257500,
          302700,
          321500,
          322500,
          293500,
          276200,
          262100,
          324300,
          457700,
          464500,
          439700,
          460300,
          409400,
          328500,
          286900,
          262600,
          274000,
          234900,
          181100
         ],
         "yaxis": "y"
        },
        {
         "hoverlabel": {
          "namelength": 0
         },
         "hovertemplate": "<b>%{hovertext}</b><br><br>Area=Essex County<br>Year=%{x}<br>Unemployed=%{y}",
         "hovertext": [
          "Essex County",
          "Essex County",
          "Essex County",
          "Essex County",
          "Essex County",
          "Essex County",
          "Essex County",
          "Essex County",
          "Essex County",
          "Essex County",
          "Essex County",
          "Essex County",
          "Essex County",
          "Essex County",
          "Essex County",
          "Essex County",
          "Essex County",
          "Essex County",
          "Essex County",
          "Essex County",
          "Essex County",
          "Essex County",
          "Essex County",
          "Essex County",
          "Essex County",
          "Essex County",
          "Essex County",
          "Essex County",
          "Essex County",
          "Essex County"
         ],
         "legendgroup": "Area=Essex County",
         "line": {
          "color": "#19d3f3",
          "dash": "solid"
         },
         "mode": "lines",
         "name": "Area=Essex County",
         "showlegend": true,
         "type": "scattergl",
         "x": [
          1990,
          1991,
          1992,
          1993,
          1994,
          1995,
          1996,
          1997,
          1998,
          1999,
          2000,
          2001,
          2002,
          2003,
          2004,
          2005,
          2006,
          2007,
          2008,
          2009,
          2010,
          2011,
          2012,
          2013,
          2014,
          2015,
          2016,
          2017,
          2018,
          2019
         ],
         "xaxis": "x",
         "y": [
          17400,
          24500,
          27500,
          22800,
          22100,
          19400,
          18300,
          18700,
          18000,
          18600,
          10800,
          10200,
          11500,
          11500,
          12200,
          12000,
          12400,
          12600,
          14900,
          20100,
          20400,
          19900,
          20900,
          17900,
          14500,
          12600,
          11100,
          11200,
          9900,
          7700
         ],
         "yaxis": "y"
        },
        {
         "hoverlabel": {
          "namelength": 0
         },
         "hovertemplate": "<b>%{hovertext}</b><br><br>Area=Franklin County<br>Year=%{x}<br>Unemployed=%{y}",
         "hovertext": [
          "Franklin County",
          "Franklin County",
          "Franklin County",
          "Franklin County",
          "Franklin County",
          "Franklin County",
          "Franklin County",
          "Franklin County",
          "Franklin County",
          "Franklin County",
          "Franklin County",
          "Franklin County",
          "Franklin County",
          "Franklin County",
          "Franklin County",
          "Franklin County",
          "Franklin County",
          "Franklin County",
          "Franklin County",
          "Franklin County",
          "Franklin County",
          "Franklin County",
          "Franklin County",
          "Franklin County",
          "Franklin County",
          "Franklin County",
          "Franklin County",
          "Franklin County",
          "Franklin County",
          "Franklin County"
         ],
         "legendgroup": "Area=Franklin County",
         "line": {
          "color": "#FF6692",
          "dash": "solid"
         },
         "mode": "lines",
         "name": "Area=Franklin County",
         "showlegend": true,
         "type": "scattergl",
         "x": [
          1990,
          1991,
          1992,
          1993,
          1994,
          1995,
          1996,
          1997,
          1998,
          1999,
          2000,
          2001,
          2002,
          2003,
          2004,
          2005,
          2006,
          2007,
          2008,
          2009,
          2010,
          2011,
          2012,
          2013,
          2014,
          2015,
          2016,
          2017,
          2018,
          2019
         ],
         "xaxis": "x",
         "y": [
          21400,
          29300,
          26600,
          22000,
          22700,
          21300,
          21800,
          22800,
          20400,
          20800,
          15300,
          15700,
          16200,
          17900,
          17400,
          15800,
          14700,
          15000,
          19100,
          23500,
          24100,
          23600,
          25100,
          23000,
          17900,
          15600,
          13400,
          14300,
          12000,
          9300
         ],
         "yaxis": "y"
        },
        {
         "hoverlabel": {
          "namelength": 0
         },
         "hovertemplate": "<b>%{hovertext}</b><br><br>Area=Fulton County<br>Year=%{x}<br>Unemployed=%{y}",
         "hovertext": [
          "Fulton County",
          "Fulton County",
          "Fulton County",
          "Fulton County",
          "Fulton County",
          "Fulton County",
          "Fulton County",
          "Fulton County",
          "Fulton County",
          "Fulton County",
          "Fulton County",
          "Fulton County",
          "Fulton County",
          "Fulton County",
          "Fulton County",
          "Fulton County",
          "Fulton County",
          "Fulton County",
          "Fulton County",
          "Fulton County",
          "Fulton County",
          "Fulton County",
          "Fulton County",
          "Fulton County",
          "Fulton County",
          "Fulton County",
          "Fulton County",
          "Fulton County",
          "Fulton County",
          "Fulton County"
         ],
         "legendgroup": "Area=Fulton County",
         "line": {
          "color": "#B6E880",
          "dash": "solid"
         },
         "mode": "lines",
         "name": "Area=Fulton County",
         "showlegend": true,
         "type": "scattergl",
         "x": [
          1990,
          1991,
          1992,
          1993,
          1994,
          1995,
          1996,
          1997,
          1998,
          1999,
          2000,
          2001,
          2002,
          2003,
          2004,
          2005,
          2006,
          2007,
          2008,
          2009,
          2010,
          2011,
          2012,
          2013,
          2014,
          2015,
          2016,
          2017,
          2018,
          2019
         ],
         "xaxis": "x",
         "y": [
          27800,
          34200,
          32400,
          25700,
          25200,
          26200,
          27300,
          24700,
          20100,
          19500,
          14700,
          14300,
          15900,
          18100,
          18100,
          18000,
          17200,
          17700,
          22300,
          31500,
          33200,
          32500,
          33500,
          28000,
          21700,
          18100,
          15900,
          16000,
          14000,
          10900
         ],
         "yaxis": "y"
        },
        {
         "hoverlabel": {
          "namelength": 0
         },
         "hovertemplate": "<b>%{hovertext}</b><br><br>Area=Genesee County<br>Year=%{x}<br>Unemployed=%{y}",
         "hovertext": [
          "Genesee County",
          "Genesee County",
          "Genesee County",
          "Genesee County",
          "Genesee County",
          "Genesee County",
          "Genesee County",
          "Genesee County",
          "Genesee County",
          "Genesee County",
          "Genesee County",
          "Genesee County",
          "Genesee County",
          "Genesee County",
          "Genesee County",
          "Genesee County",
          "Genesee County",
          "Genesee County",
          "Genesee County",
          "Genesee County",
          "Genesee County",
          "Genesee County",
          "Genesee County",
          "Genesee County",
          "Genesee County",
          "Genesee County",
          "Genesee County",
          "Genesee County",
          "Genesee County",
          "Genesee County"
         ],
         "legendgroup": "Area=Genesee County",
         "line": {
          "color": "#FF97FF",
          "dash": "solid"
         },
         "mode": "lines",
         "name": "Area=Genesee County",
         "showlegend": true,
         "type": "scattergl",
         "x": [
          1990,
          1991,
          1992,
          1993,
          1994,
          1995,
          1996,
          1997,
          1998,
          1999,
          2000,
          2001,
          2002,
          2003,
          2004,
          2005,
          2006,
          2007,
          2008,
          2009,
          2010,
          2011,
          2012,
          2013,
          2014,
          2015,
          2016,
          2017,
          2018,
          2019
         ],
         "xaxis": "x",
         "y": [
          19600,
          30600,
          30600,
          25100,
          24900,
          22200,
          19400,
          21800,
          20700,
          20200,
          15500,
          16500,
          20700,
          21700,
          22100,
          19100,
          18100,
          17800,
          22800,
          30300,
          30600,
          28900,
          29200,
          25100,
          19900,
          17900,
          16300,
          16900,
          15300,
          11300
         ],
         "yaxis": "y"
        },
        {
         "hoverlabel": {
          "namelength": 0
         },
         "hovertemplate": "<b>%{hovertext}</b><br><br>Area=Greene County<br>Year=%{x}<br>Unemployed=%{y}",
         "hovertext": [
          "Greene County",
          "Greene County",
          "Greene County",
          "Greene County",
          "Greene County",
          "Greene County",
          "Greene County",
          "Greene County",
          "Greene County",
          "Greene County",
          "Greene County",
          "Greene County",
          "Greene County",
          "Greene County",
          "Greene County",
          "Greene County",
          "Greene County",
          "Greene County",
          "Greene County",
          "Greene County",
          "Greene County",
          "Greene County",
          "Greene County",
          "Greene County",
          "Greene County",
          "Greene County",
          "Greene County",
          "Greene County",
          "Greene County",
          "Greene County"
         ],
         "legendgroup": "Area=Greene County",
         "line": {
          "color": "#FECB52",
          "dash": "solid"
         },
         "mode": "lines",
         "name": "Area=Greene County",
         "showlegend": true,
         "type": "scattergl",
         "x": [
          1990,
          1991,
          1992,
          1993,
          1994,
          1995,
          1996,
          1997,
          1998,
          1999,
          2000,
          2001,
          2002,
          2003,
          2004,
          2005,
          2006,
          2007,
          2008,
          2009,
          2010,
          2011,
          2012,
          2013,
          2014,
          2015,
          2016,
          2017,
          2018,
          2019
         ],
         "xaxis": "x",
         "y": [
          12400,
          19800,
          23000,
          22000,
          21000,
          18900,
          17000,
          15900,
          14500,
          14200,
          12400,
          12100,
          13900,
          14500,
          14700,
          13900,
          13600,
          13600,
          17200,
          24100,
          24100,
          24300,
          25700,
          22500,
          17000,
          13900,
          12400,
          12800,
          11300,
          8700
         ],
         "yaxis": "y"
        },
        {
         "hoverlabel": {
          "namelength": 0
         },
         "hovertemplate": "<b>%{hovertext}</b><br><br>Area=Hamilton County<br>Year=%{x}<br>Unemployed=%{y}",
         "hovertext": [
          "Hamilton County",
          "Hamilton County",
          "Hamilton County",
          "Hamilton County",
          "Hamilton County",
          "Hamilton County",
          "Hamilton County",
          "Hamilton County",
          "Hamilton County",
          "Hamilton County",
          "Hamilton County",
          "Hamilton County",
          "Hamilton County",
          "Hamilton County",
          "Hamilton County",
          "Hamilton County",
          "Hamilton County",
          "Hamilton County",
          "Hamilton County",
          "Hamilton County",
          "Hamilton County",
          "Hamilton County",
          "Hamilton County",
          "Hamilton County",
          "Hamilton County",
          "Hamilton County",
          "Hamilton County",
          "Hamilton County",
          "Hamilton County",
          "Hamilton County"
         ],
         "legendgroup": "Area=Hamilton County",
         "line": {
          "color": "#636efa",
          "dash": "solid"
         },
         "mode": "lines",
         "name": "Area=Hamilton County",
         "showlegend": true,
         "type": "scattergl",
         "x": [
          1990,
          1991,
          1992,
          1993,
          1994,
          1995,
          1996,
          1997,
          1998,
          1999,
          2000,
          2001,
          2002,
          2003,
          2004,
          2005,
          2006,
          2007,
          2008,
          2009,
          2010,
          2011,
          2012,
          2013,
          2014,
          2015,
          2016,
          2017,
          2018,
          2019
         ],
         "xaxis": "x",
         "y": [
          2900,
          3500,
          4100,
          3800,
          3600,
          3400,
          3400,
          3300,
          3500,
          3200,
          1900,
          1800,
          1800,
          1800,
          1900,
          2000,
          1900,
          1800,
          2200,
          2900,
          3000,
          3000,
          3100,
          2800,
          2200,
          1900,
          1800,
          1900,
          1900,
          1400
         ],
         "yaxis": "y"
        },
        {
         "hoverlabel": {
          "namelength": 0
         },
         "hovertemplate": "<b>%{hovertext}</b><br><br>Area=Herkimer County<br>Year=%{x}<br>Unemployed=%{y}",
         "hovertext": [
          "Herkimer County",
          "Herkimer County",
          "Herkimer County",
          "Herkimer County",
          "Herkimer County",
          "Herkimer County",
          "Herkimer County",
          "Herkimer County",
          "Herkimer County",
          "Herkimer County",
          "Herkimer County",
          "Herkimer County",
          "Herkimer County",
          "Herkimer County",
          "Herkimer County",
          "Herkimer County",
          "Herkimer County",
          "Herkimer County",
          "Herkimer County",
          "Herkimer County",
          "Herkimer County",
          "Herkimer County",
          "Herkimer County",
          "Herkimer County",
          "Herkimer County",
          "Herkimer County",
          "Herkimer County",
          "Herkimer County",
          "Herkimer County",
          "Herkimer County"
         ],
         "legendgroup": "Area=Herkimer County",
         "line": {
          "color": "#EF553B",
          "dash": "solid"
         },
         "mode": "lines",
         "name": "Area=Herkimer County",
         "showlegend": true,
         "type": "scattergl",
         "x": [
          1990,
          1991,
          1992,
          1993,
          1994,
          1995,
          1996,
          1997,
          1998,
          1999,
          2000,
          2001,
          2002,
          2003,
          2004,
          2005,
          2006,
          2007,
          2008,
          2009,
          2010,
          2011,
          2012,
          2013,
          2014,
          2015,
          2016,
          2017,
          2018,
          2019
         ],
         "xaxis": "x",
         "y": [
          22500,
          31900,
          31800,
          27900,
          24600,
          26500,
          25100,
          25100,
          22200,
          19600,
          16300,
          16700,
          20000,
          21200,
          21100,
          20100,
          18600,
          18000,
          22800,
          29900,
          32600,
          32100,
          32200,
          28100,
          23500,
          21200,
          18300,
          19000,
          16500,
          13100
         ],
         "yaxis": "y"
        },
        {
         "hoverlabel": {
          "namelength": 0
         },
         "hovertemplate": "<b>%{hovertext}</b><br><br>Area=Jefferson County<br>Year=%{x}<br>Unemployed=%{y}",
         "hovertext": [
          "Jefferson County",
          "Jefferson County",
          "Jefferson County",
          "Jefferson County",
          "Jefferson County",
          "Jefferson County",
          "Jefferson County",
          "Jefferson County",
          "Jefferson County",
          "Jefferson County",
          "Jefferson County",
          "Jefferson County",
          "Jefferson County",
          "Jefferson County",
          "Jefferson County",
          "Jefferson County",
          "Jefferson County",
          "Jefferson County",
          "Jefferson County",
          "Jefferson County",
          "Jefferson County",
          "Jefferson County",
          "Jefferson County",
          "Jefferson County",
          "Jefferson County",
          "Jefferson County",
          "Jefferson County",
          "Jefferson County",
          "Jefferson County",
          "Jefferson County"
         ],
         "legendgroup": "Area=Jefferson County",
         "line": {
          "color": "#00cc96",
          "dash": "solid"
         },
         "mode": "lines",
         "name": "Area=Jefferson County",
         "showlegend": true,
         "type": "scattergl",
         "x": [
          1990,
          1991,
          1992,
          1993,
          1994,
          1995,
          1996,
          1997,
          1998,
          1999,
          2000,
          2001,
          2002,
          2003,
          2004,
          2005,
          2006,
          2007,
          2008,
          2009,
          2010,
          2011,
          2012,
          2013,
          2014,
          2015,
          2016,
          2017,
          2018,
          2019
         ],
         "xaxis": "x",
         "y": [
          49300,
          61800,
          67600,
          60100,
          54300,
          47400,
          44800,
          47600,
          49700,
          49100,
          31900,
          33900,
          36700,
          37200,
          38600,
          34500,
          31600,
          31600,
          40200,
          52400,
          56000,
          57300,
          57400,
          53500,
          42500,
          36600,
          34200,
          35100,
          30200,
          23500
         ],
         "yaxis": "y"
        },
        {
         "hoverlabel": {
          "namelength": 0
         },
         "hovertemplate": "<b>%{hovertext}</b><br><br>Area=Kings County<br>Year=%{x}<br>Unemployed=%{y}",
         "hovertext": [
          "Kings County",
          "Kings County",
          "Kings County",
          "Kings County",
          "Kings County",
          "Kings County",
          "Kings County",
          "Kings County",
          "Kings County",
          "Kings County",
          "Kings County",
          "Kings County",
          "Kings County",
          "Kings County",
          "Kings County",
          "Kings County",
          "Kings County",
          "Kings County",
          "Kings County",
          "Kings County",
          "Kings County",
          "Kings County",
          "Kings County",
          "Kings County",
          "Kings County",
          "Kings County",
          "Kings County",
          "Kings County",
          "Kings County",
          "Kings County"
         ],
         "legendgroup": "Area=Kings County",
         "line": {
          "color": "#ab63fa",
          "dash": "solid"
         },
         "mode": "lines",
         "name": "Area=Kings County",
         "showlegend": true,
         "type": "scattergl",
         "x": [
          1990,
          1991,
          1992,
          1993,
          1994,
          1995,
          1996,
          1997,
          1998,
          1999,
          2000,
          2001,
          2002,
          2003,
          2004,
          2005,
          2006,
          2007,
          2008,
          2009,
          2010,
          2011,
          2012,
          2013,
          2014,
          2015,
          2016,
          2017,
          2018,
          2019
         ],
         "xaxis": "x",
         "y": [
          899600,
          1076900,
          1380300,
          1307700,
          1102100,
          1029200,
          1143400,
          1278400,
          1119100,
          955800,
          793200,
          804200,
          1086900,
          1135600,
          969300,
          802300,
          689900,
          709500,
          799800,
          1334200,
          1386300,
          1343500,
          1396300,
          1360400,
          1110700,
          860500,
          778400,
          686900,
          614600,
          527100
         ],
         "yaxis": "y"
        },
        {
         "hoverlabel": {
          "namelength": 0
         },
         "hovertemplate": "<b>%{hovertext}</b><br><br>Area=Lewis County<br>Year=%{x}<br>Unemployed=%{y}",
         "hovertext": [
          "Lewis County",
          "Lewis County",
          "Lewis County",
          "Lewis County",
          "Lewis County",
          "Lewis County",
          "Lewis County",
          "Lewis County",
          "Lewis County",
          "Lewis County",
          "Lewis County",
          "Lewis County",
          "Lewis County",
          "Lewis County",
          "Lewis County",
          "Lewis County",
          "Lewis County",
          "Lewis County",
          "Lewis County",
          "Lewis County",
          "Lewis County",
          "Lewis County",
          "Lewis County",
          "Lewis County",
          "Lewis County",
          "Lewis County",
          "Lewis County",
          "Lewis County",
          "Lewis County",
          "Lewis County"
         ],
         "legendgroup": "Area=Lewis County",
         "line": {
          "color": "#FFA15A",
          "dash": "solid"
         },
         "mode": "lines",
         "name": "Area=Lewis County",
         "showlegend": true,
         "type": "scattergl",
         "x": [
          1990,
          1991,
          1992,
          1993,
          1994,
          1995,
          1996,
          1997,
          1998,
          1999,
          2000,
          2001,
          2002,
          2003,
          2004,
          2005,
          2006,
          2007,
          2008,
          2009,
          2010,
          2011,
          2012,
          2013,
          2014,
          2015,
          2016,
          2017,
          2018,
          2019
         ],
         "xaxis": "x",
         "y": [
          10400,
          14500,
          16900,
          15200,
          13900,
          12800,
          11800,
          12100,
          12500,
          13000,
          7800,
          9200,
          9400,
          9700,
          9900,
          9200,
          8500,
          8200,
          10200,
          13400,
          13800,
          14300,
          14700,
          13800,
          11100,
          9900,
          9600,
          9100,
          7600,
          6300
         ],
         "yaxis": "y"
        },
        {
         "hoverlabel": {
          "namelength": 0
         },
         "hovertemplate": "<b>%{hovertext}</b><br><br>Area=Livingston County<br>Year=%{x}<br>Unemployed=%{y}",
         "hovertext": [
          "Livingston County",
          "Livingston County",
          "Livingston County",
          "Livingston County",
          "Livingston County",
          "Livingston County",
          "Livingston County",
          "Livingston County",
          "Livingston County",
          "Livingston County",
          "Livingston County",
          "Livingston County",
          "Livingston County",
          "Livingston County",
          "Livingston County",
          "Livingston County",
          "Livingston County",
          "Livingston County",
          "Livingston County",
          "Livingston County",
          "Livingston County",
          "Livingston County",
          "Livingston County",
          "Livingston County",
          "Livingston County",
          "Livingston County",
          "Livingston County",
          "Livingston County",
          "Livingston County",
          "Livingston County"
         ],
         "legendgroup": "Area=Livingston County",
         "line": {
          "color": "#19d3f3",
          "dash": "solid"
         },
         "mode": "lines",
         "name": "Area=Livingston County",
         "showlegend": true,
         "type": "scattergl",
         "x": [
          1990,
          1991,
          1992,
          1993,
          1994,
          1995,
          1996,
          1997,
          1998,
          1999,
          2000,
          2001,
          2002,
          2003,
          2004,
          2005,
          2006,
          2007,
          2008,
          2009,
          2010,
          2011,
          2012,
          2013,
          2014,
          2015,
          2016,
          2017,
          2018,
          2019
         ],
         "xaxis": "x",
         "y": [
          16800,
          25500,
          26800,
          22800,
          23800,
          22200,
          21400,
          22000,
          21200,
          20500,
          16100,
          17000,
          22400,
          23700,
          22700,
          19600,
          19000,
          19000,
          23200,
          32400,
          31900,
          29400,
          30200,
          27000,
          21600,
          19800,
          18500,
          18400,
          15900,
          12700
         ],
         "yaxis": "y"
        },
        {
         "hoverlabel": {
          "namelength": 0
         },
         "hovertemplate": "<b>%{hovertext}</b><br><br>Area=Madison County<br>Year=%{x}<br>Unemployed=%{y}",
         "hovertext": [
          "Madison County",
          "Madison County",
          "Madison County",
          "Madison County",
          "Madison County",
          "Madison County",
          "Madison County",
          "Madison County",
          "Madison County",
          "Madison County",
          "Madison County",
          "Madison County",
          "Madison County",
          "Madison County",
          "Madison County",
          "Madison County",
          "Madison County",
          "Madison County",
          "Madison County",
          "Madison County",
          "Madison County",
          "Madison County",
          "Madison County",
          "Madison County",
          "Madison County",
          "Madison County",
          "Madison County",
          "Madison County",
          "Madison County",
          "Madison County"
         ],
         "legendgroup": "Area=Madison County",
         "line": {
          "color": "#FF6692",
          "dash": "solid"
         },
         "mode": "lines",
         "name": "Area=Madison County",
         "showlegend": true,
         "type": "scattergl",
         "x": [
          1990,
          1991,
          1992,
          1993,
          1994,
          1995,
          1996,
          1997,
          1998,
          1999,
          2000,
          2001,
          2002,
          2003,
          2004,
          2005,
          2006,
          2007,
          2008,
          2009,
          2010,
          2011,
          2012,
          2013,
          2014,
          2015,
          2016,
          2017,
          2018,
          2019
         ],
         "xaxis": "x",
         "y": [
          21800,
          31600,
          33200,
          28700,
          25200,
          24500,
          22300,
          22000,
          19400,
          19900,
          16300,
          19000,
          22300,
          23600,
          23900,
          22100,
          19800,
          19900,
          25300,
          34900,
          35500,
          34100,
          35500,
          31400,
          25800,
          22300,
          20800,
          21400,
          18800,
          14200
         ],
         "yaxis": "y"
        },
        {
         "hoverlabel": {
          "namelength": 0
         },
         "hovertemplate": "<b>%{hovertext}</b><br><br>Area=Monroe County<br>Year=%{x}<br>Unemployed=%{y}",
         "hovertext": [
          "Monroe County",
          "Monroe County",
          "Monroe County",
          "Monroe County",
          "Monroe County",
          "Monroe County",
          "Monroe County",
          "Monroe County",
          "Monroe County",
          "Monroe County",
          "Monroe County",
          "Monroe County",
          "Monroe County",
          "Monroe County",
          "Monroe County",
          "Monroe County",
          "Monroe County",
          "Monroe County",
          "Monroe County",
          "Monroe County",
          "Monroe County",
          "Monroe County",
          "Monroe County",
          "Monroe County",
          "Monroe County",
          "Monroe County",
          "Monroe County",
          "Monroe County",
          "Monroe County",
          "Monroe County"
         ],
         "legendgroup": "Area=Monroe County",
         "line": {
          "color": "#B6E880",
          "dash": "solid"
         },
         "mode": "lines",
         "name": "Area=Monroe County",
         "showlegend": true,
         "type": "scattergl",
         "x": [
          1990,
          1991,
          1992,
          1993,
          1994,
          1995,
          1996,
          1997,
          1998,
          1999,
          2000,
          2001,
          2002,
          2003,
          2004,
          2005,
          2006,
          2007,
          2008,
          2009,
          2010,
          2011,
          2012,
          2013,
          2014,
          2015,
          2016,
          2017,
          2018,
          2019
         ],
         "xaxis": "x",
         "y": [
          152500,
          200500,
          222900,
          211400,
          224700,
          180600,
          159800,
          167200,
          168900,
          178300,
          160000,
          184200,
          238500,
          244900,
          232100,
          205100,
          194700,
          197600,
          248100,
          353500,
          364800,
          344400,
          355900,
          313700,
          253800,
          222000,
          204200,
          213100,
          185600,
          145400
         ],
         "yaxis": "y"
        },
        {
         "hoverlabel": {
          "namelength": 0
         },
         "hovertemplate": "<b>%{hovertext}</b><br><br>Area=Montgomery County<br>Year=%{x}<br>Unemployed=%{y}",
         "hovertext": [
          "Montgomery County",
          "Montgomery County",
          "Montgomery County",
          "Montgomery County",
          "Montgomery County",
          "Montgomery County",
          "Montgomery County",
          "Montgomery County",
          "Montgomery County",
          "Montgomery County",
          "Montgomery County",
          "Montgomery County",
          "Montgomery County",
          "Montgomery County",
          "Montgomery County",
          "Montgomery County",
          "Montgomery County",
          "Montgomery County",
          "Montgomery County",
          "Montgomery County",
          "Montgomery County",
          "Montgomery County",
          "Montgomery County",
          "Montgomery County",
          "Montgomery County",
          "Montgomery County",
          "Montgomery County",
          "Montgomery County",
          "Montgomery County",
          "Montgomery County"
         ],
         "legendgroup": "Area=Montgomery County",
         "line": {
          "color": "#FF97FF",
          "dash": "solid"
         },
         "mode": "lines",
         "name": "Area=Montgomery County",
         "showlegend": true,
         "type": "scattergl",
         "x": [
          1990,
          1991,
          1992,
          1993,
          1994,
          1995,
          1996,
          1997,
          1998,
          1999,
          2000,
          2001,
          2002,
          2003,
          2004,
          2005,
          2006,
          2007,
          2008,
          2009,
          2010,
          2011,
          2012,
          2013,
          2014,
          2015,
          2016,
          2017,
          2018,
          2019
         ],
         "xaxis": "x",
         "y": [
          20600,
          28700,
          29500,
          22100,
          22200,
          23400,
          23200,
          21200,
          17000,
          17900,
          13600,
          14100,
          16300,
          18400,
          17200,
          15800,
          17000,
          17100,
          21100,
          27700,
          29100,
          28800,
          29300,
          25400,
          20100,
          17600,
          15300,
          15500,
          13600,
          10800
         ],
         "yaxis": "y"
        },
        {
         "hoverlabel": {
          "namelength": 0
         },
         "hovertemplate": "<b>%{hovertext}</b><br><br>Area=Nassau County<br>Year=%{x}<br>Unemployed=%{y}",
         "hovertext": [
          "Nassau County",
          "Nassau County",
          "Nassau County",
          "Nassau County",
          "Nassau County",
          "Nassau County",
          "Nassau County",
          "Nassau County",
          "Nassau County",
          "Nassau County",
          "Nassau County",
          "Nassau County",
          "Nassau County",
          "Nassau County",
          "Nassau County",
          "Nassau County",
          "Nassau County",
          "Nassau County",
          "Nassau County",
          "Nassau County",
          "Nassau County",
          "Nassau County",
          "Nassau County",
          "Nassau County",
          "Nassau County",
          "Nassau County",
          "Nassau County",
          "Nassau County",
          "Nassau County",
          "Nassau County"
         ],
         "legendgroup": "Area=Nassau County",
         "line": {
          "color": "#FECB52",
          "dash": "solid"
         },
         "mode": "lines",
         "name": "Area=Nassau County",
         "showlegend": true,
         "type": "scattergl",
         "x": [
          1990,
          1991,
          1992,
          1993,
          1994,
          1995,
          1996,
          1997,
          1998,
          1999,
          2000,
          2001,
          2002,
          2003,
          2004,
          2005,
          2006,
          2007,
          2008,
          2009,
          2010,
          2011,
          2012,
          2013,
          2014,
          2015,
          2016,
          2017,
          2018,
          2019
         ],
         "xaxis": "x",
         "y": [
          313800,
          469500,
          576500,
          478000,
          409900,
          366700,
          304700,
          290200,
          246800,
          248200,
          270500,
          297800,
          375100,
          377700,
          368900,
          333400,
          310500,
          306900,
          398100,
          573700,
          591900,
          559100,
          585700,
          494300,
          393400,
          353300,
          327600,
          344500,
          300300,
          237600
         ],
         "yaxis": "y"
        },
        {
         "hoverlabel": {
          "namelength": 0
         },
         "hovertemplate": "<b>%{hovertext}</b><br><br>Area=New York County<br>Year=%{x}<br>Unemployed=%{y}",
         "hovertext": [
          "New York County",
          "New York County",
          "New York County",
          "New York County",
          "New York County",
          "New York County",
          "New York County",
          "New York County",
          "New York County",
          "New York County",
          "New York County",
          "New York County",
          "New York County",
          "New York County",
          "New York County",
          "New York County",
          "New York County",
          "New York County",
          "New York County",
          "New York County",
          "New York County",
          "New York County",
          "New York County",
          "New York County",
          "New York County",
          "New York County",
          "New York County",
          "New York County",
          "New York County",
          "New York County"
         ],
         "legendgroup": "Area=New York County",
         "line": {
          "color": "#636efa",
          "dash": "solid"
         },
         "mode": "lines",
         "name": "Area=New York County",
         "showlegend": true,
         "type": "scattergl",
         "x": [
          1990,
          1991,
          1992,
          1993,
          1994,
          1995,
          1996,
          1997,
          1998,
          1999,
          2000,
          2001,
          2002,
          2003,
          2004,
          2005,
          2006,
          2007,
          2008,
          2009,
          2010,
          2011,
          2012,
          2013,
          2014,
          2015,
          2016,
          2017,
          2018,
          2019
         ],
         "xaxis": "x",
         "y": [
          559200,
          701200,
          868500,
          835700,
          707000,
          650000,
          715700,
          788500,
          686400,
          605100,
          517400,
          585700,
          795900,
          782500,
          656900,
          547500,
          470100,
          478000,
          548900,
          943700,
          907900,
          827100,
          862300,
          815400,
          665100,
          531700,
          501300,
          452300,
          404900,
          345500
         ],
         "yaxis": "y"
        },
        {
         "hoverlabel": {
          "namelength": 0
         },
         "hovertemplate": "<b>%{hovertext}</b><br><br>Area=Niagara County<br>Year=%{x}<br>Unemployed=%{y}",
         "hovertext": [
          "Niagara County",
          "Niagara County",
          "Niagara County",
          "Niagara County",
          "Niagara County",
          "Niagara County",
          "Niagara County",
          "Niagara County",
          "Niagara County",
          "Niagara County",
          "Niagara County",
          "Niagara County",
          "Niagara County",
          "Niagara County",
          "Niagara County",
          "Niagara County",
          "Niagara County",
          "Niagara County",
          "Niagara County",
          "Niagara County",
          "Niagara County",
          "Niagara County",
          "Niagara County",
          "Niagara County",
          "Niagara County",
          "Niagara County",
          "Niagara County",
          "Niagara County",
          "Niagara County",
          "Niagara County"
         ],
         "legendgroup": "Area=Niagara County",
         "line": {
          "color": "#EF553B",
          "dash": "solid"
         },
         "mode": "lines",
         "name": "Area=Niagara County",
         "showlegend": true,
         "type": "scattergl",
         "x": [
          1990,
          1991,
          1992,
          1993,
          1994,
          1995,
          1996,
          1997,
          1998,
          1999,
          2000,
          2001,
          2002,
          2003,
          2004,
          2005,
          2006,
          2007,
          2008,
          2009,
          2010,
          2011,
          2012,
          2013,
          2014,
          2015,
          2016,
          2017,
          2018,
          2019
         ],
         "xaxis": "x",
         "y": [
          75000,
          99900,
          109800,
          98200,
          89600,
          78300,
          80400,
          87800,
          88200,
          80600,
          61900,
          71400,
          83800,
          87700,
          82500,
          74300,
          71700,
          71300,
          91900,
          126300,
          124500,
          115900,
          118300,
          106700,
          85600,
          74900,
          70100,
          73600,
          62400,
          46900
         ],
         "yaxis": "y"
        },
        {
         "hoverlabel": {
          "namelength": 0
         },
         "hovertemplate": "<b>%{hovertext}</b><br><br>Area=Oneida County<br>Year=%{x}<br>Unemployed=%{y}",
         "hovertext": [
          "Oneida County",
          "Oneida County",
          "Oneida County",
          "Oneida County",
          "Oneida County",
          "Oneida County",
          "Oneida County",
          "Oneida County",
          "Oneida County",
          "Oneida County",
          "Oneida County",
          "Oneida County",
          "Oneida County",
          "Oneida County",
          "Oneida County",
          "Oneida County",
          "Oneida County",
          "Oneida County",
          "Oneida County",
          "Oneida County",
          "Oneida County",
          "Oneida County",
          "Oneida County",
          "Oneida County",
          "Oneida County",
          "Oneida County",
          "Oneida County",
          "Oneida County",
          "Oneida County",
          "Oneida County"
         ],
         "legendgroup": "Area=Oneida County",
         "line": {
          "color": "#00cc96",
          "dash": "solid"
         },
         "mode": "lines",
         "name": "Area=Oneida County",
         "showlegend": true,
         "type": "scattergl",
         "x": [
          1990,
          1991,
          1992,
          1993,
          1994,
          1995,
          1996,
          1997,
          1998,
          1999,
          2000,
          2001,
          2002,
          2003,
          2004,
          2005,
          2006,
          2007,
          2008,
          2009,
          2010,
          2011,
          2012,
          2013,
          2014,
          2015,
          2016,
          2017,
          2018,
          2019
         ],
         "xaxis": "x",
         "y": [
          61100,
          90600,
          95400,
          83800,
          71900,
          69600,
          65700,
          65400,
          57400,
          54700,
          52000,
          59900,
          70000,
          71600,
          68500,
          63600,
          57300,
          56400,
          71900,
          97800,
          102900,
          104500,
          107200,
          95800,
          75500,
          65300,
          59000,
          60600,
          54100,
          41900
         ],
         "yaxis": "y"
        },
        {
         "hoverlabel": {
          "namelength": 0
         },
         "hovertemplate": "<b>%{hovertext}</b><br><br>Area=Onondaga County<br>Year=%{x}<br>Unemployed=%{y}",
         "hovertext": [
          "Onondaga County",
          "Onondaga County",
          "Onondaga County",
          "Onondaga County",
          "Onondaga County",
          "Onondaga County",
          "Onondaga County",
          "Onondaga County",
          "Onondaga County",
          "Onondaga County",
          "Onondaga County",
          "Onondaga County",
          "Onondaga County",
          "Onondaga County",
          "Onondaga County",
          "Onondaga County",
          "Onondaga County",
          "Onondaga County",
          "Onondaga County",
          "Onondaga County",
          "Onondaga County",
          "Onondaga County",
          "Onondaga County",
          "Onondaga County",
          "Onondaga County",
          "Onondaga County",
          "Onondaga County",
          "Onondaga County",
          "Onondaga County",
          "Onondaga County"
         ],
         "legendgroup": "Area=Onondaga County",
         "line": {
          "color": "#ab63fa",
          "dash": "solid"
         },
         "mode": "lines",
         "name": "Area=Onondaga County",
         "showlegend": true,
         "type": "scattergl",
         "x": [
          1990,
          1991,
          1992,
          1993,
          1994,
          1995,
          1996,
          1997,
          1998,
          1999,
          2000,
          2001,
          2002,
          2003,
          2004,
          2005,
          2006,
          2007,
          2008,
          2009,
          2010,
          2011,
          2012,
          2013,
          2014,
          2015,
          2016,
          2017,
          2018,
          2019
         ],
         "xaxis": "x",
         "y": [
          111900,
          173300,
          189100,
          169800,
          145100,
          128900,
          115600,
          109800,
          98200,
          98700,
          97500,
          110300,
          135300,
          140300,
          140600,
          125900,
          119300,
          113800,
          146400,
          214000,
          228200,
          215300,
          220200,
          190200,
          150000,
          131400,
          119800,
          123000,
          106000,
          84100
         ],
         "yaxis": "y"
        },
        {
         "hoverlabel": {
          "namelength": 0
         },
         "hovertemplate": "<b>%{hovertext}</b><br><br>Area=Ontario County<br>Year=%{x}<br>Unemployed=%{y}",
         "hovertext": [
          "Ontario County",
          "Ontario County",
          "Ontario County",
          "Ontario County",
          "Ontario County",
          "Ontario County",
          "Ontario County",
          "Ontario County",
          "Ontario County",
          "Ontario County",
          "Ontario County",
          "Ontario County",
          "Ontario County",
          "Ontario County",
          "Ontario County",
          "Ontario County",
          "Ontario County",
          "Ontario County",
          "Ontario County",
          "Ontario County",
          "Ontario County",
          "Ontario County",
          "Ontario County",
          "Ontario County",
          "Ontario County",
          "Ontario County",
          "Ontario County",
          "Ontario County",
          "Ontario County",
          "Ontario County"
         ],
         "legendgroup": "Area=Ontario County",
         "line": {
          "color": "#FFA15A",
          "dash": "solid"
         },
         "mode": "lines",
         "name": "Area=Ontario County",
         "showlegend": true,
         "type": "scattergl",
         "x": [
          1990,
          1991,
          1992,
          1993,
          1994,
          1995,
          1996,
          1997,
          1998,
          1999,
          2000,
          2001,
          2002,
          2003,
          2004,
          2005,
          2006,
          2007,
          2008,
          2009,
          2010,
          2011,
          2012,
          2013,
          2014,
          2015,
          2016,
          2017,
          2018,
          2019
         ],
         "xaxis": "x",
         "y": [
          26300,
          34300,
          38400,
          33400,
          33900,
          31700,
          28500,
          27100,
          25800,
          27400,
          23100,
          25800,
          33800,
          34300,
          33100,
          30700,
          29500,
          28400,
          35300,
          49700,
          50300,
          47400,
          48900,
          42000,
          34400,
          31100,
          28300,
          29400,
          26100,
          20600
         ],
         "yaxis": "y"
        },
        {
         "hoverlabel": {
          "namelength": 0
         },
         "hovertemplate": "<b>%{hovertext}</b><br><br>Area=Orange County<br>Year=%{x}<br>Unemployed=%{y}",
         "hovertext": [
          "Orange County",
          "Orange County",
          "Orange County",
          "Orange County",
          "Orange County",
          "Orange County",
          "Orange County",
          "Orange County",
          "Orange County",
          "Orange County",
          "Orange County",
          "Orange County",
          "Orange County",
          "Orange County",
          "Orange County",
          "Orange County",
          "Orange County",
          "Orange County",
          "Orange County",
          "Orange County",
          "Orange County",
          "Orange County",
          "Orange County",
          "Orange County",
          "Orange County",
          "Orange County",
          "Orange County",
          "Orange County",
          "Orange County",
          "Orange County"
         ],
         "legendgroup": "Area=Orange County",
         "line": {
          "color": "#19d3f3",
          "dash": "solid"
         },
         "mode": "lines",
         "name": "Area=Orange County",
         "showlegend": true,
         "type": "scattergl",
         "x": [
          1990,
          1991,
          1992,
          1993,
          1994,
          1995,
          1996,
          1997,
          1998,
          1999,
          2000,
          2001,
          2002,
          2003,
          2004,
          2005,
          2006,
          2007,
          2008,
          2009,
          2010,
          2011,
          2012,
          2013,
          2014,
          2015,
          2016,
          2017,
          2018,
          2019
         ],
         "xaxis": "x",
         "y": [
          80100,
          112000,
          120200,
          112500,
          99700,
          90400,
          79100,
          78500,
          65200,
          70600,
          66000,
          71900,
          87300,
          96700,
          98400,
          90100,
          90200,
          92300,
          117200,
          169500,
          173400,
          165400,
          170500,
          146700,
          115800,
          99400,
          92700,
          98300,
          86000,
          67900
         ],
         "yaxis": "y"
        },
        {
         "hoverlabel": {
          "namelength": 0
         },
         "hovertemplate": "<b>%{hovertext}</b><br><br>Area=Orleans County<br>Year=%{x}<br>Unemployed=%{y}",
         "hovertext": [
          "Orleans County",
          "Orleans County",
          "Orleans County",
          "Orleans County",
          "Orleans County",
          "Orleans County",
          "Orleans County",
          "Orleans County",
          "Orleans County",
          "Orleans County",
          "Orleans County",
          "Orleans County",
          "Orleans County",
          "Orleans County",
          "Orleans County",
          "Orleans County",
          "Orleans County",
          "Orleans County",
          "Orleans County",
          "Orleans County",
          "Orleans County",
          "Orleans County",
          "Orleans County",
          "Orleans County",
          "Orleans County",
          "Orleans County",
          "Orleans County",
          "Orleans County",
          "Orleans County",
          "Orleans County"
         ],
         "legendgroup": "Area=Orleans County",
         "line": {
          "color": "#FF6692",
          "dash": "solid"
         },
         "mode": "lines",
         "name": "Area=Orleans County",
         "showlegend": true,
         "type": "scattergl",
         "x": [
          1990,
          1991,
          1992,
          1993,
          1994,
          1995,
          1996,
          1997,
          1998,
          1999,
          2000,
          2001,
          2002,
          2003,
          2004,
          2005,
          2006,
          2007,
          2008,
          2009,
          2010,
          2011,
          2012,
          2013,
          2014,
          2015,
          2016,
          2017,
          2018,
          2019
         ],
         "xaxis": "x",
         "y": [
          15600,
          17600,
          21000,
          19100,
          17700,
          19800,
          14100,
          16100,
          13800,
          13600,
          11400,
          12400,
          15100,
          16500,
          15400,
          13400,
          13300,
          13500,
          16300,
          21700,
          22200,
          20800,
          21900,
          20500,
          16700,
          13500,
          12100,
          12300,
          10300,
          8000
         ],
         "yaxis": "y"
        },
        {
         "hoverlabel": {
          "namelength": 0
         },
         "hovertemplate": "<b>%{hovertext}</b><br><br>Area=Oswego County<br>Year=%{x}<br>Unemployed=%{y}",
         "hovertext": [
          "Oswego County",
          "Oswego County",
          "Oswego County",
          "Oswego County",
          "Oswego County",
          "Oswego County",
          "Oswego County",
          "Oswego County",
          "Oswego County",
          "Oswego County",
          "Oswego County",
          "Oswego County",
          "Oswego County",
          "Oswego County",
          "Oswego County",
          "Oswego County",
          "Oswego County",
          "Oswego County",
          "Oswego County",
          "Oswego County",
          "Oswego County",
          "Oswego County",
          "Oswego County",
          "Oswego County",
          "Oswego County",
          "Oswego County",
          "Oswego County",
          "Oswego County",
          "Oswego County",
          "Oswego County"
         ],
         "legendgroup": "Area=Oswego County",
         "line": {
          "color": "#B6E880",
          "dash": "solid"
         },
         "mode": "lines",
         "name": "Area=Oswego County",
         "showlegend": true,
         "type": "scattergl",
         "x": [
          1990,
          1991,
          1992,
          1993,
          1994,
          1995,
          1996,
          1997,
          1998,
          1999,
          2000,
          2001,
          2002,
          2003,
          2004,
          2005,
          2006,
          2007,
          2008,
          2009,
          2010,
          2011,
          2012,
          2013,
          2014,
          2015,
          2016,
          2017,
          2018,
          2019
         ],
         "xaxis": "x",
         "y": [
          47600,
          70200,
          72300,
          64700,
          60300,
          58600,
          48000,
          48400,
          39400,
          43500,
          33800,
          37400,
          45400,
          52300,
          49400,
          44700,
          41700,
          39900,
          50600,
          70700,
          75100,
          74900,
          76400,
          67800,
          53300,
          46500,
          41000,
          40900,
          34600,
          27700
         ],
         "yaxis": "y"
        },
        {
         "hoverlabel": {
          "namelength": 0
         },
         "hovertemplate": "<b>%{hovertext}</b><br><br>Area=Otsego County<br>Year=%{x}<br>Unemployed=%{y}",
         "hovertext": [
          "Otsego County",
          "Otsego County",
          "Otsego County",
          "Otsego County",
          "Otsego County",
          "Otsego County",
          "Otsego County",
          "Otsego County",
          "Otsego County",
          "Otsego County",
          "Otsego County",
          "Otsego County",
          "Otsego County",
          "Otsego County",
          "Otsego County",
          "Otsego County",
          "Otsego County",
          "Otsego County",
          "Otsego County",
          "Otsego County",
          "Otsego County",
          "Otsego County",
          "Otsego County",
          "Otsego County",
          "Otsego County",
          "Otsego County",
          "Otsego County",
          "Otsego County",
          "Otsego County",
          "Otsego County"
         ],
         "legendgroup": "Area=Otsego County",
         "line": {
          "color": "#FF97FF",
          "dash": "solid"
         },
         "mode": "lines",
         "name": "Area=Otsego County",
         "showlegend": true,
         "type": "scattergl",
         "x": [
          1990,
          1991,
          1992,
          1993,
          1994,
          1995,
          1996,
          1997,
          1998,
          1999,
          2000,
          2001,
          2002,
          2003,
          2004,
          2005,
          2006,
          2007,
          2008,
          2009,
          2010,
          2011,
          2012,
          2013,
          2014,
          2015,
          2016,
          2017,
          2018,
          2019
         ],
         "xaxis": "x",
         "y": [
          17900,
          22000,
          26300,
          23000,
          22400,
          20400,
          19300,
          20400,
          19000,
          19900,
          15200,
          15300,
          17400,
          17900,
          18300,
          17200,
          16900,
          17100,
          21500,
          28400,
          29100,
          29200,
          29600,
          25500,
          20500,
          18300,
          16600,
          16700,
          14600,
          11400
         ],
         "yaxis": "y"
        },
        {
         "hoverlabel": {
          "namelength": 0
         },
         "hovertemplate": "<b>%{hovertext}</b><br><br>Area=Putnam County<br>Year=%{x}<br>Unemployed=%{y}",
         "hovertext": [
          "Putnam County",
          "Putnam County",
          "Putnam County",
          "Putnam County",
          "Putnam County",
          "Putnam County",
          "Putnam County",
          "Putnam County",
          "Putnam County",
          "Putnam County",
          "Putnam County",
          "Putnam County",
          "Putnam County",
          "Putnam County",
          "Putnam County",
          "Putnam County",
          "Putnam County",
          "Putnam County",
          "Putnam County",
          "Putnam County",
          "Putnam County",
          "Putnam County",
          "Putnam County",
          "Putnam County",
          "Putnam County",
          "Putnam County",
          "Putnam County",
          "Putnam County",
          "Putnam County",
          "Putnam County"
         ],
         "legendgroup": "Area=Putnam County",
         "line": {
          "color": "#FECB52",
          "dash": "solid"
         },
         "mode": "lines",
         "name": "Area=Putnam County",
         "showlegend": true,
         "type": "scattergl",
         "x": [
          1990,
          1991,
          1992,
          1993,
          1994,
          1995,
          1996,
          1997,
          1998,
          1999,
          2000,
          2001,
          2002,
          2003,
          2004,
          2005,
          2006,
          2007,
          2008,
          2009,
          2010,
          2011,
          2012,
          2013,
          2014,
          2015,
          2016,
          2017,
          2018,
          2019
         ],
         "xaxis": "x",
         "y": [
          19000,
          30900,
          35300,
          31100,
          27300,
          22900,
          21400,
          19100,
          17200,
          19000,
          18300,
          20100,
          25500,
          26200,
          26300,
          24900,
          23500,
          22700,
          29800,
          44100,
          45500,
          43700,
          44500,
          37500,
          29900,
          25700,
          24100,
          25600,
          22500,
          18300
         ],
         "yaxis": "y"
        },
        {
         "hoverlabel": {
          "namelength": 0
         },
         "hovertemplate": "<b>%{hovertext}</b><br><br>Area=Queens County<br>Year=%{x}<br>Unemployed=%{y}",
         "hovertext": [
          "Queens County",
          "Queens County",
          "Queens County",
          "Queens County",
          "Queens County",
          "Queens County",
          "Queens County",
          "Queens County",
          "Queens County",
          "Queens County",
          "Queens County",
          "Queens County",
          "Queens County",
          "Queens County",
          "Queens County",
          "Queens County",
          "Queens County",
          "Queens County",
          "Queens County",
          "Queens County",
          "Queens County",
          "Queens County",
          "Queens County",
          "Queens County",
          "Queens County",
          "Queens County",
          "Queens County",
          "Queens County",
          "Queens County",
          "Queens County"
         ],
         "legendgroup": "Area=Queens County",
         "line": {
          "color": "#636efa",
          "dash": "solid"
         },
         "mode": "lines",
         "name": "Area=Queens County",
         "showlegend": true,
         "type": "scattergl",
         "x": [
          1990,
          1991,
          1992,
          1993,
          1994,
          1995,
          1996,
          1997,
          1998,
          1999,
          2000,
          2001,
          2002,
          2003,
          2004,
          2005,
          2006,
          2007,
          2008,
          2009,
          2010,
          2011,
          2012,
          2013,
          2014,
          2015,
          2016,
          2017,
          2018,
          2019
         ],
         "xaxis": "x",
         "y": [
          686400,
          904200,
          1205600,
          1100600,
          937500,
          864300,
          945500,
          1036200,
          846600,
          754200,
          674400,
          673800,
          910600,
          938200,
          814300,
          686500,
          587400,
          592900,
          675700,
          1139600,
          1144800,
          1076000,
          1117800,
          1061200,
          878000,
          697600,
          633000,
          563200,
          501200,
          430100
         ],
         "yaxis": "y"
        },
        {
         "hoverlabel": {
          "namelength": 0
         },
         "hovertemplate": "<b>%{hovertext}</b><br><br>Area=Rensselaer County<br>Year=%{x}<br>Unemployed=%{y}",
         "hovertext": [
          "Rensselaer County",
          "Rensselaer County",
          "Rensselaer County",
          "Rensselaer County",
          "Rensselaer County",
          "Rensselaer County",
          "Rensselaer County",
          "Rensselaer County",
          "Rensselaer County",
          "Rensselaer County",
          "Rensselaer County",
          "Rensselaer County",
          "Rensselaer County",
          "Rensselaer County",
          "Rensselaer County",
          "Rensselaer County",
          "Rensselaer County",
          "Rensselaer County",
          "Rensselaer County",
          "Rensselaer County",
          "Rensselaer County",
          "Rensselaer County",
          "Rensselaer County",
          "Rensselaer County",
          "Rensselaer County",
          "Rensselaer County",
          "Rensselaer County",
          "Rensselaer County",
          "Rensselaer County",
          "Rensselaer County"
         ],
         "legendgroup": "Area=Rensselaer County",
         "line": {
          "color": "#EF553B",
          "dash": "solid"
         },
         "mode": "lines",
         "name": "Area=Rensselaer County",
         "showlegend": true,
         "type": "scattergl",
         "x": [
          1990,
          1991,
          1992,
          1993,
          1994,
          1995,
          1996,
          1997,
          1998,
          1999,
          2000,
          2001,
          2002,
          2003,
          2004,
          2005,
          2006,
          2007,
          2008,
          2009,
          2010,
          2011,
          2012,
          2013,
          2014,
          2015,
          2016,
          2017,
          2018,
          2019
         ],
         "xaxis": "x",
         "y": [
          39600,
          60700,
          62800,
          51200,
          52200,
          52500,
          47200,
          44400,
          39000,
          37500,
          35200,
          36800,
          44700,
          45200,
          45800,
          42000,
          40600,
          42400,
          52400,
          74500,
          78600,
          75500,
          77800,
          67000,
          52200,
          45400,
          41800,
          42900,
          38100,
          29700
         ],
         "yaxis": "y"
        },
        {
         "hoverlabel": {
          "namelength": 0
         },
         "hovertemplate": "<b>%{hovertext}</b><br><br>Area=Richmond County<br>Year=%{x}<br>Unemployed=%{y}",
         "hovertext": [
          "Richmond County",
          "Richmond County",
          "Richmond County",
          "Richmond County",
          "Richmond County",
          "Richmond County",
          "Richmond County",
          "Richmond County",
          "Richmond County",
          "Richmond County",
          "Richmond County",
          "Richmond County",
          "Richmond County",
          "Richmond County",
          "Richmond County",
          "Richmond County",
          "Richmond County",
          "Richmond County",
          "Richmond County",
          "Richmond County",
          "Richmond County",
          "Richmond County",
          "Richmond County",
          "Richmond County",
          "Richmond County",
          "Richmond County",
          "Richmond County",
          "Richmond County",
          "Richmond County",
          "Richmond County"
         ],
         "legendgroup": "Area=Richmond County",
         "line": {
          "color": "#00cc96",
          "dash": "solid"
         },
         "mode": "lines",
         "name": "Area=Richmond County",
         "showlegend": true,
         "type": "scattergl",
         "x": [
          1990,
          1991,
          1992,
          1993,
          1994,
          1995,
          1996,
          1997,
          1998,
          1999,
          2000,
          2001,
          2002,
          2003,
          2004,
          2005,
          2006,
          2007,
          2008,
          2009,
          2010,
          2011,
          2012,
          2013,
          2014,
          2015,
          2016,
          2017,
          2018,
          2019
         ],
         "xaxis": "x",
         "y": [
          132800,
          171300,
          217700,
          208500,
          172800,
          164900,
          178700,
          199600,
          166900,
          143800,
          132100,
          133300,
          184100,
          199400,
          174100,
          146400,
          126700,
          131600,
          149200,
          242400,
          245600,
          238300,
          247900,
          238000,
          196200,
          153900,
          139100,
          123700,
          109600,
          92400
         ],
         "yaxis": "y"
        },
        {
         "hoverlabel": {
          "namelength": 0
         },
         "hovertemplate": "<b>%{hovertext}</b><br><br>Area=Rockland County<br>Year=%{x}<br>Unemployed=%{y}",
         "hovertext": [
          "Rockland County",
          "Rockland County",
          "Rockland County",
          "Rockland County",
          "Rockland County",
          "Rockland County",
          "Rockland County",
          "Rockland County",
          "Rockland County",
          "Rockland County",
          "Rockland County",
          "Rockland County",
          "Rockland County",
          "Rockland County",
          "Rockland County",
          "Rockland County",
          "Rockland County",
          "Rockland County",
          "Rockland County",
          "Rockland County",
          "Rockland County",
          "Rockland County",
          "Rockland County",
          "Rockland County",
          "Rockland County",
          "Rockland County",
          "Rockland County",
          "Rockland County",
          "Rockland County",
          "Rockland County"
         ],
         "legendgroup": "Area=Rockland County",
         "line": {
          "color": "#ab63fa",
          "dash": "solid"
         },
         "mode": "lines",
         "name": "Area=Rockland County",
         "showlegend": true,
         "type": "scattergl",
         "x": [
          1990,
          1991,
          1992,
          1993,
          1994,
          1995,
          1996,
          1997,
          1998,
          1999,
          2000,
          2001,
          2002,
          2003,
          2004,
          2005,
          2006,
          2007,
          2008,
          2009,
          2010,
          2011,
          2012,
          2013,
          2014,
          2015,
          2016,
          2017,
          2018,
          2019
         ],
         "xaxis": "x",
         "y": [
          57900,
          96400,
          109700,
          107200,
          91700,
          82700,
          72900,
          69300,
          59700,
          60900,
          57000,
          61100,
          76500,
          82700,
          79500,
          72100,
          67600,
          71000,
          89200,
          127000,
          134200,
          127500,
          132000,
          113300,
          92300,
          82600,
          76500,
          79600,
          69400,
          54100
         ],
         "yaxis": "y"
        },
        {
         "hoverlabel": {
          "namelength": 0
         },
         "hovertemplate": "<b>%{hovertext}</b><br><br>Area=Saratoga County<br>Year=%{x}<br>Unemployed=%{y}",
         "hovertext": [
          "Saratoga County",
          "Saratoga County",
          "Saratoga County",
          "Saratoga County",
          "Saratoga County",
          "Saratoga County",
          "Saratoga County",
          "Saratoga County",
          "Saratoga County",
          "Saratoga County",
          "Saratoga County",
          "Saratoga County",
          "Saratoga County",
          "Saratoga County",
          "Saratoga County",
          "Saratoga County",
          "Saratoga County",
          "Saratoga County",
          "Saratoga County",
          "Saratoga County",
          "Saratoga County",
          "Saratoga County",
          "Saratoga County",
          "Saratoga County",
          "Saratoga County",
          "Saratoga County",
          "Saratoga County",
          "Saratoga County",
          "Saratoga County",
          "Saratoga County"
         ],
         "legendgroup": "Area=Saratoga County",
         "line": {
          "color": "#FFA15A",
          "dash": "solid"
         },
         "mode": "lines",
         "name": "Area=Saratoga County",
         "showlegend": true,
         "type": "scattergl",
         "x": [
          1990,
          1991,
          1992,
          1993,
          1994,
          1995,
          1996,
          1997,
          1998,
          1999,
          2000,
          2001,
          2002,
          2003,
          2004,
          2005,
          2006,
          2007,
          2008,
          2009,
          2010,
          2011,
          2012,
          2013,
          2014,
          2015,
          2016,
          2017,
          2018,
          2019
         ],
         "xaxis": "x",
         "y": [
          42200,
          64100,
          69800,
          60100,
          58900,
          57200,
          52700,
          48500,
          43800,
          41900,
          44200,
          45000,
          52900,
          55000,
          54800,
          52500,
          50500,
          52600,
          66800,
          92900,
          97700,
          92400,
          96000,
          82200,
          65000,
          58100,
          53800,
          56200,
          50100,
          38700
         ],
         "yaxis": "y"
        },
        {
         "hoverlabel": {
          "namelength": 0
         },
         "hovertemplate": "<b>%{hovertext}</b><br><br>Area=Schenectady County<br>Year=%{x}<br>Unemployed=%{y}",
         "hovertext": [
          "Schenectady County",
          "Schenectady County",
          "Schenectady County",
          "Schenectady County",
          "Schenectady County",
          "Schenectady County",
          "Schenectady County",
          "Schenectady County",
          "Schenectady County",
          "Schenectady County",
          "Schenectady County",
          "Schenectady County",
          "Schenectady County",
          "Schenectady County",
          "Schenectady County",
          "Schenectady County",
          "Schenectady County",
          "Schenectady County",
          "Schenectady County",
          "Schenectady County",
          "Schenectady County",
          "Schenectady County",
          "Schenectady County",
          "Schenectady County",
          "Schenectady County",
          "Schenectady County",
          "Schenectady County",
          "Schenectady County",
          "Schenectady County",
          "Schenectady County"
         ],
         "legendgroup": "Area=Schenectady County",
         "line": {
          "color": "#19d3f3",
          "dash": "solid"
         },
         "mode": "lines",
         "name": "Area=Schenectady County",
         "showlegend": true,
         "type": "scattergl",
         "x": [
          1990,
          1991,
          1992,
          1993,
          1994,
          1995,
          1996,
          1997,
          1998,
          1999,
          2000,
          2001,
          2002,
          2003,
          2004,
          2005,
          2006,
          2007,
          2008,
          2009,
          2010,
          2011,
          2012,
          2013,
          2014,
          2015,
          2016,
          2017,
          2018,
          2019
         ],
         "xaxis": "x",
         "y": [
          34900,
          53800,
          57000,
          46400,
          44400,
          46500,
          41400,
          40000,
          35600,
          30700,
          30400,
          29400,
          36300,
          39600,
          40100,
          37900,
          37000,
          37800,
          47000,
          66800,
          72500,
          69200,
          71900,
          62600,
          48900,
          42700,
          39300,
          40600,
          36800,
          28400
         ],
         "yaxis": "y"
        },
        {
         "hoverlabel": {
          "namelength": 0
         },
         "hovertemplate": "<b>%{hovertext}</b><br><br>Area=Schoharie County<br>Year=%{x}<br>Unemployed=%{y}",
         "hovertext": [
          "Schoharie County",
          "Schoharie County",
          "Schoharie County",
          "Schoharie County",
          "Schoharie County",
          "Schoharie County",
          "Schoharie County",
          "Schoharie County",
          "Schoharie County",
          "Schoharie County",
          "Schoharie County",
          "Schoharie County",
          "Schoharie County",
          "Schoharie County",
          "Schoharie County",
          "Schoharie County",
          "Schoharie County",
          "Schoharie County",
          "Schoharie County",
          "Schoharie County",
          "Schoharie County",
          "Schoharie County",
          "Schoharie County",
          "Schoharie County",
          "Schoharie County",
          "Schoharie County",
          "Schoharie County",
          "Schoharie County",
          "Schoharie County",
          "Schoharie County"
         ],
         "legendgroup": "Area=Schoharie County",
         "line": {
          "color": "#FF6692",
          "dash": "solid"
         },
         "mode": "lines",
         "name": "Area=Schoharie County",
         "showlegend": true,
         "type": "scattergl",
         "x": [
          1990,
          1991,
          1992,
          1993,
          1994,
          1995,
          1996,
          1997,
          1998,
          1999,
          2000,
          2001,
          2002,
          2003,
          2004,
          2005,
          2006,
          2007,
          2008,
          2009,
          2010,
          2011,
          2012,
          2013,
          2014,
          2015,
          2016,
          2017,
          2018,
          2019
         ],
         "xaxis": "x",
         "y": [
          9500,
          13400,
          15900,
          12800,
          11600,
          11400,
          11300,
          11000,
          9000,
          9500,
          7700,
          7800,
          10600,
          9900,
          10200,
          9800,
          9800,
          10900,
          13000,
          16500,
          17100,
          16700,
          17200,
          14900,
          11800,
          10200,
          9600,
          9600,
          8400,
          6600
         ],
         "yaxis": "y"
        },
        {
         "hoverlabel": {
          "namelength": 0
         },
         "hovertemplate": "<b>%{hovertext}</b><br><br>Area=Schuyler County<br>Year=%{x}<br>Unemployed=%{y}",
         "hovertext": [
          "Schuyler County",
          "Schuyler County",
          "Schuyler County",
          "Schuyler County",
          "Schuyler County",
          "Schuyler County",
          "Schuyler County",
          "Schuyler County",
          "Schuyler County",
          "Schuyler County",
          "Schuyler County",
          "Schuyler County",
          "Schuyler County",
          "Schuyler County",
          "Schuyler County",
          "Schuyler County",
          "Schuyler County",
          "Schuyler County",
          "Schuyler County",
          "Schuyler County",
          "Schuyler County",
          "Schuyler County",
          "Schuyler County",
          "Schuyler County",
          "Schuyler County",
          "Schuyler County",
          "Schuyler County",
          "Schuyler County",
          "Schuyler County",
          "Schuyler County"
         ],
         "legendgroup": "Area=Schuyler County",
         "line": {
          "color": "#B6E880",
          "dash": "solid"
         },
         "mode": "lines",
         "name": "Area=Schuyler County",
         "showlegend": true,
         "type": "scattergl",
         "x": [
          1990,
          1991,
          1992,
          1993,
          1994,
          1995,
          1996,
          1997,
          1998,
          1999,
          2000,
          2001,
          2002,
          2003,
          2004,
          2005,
          2006,
          2007,
          2008,
          2009,
          2010,
          2011,
          2012,
          2013,
          2014,
          2015,
          2016,
          2017,
          2018,
          2019
         ],
         "xaxis": "x",
         "y": [
          6100,
          8500,
          9300,
          8000,
          7200,
          6400,
          6100,
          6500,
          6300,
          6400,
          5100,
          6000,
          8000,
          7600,
          7000,
          6500,
          5900,
          5900,
          7000,
          10200,
          9600,
          9400,
          10200,
          9400,
          7300,
          6600,
          5800,
          5900,
          5100,
          3700
         ],
         "yaxis": "y"
        },
        {
         "hoverlabel": {
          "namelength": 0
         },
         "hovertemplate": "<b>%{hovertext}</b><br><br>Area=Seneca County<br>Year=%{x}<br>Unemployed=%{y}",
         "hovertext": [
          "Seneca County",
          "Seneca County",
          "Seneca County",
          "Seneca County",
          "Seneca County",
          "Seneca County",
          "Seneca County",
          "Seneca County",
          "Seneca County",
          "Seneca County",
          "Seneca County",
          "Seneca County",
          "Seneca County",
          "Seneca County",
          "Seneca County",
          "Seneca County",
          "Seneca County",
          "Seneca County",
          "Seneca County",
          "Seneca County",
          "Seneca County",
          "Seneca County",
          "Seneca County",
          "Seneca County",
          "Seneca County",
          "Seneca County",
          "Seneca County",
          "Seneca County",
          "Seneca County",
          "Seneca County"
         ],
         "legendgroup": "Area=Seneca County",
         "line": {
          "color": "#FF97FF",
          "dash": "solid"
         },
         "mode": "lines",
         "name": "Area=Seneca County",
         "showlegend": true,
         "type": "scattergl",
         "x": [
          1990,
          1991,
          1992,
          1993,
          1994,
          1995,
          1996,
          1997,
          1998,
          1999,
          2000,
          2001,
          2002,
          2003,
          2004,
          2005,
          2006,
          2007,
          2008,
          2009,
          2010,
          2011,
          2012,
          2013,
          2014,
          2015,
          2016,
          2017,
          2018,
          2019
         ],
         "xaxis": "x",
         "y": [
          9200,
          12100,
          13200,
          12300,
          11400,
          10800,
          9800,
          10100,
          9200,
          10500,
          8200,
          8500,
          11100,
          11000,
          10900,
          9800,
          9300,
          9200,
          11600,
          15600,
          16200,
          15300,
          15700,
          13200,
          10500,
          9700,
          9000,
          8800,
          7600,
          5900
         ],
         "yaxis": "y"
        },
        {
         "hoverlabel": {
          "namelength": 0
         },
         "hovertemplate": "<b>%{hovertext}</b><br><br>Area=St. Lawrence County<br>Year=%{x}<br>Unemployed=%{y}",
         "hovertext": [
          "St. Lawrence County",
          "St. Lawrence County",
          "St. Lawrence County",
          "St. Lawrence County",
          "St. Lawrence County",
          "St. Lawrence County",
          "St. Lawrence County",
          "St. Lawrence County",
          "St. Lawrence County",
          "St. Lawrence County",
          "St. Lawrence County",
          "St. Lawrence County",
          "St. Lawrence County",
          "St. Lawrence County",
          "St. Lawrence County",
          "St. Lawrence County",
          "St. Lawrence County",
          "St. Lawrence County",
          "St. Lawrence County",
          "St. Lawrence County",
          "St. Lawrence County",
          "St. Lawrence County",
          "St. Lawrence County",
          "St. Lawrence County",
          "St. Lawrence County",
          "St. Lawrence County",
          "St. Lawrence County",
          "St. Lawrence County",
          "St. Lawrence County",
          "St. Lawrence County"
         ],
         "legendgroup": "Area=St. Lawrence County",
         "line": {
          "color": "#FECB52",
          "dash": "solid"
         },
         "mode": "lines",
         "name": "Area=St. Lawrence County",
         "showlegend": true,
         "type": "scattergl",
         "x": [
          1990,
          1991,
          1992,
          1993,
          1994,
          1995,
          1996,
          1997,
          1998,
          1999,
          2000,
          2001,
          2002,
          2003,
          2004,
          2005,
          2006,
          2007,
          2008,
          2009,
          2010,
          2011,
          2012,
          2013,
          2014,
          2015,
          2016,
          2017,
          2018,
          2019
         ],
         "xaxis": "x",
         "y": [
          47100,
          60700,
          61200,
          54600,
          57800,
          51500,
          49500,
          49700,
          49500,
          51400,
          33400,
          35700,
          39100,
          41400,
          40900,
          35800,
          34100,
          34400,
          42600,
          58600,
          62000,
          60800,
          59500,
          53000,
          43900,
          38400,
          34200,
          34500,
          29300,
          23300
         ],
         "yaxis": "y"
        },
        {
         "hoverlabel": {
          "namelength": 0
         },
         "hovertemplate": "<b>%{hovertext}</b><br><br>Area=Steuben County<br>Year=%{x}<br>Unemployed=%{y}",
         "hovertext": [
          "Steuben County",
          "Steuben County",
          "Steuben County",
          "Steuben County",
          "Steuben County",
          "Steuben County",
          "Steuben County",
          "Steuben County",
          "Steuben County",
          "Steuben County",
          "Steuben County",
          "Steuben County",
          "Steuben County",
          "Steuben County",
          "Steuben County",
          "Steuben County",
          "Steuben County",
          "Steuben County",
          "Steuben County",
          "Steuben County",
          "Steuben County",
          "Steuben County",
          "Steuben County",
          "Steuben County",
          "Steuben County",
          "Steuben County",
          "Steuben County",
          "Steuben County",
          "Steuben County",
          "Steuben County"
         ],
         "legendgroup": "Area=Steuben County",
         "line": {
          "color": "#636efa",
          "dash": "solid"
         },
         "mode": "lines",
         "name": "Area=Steuben County",
         "showlegend": true,
         "type": "scattergl",
         "x": [
          1990,
          1991,
          1992,
          1993,
          1994,
          1995,
          1996,
          1997,
          1998,
          1999,
          2000,
          2001,
          2002,
          2003,
          2004,
          2005,
          2006,
          2007,
          2008,
          2009,
          2010,
          2011,
          2012,
          2013,
          2014,
          2015,
          2016,
          2017,
          2018,
          2019
         ],
         "xaxis": "x",
         "y": [
          28900,
          42200,
          47200,
          38600,
          37700,
          38900,
          34400,
          38900,
          35100,
          32700,
          23500,
          28200,
          39900,
          39200,
          33800,
          30300,
          28000,
          28300,
          33300,
          53100,
          54300,
          50600,
          51600,
          46300,
          36500,
          32900,
          30200,
          29200,
          25300,
          18800
         ],
         "yaxis": "y"
        },
        {
         "hoverlabel": {
          "namelength": 0
         },
         "hovertemplate": "<b>%{hovertext}</b><br><br>Area=Suffolk County<br>Year=%{x}<br>Unemployed=%{y}",
         "hovertext": [
          "Suffolk County",
          "Suffolk County",
          "Suffolk County",
          "Suffolk County",
          "Suffolk County",
          "Suffolk County",
          "Suffolk County",
          "Suffolk County",
          "Suffolk County",
          "Suffolk County",
          "Suffolk County",
          "Suffolk County",
          "Suffolk County",
          "Suffolk County",
          "Suffolk County",
          "Suffolk County",
          "Suffolk County",
          "Suffolk County",
          "Suffolk County",
          "Suffolk County",
          "Suffolk County",
          "Suffolk County",
          "Suffolk County",
          "Suffolk County",
          "Suffolk County",
          "Suffolk County",
          "Suffolk County",
          "Suffolk County",
          "Suffolk County",
          "Suffolk County"
         ],
         "legendgroup": "Area=Suffolk County",
         "line": {
          "color": "#EF553B",
          "dash": "solid"
         },
         "mode": "lines",
         "name": "Area=Suffolk County",
         "showlegend": true,
         "type": "scattergl",
         "x": [
          1990,
          1991,
          1992,
          1993,
          1994,
          1995,
          1996,
          1997,
          1998,
          1999,
          2000,
          2001,
          2002,
          2003,
          2004,
          2005,
          2006,
          2007,
          2008,
          2009,
          2010,
          2011,
          2012,
          2013,
          2014,
          2015,
          2016,
          2017,
          2018,
          2019
         ],
         "xaxis": "x",
         "y": [
          377300,
          582200,
          681800,
          606100,
          516900,
          448100,
          387100,
          362800,
          308600,
          313300,
          303200,
          336100,
          420500,
          435500,
          430100,
          391200,
          366800,
          364700,
          481200,
          691500,
          723600,
          703200,
          728200,
          619000,
          495200,
          438300,
          404500,
          416400,
          359300,
          279800
         ],
         "yaxis": "y"
        },
        {
         "hoverlabel": {
          "namelength": 0
         },
         "hovertemplate": "<b>%{hovertext}</b><br><br>Area=Sullivan County<br>Year=%{x}<br>Unemployed=%{y}",
         "hovertext": [
          "Sullivan County",
          "Sullivan County",
          "Sullivan County",
          "Sullivan County",
          "Sullivan County",
          "Sullivan County",
          "Sullivan County",
          "Sullivan County",
          "Sullivan County",
          "Sullivan County",
          "Sullivan County",
          "Sullivan County",
          "Sullivan County",
          "Sullivan County",
          "Sullivan County",
          "Sullivan County",
          "Sullivan County",
          "Sullivan County",
          "Sullivan County",
          "Sullivan County",
          "Sullivan County",
          "Sullivan County",
          "Sullivan County",
          "Sullivan County",
          "Sullivan County",
          "Sullivan County",
          "Sullivan County",
          "Sullivan County",
          "Sullivan County",
          "Sullivan County"
         ],
         "legendgroup": "Area=Sullivan County",
         "line": {
          "color": "#00cc96",
          "dash": "solid"
         },
         "mode": "lines",
         "name": "Area=Sullivan County",
         "showlegend": true,
         "type": "scattergl",
         "x": [
          1990,
          1991,
          1992,
          1993,
          1994,
          1995,
          1996,
          1997,
          1998,
          1999,
          2000,
          2001,
          2002,
          2003,
          2004,
          2005,
          2006,
          2007,
          2008,
          2009,
          2010,
          2011,
          2012,
          2013,
          2014,
          2015,
          2016,
          2017,
          2018,
          2019
         ],
         "xaxis": "x",
         "y": [
          20700,
          32200,
          36700,
          33000,
          29600,
          24600,
          24900,
          24600,
          23200,
          22300,
          17400,
          18000,
          20600,
          21500,
          22300,
          20400,
          21300,
          22200,
          27800,
          36800,
          39000,
          37700,
          38600,
          33700,
          26300,
          21700,
          19400,
          20100,
          17700,
          13700
         ],
         "yaxis": "y"
        },
        {
         "hoverlabel": {
          "namelength": 0
         },
         "hovertemplate": "<b>%{hovertext}</b><br><br>Area=Tioga County<br>Year=%{x}<br>Unemployed=%{y}",
         "hovertext": [
          "Tioga County",
          "Tioga County",
          "Tioga County",
          "Tioga County",
          "Tioga County",
          "Tioga County",
          "Tioga County",
          "Tioga County",
          "Tioga County",
          "Tioga County",
          "Tioga County",
          "Tioga County",
          "Tioga County",
          "Tioga County",
          "Tioga County",
          "Tioga County",
          "Tioga County",
          "Tioga County",
          "Tioga County",
          "Tioga County",
          "Tioga County",
          "Tioga County",
          "Tioga County",
          "Tioga County",
          "Tioga County",
          "Tioga County",
          "Tioga County",
          "Tioga County",
          "Tioga County",
          "Tioga County"
         ],
         "legendgroup": "Area=Tioga County",
         "line": {
          "color": "#ab63fa",
          "dash": "solid"
         },
         "mode": "lines",
         "name": "Area=Tioga County",
         "showlegend": true,
         "type": "scattergl",
         "x": [
          1990,
          1991,
          1992,
          1993,
          1994,
          1995,
          1996,
          1997,
          1998,
          1999,
          2000,
          2001,
          2002,
          2003,
          2004,
          2005,
          2006,
          2007,
          2008,
          2009,
          2010,
          2011,
          2012,
          2013,
          2014,
          2015,
          2016,
          2017,
          2018,
          2019
         ],
         "xaxis": "x",
         "y": [
          13800,
          18600,
          21100,
          20200,
          21700,
          17500,
          14300,
          12400,
          12000,
          12000,
          10900,
          12900,
          17500,
          17800,
          16400,
          14900,
          13600,
          14800,
          16900,
          25300,
          25600,
          23700,
          24200,
          21500,
          17400,
          15400,
          14200,
          13900,
          11900,
          9100
         ],
         "yaxis": "y"
        },
        {
         "hoverlabel": {
          "namelength": 0
         },
         "hovertemplate": "<b>%{hovertext}</b><br><br>Area=Tompkins County<br>Year=%{x}<br>Unemployed=%{y}",
         "hovertext": [
          "Tompkins County",
          "Tompkins County",
          "Tompkins County",
          "Tompkins County",
          "Tompkins County",
          "Tompkins County",
          "Tompkins County",
          "Tompkins County",
          "Tompkins County",
          "Tompkins County",
          "Tompkins County",
          "Tompkins County",
          "Tompkins County",
          "Tompkins County",
          "Tompkins County",
          "Tompkins County",
          "Tompkins County",
          "Tompkins County",
          "Tompkins County",
          "Tompkins County",
          "Tompkins County",
          "Tompkins County",
          "Tompkins County",
          "Tompkins County",
          "Tompkins County",
          "Tompkins County",
          "Tompkins County",
          "Tompkins County",
          "Tompkins County",
          "Tompkins County"
         ],
         "legendgroup": "Area=Tompkins County",
         "line": {
          "color": "#FFA15A",
          "dash": "solid"
         },
         "mode": "lines",
         "name": "Area=Tompkins County",
         "showlegend": true,
         "type": "scattergl",
         "x": [
          1990,
          1991,
          1992,
          1993,
          1994,
          1995,
          1996,
          1997,
          1998,
          1999,
          2000,
          2001,
          2002,
          2003,
          2004,
          2005,
          2006,
          2007,
          2008,
          2009,
          2010,
          2011,
          2012,
          2013,
          2014,
          2015,
          2016,
          2017,
          2018,
          2019
         ],
         "xaxis": "x",
         "y": [
          22000,
          25000,
          27300,
          23600,
          22400,
          20800,
          18100,
          19000,
          17600,
          17200,
          20000,
          20700,
          25400,
          25000,
          26000,
          23500,
          22400,
          22400,
          27900,
          40000,
          40600,
          39300,
          40500,
          35000,
          28700,
          26600,
          24900,
          25800,
          21800,
          17800
         ],
         "yaxis": "y"
        },
        {
         "hoverlabel": {
          "namelength": 0
         },
         "hovertemplate": "<b>%{hovertext}</b><br><br>Area=Ulster County<br>Year=%{x}<br>Unemployed=%{y}",
         "hovertext": [
          "Ulster County",
          "Ulster County",
          "Ulster County",
          "Ulster County",
          "Ulster County",
          "Ulster County",
          "Ulster County",
          "Ulster County",
          "Ulster County",
          "Ulster County",
          "Ulster County",
          "Ulster County",
          "Ulster County",
          "Ulster County",
          "Ulster County",
          "Ulster County",
          "Ulster County",
          "Ulster County",
          "Ulster County",
          "Ulster County",
          "Ulster County",
          "Ulster County",
          "Ulster County",
          "Ulster County",
          "Ulster County",
          "Ulster County",
          "Ulster County",
          "Ulster County",
          "Ulster County",
          "Ulster County"
         ],
         "legendgroup": "Area=Ulster County",
         "line": {
          "color": "#19d3f3",
          "dash": "solid"
         },
         "mode": "lines",
         "name": "Area=Ulster County",
         "showlegend": true,
         "type": "scattergl",
         "x": [
          1990,
          1991,
          1992,
          1993,
          1994,
          1995,
          1996,
          1997,
          1998,
          1999,
          2000,
          2001,
          2002,
          2003,
          2004,
          2005,
          2006,
          2007,
          2008,
          2009,
          2010,
          2011,
          2012,
          2013,
          2014,
          2015,
          2016,
          2017,
          2018,
          2019
         ],
         "xaxis": "x",
         "y": [
          37200,
          60400,
          67300,
          73600,
          63700,
          51400,
          42300,
          39900,
          34600,
          35400,
          37800,
          40000,
          47700,
          49900,
          53200,
          47900,
          45800,
          47200,
          59300,
          83200,
          87700,
          85800,
          90500,
          77500,
          60100,
          50900,
          46600,
          47900,
          41500,
          32000
         ],
         "yaxis": "y"
        },
        {
         "hoverlabel": {
          "namelength": 0
         },
         "hovertemplate": "<b>%{hovertext}</b><br><br>Area=Warren County<br>Year=%{x}<br>Unemployed=%{y}",
         "hovertext": [
          "Warren County",
          "Warren County",
          "Warren County",
          "Warren County",
          "Warren County",
          "Warren County",
          "Warren County",
          "Warren County",
          "Warren County",
          "Warren County",
          "Warren County",
          "Warren County",
          "Warren County",
          "Warren County",
          "Warren County",
          "Warren County",
          "Warren County",
          "Warren County",
          "Warren County",
          "Warren County",
          "Warren County",
          "Warren County",
          "Warren County",
          "Warren County",
          "Warren County",
          "Warren County",
          "Warren County",
          "Warren County",
          "Warren County",
          "Warren County"
         ],
         "legendgroup": "Area=Warren County",
         "line": {
          "color": "#FF6692",
          "dash": "solid"
         },
         "mode": "lines",
         "name": "Area=Warren County",
         "showlegend": true,
         "type": "scattergl",
         "x": [
          1990,
          1991,
          1992,
          1993,
          1994,
          1995,
          1996,
          1997,
          1998,
          1999,
          2000,
          2001,
          2002,
          2003,
          2004,
          2005,
          2006,
          2007,
          2008,
          2009,
          2010,
          2011,
          2012,
          2013,
          2014,
          2015,
          2016,
          2017,
          2018,
          2019
         ],
         "xaxis": "x",
         "y": [
          21600,
          33000,
          36500,
          31600,
          30200,
          27900,
          26700,
          26500,
          24100,
          22700,
          16500,
          17700,
          20100,
          20900,
          20600,
          19600,
          19500,
          19500,
          24700,
          34600,
          36900,
          36000,
          37000,
          32500,
          25700,
          21600,
          20200,
          19900,
          17600,
          13500
         ],
         "yaxis": "y"
        },
        {
         "hoverlabel": {
          "namelength": 0
         },
         "hovertemplate": "<b>%{hovertext}</b><br><br>Area=Washington County<br>Year=%{x}<br>Unemployed=%{y}",
         "hovertext": [
          "Washington County",
          "Washington County",
          "Washington County",
          "Washington County",
          "Washington County",
          "Washington County",
          "Washington County",
          "Washington County",
          "Washington County",
          "Washington County",
          "Washington County",
          "Washington County",
          "Washington County",
          "Washington County",
          "Washington County",
          "Washington County",
          "Washington County",
          "Washington County",
          "Washington County",
          "Washington County",
          "Washington County",
          "Washington County",
          "Washington County",
          "Washington County",
          "Washington County",
          "Washington County",
          "Washington County",
          "Washington County",
          "Washington County",
          "Washington County"
         ],
         "legendgroup": "Area=Washington County",
         "line": {
          "color": "#B6E880",
          "dash": "solid"
         },
         "mode": "lines",
         "name": "Area=Washington County",
         "showlegend": true,
         "type": "scattergl",
         "x": [
          1990,
          1991,
          1992,
          1993,
          1994,
          1995,
          1996,
          1997,
          1998,
          1999,
          2000,
          2001,
          2002,
          2003,
          2004,
          2005,
          2006,
          2007,
          2008,
          2009,
          2010,
          2011,
          2012,
          2013,
          2014,
          2015,
          2016,
          2017,
          2018,
          2019
         ],
         "xaxis": "x",
         "y": [
          18400,
          25800,
          28100,
          23400,
          22400,
          21300,
          19800,
          20700,
          16700,
          15700,
          13400,
          14500,
          16900,
          16900,
          17800,
          17200,
          15900,
          16000,
          21100,
          29100,
          30100,
          28900,
          29600,
          26400,
          20800,
          17400,
          15800,
          15600,
          14000,
          10800
         ],
         "yaxis": "y"
        },
        {
         "hoverlabel": {
          "namelength": 0
         },
         "hovertemplate": "<b>%{hovertext}</b><br><br>Area=Wayne County<br>Year=%{x}<br>Unemployed=%{y}",
         "hovertext": [
          "Wayne County",
          "Wayne County",
          "Wayne County",
          "Wayne County",
          "Wayne County",
          "Wayne County",
          "Wayne County",
          "Wayne County",
          "Wayne County",
          "Wayne County",
          "Wayne County",
          "Wayne County",
          "Wayne County",
          "Wayne County",
          "Wayne County",
          "Wayne County",
          "Wayne County",
          "Wayne County",
          "Wayne County",
          "Wayne County",
          "Wayne County",
          "Wayne County",
          "Wayne County",
          "Wayne County",
          "Wayne County",
          "Wayne County",
          "Wayne County",
          "Wayne County",
          "Wayne County",
          "Wayne County"
         ],
         "legendgroup": "Area=Wayne County",
         "line": {
          "color": "#FF97FF",
          "dash": "solid"
         },
         "mode": "lines",
         "name": "Area=Wayne County",
         "showlegend": true,
         "type": "scattergl",
         "x": [
          1990,
          1991,
          1992,
          1993,
          1994,
          1995,
          1996,
          1997,
          1998,
          1999,
          2000,
          2001,
          2002,
          2003,
          2004,
          2005,
          2006,
          2007,
          2008,
          2009,
          2010,
          2011,
          2012,
          2013,
          2014,
          2015,
          2016,
          2017,
          2018,
          2019
         ],
         "xaxis": "x",
         "y": [
          26600,
          36700,
          41700,
          35200,
          35100,
          32800,
          29800,
          28800,
          28800,
          30000,
          22400,
          27000,
          36600,
          34500,
          32000,
          28800,
          27100,
          27100,
          33900,
          47500,
          50400,
          47000,
          47900,
          41700,
          32900,
          28200,
          26300,
          25800,
          21900,
          17000
         ],
         "yaxis": "y"
        },
        {
         "hoverlabel": {
          "namelength": 0
         },
         "hovertemplate": "<b>%{hovertext}</b><br><br>Area=Westchester County<br>Year=%{x}<br>Unemployed=%{y}",
         "hovertext": [
          "Westchester County",
          "Westchester County",
          "Westchester County",
          "Westchester County",
          "Westchester County",
          "Westchester County",
          "Westchester County",
          "Westchester County",
          "Westchester County",
          "Westchester County",
          "Westchester County",
          "Westchester County",
          "Westchester County",
          "Westchester County",
          "Westchester County",
          "Westchester County",
          "Westchester County",
          "Westchester County",
          "Westchester County",
          "Westchester County",
          "Westchester County",
          "Westchester County",
          "Westchester County",
          "Westchester County",
          "Westchester County",
          "Westchester County",
          "Westchester County",
          "Westchester County",
          "Westchester County",
          "Westchester County"
         ],
         "legendgroup": "Area=Westchester County",
         "line": {
          "color": "#FECB52",
          "dash": "solid"
         },
         "mode": "lines",
         "name": "Area=Westchester County",
         "showlegend": true,
         "type": "scattergl",
         "x": [
          1990,
          1991,
          1992,
          1993,
          1994,
          1995,
          1996,
          1997,
          1998,
          1999,
          2000,
          2001,
          2002,
          2003,
          2004,
          2005,
          2006,
          2007,
          2008,
          2009,
          2010,
          2011,
          2012,
          2013,
          2014,
          2015,
          2016,
          2017,
          2018,
          2019
         ],
         "xaxis": "x",
         "y": [
          200600,
          298600,
          337700,
          295200,
          259600,
          232300,
          217100,
          202100,
          181000,
          184500,
          188600,
          210100,
          254800,
          253200,
          254600,
          231600,
          220700,
          217600,
          285100,
          414700,
          422300,
          401800,
          415900,
          358500,
          289800,
          260300,
          245400,
          259100,
          225900,
          177400
         ],
         "yaxis": "y"
        },
        {
         "hoverlabel": {
          "namelength": 0
         },
         "hovertemplate": "<b>%{hovertext}</b><br><br>Area=Wyoming County<br>Year=%{x}<br>Unemployed=%{y}",
         "hovertext": [
          "Wyoming County",
          "Wyoming County",
          "Wyoming County",
          "Wyoming County",
          "Wyoming County",
          "Wyoming County",
          "Wyoming County",
          "Wyoming County",
          "Wyoming County",
          "Wyoming County",
          "Wyoming County",
          "Wyoming County",
          "Wyoming County",
          "Wyoming County",
          "Wyoming County",
          "Wyoming County",
          "Wyoming County",
          "Wyoming County",
          "Wyoming County",
          "Wyoming County",
          "Wyoming County",
          "Wyoming County",
          "Wyoming County",
          "Wyoming County",
          "Wyoming County",
          "Wyoming County",
          "Wyoming County",
          "Wyoming County",
          "Wyoming County",
          "Wyoming County"
         ],
         "legendgroup": "Area=Wyoming County",
         "line": {
          "color": "#636efa",
          "dash": "solid"
         },
         "mode": "lines",
         "name": "Area=Wyoming County",
         "showlegend": true,
         "type": "scattergl",
         "x": [
          1990,
          1991,
          1992,
          1993,
          1994,
          1995,
          1996,
          1997,
          1998,
          1999,
          2000,
          2001,
          2002,
          2003,
          2004,
          2005,
          2006,
          2007,
          2008,
          2009,
          2010,
          2011,
          2012,
          2013,
          2014,
          2015,
          2016,
          2017,
          2018,
          2019
         ],
         "xaxis": "x",
         "y": [
          13700,
          20000,
          21300,
          20200,
          20500,
          17300,
          16100,
          16900,
          19200,
          17800,
          11500,
          12100,
          14400,
          15300,
          15900,
          13500,
          12500,
          12500,
          16000,
          22400,
          22200,
          19700,
          19900,
          17800,
          14400,
          12400,
          11500,
          12300,
          10200,
          7700
         ],
         "yaxis": "y"
        },
        {
         "hoverlabel": {
          "namelength": 0
         },
         "hovertemplate": "<b>%{hovertext}</b><br><br>Area=Yates County<br>Year=%{x}<br>Unemployed=%{y}",
         "hovertext": [
          "Yates County",
          "Yates County",
          "Yates County",
          "Yates County",
          "Yates County",
          "Yates County",
          "Yates County",
          "Yates County",
          "Yates County",
          "Yates County",
          "Yates County",
          "Yates County",
          "Yates County",
          "Yates County",
          "Yates County",
          "Yates County",
          "Yates County",
          "Yates County",
          "Yates County",
          "Yates County",
          "Yates County",
          "Yates County",
          "Yates County",
          "Yates County",
          "Yates County",
          "Yates County",
          "Yates County",
          "Yates County",
          "Yates County",
          "Yates County"
         ],
         "legendgroup": "Area=Yates County",
         "line": {
          "color": "#EF553B",
          "dash": "solid"
         },
         "mode": "lines",
         "name": "Area=Yates County",
         "showlegend": true,
         "type": "scattergl",
         "x": [
          1990,
          1991,
          1992,
          1993,
          1994,
          1995,
          1996,
          1997,
          1998,
          1999,
          2000,
          2001,
          2002,
          2003,
          2004,
          2005,
          2006,
          2007,
          2008,
          2009,
          2010,
          2011,
          2012,
          2013,
          2014,
          2015,
          2016,
          2017,
          2018,
          2019
         ],
         "xaxis": "x",
         "y": [
          6700,
          9300,
          10100,
          8000,
          7900,
          7400,
          6400,
          6700,
          6200,
          6600,
          5300,
          5400,
          7300,
          7300,
          7100,
          6700,
          6600,
          6600,
          8000,
          10600,
          10800,
          11100,
          11300,
          9900,
          7900,
          7100,
          6300,
          6100,
          5600,
          4300
         ],
         "yaxis": "y"
        }
       ],
       "layout": {
        "height": 600,
        "legend": {
         "tracegroupgap": 0
        },
        "margin": {
         "t": 60
        },
        "showlegend": false,
        "template": {
         "data": {
          "bar": [
           {
            "error_x": {
             "color": "#2a3f5f"
            },
            "error_y": {
             "color": "#2a3f5f"
            },
            "marker": {
             "line": {
              "color": "#E5ECF6",
              "width": 0.5
             }
            },
            "type": "bar"
           }
          ],
          "barpolar": [
           {
            "marker": {
             "line": {
              "color": "#E5ECF6",
              "width": 0.5
             }
            },
            "type": "barpolar"
           }
          ],
          "carpet": [
           {
            "aaxis": {
             "endlinecolor": "#2a3f5f",
             "gridcolor": "white",
             "linecolor": "white",
             "minorgridcolor": "white",
             "startlinecolor": "#2a3f5f"
            },
            "baxis": {
             "endlinecolor": "#2a3f5f",
             "gridcolor": "white",
             "linecolor": "white",
             "minorgridcolor": "white",
             "startlinecolor": "#2a3f5f"
            },
            "type": "carpet"
           }
          ],
          "choropleth": [
           {
            "colorbar": {
             "outlinewidth": 0,
             "ticks": ""
            },
            "type": "choropleth"
           }
          ],
          "contour": [
           {
            "colorbar": {
             "outlinewidth": 0,
             "ticks": ""
            },
            "colorscale": [
             [
              0,
              "#0d0887"
             ],
             [
              0.1111111111111111,
              "#46039f"
             ],
             [
              0.2222222222222222,
              "#7201a8"
             ],
             [
              0.3333333333333333,
              "#9c179e"
             ],
             [
              0.4444444444444444,
              "#bd3786"
             ],
             [
              0.5555555555555556,
              "#d8576b"
             ],
             [
              0.6666666666666666,
              "#ed7953"
             ],
             [
              0.7777777777777778,
              "#fb9f3a"
             ],
             [
              0.8888888888888888,
              "#fdca26"
             ],
             [
              1,
              "#f0f921"
             ]
            ],
            "type": "contour"
           }
          ],
          "contourcarpet": [
           {
            "colorbar": {
             "outlinewidth": 0,
             "ticks": ""
            },
            "type": "contourcarpet"
           }
          ],
          "heatmap": [
           {
            "colorbar": {
             "outlinewidth": 0,
             "ticks": ""
            },
            "colorscale": [
             [
              0,
              "#0d0887"
             ],
             [
              0.1111111111111111,
              "#46039f"
             ],
             [
              0.2222222222222222,
              "#7201a8"
             ],
             [
              0.3333333333333333,
              "#9c179e"
             ],
             [
              0.4444444444444444,
              "#bd3786"
             ],
             [
              0.5555555555555556,
              "#d8576b"
             ],
             [
              0.6666666666666666,
              "#ed7953"
             ],
             [
              0.7777777777777778,
              "#fb9f3a"
             ],
             [
              0.8888888888888888,
              "#fdca26"
             ],
             [
              1,
              "#f0f921"
             ]
            ],
            "type": "heatmap"
           }
          ],
          "heatmapgl": [
           {
            "colorbar": {
             "outlinewidth": 0,
             "ticks": ""
            },
            "colorscale": [
             [
              0,
              "#0d0887"
             ],
             [
              0.1111111111111111,
              "#46039f"
             ],
             [
              0.2222222222222222,
              "#7201a8"
             ],
             [
              0.3333333333333333,
              "#9c179e"
             ],
             [
              0.4444444444444444,
              "#bd3786"
             ],
             [
              0.5555555555555556,
              "#d8576b"
             ],
             [
              0.6666666666666666,
              "#ed7953"
             ],
             [
              0.7777777777777778,
              "#fb9f3a"
             ],
             [
              0.8888888888888888,
              "#fdca26"
             ],
             [
              1,
              "#f0f921"
             ]
            ],
            "type": "heatmapgl"
           }
          ],
          "histogram": [
           {
            "marker": {
             "colorbar": {
              "outlinewidth": 0,
              "ticks": ""
             }
            },
            "type": "histogram"
           }
          ],
          "histogram2d": [
           {
            "colorbar": {
             "outlinewidth": 0,
             "ticks": ""
            },
            "colorscale": [
             [
              0,
              "#0d0887"
             ],
             [
              0.1111111111111111,
              "#46039f"
             ],
             [
              0.2222222222222222,
              "#7201a8"
             ],
             [
              0.3333333333333333,
              "#9c179e"
             ],
             [
              0.4444444444444444,
              "#bd3786"
             ],
             [
              0.5555555555555556,
              "#d8576b"
             ],
             [
              0.6666666666666666,
              "#ed7953"
             ],
             [
              0.7777777777777778,
              "#fb9f3a"
             ],
             [
              0.8888888888888888,
              "#fdca26"
             ],
             [
              1,
              "#f0f921"
             ]
            ],
            "type": "histogram2d"
           }
          ],
          "histogram2dcontour": [
           {
            "colorbar": {
             "outlinewidth": 0,
             "ticks": ""
            },
            "colorscale": [
             [
              0,
              "#0d0887"
             ],
             [
              0.1111111111111111,
              "#46039f"
             ],
             [
              0.2222222222222222,
              "#7201a8"
             ],
             [
              0.3333333333333333,
              "#9c179e"
             ],
             [
              0.4444444444444444,
              "#bd3786"
             ],
             [
              0.5555555555555556,
              "#d8576b"
             ],
             [
              0.6666666666666666,
              "#ed7953"
             ],
             [
              0.7777777777777778,
              "#fb9f3a"
             ],
             [
              0.8888888888888888,
              "#fdca26"
             ],
             [
              1,
              "#f0f921"
             ]
            ],
            "type": "histogram2dcontour"
           }
          ],
          "mesh3d": [
           {
            "colorbar": {
             "outlinewidth": 0,
             "ticks": ""
            },
            "type": "mesh3d"
           }
          ],
          "parcoords": [
           {
            "line": {
             "colorbar": {
              "outlinewidth": 0,
              "ticks": ""
             }
            },
            "type": "parcoords"
           }
          ],
          "pie": [
           {
            "automargin": true,
            "type": "pie"
           }
          ],
          "scatter": [
           {
            "marker": {
             "colorbar": {
              "outlinewidth": 0,
              "ticks": ""
             }
            },
            "type": "scatter"
           }
          ],
          "scatter3d": [
           {
            "line": {
             "colorbar": {
              "outlinewidth": 0,
              "ticks": ""
             }
            },
            "marker": {
             "colorbar": {
              "outlinewidth": 0,
              "ticks": ""
             }
            },
            "type": "scatter3d"
           }
          ],
          "scattercarpet": [
           {
            "marker": {
             "colorbar": {
              "outlinewidth": 0,
              "ticks": ""
             }
            },
            "type": "scattercarpet"
           }
          ],
          "scattergeo": [
           {
            "marker": {
             "colorbar": {
              "outlinewidth": 0,
              "ticks": ""
             }
            },
            "type": "scattergeo"
           }
          ],
          "scattergl": [
           {
            "marker": {
             "colorbar": {
              "outlinewidth": 0,
              "ticks": ""
             }
            },
            "type": "scattergl"
           }
          ],
          "scattermapbox": [
           {
            "marker": {
             "colorbar": {
              "outlinewidth": 0,
              "ticks": ""
             }
            },
            "type": "scattermapbox"
           }
          ],
          "scatterpolar": [
           {
            "marker": {
             "colorbar": {
              "outlinewidth": 0,
              "ticks": ""
             }
            },
            "type": "scatterpolar"
           }
          ],
          "scatterpolargl": [
           {
            "marker": {
             "colorbar": {
              "outlinewidth": 0,
              "ticks": ""
             }
            },
            "type": "scatterpolargl"
           }
          ],
          "scatterternary": [
           {
            "marker": {
             "colorbar": {
              "outlinewidth": 0,
              "ticks": ""
             }
            },
            "type": "scatterternary"
           }
          ],
          "surface": [
           {
            "colorbar": {
             "outlinewidth": 0,
             "ticks": ""
            },
            "colorscale": [
             [
              0,
              "#0d0887"
             ],
             [
              0.1111111111111111,
              "#46039f"
             ],
             [
              0.2222222222222222,
              "#7201a8"
             ],
             [
              0.3333333333333333,
              "#9c179e"
             ],
             [
              0.4444444444444444,
              "#bd3786"
             ],
             [
              0.5555555555555556,
              "#d8576b"
             ],
             [
              0.6666666666666666,
              "#ed7953"
             ],
             [
              0.7777777777777778,
              "#fb9f3a"
             ],
             [
              0.8888888888888888,
              "#fdca26"
             ],
             [
              1,
              "#f0f921"
             ]
            ],
            "type": "surface"
           }
          ],
          "table": [
           {
            "cells": {
             "fill": {
              "color": "#EBF0F8"
             },
             "line": {
              "color": "white"
             }
            },
            "header": {
             "fill": {
              "color": "#C8D4E3"
             },
             "line": {
              "color": "white"
             }
            },
            "type": "table"
           }
          ]
         },
         "layout": {
          "annotationdefaults": {
           "arrowcolor": "#2a3f5f",
           "arrowhead": 0,
           "arrowwidth": 1
          },
          "coloraxis": {
           "colorbar": {
            "outlinewidth": 0,
            "ticks": ""
           }
          },
          "colorscale": {
           "diverging": [
            [
             0,
             "#8e0152"
            ],
            [
             0.1,
             "#c51b7d"
            ],
            [
             0.2,
             "#de77ae"
            ],
            [
             0.3,
             "#f1b6da"
            ],
            [
             0.4,
             "#fde0ef"
            ],
            [
             0.5,
             "#f7f7f7"
            ],
            [
             0.6,
             "#e6f5d0"
            ],
            [
             0.7,
             "#b8e186"
            ],
            [
             0.8,
             "#7fbc41"
            ],
            [
             0.9,
             "#4d9221"
            ],
            [
             1,
             "#276419"
            ]
           ],
           "sequential": [
            [
             0,
             "#0d0887"
            ],
            [
             0.1111111111111111,
             "#46039f"
            ],
            [
             0.2222222222222222,
             "#7201a8"
            ],
            [
             0.3333333333333333,
             "#9c179e"
            ],
            [
             0.4444444444444444,
             "#bd3786"
            ],
            [
             0.5555555555555556,
             "#d8576b"
            ],
            [
             0.6666666666666666,
             "#ed7953"
            ],
            [
             0.7777777777777778,
             "#fb9f3a"
            ],
            [
             0.8888888888888888,
             "#fdca26"
            ],
            [
             1,
             "#f0f921"
            ]
           ],
           "sequentialminus": [
            [
             0,
             "#0d0887"
            ],
            [
             0.1111111111111111,
             "#46039f"
            ],
            [
             0.2222222222222222,
             "#7201a8"
            ],
            [
             0.3333333333333333,
             "#9c179e"
            ],
            [
             0.4444444444444444,
             "#bd3786"
            ],
            [
             0.5555555555555556,
             "#d8576b"
            ],
            [
             0.6666666666666666,
             "#ed7953"
            ],
            [
             0.7777777777777778,
             "#fb9f3a"
            ],
            [
             0.8888888888888888,
             "#fdca26"
            ],
            [
             1,
             "#f0f921"
            ]
           ]
          },
          "colorway": [
           "#636efa",
           "#EF553B",
           "#00cc96",
           "#ab63fa",
           "#FFA15A",
           "#19d3f3",
           "#FF6692",
           "#B6E880",
           "#FF97FF",
           "#FECB52"
          ],
          "font": {
           "color": "#2a3f5f"
          },
          "geo": {
           "bgcolor": "white",
           "lakecolor": "white",
           "landcolor": "#E5ECF6",
           "showlakes": true,
           "showland": true,
           "subunitcolor": "white"
          },
          "hoverlabel": {
           "align": "left"
          },
          "hovermode": "closest",
          "mapbox": {
           "style": "light"
          },
          "paper_bgcolor": "white",
          "plot_bgcolor": "#E5ECF6",
          "polar": {
           "angularaxis": {
            "gridcolor": "white",
            "linecolor": "white",
            "ticks": ""
           },
           "bgcolor": "#E5ECF6",
           "radialaxis": {
            "gridcolor": "white",
            "linecolor": "white",
            "ticks": ""
           }
          },
          "scene": {
           "xaxis": {
            "backgroundcolor": "#E5ECF6",
            "gridcolor": "white",
            "gridwidth": 2,
            "linecolor": "white",
            "showbackground": true,
            "ticks": "",
            "zerolinecolor": "white"
           },
           "yaxis": {
            "backgroundcolor": "#E5ECF6",
            "gridcolor": "white",
            "gridwidth": 2,
            "linecolor": "white",
            "showbackground": true,
            "ticks": "",
            "zerolinecolor": "white"
           },
           "zaxis": {
            "backgroundcolor": "#E5ECF6",
            "gridcolor": "white",
            "gridwidth": 2,
            "linecolor": "white",
            "showbackground": true,
            "ticks": "",
            "zerolinecolor": "white"
           }
          },
          "shapedefaults": {
           "line": {
            "color": "#2a3f5f"
           }
          },
          "ternary": {
           "aaxis": {
            "gridcolor": "white",
            "linecolor": "white",
            "ticks": ""
           },
           "baxis": {
            "gridcolor": "white",
            "linecolor": "white",
            "ticks": ""
           },
           "bgcolor": "#E5ECF6",
           "caxis": {
            "gridcolor": "white",
            "linecolor": "white",
            "ticks": ""
           }
          },
          "title": {
           "x": 0.05
          },
          "xaxis": {
           "automargin": true,
           "gridcolor": "white",
           "linecolor": "white",
           "ticks": "",
           "title": {
            "standoff": 15
           },
           "zerolinecolor": "white",
           "zerolinewidth": 2
          },
          "yaxis": {
           "automargin": true,
           "gridcolor": "white",
           "linecolor": "white",
           "ticks": "",
           "title": {
            "standoff": 15
           },
           "zerolinecolor": "white",
           "zerolinewidth": 2
          }
         }
        },
        "title": {
         "text": "New York Counties Unemployment Trend from 1990-2019"
        },
        "xaxis": {
         "anchor": "y",
         "domain": [
          0,
          1
         ],
         "rangeslider": {
          "visible": true
         },
         "title": {
          "text": "Year"
         }
        },
        "yaxis": {
         "anchor": "x",
         "domain": [
          0,
          1
         ],
         "title": {
          "text": "Unemployed Members in Millions"
         }
        }
       }
      },
      "text/html": [
       "<div>\n",
       "        \n",
       "        \n",
       "            <div id=\"104bbdfd-cd5b-4c70-9bda-906987d37969\" class=\"plotly-graph-div\" style=\"height:600px; width:100%;\"></div>\n",
       "            <script type=\"text/javascript\">\n",
       "                require([\"plotly\"], function(Plotly) {\n",
       "                    window.PLOTLYENV=window.PLOTLYENV || {};\n",
       "                    \n",
       "                if (document.getElementById(\"104bbdfd-cd5b-4c70-9bda-906987d37969\")) {\n",
       "                    Plotly.newPlot(\n",
       "                        '104bbdfd-cd5b-4c70-9bda-906987d37969',\n",
       "                        [{\"hoverlabel\": {\"namelength\": 0}, \"hovertemplate\": \"<b>%{hovertext}</b><br><br>Area=Albany County<br>Year=%{x}<br>Unemployed=%{y}\", \"hovertext\": [\"Albany County\", \"Albany County\", \"Albany County\", \"Albany County\", \"Albany County\", \"Albany County\", \"Albany County\", \"Albany County\", \"Albany County\", \"Albany County\", \"Albany County\", \"Albany County\", \"Albany County\", \"Albany County\", \"Albany County\", \"Albany County\", \"Albany County\", \"Albany County\", \"Albany County\", \"Albany County\", \"Albany County\", \"Albany County\", \"Albany County\", \"Albany County\", \"Albany County\", \"Albany County\", \"Albany County\", \"Albany County\", \"Albany County\", \"Albany County\"], \"legendgroup\": \"Area=Albany County\", \"line\": {\"color\": \"#636efa\", \"dash\": \"solid\"}, \"mode\": \"lines\", \"name\": \"Area=Albany County\", \"showlegend\": true, \"type\": \"scattergl\", \"x\": [1990, 1991, 1992, 1993, 1994, 1995, 1996, 1997, 1998, 1999, 2000, 2001, 2002, 2003, 2004, 2005, 2006, 2007, 2008, 2009, 2010, 2011, 2012, 2013, 2014, 2015, 2016, 2017, 2018, 2019], \"xaxis\": \"x\", \"y\": [56200, 89700, 93900, 79500, 77400, 78900, 70300, 63700, 57200, 54300, 62300, 62000, 74000, 79800, 79400, 74600, 73000, 73700, 93400, 129100, 134800, 131500, 136800, 117000, 92400, 82600, 77000, 79700, 70300, 55900], \"yaxis\": \"y\"}, {\"hoverlabel\": {\"namelength\": 0}, \"hovertemplate\": \"<b>%{hovertext}</b><br><br>Area=Allegany County<br>Year=%{x}<br>Unemployed=%{y}\", \"hovertext\": [\"Allegany County\", \"Allegany County\", \"Allegany County\", \"Allegany County\", \"Allegany County\", \"Allegany County\", \"Allegany County\", \"Allegany County\", \"Allegany County\", \"Allegany County\", \"Allegany County\", \"Allegany County\", \"Allegany County\", \"Allegany County\", \"Allegany County\", \"Allegany County\", \"Allegany County\", \"Allegany County\", \"Allegany County\", \"Allegany County\", \"Allegany County\", \"Allegany County\", \"Allegany County\", \"Allegany County\", \"Allegany County\", \"Allegany County\", \"Allegany County\", \"Allegany County\", \"Allegany County\", \"Allegany County\"], \"legendgroup\": \"Area=Allegany County\", \"line\": {\"color\": \"#EF553B\", \"dash\": \"solid\"}, \"mode\": \"lines\", \"name\": \"Area=Allegany County\", \"showlegend\": true, \"type\": \"scattergl\", \"x\": [1990, 1991, 1992, 1993, 1994, 1995, 1996, 1997, 1998, 1999, 2000, 2001, 2002, 2003, 2004, 2005, 2006, 2007, 2008, 2009, 2010, 2011, 2012, 2013, 2014, 2015, 2016, 2017, 2018, 2019], \"xaxis\": \"x\", \"y\": [17900, 22300, 26500, 23500, 22800, 21300, 21400, 23200, 21200, 21300, 13300, 13200, 15100, 18400, 18000, 16400, 14600, 15400, 18600, 25000, 26500, 25200, 23700, 21400, 17300, 15900, 15100, 15600, 13000, 10200], \"yaxis\": \"y\"}, {\"hoverlabel\": {\"namelength\": 0}, \"hovertemplate\": \"<b>%{hovertext}</b><br><br>Area=Bronx County<br>Year=%{x}<br>Unemployed=%{y}\", \"hovertext\": [\"Bronx County\", \"Bronx County\", \"Bronx County\", \"Bronx County\", \"Bronx County\", \"Bronx County\", \"Bronx County\", \"Bronx County\", \"Bronx County\", \"Bronx County\", \"Bronx County\", \"Bronx County\", \"Bronx County\", \"Bronx County\", \"Bronx County\", \"Bronx County\", \"Bronx County\", \"Bronx County\", \"Bronx County\", \"Bronx County\", \"Bronx County\", \"Bronx County\", \"Bronx County\", \"Bronx County\", \"Bronx County\", \"Bronx County\", \"Bronx County\", \"Bronx County\", \"Bronx County\", \"Bronx County\"], \"legendgroup\": \"Area=Bronx County\", \"line\": {\"color\": \"#00cc96\", \"dash\": \"solid\"}, \"mode\": \"lines\", \"name\": \"Area=Bronx County\", \"showlegend\": true, \"type\": \"scattergl\", \"x\": [1990, 1991, 1992, 1993, 1994, 1995, 1996, 1997, 1998, 1999, 2000, 2001, 2002, 2003, 2004, 2005, 2006, 2007, 2008, 2009, 2010, 2011, 2012, 2013, 2014, 2015, 2016, 2017, 2018, 2019], \"xaxis\": \"x\", \"y\": [466300, 564900, 719000, 662900, 543900, 513900, 583700, 672300, 573400, 474200, 415100, 426200, 580900, 633500, 554600, 461100, 403600, 419900, 475100, 770900, 837800, 836600, 887500, 852600, 709700, 565500, 520400, 459200, 411900, 345600], \"yaxis\": \"y\"}, {\"hoverlabel\": {\"namelength\": 0}, \"hovertemplate\": \"<b>%{hovertext}</b><br><br>Area=Broome County<br>Year=%{x}<br>Unemployed=%{y}\", \"hovertext\": [\"Broome County\", \"Broome County\", \"Broome County\", \"Broome County\", \"Broome County\", \"Broome County\", \"Broome County\", \"Broome County\", \"Broome County\", \"Broome County\", \"Broome County\", \"Broome County\", \"Broome County\", \"Broome County\", \"Broome County\", \"Broome County\", \"Broome County\", \"Broome County\", \"Broome County\", \"Broome County\", \"Broome County\", \"Broome County\", \"Broome County\", \"Broome County\", \"Broome County\", \"Broome County\", \"Broome County\", \"Broome County\", \"Broome County\", \"Broome County\"], \"legendgroup\": \"Area=Broome County\", \"line\": {\"color\": \"#ab63fa\", \"dash\": \"solid\"}, \"mode\": \"lines\", \"name\": \"Area=Broome County\", \"showlegend\": true, \"type\": \"scattergl\", \"x\": [1990, 1991, 1992, 1993, 1994, 1995, 1996, 1997, 1998, 1999, 2000, 2001, 2002, 2003, 2004, 2005, 2006, 2007, 2008, 2009, 2010, 2011, 2012, 2013, 2014, 2015, 2016, 2017, 2018, 2019], \"xaxis\": \"x\", \"y\": [53300, 73800, 84300, 85600, 81300, 62700, 50900, 50800, 48100, 48600, 43000, 50100, 68300, 67000, 62700, 56400, 53400, 51900, 65600, 95500, 102200, 97800, 98100, 85900, 70300, 62100, 55800, 56400, 49400, 38500], \"yaxis\": \"y\"}, {\"hoverlabel\": {\"namelength\": 0}, \"hovertemplate\": \"<b>%{hovertext}</b><br><br>Area=Cattaraugus County<br>Year=%{x}<br>Unemployed=%{y}\", \"hovertext\": [\"Cattaraugus County\", \"Cattaraugus County\", \"Cattaraugus County\", \"Cattaraugus County\", \"Cattaraugus County\", \"Cattaraugus County\", \"Cattaraugus County\", \"Cattaraugus County\", \"Cattaraugus County\", \"Cattaraugus County\", \"Cattaraugus County\", \"Cattaraugus County\", \"Cattaraugus County\", \"Cattaraugus County\", \"Cattaraugus County\", \"Cattaraugus County\", \"Cattaraugus County\", \"Cattaraugus County\", \"Cattaraugus County\", \"Cattaraugus County\", \"Cattaraugus County\", \"Cattaraugus County\", \"Cattaraugus County\", \"Cattaraugus County\", \"Cattaraugus County\", \"Cattaraugus County\", \"Cattaraugus County\", \"Cattaraugus County\", \"Cattaraugus County\", \"Cattaraugus County\"], \"legendgroup\": \"Area=Cattaraugus County\", \"line\": {\"color\": \"#FFA15A\", \"dash\": \"solid\"}, \"mode\": \"lines\", \"name\": \"Area=Cattaraugus County\", \"showlegend\": true, \"type\": \"scattergl\", \"x\": [1990, 1991, 1992, 1993, 1994, 1995, 1996, 1997, 1998, 1999, 2000, 2001, 2002, 2003, 2004, 2005, 2006, 2007, 2008, 2009, 2010, 2011, 2012, 2013, 2014, 2015, 2016, 2017, 2018, 2019], \"xaxis\": \"x\", \"y\": [30300, 43200, 47100, 41000, 39400, 36000, 34700, 36400, 36000, 35300, 22300, 24700, 28000, 29200, 30400, 27200, 25700, 25400, 30500, 43100, 45200, 43300, 42800, 39000, 30800, 26400, 25000, 25400, 21900, 16300], \"yaxis\": \"y\"}, {\"hoverlabel\": {\"namelength\": 0}, \"hovertemplate\": \"<b>%{hovertext}</b><br><br>Area=Cayuga County<br>Year=%{x}<br>Unemployed=%{y}\", \"hovertext\": [\"Cayuga County\", \"Cayuga County\", \"Cayuga County\", \"Cayuga County\", \"Cayuga County\", \"Cayuga County\", \"Cayuga County\", \"Cayuga County\", \"Cayuga County\", \"Cayuga County\", \"Cayuga County\", \"Cayuga County\", \"Cayuga County\", \"Cayuga County\", \"Cayuga County\", \"Cayuga County\", \"Cayuga County\", \"Cayuga County\", \"Cayuga County\", \"Cayuga County\", \"Cayuga County\", \"Cayuga County\", \"Cayuga County\", \"Cayuga County\", \"Cayuga County\", \"Cayuga County\", \"Cayuga County\", \"Cayuga County\", \"Cayuga County\", \"Cayuga County\"], \"legendgroup\": \"Area=Cayuga County\", \"line\": {\"color\": \"#19d3f3\", \"dash\": \"solid\"}, \"mode\": \"lines\", \"name\": \"Area=Cayuga County\", \"showlegend\": true, \"type\": \"scattergl\", \"x\": [1990, 1991, 1992, 1993, 1994, 1995, 1996, 1997, 1998, 1999, 2000, 2001, 2002, 2003, 2004, 2005, 2006, 2007, 2008, 2009, 2010, 2011, 2012, 2013, 2014, 2015, 2016, 2017, 2018, 2019], \"xaxis\": \"x\", \"y\": [29100, 39100, 36900, 32000, 28200, 28300, 25700, 27200, 24100, 23700, 19000, 20300, 23600, 26100, 25800, 24400, 23000, 21900, 27700, 41100, 40900, 38100, 39000, 34400, 27000, 23700, 22200, 21500, 19400, 15000], \"yaxis\": \"y\"}, {\"hoverlabel\": {\"namelength\": 0}, \"hovertemplate\": \"<b>%{hovertext}</b><br><br>Area=Chautauqua County<br>Year=%{x}<br>Unemployed=%{y}\", \"hovertext\": [\"Chautauqua County\", \"Chautauqua County\", \"Chautauqua County\", \"Chautauqua County\", \"Chautauqua County\", \"Chautauqua County\", \"Chautauqua County\", \"Chautauqua County\", \"Chautauqua County\", \"Chautauqua County\", \"Chautauqua County\", \"Chautauqua County\", \"Chautauqua County\", \"Chautauqua County\", \"Chautauqua County\", \"Chautauqua County\", \"Chautauqua County\", \"Chautauqua County\", \"Chautauqua County\", \"Chautauqua County\", \"Chautauqua County\", \"Chautauqua County\", \"Chautauqua County\", \"Chautauqua County\", \"Chautauqua County\", \"Chautauqua County\", \"Chautauqua County\", \"Chautauqua County\", \"Chautauqua County\", \"Chautauqua County\"], \"legendgroup\": \"Area=Chautauqua County\", \"line\": {\"color\": \"#FF6692\", \"dash\": \"solid\"}, \"mode\": \"lines\", \"name\": \"Area=Chautauqua County\", \"showlegend\": true, \"type\": \"scattergl\", \"x\": [1990, 1991, 1992, 1993, 1994, 1995, 1996, 1997, 1998, 1999, 2000, 2001, 2002, 2003, 2004, 2005, 2006, 2007, 2008, 2009, 2010, 2011, 2012, 2013, 2014, 2015, 2016, 2017, 2018, 2019], \"xaxis\": \"x\", \"y\": [47300, 63700, 67400, 56600, 54000, 47600, 41900, 47100, 43400, 40900, 32800, 37300, 44700, 46100, 43800, 38600, 36100, 35900, 44700, 65700, 67800, 60400, 62700, 57900, 47400, 41700, 39000, 39800, 33100, 24800], \"yaxis\": \"y\"}, {\"hoverlabel\": {\"namelength\": 0}, \"hovertemplate\": \"<b>%{hovertext}</b><br><br>Area=Chemung County<br>Year=%{x}<br>Unemployed=%{y}\", \"hovertext\": [\"Chemung County\", \"Chemung County\", \"Chemung County\", \"Chemung County\", \"Chemung County\", \"Chemung County\", \"Chemung County\", \"Chemung County\", \"Chemung County\", \"Chemung County\", \"Chemung County\", \"Chemung County\", \"Chemung County\", \"Chemung County\", \"Chemung County\", \"Chemung County\", \"Chemung County\", \"Chemung County\", \"Chemung County\", \"Chemung County\", \"Chemung County\", \"Chemung County\", \"Chemung County\", \"Chemung County\", \"Chemung County\", \"Chemung County\", \"Chemung County\", \"Chemung County\", \"Chemung County\", \"Chemung County\"], \"legendgroup\": \"Area=Chemung County\", \"line\": {\"color\": \"#B6E880\", \"dash\": \"solid\"}, \"mode\": \"lines\", \"name\": \"Area=Chemung County\", \"showlegend\": true, \"type\": \"scattergl\", \"x\": [1990, 1991, 1992, 1993, 1994, 1995, 1996, 1997, 1998, 1999, 2000, 2001, 2002, 2003, 2004, 2005, 2006, 2007, 2008, 2009, 2010, 2011, 2012, 2013, 2014, 2015, 2016, 2017, 2018, 2019], \"xaxis\": \"x\", \"y\": [25600, 34600, 35200, 29200, 27300, 24800, 22600, 23700, 22900, 25800, 22200, 25100, 32300, 31700, 29200, 25900, 23700, 22300, 27700, 43900, 41900, 38500, 40900, 37600, 28800, 26500, 24800, 23600, 19800, 14300], \"yaxis\": \"y\"}, {\"hoverlabel\": {\"namelength\": 0}, \"hovertemplate\": \"<b>%{hovertext}</b><br><br>Area=Chenango County<br>Year=%{x}<br>Unemployed=%{y}\", \"hovertext\": [\"Chenango County\", \"Chenango County\", \"Chenango County\", \"Chenango County\", \"Chenango County\", \"Chenango County\", \"Chenango County\", \"Chenango County\", \"Chenango County\", \"Chenango County\", \"Chenango County\", \"Chenango County\", \"Chenango County\", \"Chenango County\", \"Chenango County\", \"Chenango County\", \"Chenango County\", \"Chenango County\", \"Chenango County\", \"Chenango County\", \"Chenango County\", \"Chenango County\", \"Chenango County\", \"Chenango County\", \"Chenango County\", \"Chenango County\", \"Chenango County\", \"Chenango County\", \"Chenango County\", \"Chenango County\"], \"legendgroup\": \"Area=Chenango County\", \"line\": {\"color\": \"#FF97FF\", \"dash\": \"solid\"}, \"mode\": \"lines\", \"name\": \"Area=Chenango County\", \"showlegend\": true, \"type\": \"scattergl\", \"x\": [1990, 1991, 1992, 1993, 1994, 1995, 1996, 1997, 1998, 1999, 2000, 2001, 2002, 2003, 2004, 2005, 2006, 2007, 2008, 2009, 2010, 2011, 2012, 2013, 2014, 2015, 2016, 2017, 2018, 2019], \"xaxis\": \"x\", \"y\": [16200, 20500, 23300, 24600, 24100, 21700, 18800, 18300, 16400, 16800, 11900, 13100, 16300, 16800, 16100, 14400, 14200, 14500, 18700, 26200, 26200, 24800, 24900, 21100, 17400, 15100, 13900, 14200, 12600, 9500], \"yaxis\": \"y\"}, {\"hoverlabel\": {\"namelength\": 0}, \"hovertemplate\": \"<b>%{hovertext}</b><br><br>Area=Clinton County<br>Year=%{x}<br>Unemployed=%{y}\", \"hovertext\": [\"Clinton County\", \"Clinton County\", \"Clinton County\", \"Clinton County\", \"Clinton County\", \"Clinton County\", \"Clinton County\", \"Clinton County\", \"Clinton County\", \"Clinton County\", \"Clinton County\", \"Clinton County\", \"Clinton County\", \"Clinton County\", \"Clinton County\", \"Clinton County\", \"Clinton County\", \"Clinton County\", \"Clinton County\", \"Clinton County\", \"Clinton County\", \"Clinton County\", \"Clinton County\", \"Clinton County\", \"Clinton County\", \"Clinton County\", \"Clinton County\", \"Clinton County\", \"Clinton County\", \"Clinton County\"], \"legendgroup\": \"Area=Clinton County\", \"line\": {\"color\": \"#FECB52\", \"dash\": \"solid\"}, \"mode\": \"lines\", \"name\": \"Area=Clinton County\", \"showlegend\": true, \"type\": \"scattergl\", \"x\": [1990, 1991, 1992, 1993, 1994, 1995, 1996, 1997, 1998, 1999, 2000, 2001, 2002, 2003, 2004, 2005, 2006, 2007, 2008, 2009, 2010, 2011, 2012, 2013, 2014, 2015, 2016, 2017, 2018, 2019], \"xaxis\": \"x\", \"y\": [28400, 38300, 43000, 37400, 38000, 32800, 32600, 32500, 29300, 31100, 21800, 20700, 25200, 28700, 29100, 25100, 25700, 26700, 31500, 44600, 46700, 44300, 42900, 37000, 28600, 25000, 23000, 22700, 19200, 15200], \"yaxis\": \"y\"}, {\"hoverlabel\": {\"namelength\": 0}, \"hovertemplate\": \"<b>%{hovertext}</b><br><br>Area=Columbia County<br>Year=%{x}<br>Unemployed=%{y}\", \"hovertext\": [\"Columbia County\", \"Columbia County\", \"Columbia County\", \"Columbia County\", \"Columbia County\", \"Columbia County\", \"Columbia County\", \"Columbia County\", \"Columbia County\", \"Columbia County\", \"Columbia County\", \"Columbia County\", \"Columbia County\", \"Columbia County\", \"Columbia County\", \"Columbia County\", \"Columbia County\", \"Columbia County\", \"Columbia County\", \"Columbia County\", \"Columbia County\", \"Columbia County\", \"Columbia County\", \"Columbia County\", \"Columbia County\", \"Columbia County\", \"Columbia County\", \"Columbia County\", \"Columbia County\", \"Columbia County\"], \"legendgroup\": \"Area=Columbia County\", \"line\": {\"color\": \"#636efa\", \"dash\": \"solid\"}, \"mode\": \"lines\", \"name\": \"Area=Columbia County\", \"showlegend\": true, \"type\": \"scattergl\", \"x\": [1990, 1991, 1992, 1993, 1994, 1995, 1996, 1997, 1998, 1999, 2000, 2001, 2002, 2003, 2004, 2005, 2006, 2007, 2008, 2009, 2010, 2011, 2012, 2013, 2014, 2015, 2016, 2017, 2018, 2019], \"xaxis\": \"x\", \"y\": [11900, 20500, 21700, 20300, 18200, 16400, 15900, 14600, 13300, 12400, 13000, 13100, 15800, 16500, 16700, 14600, 14100, 15000, 18400, 27700, 28100, 26900, 26900, 23000, 17800, 15100, 14000, 14000, 12600, 9900], \"yaxis\": \"y\"}, {\"hoverlabel\": {\"namelength\": 0}, \"hovertemplate\": \"<b>%{hovertext}</b><br><br>Area=Cortland County<br>Year=%{x}<br>Unemployed=%{y}\", \"hovertext\": [\"Cortland County\", \"Cortland County\", \"Cortland County\", \"Cortland County\", \"Cortland County\", \"Cortland County\", \"Cortland County\", \"Cortland County\", \"Cortland County\", \"Cortland County\", \"Cortland County\", \"Cortland County\", \"Cortland County\", \"Cortland County\", \"Cortland County\", \"Cortland County\", \"Cortland County\", \"Cortland County\", \"Cortland County\", \"Cortland County\", \"Cortland County\", \"Cortland County\", \"Cortland County\", \"Cortland County\", \"Cortland County\", \"Cortland County\", \"Cortland County\", \"Cortland County\", \"Cortland County\", \"Cortland County\"], \"legendgroup\": \"Area=Cortland County\", \"line\": {\"color\": \"#EF553B\", \"dash\": \"solid\"}, \"mode\": \"lines\", \"name\": \"Area=Cortland County\", \"showlegend\": true, \"type\": \"scattergl\", \"x\": [1990, 1991, 1992, 1993, 1994, 1995, 1996, 1997, 1998, 1999, 2000, 2001, 2002, 2003, 2004, 2005, 2006, 2007, 2008, 2009, 2010, 2011, 2012, 2013, 2014, 2015, 2016, 2017, 2018, 2019], \"xaxis\": \"x\", \"y\": [18800, 22400, 24500, 23800, 22600, 19700, 17400, 19400, 21800, 18800, 12700, 13900, 17500, 16900, 17800, 15600, 14900, 14700, 18600, 26600, 26200, 24700, 25400, 22400, 18600, 16400, 15500, 15900, 13900, 10800], \"yaxis\": \"y\"}, {\"hoverlabel\": {\"namelength\": 0}, \"hovertemplate\": \"<b>%{hovertext}</b><br><br>Area=Delaware County<br>Year=%{x}<br>Unemployed=%{y}\", \"hovertext\": [\"Delaware County\", \"Delaware County\", \"Delaware County\", \"Delaware County\", \"Delaware County\", \"Delaware County\", \"Delaware County\", \"Delaware County\", \"Delaware County\", \"Delaware County\", \"Delaware County\", \"Delaware County\", \"Delaware County\", \"Delaware County\", \"Delaware County\", \"Delaware County\", \"Delaware County\", \"Delaware County\", \"Delaware County\", \"Delaware County\", \"Delaware County\", \"Delaware County\", \"Delaware County\", \"Delaware County\", \"Delaware County\", \"Delaware County\", \"Delaware County\", \"Delaware County\", \"Delaware County\", \"Delaware County\"], \"legendgroup\": \"Area=Delaware County\", \"line\": {\"color\": \"#00cc96\", \"dash\": \"solid\"}, \"mode\": \"lines\", \"name\": \"Area=Delaware County\", \"showlegend\": true, \"type\": \"scattergl\", \"x\": [1990, 1991, 1992, 1993, 1994, 1995, 1996, 1997, 1998, 1999, 2000, 2001, 2002, 2003, 2004, 2005, 2006, 2007, 2008, 2009, 2010, 2011, 2012, 2013, 2014, 2015, 2016, 2017, 2018, 2019], \"xaxis\": \"x\", \"y\": [13300, 17300, 19900, 17200, 16100, 13700, 13100, 13400, 11500, 13200, 11200, 11100, 13000, 13200, 12600, 12400, 12000, 12100, 16500, 22900, 23700, 22700, 22800, 20000, 15800, 14200, 12600, 12300, 11000, 8900], \"yaxis\": \"y\"}, {\"hoverlabel\": {\"namelength\": 0}, \"hovertemplate\": \"<b>%{hovertext}</b><br><br>Area=Dutchess County<br>Year=%{x}<br>Unemployed=%{y}\", \"hovertext\": [\"Dutchess County\", \"Dutchess County\", \"Dutchess County\", \"Dutchess County\", \"Dutchess County\", \"Dutchess County\", \"Dutchess County\", \"Dutchess County\", \"Dutchess County\", \"Dutchess County\", \"Dutchess County\", \"Dutchess County\", \"Dutchess County\", \"Dutchess County\", \"Dutchess County\", \"Dutchess County\", \"Dutchess County\", \"Dutchess County\", \"Dutchess County\", \"Dutchess County\", \"Dutchess County\", \"Dutchess County\", \"Dutchess County\", \"Dutchess County\", \"Dutchess County\", \"Dutchess County\", \"Dutchess County\", \"Dutchess County\", \"Dutchess County\", \"Dutchess County\"], \"legendgroup\": \"Area=Dutchess County\", \"line\": {\"color\": \"#ab63fa\", \"dash\": \"solid\"}, \"mode\": \"lines\", \"name\": \"Area=Dutchess County\", \"showlegend\": true, \"type\": \"scattergl\", \"x\": [1990, 1991, 1992, 1993, 1994, 1995, 1996, 1997, 1998, 1999, 2000, 2001, 2002, 2003, 2004, 2005, 2006, 2007, 2008, 2009, 2010, 2011, 2012, 2013, 2014, 2015, 2016, 2017, 2018, 2019], \"xaxis\": \"x\", \"y\": [47300, 81400, 101000, 126400, 98000, 69400, 59600, 58100, 48800, 49600, 53600, 57700, 71600, 70500, 74100, 69000, 67200, 68000, 90300, 133100, 138200, 131800, 136800, 116600, 91000, 77300, 71200, 73100, 63800, 50500], \"yaxis\": \"y\"}, {\"hoverlabel\": {\"namelength\": 0}, \"hovertemplate\": \"<b>%{hovertext}</b><br><br>Area=Erie County<br>Year=%{x}<br>Unemployed=%{y}\", \"hovertext\": [\"Erie County\", \"Erie County\", \"Erie County\", \"Erie County\", \"Erie County\", \"Erie County\", \"Erie County\", \"Erie County\", \"Erie County\", \"Erie County\", \"Erie County\", \"Erie County\", \"Erie County\", \"Erie County\", \"Erie County\", \"Erie County\", \"Erie County\", \"Erie County\", \"Erie County\", \"Erie County\", \"Erie County\", \"Erie County\", \"Erie County\", \"Erie County\", \"Erie County\", \"Erie County\", \"Erie County\", \"Erie County\", \"Erie County\", \"Erie County\"], \"legendgroup\": \"Area=Erie County\", \"line\": {\"color\": \"#FFA15A\", \"dash\": \"solid\"}, \"mode\": \"lines\", \"name\": \"Area=Erie County\", \"showlegend\": true, \"type\": \"scattergl\", \"x\": [1990, 1991, 1992, 1993, 1994, 1995, 1996, 1997, 1998, 1999, 2000, 2001, 2002, 2003, 2004, 2005, 2006, 2007, 2008, 2009, 2010, 2011, 2012, 2013, 2014, 2015, 2016, 2017, 2018, 2019], \"xaxis\": \"x\", \"y\": [301000, 397900, 415900, 372800, 331600, 291900, 271900, 287100, 289200, 288100, 236400, 257500, 302700, 321500, 322500, 293500, 276200, 262100, 324300, 457700, 464500, 439700, 460300, 409400, 328500, 286900, 262600, 274000, 234900, 181100], \"yaxis\": \"y\"}, {\"hoverlabel\": {\"namelength\": 0}, \"hovertemplate\": \"<b>%{hovertext}</b><br><br>Area=Essex County<br>Year=%{x}<br>Unemployed=%{y}\", \"hovertext\": [\"Essex County\", \"Essex County\", \"Essex County\", \"Essex County\", \"Essex County\", \"Essex County\", \"Essex County\", \"Essex County\", \"Essex County\", \"Essex County\", \"Essex County\", \"Essex County\", \"Essex County\", \"Essex County\", \"Essex County\", \"Essex County\", \"Essex County\", \"Essex County\", \"Essex County\", \"Essex County\", \"Essex County\", \"Essex County\", \"Essex County\", \"Essex County\", \"Essex County\", \"Essex County\", \"Essex County\", \"Essex County\", \"Essex County\", \"Essex County\"], \"legendgroup\": \"Area=Essex County\", \"line\": {\"color\": \"#19d3f3\", \"dash\": \"solid\"}, \"mode\": \"lines\", \"name\": \"Area=Essex County\", \"showlegend\": true, \"type\": \"scattergl\", \"x\": [1990, 1991, 1992, 1993, 1994, 1995, 1996, 1997, 1998, 1999, 2000, 2001, 2002, 2003, 2004, 2005, 2006, 2007, 2008, 2009, 2010, 2011, 2012, 2013, 2014, 2015, 2016, 2017, 2018, 2019], \"xaxis\": \"x\", \"y\": [17400, 24500, 27500, 22800, 22100, 19400, 18300, 18700, 18000, 18600, 10800, 10200, 11500, 11500, 12200, 12000, 12400, 12600, 14900, 20100, 20400, 19900, 20900, 17900, 14500, 12600, 11100, 11200, 9900, 7700], \"yaxis\": \"y\"}, {\"hoverlabel\": {\"namelength\": 0}, \"hovertemplate\": \"<b>%{hovertext}</b><br><br>Area=Franklin County<br>Year=%{x}<br>Unemployed=%{y}\", \"hovertext\": [\"Franklin County\", \"Franklin County\", \"Franklin County\", \"Franklin County\", \"Franklin County\", \"Franklin County\", \"Franklin County\", \"Franklin County\", \"Franklin County\", \"Franklin County\", \"Franklin County\", \"Franklin County\", \"Franklin County\", \"Franklin County\", \"Franklin County\", \"Franklin County\", \"Franklin County\", \"Franklin County\", \"Franklin County\", \"Franklin County\", \"Franklin County\", \"Franklin County\", \"Franklin County\", \"Franklin County\", \"Franklin County\", \"Franklin County\", \"Franklin County\", \"Franklin County\", \"Franklin County\", \"Franklin County\"], \"legendgroup\": \"Area=Franklin County\", \"line\": {\"color\": \"#FF6692\", \"dash\": \"solid\"}, \"mode\": \"lines\", \"name\": \"Area=Franklin County\", \"showlegend\": true, \"type\": \"scattergl\", \"x\": [1990, 1991, 1992, 1993, 1994, 1995, 1996, 1997, 1998, 1999, 2000, 2001, 2002, 2003, 2004, 2005, 2006, 2007, 2008, 2009, 2010, 2011, 2012, 2013, 2014, 2015, 2016, 2017, 2018, 2019], \"xaxis\": \"x\", \"y\": [21400, 29300, 26600, 22000, 22700, 21300, 21800, 22800, 20400, 20800, 15300, 15700, 16200, 17900, 17400, 15800, 14700, 15000, 19100, 23500, 24100, 23600, 25100, 23000, 17900, 15600, 13400, 14300, 12000, 9300], \"yaxis\": \"y\"}, {\"hoverlabel\": {\"namelength\": 0}, \"hovertemplate\": \"<b>%{hovertext}</b><br><br>Area=Fulton County<br>Year=%{x}<br>Unemployed=%{y}\", \"hovertext\": [\"Fulton County\", \"Fulton County\", \"Fulton County\", \"Fulton County\", \"Fulton County\", \"Fulton County\", \"Fulton County\", \"Fulton County\", \"Fulton County\", \"Fulton County\", \"Fulton County\", \"Fulton County\", \"Fulton County\", \"Fulton County\", \"Fulton County\", \"Fulton County\", \"Fulton County\", \"Fulton County\", \"Fulton County\", \"Fulton County\", \"Fulton County\", \"Fulton County\", \"Fulton County\", \"Fulton County\", \"Fulton County\", \"Fulton County\", \"Fulton County\", \"Fulton County\", \"Fulton County\", \"Fulton County\"], \"legendgroup\": \"Area=Fulton County\", \"line\": {\"color\": \"#B6E880\", \"dash\": \"solid\"}, \"mode\": \"lines\", \"name\": \"Area=Fulton County\", \"showlegend\": true, \"type\": \"scattergl\", \"x\": [1990, 1991, 1992, 1993, 1994, 1995, 1996, 1997, 1998, 1999, 2000, 2001, 2002, 2003, 2004, 2005, 2006, 2007, 2008, 2009, 2010, 2011, 2012, 2013, 2014, 2015, 2016, 2017, 2018, 2019], \"xaxis\": \"x\", \"y\": [27800, 34200, 32400, 25700, 25200, 26200, 27300, 24700, 20100, 19500, 14700, 14300, 15900, 18100, 18100, 18000, 17200, 17700, 22300, 31500, 33200, 32500, 33500, 28000, 21700, 18100, 15900, 16000, 14000, 10900], \"yaxis\": \"y\"}, {\"hoverlabel\": {\"namelength\": 0}, \"hovertemplate\": \"<b>%{hovertext}</b><br><br>Area=Genesee County<br>Year=%{x}<br>Unemployed=%{y}\", \"hovertext\": [\"Genesee County\", \"Genesee County\", \"Genesee County\", \"Genesee County\", \"Genesee County\", \"Genesee County\", \"Genesee County\", \"Genesee County\", \"Genesee County\", \"Genesee County\", \"Genesee County\", \"Genesee County\", \"Genesee County\", \"Genesee County\", \"Genesee County\", \"Genesee County\", \"Genesee County\", \"Genesee County\", \"Genesee County\", \"Genesee County\", \"Genesee County\", \"Genesee County\", \"Genesee County\", \"Genesee County\", \"Genesee County\", \"Genesee County\", \"Genesee County\", \"Genesee County\", \"Genesee County\", \"Genesee County\"], \"legendgroup\": \"Area=Genesee County\", \"line\": {\"color\": \"#FF97FF\", \"dash\": \"solid\"}, \"mode\": \"lines\", \"name\": \"Area=Genesee County\", \"showlegend\": true, \"type\": \"scattergl\", \"x\": [1990, 1991, 1992, 1993, 1994, 1995, 1996, 1997, 1998, 1999, 2000, 2001, 2002, 2003, 2004, 2005, 2006, 2007, 2008, 2009, 2010, 2011, 2012, 2013, 2014, 2015, 2016, 2017, 2018, 2019], \"xaxis\": \"x\", \"y\": [19600, 30600, 30600, 25100, 24900, 22200, 19400, 21800, 20700, 20200, 15500, 16500, 20700, 21700, 22100, 19100, 18100, 17800, 22800, 30300, 30600, 28900, 29200, 25100, 19900, 17900, 16300, 16900, 15300, 11300], \"yaxis\": \"y\"}, {\"hoverlabel\": {\"namelength\": 0}, \"hovertemplate\": \"<b>%{hovertext}</b><br><br>Area=Greene County<br>Year=%{x}<br>Unemployed=%{y}\", \"hovertext\": [\"Greene County\", \"Greene County\", \"Greene County\", \"Greene County\", \"Greene County\", \"Greene County\", \"Greene County\", \"Greene County\", \"Greene County\", \"Greene County\", \"Greene County\", \"Greene County\", \"Greene County\", \"Greene County\", \"Greene County\", \"Greene County\", \"Greene County\", \"Greene County\", \"Greene County\", \"Greene County\", \"Greene County\", \"Greene County\", \"Greene County\", \"Greene County\", \"Greene County\", \"Greene County\", \"Greene County\", \"Greene County\", \"Greene County\", \"Greene County\"], \"legendgroup\": \"Area=Greene County\", \"line\": {\"color\": \"#FECB52\", \"dash\": \"solid\"}, \"mode\": \"lines\", \"name\": \"Area=Greene County\", \"showlegend\": true, \"type\": \"scattergl\", \"x\": [1990, 1991, 1992, 1993, 1994, 1995, 1996, 1997, 1998, 1999, 2000, 2001, 2002, 2003, 2004, 2005, 2006, 2007, 2008, 2009, 2010, 2011, 2012, 2013, 2014, 2015, 2016, 2017, 2018, 2019], \"xaxis\": \"x\", \"y\": [12400, 19800, 23000, 22000, 21000, 18900, 17000, 15900, 14500, 14200, 12400, 12100, 13900, 14500, 14700, 13900, 13600, 13600, 17200, 24100, 24100, 24300, 25700, 22500, 17000, 13900, 12400, 12800, 11300, 8700], \"yaxis\": \"y\"}, {\"hoverlabel\": {\"namelength\": 0}, \"hovertemplate\": \"<b>%{hovertext}</b><br><br>Area=Hamilton County<br>Year=%{x}<br>Unemployed=%{y}\", \"hovertext\": [\"Hamilton County\", \"Hamilton County\", \"Hamilton County\", \"Hamilton County\", \"Hamilton County\", \"Hamilton County\", \"Hamilton County\", \"Hamilton County\", \"Hamilton County\", \"Hamilton County\", \"Hamilton County\", \"Hamilton County\", \"Hamilton County\", \"Hamilton County\", \"Hamilton County\", \"Hamilton County\", \"Hamilton County\", \"Hamilton County\", \"Hamilton County\", \"Hamilton County\", \"Hamilton County\", \"Hamilton County\", \"Hamilton County\", \"Hamilton County\", \"Hamilton County\", \"Hamilton County\", \"Hamilton County\", \"Hamilton County\", \"Hamilton County\", \"Hamilton County\"], \"legendgroup\": \"Area=Hamilton County\", \"line\": {\"color\": \"#636efa\", \"dash\": \"solid\"}, \"mode\": \"lines\", \"name\": \"Area=Hamilton County\", \"showlegend\": true, \"type\": \"scattergl\", \"x\": [1990, 1991, 1992, 1993, 1994, 1995, 1996, 1997, 1998, 1999, 2000, 2001, 2002, 2003, 2004, 2005, 2006, 2007, 2008, 2009, 2010, 2011, 2012, 2013, 2014, 2015, 2016, 2017, 2018, 2019], \"xaxis\": \"x\", \"y\": [2900, 3500, 4100, 3800, 3600, 3400, 3400, 3300, 3500, 3200, 1900, 1800, 1800, 1800, 1900, 2000, 1900, 1800, 2200, 2900, 3000, 3000, 3100, 2800, 2200, 1900, 1800, 1900, 1900, 1400], \"yaxis\": \"y\"}, {\"hoverlabel\": {\"namelength\": 0}, \"hovertemplate\": \"<b>%{hovertext}</b><br><br>Area=Herkimer County<br>Year=%{x}<br>Unemployed=%{y}\", \"hovertext\": [\"Herkimer County\", \"Herkimer County\", \"Herkimer County\", \"Herkimer County\", \"Herkimer County\", \"Herkimer County\", \"Herkimer County\", \"Herkimer County\", \"Herkimer County\", \"Herkimer County\", \"Herkimer County\", \"Herkimer County\", \"Herkimer County\", \"Herkimer County\", \"Herkimer County\", \"Herkimer County\", \"Herkimer County\", \"Herkimer County\", \"Herkimer County\", \"Herkimer County\", \"Herkimer County\", \"Herkimer County\", \"Herkimer County\", \"Herkimer County\", \"Herkimer County\", \"Herkimer County\", \"Herkimer County\", \"Herkimer County\", \"Herkimer County\", \"Herkimer County\"], \"legendgroup\": \"Area=Herkimer County\", \"line\": {\"color\": \"#EF553B\", \"dash\": \"solid\"}, \"mode\": \"lines\", \"name\": \"Area=Herkimer County\", \"showlegend\": true, \"type\": \"scattergl\", \"x\": [1990, 1991, 1992, 1993, 1994, 1995, 1996, 1997, 1998, 1999, 2000, 2001, 2002, 2003, 2004, 2005, 2006, 2007, 2008, 2009, 2010, 2011, 2012, 2013, 2014, 2015, 2016, 2017, 2018, 2019], \"xaxis\": \"x\", \"y\": [22500, 31900, 31800, 27900, 24600, 26500, 25100, 25100, 22200, 19600, 16300, 16700, 20000, 21200, 21100, 20100, 18600, 18000, 22800, 29900, 32600, 32100, 32200, 28100, 23500, 21200, 18300, 19000, 16500, 13100], \"yaxis\": \"y\"}, {\"hoverlabel\": {\"namelength\": 0}, \"hovertemplate\": \"<b>%{hovertext}</b><br><br>Area=Jefferson County<br>Year=%{x}<br>Unemployed=%{y}\", \"hovertext\": [\"Jefferson County\", \"Jefferson County\", \"Jefferson County\", \"Jefferson County\", \"Jefferson County\", \"Jefferson County\", \"Jefferson County\", \"Jefferson County\", \"Jefferson County\", \"Jefferson County\", \"Jefferson County\", \"Jefferson County\", \"Jefferson County\", \"Jefferson County\", \"Jefferson County\", \"Jefferson County\", \"Jefferson County\", \"Jefferson County\", \"Jefferson County\", \"Jefferson County\", \"Jefferson County\", \"Jefferson County\", \"Jefferson County\", \"Jefferson County\", \"Jefferson County\", \"Jefferson County\", \"Jefferson County\", \"Jefferson County\", \"Jefferson County\", \"Jefferson County\"], \"legendgroup\": \"Area=Jefferson County\", \"line\": {\"color\": \"#00cc96\", \"dash\": \"solid\"}, \"mode\": \"lines\", \"name\": \"Area=Jefferson County\", \"showlegend\": true, \"type\": \"scattergl\", \"x\": [1990, 1991, 1992, 1993, 1994, 1995, 1996, 1997, 1998, 1999, 2000, 2001, 2002, 2003, 2004, 2005, 2006, 2007, 2008, 2009, 2010, 2011, 2012, 2013, 2014, 2015, 2016, 2017, 2018, 2019], \"xaxis\": \"x\", \"y\": [49300, 61800, 67600, 60100, 54300, 47400, 44800, 47600, 49700, 49100, 31900, 33900, 36700, 37200, 38600, 34500, 31600, 31600, 40200, 52400, 56000, 57300, 57400, 53500, 42500, 36600, 34200, 35100, 30200, 23500], \"yaxis\": \"y\"}, {\"hoverlabel\": {\"namelength\": 0}, \"hovertemplate\": \"<b>%{hovertext}</b><br><br>Area=Kings County<br>Year=%{x}<br>Unemployed=%{y}\", \"hovertext\": [\"Kings County\", \"Kings County\", \"Kings County\", \"Kings County\", \"Kings County\", \"Kings County\", \"Kings County\", \"Kings County\", \"Kings County\", \"Kings County\", \"Kings County\", \"Kings County\", \"Kings County\", \"Kings County\", \"Kings County\", \"Kings County\", \"Kings County\", \"Kings County\", \"Kings County\", \"Kings County\", \"Kings County\", \"Kings County\", \"Kings County\", \"Kings County\", \"Kings County\", \"Kings County\", \"Kings County\", \"Kings County\", \"Kings County\", \"Kings County\"], \"legendgroup\": \"Area=Kings County\", \"line\": {\"color\": \"#ab63fa\", \"dash\": \"solid\"}, \"mode\": \"lines\", \"name\": \"Area=Kings County\", \"showlegend\": true, \"type\": \"scattergl\", \"x\": [1990, 1991, 1992, 1993, 1994, 1995, 1996, 1997, 1998, 1999, 2000, 2001, 2002, 2003, 2004, 2005, 2006, 2007, 2008, 2009, 2010, 2011, 2012, 2013, 2014, 2015, 2016, 2017, 2018, 2019], \"xaxis\": \"x\", \"y\": [899600, 1076900, 1380300, 1307700, 1102100, 1029200, 1143400, 1278400, 1119100, 955800, 793200, 804200, 1086900, 1135600, 969300, 802300, 689900, 709500, 799800, 1334200, 1386300, 1343500, 1396300, 1360400, 1110700, 860500, 778400, 686900, 614600, 527100], \"yaxis\": \"y\"}, {\"hoverlabel\": {\"namelength\": 0}, \"hovertemplate\": \"<b>%{hovertext}</b><br><br>Area=Lewis County<br>Year=%{x}<br>Unemployed=%{y}\", \"hovertext\": [\"Lewis County\", \"Lewis County\", \"Lewis County\", \"Lewis County\", \"Lewis County\", \"Lewis County\", \"Lewis County\", \"Lewis County\", \"Lewis County\", \"Lewis County\", \"Lewis County\", \"Lewis County\", \"Lewis County\", \"Lewis County\", \"Lewis County\", \"Lewis County\", \"Lewis County\", \"Lewis County\", \"Lewis County\", \"Lewis County\", \"Lewis County\", \"Lewis County\", \"Lewis County\", \"Lewis County\", \"Lewis County\", \"Lewis County\", \"Lewis County\", \"Lewis County\", \"Lewis County\", \"Lewis County\"], \"legendgroup\": \"Area=Lewis County\", \"line\": {\"color\": \"#FFA15A\", \"dash\": \"solid\"}, \"mode\": \"lines\", \"name\": \"Area=Lewis County\", \"showlegend\": true, \"type\": \"scattergl\", \"x\": [1990, 1991, 1992, 1993, 1994, 1995, 1996, 1997, 1998, 1999, 2000, 2001, 2002, 2003, 2004, 2005, 2006, 2007, 2008, 2009, 2010, 2011, 2012, 2013, 2014, 2015, 2016, 2017, 2018, 2019], \"xaxis\": \"x\", \"y\": [10400, 14500, 16900, 15200, 13900, 12800, 11800, 12100, 12500, 13000, 7800, 9200, 9400, 9700, 9900, 9200, 8500, 8200, 10200, 13400, 13800, 14300, 14700, 13800, 11100, 9900, 9600, 9100, 7600, 6300], \"yaxis\": \"y\"}, {\"hoverlabel\": {\"namelength\": 0}, \"hovertemplate\": \"<b>%{hovertext}</b><br><br>Area=Livingston County<br>Year=%{x}<br>Unemployed=%{y}\", \"hovertext\": [\"Livingston County\", \"Livingston County\", \"Livingston County\", \"Livingston County\", \"Livingston County\", \"Livingston County\", \"Livingston County\", \"Livingston County\", \"Livingston County\", \"Livingston County\", \"Livingston County\", \"Livingston County\", \"Livingston County\", \"Livingston County\", \"Livingston County\", \"Livingston County\", \"Livingston County\", \"Livingston County\", \"Livingston County\", \"Livingston County\", \"Livingston County\", \"Livingston County\", \"Livingston County\", \"Livingston County\", \"Livingston County\", \"Livingston County\", \"Livingston County\", \"Livingston County\", \"Livingston County\", \"Livingston County\"], \"legendgroup\": \"Area=Livingston County\", \"line\": {\"color\": \"#19d3f3\", \"dash\": \"solid\"}, \"mode\": \"lines\", \"name\": \"Area=Livingston County\", \"showlegend\": true, \"type\": \"scattergl\", \"x\": [1990, 1991, 1992, 1993, 1994, 1995, 1996, 1997, 1998, 1999, 2000, 2001, 2002, 2003, 2004, 2005, 2006, 2007, 2008, 2009, 2010, 2011, 2012, 2013, 2014, 2015, 2016, 2017, 2018, 2019], \"xaxis\": \"x\", \"y\": [16800, 25500, 26800, 22800, 23800, 22200, 21400, 22000, 21200, 20500, 16100, 17000, 22400, 23700, 22700, 19600, 19000, 19000, 23200, 32400, 31900, 29400, 30200, 27000, 21600, 19800, 18500, 18400, 15900, 12700], \"yaxis\": \"y\"}, {\"hoverlabel\": {\"namelength\": 0}, \"hovertemplate\": \"<b>%{hovertext}</b><br><br>Area=Madison County<br>Year=%{x}<br>Unemployed=%{y}\", \"hovertext\": [\"Madison County\", \"Madison County\", \"Madison County\", \"Madison County\", \"Madison County\", \"Madison County\", \"Madison County\", \"Madison County\", \"Madison County\", \"Madison County\", \"Madison County\", \"Madison County\", \"Madison County\", \"Madison County\", \"Madison County\", \"Madison County\", \"Madison County\", \"Madison County\", \"Madison County\", \"Madison County\", \"Madison County\", \"Madison County\", \"Madison County\", \"Madison County\", \"Madison County\", \"Madison County\", \"Madison County\", \"Madison County\", \"Madison County\", \"Madison County\"], \"legendgroup\": \"Area=Madison County\", \"line\": {\"color\": \"#FF6692\", \"dash\": \"solid\"}, \"mode\": \"lines\", \"name\": \"Area=Madison County\", \"showlegend\": true, \"type\": \"scattergl\", \"x\": [1990, 1991, 1992, 1993, 1994, 1995, 1996, 1997, 1998, 1999, 2000, 2001, 2002, 2003, 2004, 2005, 2006, 2007, 2008, 2009, 2010, 2011, 2012, 2013, 2014, 2015, 2016, 2017, 2018, 2019], \"xaxis\": \"x\", \"y\": [21800, 31600, 33200, 28700, 25200, 24500, 22300, 22000, 19400, 19900, 16300, 19000, 22300, 23600, 23900, 22100, 19800, 19900, 25300, 34900, 35500, 34100, 35500, 31400, 25800, 22300, 20800, 21400, 18800, 14200], \"yaxis\": \"y\"}, {\"hoverlabel\": {\"namelength\": 0}, \"hovertemplate\": \"<b>%{hovertext}</b><br><br>Area=Monroe County<br>Year=%{x}<br>Unemployed=%{y}\", \"hovertext\": [\"Monroe County\", \"Monroe County\", \"Monroe County\", \"Monroe County\", \"Monroe County\", \"Monroe County\", \"Monroe County\", \"Monroe County\", \"Monroe County\", \"Monroe County\", \"Monroe County\", \"Monroe County\", \"Monroe County\", \"Monroe County\", \"Monroe County\", \"Monroe County\", \"Monroe County\", \"Monroe County\", \"Monroe County\", \"Monroe County\", \"Monroe County\", \"Monroe County\", \"Monroe County\", \"Monroe County\", \"Monroe County\", \"Monroe County\", \"Monroe County\", \"Monroe County\", \"Monroe County\", \"Monroe County\"], \"legendgroup\": \"Area=Monroe County\", \"line\": {\"color\": \"#B6E880\", \"dash\": \"solid\"}, \"mode\": \"lines\", \"name\": \"Area=Monroe County\", \"showlegend\": true, \"type\": \"scattergl\", \"x\": [1990, 1991, 1992, 1993, 1994, 1995, 1996, 1997, 1998, 1999, 2000, 2001, 2002, 2003, 2004, 2005, 2006, 2007, 2008, 2009, 2010, 2011, 2012, 2013, 2014, 2015, 2016, 2017, 2018, 2019], \"xaxis\": \"x\", \"y\": [152500, 200500, 222900, 211400, 224700, 180600, 159800, 167200, 168900, 178300, 160000, 184200, 238500, 244900, 232100, 205100, 194700, 197600, 248100, 353500, 364800, 344400, 355900, 313700, 253800, 222000, 204200, 213100, 185600, 145400], \"yaxis\": \"y\"}, {\"hoverlabel\": {\"namelength\": 0}, \"hovertemplate\": \"<b>%{hovertext}</b><br><br>Area=Montgomery County<br>Year=%{x}<br>Unemployed=%{y}\", \"hovertext\": [\"Montgomery County\", \"Montgomery County\", \"Montgomery County\", \"Montgomery County\", \"Montgomery County\", \"Montgomery County\", \"Montgomery County\", \"Montgomery County\", \"Montgomery County\", \"Montgomery County\", \"Montgomery County\", \"Montgomery County\", \"Montgomery County\", \"Montgomery County\", \"Montgomery County\", \"Montgomery County\", \"Montgomery County\", \"Montgomery County\", \"Montgomery County\", \"Montgomery County\", \"Montgomery County\", \"Montgomery County\", \"Montgomery County\", \"Montgomery County\", \"Montgomery County\", \"Montgomery County\", \"Montgomery County\", \"Montgomery County\", \"Montgomery County\", \"Montgomery County\"], \"legendgroup\": \"Area=Montgomery County\", \"line\": {\"color\": \"#FF97FF\", \"dash\": \"solid\"}, \"mode\": \"lines\", \"name\": \"Area=Montgomery County\", \"showlegend\": true, \"type\": \"scattergl\", \"x\": [1990, 1991, 1992, 1993, 1994, 1995, 1996, 1997, 1998, 1999, 2000, 2001, 2002, 2003, 2004, 2005, 2006, 2007, 2008, 2009, 2010, 2011, 2012, 2013, 2014, 2015, 2016, 2017, 2018, 2019], \"xaxis\": \"x\", \"y\": [20600, 28700, 29500, 22100, 22200, 23400, 23200, 21200, 17000, 17900, 13600, 14100, 16300, 18400, 17200, 15800, 17000, 17100, 21100, 27700, 29100, 28800, 29300, 25400, 20100, 17600, 15300, 15500, 13600, 10800], \"yaxis\": \"y\"}, {\"hoverlabel\": {\"namelength\": 0}, \"hovertemplate\": \"<b>%{hovertext}</b><br><br>Area=Nassau County<br>Year=%{x}<br>Unemployed=%{y}\", \"hovertext\": [\"Nassau County\", \"Nassau County\", \"Nassau County\", \"Nassau County\", \"Nassau County\", \"Nassau County\", \"Nassau County\", \"Nassau County\", \"Nassau County\", \"Nassau County\", \"Nassau County\", \"Nassau County\", \"Nassau County\", \"Nassau County\", \"Nassau County\", \"Nassau County\", \"Nassau County\", \"Nassau County\", \"Nassau County\", \"Nassau County\", \"Nassau County\", \"Nassau County\", \"Nassau County\", \"Nassau County\", \"Nassau County\", \"Nassau County\", \"Nassau County\", \"Nassau County\", \"Nassau County\", \"Nassau County\"], \"legendgroup\": \"Area=Nassau County\", \"line\": {\"color\": \"#FECB52\", \"dash\": \"solid\"}, \"mode\": \"lines\", \"name\": \"Area=Nassau County\", \"showlegend\": true, \"type\": \"scattergl\", \"x\": [1990, 1991, 1992, 1993, 1994, 1995, 1996, 1997, 1998, 1999, 2000, 2001, 2002, 2003, 2004, 2005, 2006, 2007, 2008, 2009, 2010, 2011, 2012, 2013, 2014, 2015, 2016, 2017, 2018, 2019], \"xaxis\": \"x\", \"y\": [313800, 469500, 576500, 478000, 409900, 366700, 304700, 290200, 246800, 248200, 270500, 297800, 375100, 377700, 368900, 333400, 310500, 306900, 398100, 573700, 591900, 559100, 585700, 494300, 393400, 353300, 327600, 344500, 300300, 237600], \"yaxis\": \"y\"}, {\"hoverlabel\": {\"namelength\": 0}, \"hovertemplate\": \"<b>%{hovertext}</b><br><br>Area=New York County<br>Year=%{x}<br>Unemployed=%{y}\", \"hovertext\": [\"New York County\", \"New York County\", \"New York County\", \"New York County\", \"New York County\", \"New York County\", \"New York County\", \"New York County\", \"New York County\", \"New York County\", \"New York County\", \"New York County\", \"New York County\", \"New York County\", \"New York County\", \"New York County\", \"New York County\", \"New York County\", \"New York County\", \"New York County\", \"New York County\", \"New York County\", \"New York County\", \"New York County\", \"New York County\", \"New York County\", \"New York County\", \"New York County\", \"New York County\", \"New York County\"], \"legendgroup\": \"Area=New York County\", \"line\": {\"color\": \"#636efa\", \"dash\": \"solid\"}, \"mode\": \"lines\", \"name\": \"Area=New York County\", \"showlegend\": true, \"type\": \"scattergl\", \"x\": [1990, 1991, 1992, 1993, 1994, 1995, 1996, 1997, 1998, 1999, 2000, 2001, 2002, 2003, 2004, 2005, 2006, 2007, 2008, 2009, 2010, 2011, 2012, 2013, 2014, 2015, 2016, 2017, 2018, 2019], \"xaxis\": \"x\", \"y\": [559200, 701200, 868500, 835700, 707000, 650000, 715700, 788500, 686400, 605100, 517400, 585700, 795900, 782500, 656900, 547500, 470100, 478000, 548900, 943700, 907900, 827100, 862300, 815400, 665100, 531700, 501300, 452300, 404900, 345500], \"yaxis\": \"y\"}, {\"hoverlabel\": {\"namelength\": 0}, \"hovertemplate\": \"<b>%{hovertext}</b><br><br>Area=Niagara County<br>Year=%{x}<br>Unemployed=%{y}\", \"hovertext\": [\"Niagara County\", \"Niagara County\", \"Niagara County\", \"Niagara County\", \"Niagara County\", \"Niagara County\", \"Niagara County\", \"Niagara County\", \"Niagara County\", \"Niagara County\", \"Niagara County\", \"Niagara County\", \"Niagara County\", \"Niagara County\", \"Niagara County\", \"Niagara County\", \"Niagara County\", \"Niagara County\", \"Niagara County\", \"Niagara County\", \"Niagara County\", \"Niagara County\", \"Niagara County\", \"Niagara County\", \"Niagara County\", \"Niagara County\", \"Niagara County\", \"Niagara County\", \"Niagara County\", \"Niagara County\"], \"legendgroup\": \"Area=Niagara County\", \"line\": {\"color\": \"#EF553B\", \"dash\": \"solid\"}, \"mode\": \"lines\", \"name\": \"Area=Niagara County\", \"showlegend\": true, \"type\": \"scattergl\", \"x\": [1990, 1991, 1992, 1993, 1994, 1995, 1996, 1997, 1998, 1999, 2000, 2001, 2002, 2003, 2004, 2005, 2006, 2007, 2008, 2009, 2010, 2011, 2012, 2013, 2014, 2015, 2016, 2017, 2018, 2019], \"xaxis\": \"x\", \"y\": [75000, 99900, 109800, 98200, 89600, 78300, 80400, 87800, 88200, 80600, 61900, 71400, 83800, 87700, 82500, 74300, 71700, 71300, 91900, 126300, 124500, 115900, 118300, 106700, 85600, 74900, 70100, 73600, 62400, 46900], \"yaxis\": \"y\"}, {\"hoverlabel\": {\"namelength\": 0}, \"hovertemplate\": \"<b>%{hovertext}</b><br><br>Area=Oneida County<br>Year=%{x}<br>Unemployed=%{y}\", \"hovertext\": [\"Oneida County\", \"Oneida County\", \"Oneida County\", \"Oneida County\", \"Oneida County\", \"Oneida County\", \"Oneida County\", \"Oneida County\", \"Oneida County\", \"Oneida County\", \"Oneida County\", \"Oneida County\", \"Oneida County\", \"Oneida County\", \"Oneida County\", \"Oneida County\", \"Oneida County\", \"Oneida County\", \"Oneida County\", \"Oneida County\", \"Oneida County\", \"Oneida County\", \"Oneida County\", \"Oneida County\", \"Oneida County\", \"Oneida County\", \"Oneida County\", \"Oneida County\", \"Oneida County\", \"Oneida County\"], \"legendgroup\": \"Area=Oneida County\", \"line\": {\"color\": \"#00cc96\", \"dash\": \"solid\"}, \"mode\": \"lines\", \"name\": \"Area=Oneida County\", \"showlegend\": true, \"type\": \"scattergl\", \"x\": [1990, 1991, 1992, 1993, 1994, 1995, 1996, 1997, 1998, 1999, 2000, 2001, 2002, 2003, 2004, 2005, 2006, 2007, 2008, 2009, 2010, 2011, 2012, 2013, 2014, 2015, 2016, 2017, 2018, 2019], \"xaxis\": \"x\", \"y\": [61100, 90600, 95400, 83800, 71900, 69600, 65700, 65400, 57400, 54700, 52000, 59900, 70000, 71600, 68500, 63600, 57300, 56400, 71900, 97800, 102900, 104500, 107200, 95800, 75500, 65300, 59000, 60600, 54100, 41900], \"yaxis\": \"y\"}, {\"hoverlabel\": {\"namelength\": 0}, \"hovertemplate\": \"<b>%{hovertext}</b><br><br>Area=Onondaga County<br>Year=%{x}<br>Unemployed=%{y}\", \"hovertext\": [\"Onondaga County\", \"Onondaga County\", \"Onondaga County\", \"Onondaga County\", \"Onondaga County\", \"Onondaga County\", \"Onondaga County\", \"Onondaga County\", \"Onondaga County\", \"Onondaga County\", \"Onondaga County\", \"Onondaga County\", \"Onondaga County\", \"Onondaga County\", \"Onondaga County\", \"Onondaga County\", \"Onondaga County\", \"Onondaga County\", \"Onondaga County\", \"Onondaga County\", \"Onondaga County\", \"Onondaga County\", \"Onondaga County\", \"Onondaga County\", \"Onondaga County\", \"Onondaga County\", \"Onondaga County\", \"Onondaga County\", \"Onondaga County\", \"Onondaga County\"], \"legendgroup\": \"Area=Onondaga County\", \"line\": {\"color\": \"#ab63fa\", \"dash\": \"solid\"}, \"mode\": \"lines\", \"name\": \"Area=Onondaga County\", \"showlegend\": true, \"type\": \"scattergl\", \"x\": [1990, 1991, 1992, 1993, 1994, 1995, 1996, 1997, 1998, 1999, 2000, 2001, 2002, 2003, 2004, 2005, 2006, 2007, 2008, 2009, 2010, 2011, 2012, 2013, 2014, 2015, 2016, 2017, 2018, 2019], \"xaxis\": \"x\", \"y\": [111900, 173300, 189100, 169800, 145100, 128900, 115600, 109800, 98200, 98700, 97500, 110300, 135300, 140300, 140600, 125900, 119300, 113800, 146400, 214000, 228200, 215300, 220200, 190200, 150000, 131400, 119800, 123000, 106000, 84100], \"yaxis\": \"y\"}, {\"hoverlabel\": {\"namelength\": 0}, \"hovertemplate\": \"<b>%{hovertext}</b><br><br>Area=Ontario County<br>Year=%{x}<br>Unemployed=%{y}\", \"hovertext\": [\"Ontario County\", \"Ontario County\", \"Ontario County\", \"Ontario County\", \"Ontario County\", \"Ontario County\", \"Ontario County\", \"Ontario County\", \"Ontario County\", \"Ontario County\", \"Ontario County\", \"Ontario County\", \"Ontario County\", \"Ontario County\", \"Ontario County\", \"Ontario County\", \"Ontario County\", \"Ontario County\", \"Ontario County\", \"Ontario County\", \"Ontario County\", \"Ontario County\", \"Ontario County\", \"Ontario County\", \"Ontario County\", \"Ontario County\", \"Ontario County\", \"Ontario County\", \"Ontario County\", \"Ontario County\"], \"legendgroup\": \"Area=Ontario County\", \"line\": {\"color\": \"#FFA15A\", \"dash\": \"solid\"}, \"mode\": \"lines\", \"name\": \"Area=Ontario County\", \"showlegend\": true, \"type\": \"scattergl\", \"x\": [1990, 1991, 1992, 1993, 1994, 1995, 1996, 1997, 1998, 1999, 2000, 2001, 2002, 2003, 2004, 2005, 2006, 2007, 2008, 2009, 2010, 2011, 2012, 2013, 2014, 2015, 2016, 2017, 2018, 2019], \"xaxis\": \"x\", \"y\": [26300, 34300, 38400, 33400, 33900, 31700, 28500, 27100, 25800, 27400, 23100, 25800, 33800, 34300, 33100, 30700, 29500, 28400, 35300, 49700, 50300, 47400, 48900, 42000, 34400, 31100, 28300, 29400, 26100, 20600], \"yaxis\": \"y\"}, {\"hoverlabel\": {\"namelength\": 0}, \"hovertemplate\": \"<b>%{hovertext}</b><br><br>Area=Orange County<br>Year=%{x}<br>Unemployed=%{y}\", \"hovertext\": [\"Orange County\", \"Orange County\", \"Orange County\", \"Orange County\", \"Orange County\", \"Orange County\", \"Orange County\", \"Orange County\", \"Orange County\", \"Orange County\", \"Orange County\", \"Orange County\", \"Orange County\", \"Orange County\", \"Orange County\", \"Orange County\", \"Orange County\", \"Orange County\", \"Orange County\", \"Orange County\", \"Orange County\", \"Orange County\", \"Orange County\", \"Orange County\", \"Orange County\", \"Orange County\", \"Orange County\", \"Orange County\", \"Orange County\", \"Orange County\"], \"legendgroup\": \"Area=Orange County\", \"line\": {\"color\": \"#19d3f3\", \"dash\": \"solid\"}, \"mode\": \"lines\", \"name\": \"Area=Orange County\", \"showlegend\": true, \"type\": \"scattergl\", \"x\": [1990, 1991, 1992, 1993, 1994, 1995, 1996, 1997, 1998, 1999, 2000, 2001, 2002, 2003, 2004, 2005, 2006, 2007, 2008, 2009, 2010, 2011, 2012, 2013, 2014, 2015, 2016, 2017, 2018, 2019], \"xaxis\": \"x\", \"y\": [80100, 112000, 120200, 112500, 99700, 90400, 79100, 78500, 65200, 70600, 66000, 71900, 87300, 96700, 98400, 90100, 90200, 92300, 117200, 169500, 173400, 165400, 170500, 146700, 115800, 99400, 92700, 98300, 86000, 67900], \"yaxis\": \"y\"}, {\"hoverlabel\": {\"namelength\": 0}, \"hovertemplate\": \"<b>%{hovertext}</b><br><br>Area=Orleans County<br>Year=%{x}<br>Unemployed=%{y}\", \"hovertext\": [\"Orleans County\", \"Orleans County\", \"Orleans County\", \"Orleans County\", \"Orleans County\", \"Orleans County\", \"Orleans County\", \"Orleans County\", \"Orleans County\", \"Orleans County\", \"Orleans County\", \"Orleans County\", \"Orleans County\", \"Orleans County\", \"Orleans County\", \"Orleans County\", \"Orleans County\", \"Orleans County\", \"Orleans County\", \"Orleans County\", \"Orleans County\", \"Orleans County\", \"Orleans County\", \"Orleans County\", \"Orleans County\", \"Orleans County\", \"Orleans County\", \"Orleans County\", \"Orleans County\", \"Orleans County\"], \"legendgroup\": \"Area=Orleans County\", \"line\": {\"color\": \"#FF6692\", \"dash\": \"solid\"}, \"mode\": \"lines\", \"name\": \"Area=Orleans County\", \"showlegend\": true, \"type\": \"scattergl\", \"x\": [1990, 1991, 1992, 1993, 1994, 1995, 1996, 1997, 1998, 1999, 2000, 2001, 2002, 2003, 2004, 2005, 2006, 2007, 2008, 2009, 2010, 2011, 2012, 2013, 2014, 2015, 2016, 2017, 2018, 2019], \"xaxis\": \"x\", \"y\": [15600, 17600, 21000, 19100, 17700, 19800, 14100, 16100, 13800, 13600, 11400, 12400, 15100, 16500, 15400, 13400, 13300, 13500, 16300, 21700, 22200, 20800, 21900, 20500, 16700, 13500, 12100, 12300, 10300, 8000], \"yaxis\": \"y\"}, {\"hoverlabel\": {\"namelength\": 0}, \"hovertemplate\": \"<b>%{hovertext}</b><br><br>Area=Oswego County<br>Year=%{x}<br>Unemployed=%{y}\", \"hovertext\": [\"Oswego County\", \"Oswego County\", \"Oswego County\", \"Oswego County\", \"Oswego County\", \"Oswego County\", \"Oswego County\", \"Oswego County\", \"Oswego County\", \"Oswego County\", \"Oswego County\", \"Oswego County\", \"Oswego County\", \"Oswego County\", \"Oswego County\", \"Oswego County\", \"Oswego County\", \"Oswego County\", \"Oswego County\", \"Oswego County\", \"Oswego County\", \"Oswego County\", \"Oswego County\", \"Oswego County\", \"Oswego County\", \"Oswego County\", \"Oswego County\", \"Oswego County\", \"Oswego County\", \"Oswego County\"], \"legendgroup\": \"Area=Oswego County\", \"line\": {\"color\": \"#B6E880\", \"dash\": \"solid\"}, \"mode\": \"lines\", \"name\": \"Area=Oswego County\", \"showlegend\": true, \"type\": \"scattergl\", \"x\": [1990, 1991, 1992, 1993, 1994, 1995, 1996, 1997, 1998, 1999, 2000, 2001, 2002, 2003, 2004, 2005, 2006, 2007, 2008, 2009, 2010, 2011, 2012, 2013, 2014, 2015, 2016, 2017, 2018, 2019], \"xaxis\": \"x\", \"y\": [47600, 70200, 72300, 64700, 60300, 58600, 48000, 48400, 39400, 43500, 33800, 37400, 45400, 52300, 49400, 44700, 41700, 39900, 50600, 70700, 75100, 74900, 76400, 67800, 53300, 46500, 41000, 40900, 34600, 27700], \"yaxis\": \"y\"}, {\"hoverlabel\": {\"namelength\": 0}, \"hovertemplate\": \"<b>%{hovertext}</b><br><br>Area=Otsego County<br>Year=%{x}<br>Unemployed=%{y}\", \"hovertext\": [\"Otsego County\", \"Otsego County\", \"Otsego County\", \"Otsego County\", \"Otsego County\", \"Otsego County\", \"Otsego County\", \"Otsego County\", \"Otsego County\", \"Otsego County\", \"Otsego County\", \"Otsego County\", \"Otsego County\", \"Otsego County\", \"Otsego County\", \"Otsego County\", \"Otsego County\", \"Otsego County\", \"Otsego County\", \"Otsego County\", \"Otsego County\", \"Otsego County\", \"Otsego County\", \"Otsego County\", \"Otsego County\", \"Otsego County\", \"Otsego County\", \"Otsego County\", \"Otsego County\", \"Otsego County\"], \"legendgroup\": \"Area=Otsego County\", \"line\": {\"color\": \"#FF97FF\", \"dash\": \"solid\"}, \"mode\": \"lines\", \"name\": \"Area=Otsego County\", \"showlegend\": true, \"type\": \"scattergl\", \"x\": [1990, 1991, 1992, 1993, 1994, 1995, 1996, 1997, 1998, 1999, 2000, 2001, 2002, 2003, 2004, 2005, 2006, 2007, 2008, 2009, 2010, 2011, 2012, 2013, 2014, 2015, 2016, 2017, 2018, 2019], \"xaxis\": \"x\", \"y\": [17900, 22000, 26300, 23000, 22400, 20400, 19300, 20400, 19000, 19900, 15200, 15300, 17400, 17900, 18300, 17200, 16900, 17100, 21500, 28400, 29100, 29200, 29600, 25500, 20500, 18300, 16600, 16700, 14600, 11400], \"yaxis\": \"y\"}, {\"hoverlabel\": {\"namelength\": 0}, \"hovertemplate\": \"<b>%{hovertext}</b><br><br>Area=Putnam County<br>Year=%{x}<br>Unemployed=%{y}\", \"hovertext\": [\"Putnam County\", \"Putnam County\", \"Putnam County\", \"Putnam County\", \"Putnam County\", \"Putnam County\", \"Putnam County\", \"Putnam County\", \"Putnam County\", \"Putnam County\", \"Putnam County\", \"Putnam County\", \"Putnam County\", \"Putnam County\", \"Putnam County\", \"Putnam County\", \"Putnam County\", \"Putnam County\", \"Putnam County\", \"Putnam County\", \"Putnam County\", \"Putnam County\", \"Putnam County\", \"Putnam County\", \"Putnam County\", \"Putnam County\", \"Putnam County\", \"Putnam County\", \"Putnam County\", \"Putnam County\"], \"legendgroup\": \"Area=Putnam County\", \"line\": {\"color\": \"#FECB52\", \"dash\": \"solid\"}, \"mode\": \"lines\", \"name\": \"Area=Putnam County\", \"showlegend\": true, \"type\": \"scattergl\", \"x\": [1990, 1991, 1992, 1993, 1994, 1995, 1996, 1997, 1998, 1999, 2000, 2001, 2002, 2003, 2004, 2005, 2006, 2007, 2008, 2009, 2010, 2011, 2012, 2013, 2014, 2015, 2016, 2017, 2018, 2019], \"xaxis\": \"x\", \"y\": [19000, 30900, 35300, 31100, 27300, 22900, 21400, 19100, 17200, 19000, 18300, 20100, 25500, 26200, 26300, 24900, 23500, 22700, 29800, 44100, 45500, 43700, 44500, 37500, 29900, 25700, 24100, 25600, 22500, 18300], \"yaxis\": \"y\"}, {\"hoverlabel\": {\"namelength\": 0}, \"hovertemplate\": \"<b>%{hovertext}</b><br><br>Area=Queens County<br>Year=%{x}<br>Unemployed=%{y}\", \"hovertext\": [\"Queens County\", \"Queens County\", \"Queens County\", \"Queens County\", \"Queens County\", \"Queens County\", \"Queens County\", \"Queens County\", \"Queens County\", \"Queens County\", \"Queens County\", \"Queens County\", \"Queens County\", \"Queens County\", \"Queens County\", \"Queens County\", \"Queens County\", \"Queens County\", \"Queens County\", \"Queens County\", \"Queens County\", \"Queens County\", \"Queens County\", \"Queens County\", \"Queens County\", \"Queens County\", \"Queens County\", \"Queens County\", \"Queens County\", \"Queens County\"], \"legendgroup\": \"Area=Queens County\", \"line\": {\"color\": \"#636efa\", \"dash\": \"solid\"}, \"mode\": \"lines\", \"name\": \"Area=Queens County\", \"showlegend\": true, \"type\": \"scattergl\", \"x\": [1990, 1991, 1992, 1993, 1994, 1995, 1996, 1997, 1998, 1999, 2000, 2001, 2002, 2003, 2004, 2005, 2006, 2007, 2008, 2009, 2010, 2011, 2012, 2013, 2014, 2015, 2016, 2017, 2018, 2019], \"xaxis\": \"x\", \"y\": [686400, 904200, 1205600, 1100600, 937500, 864300, 945500, 1036200, 846600, 754200, 674400, 673800, 910600, 938200, 814300, 686500, 587400, 592900, 675700, 1139600, 1144800, 1076000, 1117800, 1061200, 878000, 697600, 633000, 563200, 501200, 430100], \"yaxis\": \"y\"}, {\"hoverlabel\": {\"namelength\": 0}, \"hovertemplate\": \"<b>%{hovertext}</b><br><br>Area=Rensselaer County<br>Year=%{x}<br>Unemployed=%{y}\", \"hovertext\": [\"Rensselaer County\", \"Rensselaer County\", \"Rensselaer County\", \"Rensselaer County\", \"Rensselaer County\", \"Rensselaer County\", \"Rensselaer County\", \"Rensselaer County\", \"Rensselaer County\", \"Rensselaer County\", \"Rensselaer County\", \"Rensselaer County\", \"Rensselaer County\", \"Rensselaer County\", \"Rensselaer County\", \"Rensselaer County\", \"Rensselaer County\", \"Rensselaer County\", \"Rensselaer County\", \"Rensselaer County\", \"Rensselaer County\", \"Rensselaer County\", \"Rensselaer County\", \"Rensselaer County\", \"Rensselaer County\", \"Rensselaer County\", \"Rensselaer County\", \"Rensselaer County\", \"Rensselaer County\", \"Rensselaer County\"], \"legendgroup\": \"Area=Rensselaer County\", \"line\": {\"color\": \"#EF553B\", \"dash\": \"solid\"}, \"mode\": \"lines\", \"name\": \"Area=Rensselaer County\", \"showlegend\": true, \"type\": \"scattergl\", \"x\": [1990, 1991, 1992, 1993, 1994, 1995, 1996, 1997, 1998, 1999, 2000, 2001, 2002, 2003, 2004, 2005, 2006, 2007, 2008, 2009, 2010, 2011, 2012, 2013, 2014, 2015, 2016, 2017, 2018, 2019], \"xaxis\": \"x\", \"y\": [39600, 60700, 62800, 51200, 52200, 52500, 47200, 44400, 39000, 37500, 35200, 36800, 44700, 45200, 45800, 42000, 40600, 42400, 52400, 74500, 78600, 75500, 77800, 67000, 52200, 45400, 41800, 42900, 38100, 29700], \"yaxis\": \"y\"}, {\"hoverlabel\": {\"namelength\": 0}, \"hovertemplate\": \"<b>%{hovertext}</b><br><br>Area=Richmond County<br>Year=%{x}<br>Unemployed=%{y}\", \"hovertext\": [\"Richmond County\", \"Richmond County\", \"Richmond County\", \"Richmond County\", \"Richmond County\", \"Richmond County\", \"Richmond County\", \"Richmond County\", \"Richmond County\", \"Richmond County\", \"Richmond County\", \"Richmond County\", \"Richmond County\", \"Richmond County\", \"Richmond County\", \"Richmond County\", \"Richmond County\", \"Richmond County\", \"Richmond County\", \"Richmond County\", \"Richmond County\", \"Richmond County\", \"Richmond County\", \"Richmond County\", \"Richmond County\", \"Richmond County\", \"Richmond County\", \"Richmond County\", \"Richmond County\", \"Richmond County\"], \"legendgroup\": \"Area=Richmond County\", \"line\": {\"color\": \"#00cc96\", \"dash\": \"solid\"}, \"mode\": \"lines\", \"name\": \"Area=Richmond County\", \"showlegend\": true, \"type\": \"scattergl\", \"x\": [1990, 1991, 1992, 1993, 1994, 1995, 1996, 1997, 1998, 1999, 2000, 2001, 2002, 2003, 2004, 2005, 2006, 2007, 2008, 2009, 2010, 2011, 2012, 2013, 2014, 2015, 2016, 2017, 2018, 2019], \"xaxis\": \"x\", \"y\": [132800, 171300, 217700, 208500, 172800, 164900, 178700, 199600, 166900, 143800, 132100, 133300, 184100, 199400, 174100, 146400, 126700, 131600, 149200, 242400, 245600, 238300, 247900, 238000, 196200, 153900, 139100, 123700, 109600, 92400], \"yaxis\": \"y\"}, {\"hoverlabel\": {\"namelength\": 0}, \"hovertemplate\": \"<b>%{hovertext}</b><br><br>Area=Rockland County<br>Year=%{x}<br>Unemployed=%{y}\", \"hovertext\": [\"Rockland County\", \"Rockland County\", \"Rockland County\", \"Rockland County\", \"Rockland County\", \"Rockland County\", \"Rockland County\", \"Rockland County\", \"Rockland County\", \"Rockland County\", \"Rockland County\", \"Rockland County\", \"Rockland County\", \"Rockland County\", \"Rockland County\", \"Rockland County\", \"Rockland County\", \"Rockland County\", \"Rockland County\", \"Rockland County\", \"Rockland County\", \"Rockland County\", \"Rockland County\", \"Rockland County\", \"Rockland County\", \"Rockland County\", \"Rockland County\", \"Rockland County\", \"Rockland County\", \"Rockland County\"], \"legendgroup\": \"Area=Rockland County\", \"line\": {\"color\": \"#ab63fa\", \"dash\": \"solid\"}, \"mode\": \"lines\", \"name\": \"Area=Rockland County\", \"showlegend\": true, \"type\": \"scattergl\", \"x\": [1990, 1991, 1992, 1993, 1994, 1995, 1996, 1997, 1998, 1999, 2000, 2001, 2002, 2003, 2004, 2005, 2006, 2007, 2008, 2009, 2010, 2011, 2012, 2013, 2014, 2015, 2016, 2017, 2018, 2019], \"xaxis\": \"x\", \"y\": [57900, 96400, 109700, 107200, 91700, 82700, 72900, 69300, 59700, 60900, 57000, 61100, 76500, 82700, 79500, 72100, 67600, 71000, 89200, 127000, 134200, 127500, 132000, 113300, 92300, 82600, 76500, 79600, 69400, 54100], \"yaxis\": \"y\"}, {\"hoverlabel\": {\"namelength\": 0}, \"hovertemplate\": \"<b>%{hovertext}</b><br><br>Area=Saratoga County<br>Year=%{x}<br>Unemployed=%{y}\", \"hovertext\": [\"Saratoga County\", \"Saratoga County\", \"Saratoga County\", \"Saratoga County\", \"Saratoga County\", \"Saratoga County\", \"Saratoga County\", \"Saratoga County\", \"Saratoga County\", \"Saratoga County\", \"Saratoga County\", \"Saratoga County\", \"Saratoga County\", \"Saratoga County\", \"Saratoga County\", \"Saratoga County\", \"Saratoga County\", \"Saratoga County\", \"Saratoga County\", \"Saratoga County\", \"Saratoga County\", \"Saratoga County\", \"Saratoga County\", \"Saratoga County\", \"Saratoga County\", \"Saratoga County\", \"Saratoga County\", \"Saratoga County\", \"Saratoga County\", \"Saratoga County\"], \"legendgroup\": \"Area=Saratoga County\", \"line\": {\"color\": \"#FFA15A\", \"dash\": \"solid\"}, \"mode\": \"lines\", \"name\": \"Area=Saratoga County\", \"showlegend\": true, \"type\": \"scattergl\", \"x\": [1990, 1991, 1992, 1993, 1994, 1995, 1996, 1997, 1998, 1999, 2000, 2001, 2002, 2003, 2004, 2005, 2006, 2007, 2008, 2009, 2010, 2011, 2012, 2013, 2014, 2015, 2016, 2017, 2018, 2019], \"xaxis\": \"x\", \"y\": [42200, 64100, 69800, 60100, 58900, 57200, 52700, 48500, 43800, 41900, 44200, 45000, 52900, 55000, 54800, 52500, 50500, 52600, 66800, 92900, 97700, 92400, 96000, 82200, 65000, 58100, 53800, 56200, 50100, 38700], \"yaxis\": \"y\"}, {\"hoverlabel\": {\"namelength\": 0}, \"hovertemplate\": \"<b>%{hovertext}</b><br><br>Area=Schenectady County<br>Year=%{x}<br>Unemployed=%{y}\", \"hovertext\": [\"Schenectady County\", \"Schenectady County\", \"Schenectady County\", \"Schenectady County\", \"Schenectady County\", \"Schenectady County\", \"Schenectady County\", \"Schenectady County\", \"Schenectady County\", \"Schenectady County\", \"Schenectady County\", \"Schenectady County\", \"Schenectady County\", \"Schenectady County\", \"Schenectady County\", \"Schenectady County\", \"Schenectady County\", \"Schenectady County\", \"Schenectady County\", \"Schenectady County\", \"Schenectady County\", \"Schenectady County\", \"Schenectady County\", \"Schenectady County\", \"Schenectady County\", \"Schenectady County\", \"Schenectady County\", \"Schenectady County\", \"Schenectady County\", \"Schenectady County\"], \"legendgroup\": \"Area=Schenectady County\", \"line\": {\"color\": \"#19d3f3\", \"dash\": \"solid\"}, \"mode\": \"lines\", \"name\": \"Area=Schenectady County\", \"showlegend\": true, \"type\": \"scattergl\", \"x\": [1990, 1991, 1992, 1993, 1994, 1995, 1996, 1997, 1998, 1999, 2000, 2001, 2002, 2003, 2004, 2005, 2006, 2007, 2008, 2009, 2010, 2011, 2012, 2013, 2014, 2015, 2016, 2017, 2018, 2019], \"xaxis\": \"x\", \"y\": [34900, 53800, 57000, 46400, 44400, 46500, 41400, 40000, 35600, 30700, 30400, 29400, 36300, 39600, 40100, 37900, 37000, 37800, 47000, 66800, 72500, 69200, 71900, 62600, 48900, 42700, 39300, 40600, 36800, 28400], \"yaxis\": \"y\"}, {\"hoverlabel\": {\"namelength\": 0}, \"hovertemplate\": \"<b>%{hovertext}</b><br><br>Area=Schoharie County<br>Year=%{x}<br>Unemployed=%{y}\", \"hovertext\": [\"Schoharie County\", \"Schoharie County\", \"Schoharie County\", \"Schoharie County\", \"Schoharie County\", \"Schoharie County\", \"Schoharie County\", \"Schoharie County\", \"Schoharie County\", \"Schoharie County\", \"Schoharie County\", \"Schoharie County\", \"Schoharie County\", \"Schoharie County\", \"Schoharie County\", \"Schoharie County\", \"Schoharie County\", \"Schoharie County\", \"Schoharie County\", \"Schoharie County\", \"Schoharie County\", \"Schoharie County\", \"Schoharie County\", \"Schoharie County\", \"Schoharie County\", \"Schoharie County\", \"Schoharie County\", \"Schoharie County\", \"Schoharie County\", \"Schoharie County\"], \"legendgroup\": \"Area=Schoharie County\", \"line\": {\"color\": \"#FF6692\", \"dash\": \"solid\"}, \"mode\": \"lines\", \"name\": \"Area=Schoharie County\", \"showlegend\": true, \"type\": \"scattergl\", \"x\": [1990, 1991, 1992, 1993, 1994, 1995, 1996, 1997, 1998, 1999, 2000, 2001, 2002, 2003, 2004, 2005, 2006, 2007, 2008, 2009, 2010, 2011, 2012, 2013, 2014, 2015, 2016, 2017, 2018, 2019], \"xaxis\": \"x\", \"y\": [9500, 13400, 15900, 12800, 11600, 11400, 11300, 11000, 9000, 9500, 7700, 7800, 10600, 9900, 10200, 9800, 9800, 10900, 13000, 16500, 17100, 16700, 17200, 14900, 11800, 10200, 9600, 9600, 8400, 6600], \"yaxis\": \"y\"}, {\"hoverlabel\": {\"namelength\": 0}, \"hovertemplate\": \"<b>%{hovertext}</b><br><br>Area=Schuyler County<br>Year=%{x}<br>Unemployed=%{y}\", \"hovertext\": [\"Schuyler County\", \"Schuyler County\", \"Schuyler County\", \"Schuyler County\", \"Schuyler County\", \"Schuyler County\", \"Schuyler County\", \"Schuyler County\", \"Schuyler County\", \"Schuyler County\", \"Schuyler County\", \"Schuyler County\", \"Schuyler County\", \"Schuyler County\", \"Schuyler County\", \"Schuyler County\", \"Schuyler County\", \"Schuyler County\", \"Schuyler County\", \"Schuyler County\", \"Schuyler County\", \"Schuyler County\", \"Schuyler County\", \"Schuyler County\", \"Schuyler County\", \"Schuyler County\", \"Schuyler County\", \"Schuyler County\", \"Schuyler County\", \"Schuyler County\"], \"legendgroup\": \"Area=Schuyler County\", \"line\": {\"color\": \"#B6E880\", \"dash\": \"solid\"}, \"mode\": \"lines\", \"name\": \"Area=Schuyler County\", \"showlegend\": true, \"type\": \"scattergl\", \"x\": [1990, 1991, 1992, 1993, 1994, 1995, 1996, 1997, 1998, 1999, 2000, 2001, 2002, 2003, 2004, 2005, 2006, 2007, 2008, 2009, 2010, 2011, 2012, 2013, 2014, 2015, 2016, 2017, 2018, 2019], \"xaxis\": \"x\", \"y\": [6100, 8500, 9300, 8000, 7200, 6400, 6100, 6500, 6300, 6400, 5100, 6000, 8000, 7600, 7000, 6500, 5900, 5900, 7000, 10200, 9600, 9400, 10200, 9400, 7300, 6600, 5800, 5900, 5100, 3700], \"yaxis\": \"y\"}, {\"hoverlabel\": {\"namelength\": 0}, \"hovertemplate\": \"<b>%{hovertext}</b><br><br>Area=Seneca County<br>Year=%{x}<br>Unemployed=%{y}\", \"hovertext\": [\"Seneca County\", \"Seneca County\", \"Seneca County\", \"Seneca County\", \"Seneca County\", \"Seneca County\", \"Seneca County\", \"Seneca County\", \"Seneca County\", \"Seneca County\", \"Seneca County\", \"Seneca County\", \"Seneca County\", \"Seneca County\", \"Seneca County\", \"Seneca County\", \"Seneca County\", \"Seneca County\", \"Seneca County\", \"Seneca County\", \"Seneca County\", \"Seneca County\", \"Seneca County\", \"Seneca County\", \"Seneca County\", \"Seneca County\", \"Seneca County\", \"Seneca County\", \"Seneca County\", \"Seneca County\"], \"legendgroup\": \"Area=Seneca County\", \"line\": {\"color\": \"#FF97FF\", \"dash\": \"solid\"}, \"mode\": \"lines\", \"name\": \"Area=Seneca County\", \"showlegend\": true, \"type\": \"scattergl\", \"x\": [1990, 1991, 1992, 1993, 1994, 1995, 1996, 1997, 1998, 1999, 2000, 2001, 2002, 2003, 2004, 2005, 2006, 2007, 2008, 2009, 2010, 2011, 2012, 2013, 2014, 2015, 2016, 2017, 2018, 2019], \"xaxis\": \"x\", \"y\": [9200, 12100, 13200, 12300, 11400, 10800, 9800, 10100, 9200, 10500, 8200, 8500, 11100, 11000, 10900, 9800, 9300, 9200, 11600, 15600, 16200, 15300, 15700, 13200, 10500, 9700, 9000, 8800, 7600, 5900], \"yaxis\": \"y\"}, {\"hoverlabel\": {\"namelength\": 0}, \"hovertemplate\": \"<b>%{hovertext}</b><br><br>Area=St. Lawrence County<br>Year=%{x}<br>Unemployed=%{y}\", \"hovertext\": [\"St. Lawrence County\", \"St. Lawrence County\", \"St. Lawrence County\", \"St. Lawrence County\", \"St. Lawrence County\", \"St. Lawrence County\", \"St. Lawrence County\", \"St. Lawrence County\", \"St. Lawrence County\", \"St. Lawrence County\", \"St. Lawrence County\", \"St. Lawrence County\", \"St. Lawrence County\", \"St. Lawrence County\", \"St. Lawrence County\", \"St. Lawrence County\", \"St. Lawrence County\", \"St. Lawrence County\", \"St. Lawrence County\", \"St. Lawrence County\", \"St. Lawrence County\", \"St. Lawrence County\", \"St. Lawrence County\", \"St. Lawrence County\", \"St. Lawrence County\", \"St. Lawrence County\", \"St. Lawrence County\", \"St. Lawrence County\", \"St. Lawrence County\", \"St. Lawrence County\"], \"legendgroup\": \"Area=St. Lawrence County\", \"line\": {\"color\": \"#FECB52\", \"dash\": \"solid\"}, \"mode\": \"lines\", \"name\": \"Area=St. Lawrence County\", \"showlegend\": true, \"type\": \"scattergl\", \"x\": [1990, 1991, 1992, 1993, 1994, 1995, 1996, 1997, 1998, 1999, 2000, 2001, 2002, 2003, 2004, 2005, 2006, 2007, 2008, 2009, 2010, 2011, 2012, 2013, 2014, 2015, 2016, 2017, 2018, 2019], \"xaxis\": \"x\", \"y\": [47100, 60700, 61200, 54600, 57800, 51500, 49500, 49700, 49500, 51400, 33400, 35700, 39100, 41400, 40900, 35800, 34100, 34400, 42600, 58600, 62000, 60800, 59500, 53000, 43900, 38400, 34200, 34500, 29300, 23300], \"yaxis\": \"y\"}, {\"hoverlabel\": {\"namelength\": 0}, \"hovertemplate\": \"<b>%{hovertext}</b><br><br>Area=Steuben County<br>Year=%{x}<br>Unemployed=%{y}\", \"hovertext\": [\"Steuben County\", \"Steuben County\", \"Steuben County\", \"Steuben County\", \"Steuben County\", \"Steuben County\", \"Steuben County\", \"Steuben County\", \"Steuben County\", \"Steuben County\", \"Steuben County\", \"Steuben County\", \"Steuben County\", \"Steuben County\", \"Steuben County\", \"Steuben County\", \"Steuben County\", \"Steuben County\", \"Steuben County\", \"Steuben County\", \"Steuben County\", \"Steuben County\", \"Steuben County\", \"Steuben County\", \"Steuben County\", \"Steuben County\", \"Steuben County\", \"Steuben County\", \"Steuben County\", \"Steuben County\"], \"legendgroup\": \"Area=Steuben County\", \"line\": {\"color\": \"#636efa\", \"dash\": \"solid\"}, \"mode\": \"lines\", \"name\": \"Area=Steuben County\", \"showlegend\": true, \"type\": \"scattergl\", \"x\": [1990, 1991, 1992, 1993, 1994, 1995, 1996, 1997, 1998, 1999, 2000, 2001, 2002, 2003, 2004, 2005, 2006, 2007, 2008, 2009, 2010, 2011, 2012, 2013, 2014, 2015, 2016, 2017, 2018, 2019], \"xaxis\": \"x\", \"y\": [28900, 42200, 47200, 38600, 37700, 38900, 34400, 38900, 35100, 32700, 23500, 28200, 39900, 39200, 33800, 30300, 28000, 28300, 33300, 53100, 54300, 50600, 51600, 46300, 36500, 32900, 30200, 29200, 25300, 18800], \"yaxis\": \"y\"}, {\"hoverlabel\": {\"namelength\": 0}, \"hovertemplate\": \"<b>%{hovertext}</b><br><br>Area=Suffolk County<br>Year=%{x}<br>Unemployed=%{y}\", \"hovertext\": [\"Suffolk County\", \"Suffolk County\", \"Suffolk County\", \"Suffolk County\", \"Suffolk County\", \"Suffolk County\", \"Suffolk County\", \"Suffolk County\", \"Suffolk County\", \"Suffolk County\", \"Suffolk County\", \"Suffolk County\", \"Suffolk County\", \"Suffolk County\", \"Suffolk County\", \"Suffolk County\", \"Suffolk County\", \"Suffolk County\", \"Suffolk County\", \"Suffolk County\", \"Suffolk County\", \"Suffolk County\", \"Suffolk County\", \"Suffolk County\", \"Suffolk County\", \"Suffolk County\", \"Suffolk County\", \"Suffolk County\", \"Suffolk County\", \"Suffolk County\"], \"legendgroup\": \"Area=Suffolk County\", \"line\": {\"color\": \"#EF553B\", \"dash\": \"solid\"}, \"mode\": \"lines\", \"name\": \"Area=Suffolk County\", \"showlegend\": true, \"type\": \"scattergl\", \"x\": [1990, 1991, 1992, 1993, 1994, 1995, 1996, 1997, 1998, 1999, 2000, 2001, 2002, 2003, 2004, 2005, 2006, 2007, 2008, 2009, 2010, 2011, 2012, 2013, 2014, 2015, 2016, 2017, 2018, 2019], \"xaxis\": \"x\", \"y\": [377300, 582200, 681800, 606100, 516900, 448100, 387100, 362800, 308600, 313300, 303200, 336100, 420500, 435500, 430100, 391200, 366800, 364700, 481200, 691500, 723600, 703200, 728200, 619000, 495200, 438300, 404500, 416400, 359300, 279800], \"yaxis\": \"y\"}, {\"hoverlabel\": {\"namelength\": 0}, \"hovertemplate\": \"<b>%{hovertext}</b><br><br>Area=Sullivan County<br>Year=%{x}<br>Unemployed=%{y}\", \"hovertext\": [\"Sullivan County\", \"Sullivan County\", \"Sullivan County\", \"Sullivan County\", \"Sullivan County\", \"Sullivan County\", \"Sullivan County\", \"Sullivan County\", \"Sullivan County\", \"Sullivan County\", \"Sullivan County\", \"Sullivan County\", \"Sullivan County\", \"Sullivan County\", \"Sullivan County\", \"Sullivan County\", \"Sullivan County\", \"Sullivan County\", \"Sullivan County\", \"Sullivan County\", \"Sullivan County\", \"Sullivan County\", \"Sullivan County\", \"Sullivan County\", \"Sullivan County\", \"Sullivan County\", \"Sullivan County\", \"Sullivan County\", \"Sullivan County\", \"Sullivan County\"], \"legendgroup\": \"Area=Sullivan County\", \"line\": {\"color\": \"#00cc96\", \"dash\": \"solid\"}, \"mode\": \"lines\", \"name\": \"Area=Sullivan County\", \"showlegend\": true, \"type\": \"scattergl\", \"x\": [1990, 1991, 1992, 1993, 1994, 1995, 1996, 1997, 1998, 1999, 2000, 2001, 2002, 2003, 2004, 2005, 2006, 2007, 2008, 2009, 2010, 2011, 2012, 2013, 2014, 2015, 2016, 2017, 2018, 2019], \"xaxis\": \"x\", \"y\": [20700, 32200, 36700, 33000, 29600, 24600, 24900, 24600, 23200, 22300, 17400, 18000, 20600, 21500, 22300, 20400, 21300, 22200, 27800, 36800, 39000, 37700, 38600, 33700, 26300, 21700, 19400, 20100, 17700, 13700], \"yaxis\": \"y\"}, {\"hoverlabel\": {\"namelength\": 0}, \"hovertemplate\": \"<b>%{hovertext}</b><br><br>Area=Tioga County<br>Year=%{x}<br>Unemployed=%{y}\", \"hovertext\": [\"Tioga County\", \"Tioga County\", \"Tioga County\", \"Tioga County\", \"Tioga County\", \"Tioga County\", \"Tioga County\", \"Tioga County\", \"Tioga County\", \"Tioga County\", \"Tioga County\", \"Tioga County\", \"Tioga County\", \"Tioga County\", \"Tioga County\", \"Tioga County\", \"Tioga County\", \"Tioga County\", \"Tioga County\", \"Tioga County\", \"Tioga County\", \"Tioga County\", \"Tioga County\", \"Tioga County\", \"Tioga County\", \"Tioga County\", \"Tioga County\", \"Tioga County\", \"Tioga County\", \"Tioga County\"], \"legendgroup\": \"Area=Tioga County\", \"line\": {\"color\": \"#ab63fa\", \"dash\": \"solid\"}, \"mode\": \"lines\", \"name\": \"Area=Tioga County\", \"showlegend\": true, \"type\": \"scattergl\", \"x\": [1990, 1991, 1992, 1993, 1994, 1995, 1996, 1997, 1998, 1999, 2000, 2001, 2002, 2003, 2004, 2005, 2006, 2007, 2008, 2009, 2010, 2011, 2012, 2013, 2014, 2015, 2016, 2017, 2018, 2019], \"xaxis\": \"x\", \"y\": [13800, 18600, 21100, 20200, 21700, 17500, 14300, 12400, 12000, 12000, 10900, 12900, 17500, 17800, 16400, 14900, 13600, 14800, 16900, 25300, 25600, 23700, 24200, 21500, 17400, 15400, 14200, 13900, 11900, 9100], \"yaxis\": \"y\"}, {\"hoverlabel\": {\"namelength\": 0}, \"hovertemplate\": \"<b>%{hovertext}</b><br><br>Area=Tompkins County<br>Year=%{x}<br>Unemployed=%{y}\", \"hovertext\": [\"Tompkins County\", \"Tompkins County\", \"Tompkins County\", \"Tompkins County\", \"Tompkins County\", \"Tompkins County\", \"Tompkins County\", \"Tompkins County\", \"Tompkins County\", \"Tompkins County\", \"Tompkins County\", \"Tompkins County\", \"Tompkins County\", \"Tompkins County\", \"Tompkins County\", \"Tompkins County\", \"Tompkins County\", \"Tompkins County\", \"Tompkins County\", \"Tompkins County\", \"Tompkins County\", \"Tompkins County\", \"Tompkins County\", \"Tompkins County\", \"Tompkins County\", \"Tompkins County\", \"Tompkins County\", \"Tompkins County\", \"Tompkins County\", \"Tompkins County\"], \"legendgroup\": \"Area=Tompkins County\", \"line\": {\"color\": \"#FFA15A\", \"dash\": \"solid\"}, \"mode\": \"lines\", \"name\": \"Area=Tompkins County\", \"showlegend\": true, \"type\": \"scattergl\", \"x\": [1990, 1991, 1992, 1993, 1994, 1995, 1996, 1997, 1998, 1999, 2000, 2001, 2002, 2003, 2004, 2005, 2006, 2007, 2008, 2009, 2010, 2011, 2012, 2013, 2014, 2015, 2016, 2017, 2018, 2019], \"xaxis\": \"x\", \"y\": [22000, 25000, 27300, 23600, 22400, 20800, 18100, 19000, 17600, 17200, 20000, 20700, 25400, 25000, 26000, 23500, 22400, 22400, 27900, 40000, 40600, 39300, 40500, 35000, 28700, 26600, 24900, 25800, 21800, 17800], \"yaxis\": \"y\"}, {\"hoverlabel\": {\"namelength\": 0}, \"hovertemplate\": \"<b>%{hovertext}</b><br><br>Area=Ulster County<br>Year=%{x}<br>Unemployed=%{y}\", \"hovertext\": [\"Ulster County\", \"Ulster County\", \"Ulster County\", \"Ulster County\", \"Ulster County\", \"Ulster County\", \"Ulster County\", \"Ulster County\", \"Ulster County\", \"Ulster County\", \"Ulster County\", \"Ulster County\", \"Ulster County\", \"Ulster County\", \"Ulster County\", \"Ulster County\", \"Ulster County\", \"Ulster County\", \"Ulster County\", \"Ulster County\", \"Ulster County\", \"Ulster County\", \"Ulster County\", \"Ulster County\", \"Ulster County\", \"Ulster County\", \"Ulster County\", \"Ulster County\", \"Ulster County\", \"Ulster County\"], \"legendgroup\": \"Area=Ulster County\", \"line\": {\"color\": \"#19d3f3\", \"dash\": \"solid\"}, \"mode\": \"lines\", \"name\": \"Area=Ulster County\", \"showlegend\": true, \"type\": \"scattergl\", \"x\": [1990, 1991, 1992, 1993, 1994, 1995, 1996, 1997, 1998, 1999, 2000, 2001, 2002, 2003, 2004, 2005, 2006, 2007, 2008, 2009, 2010, 2011, 2012, 2013, 2014, 2015, 2016, 2017, 2018, 2019], \"xaxis\": \"x\", \"y\": [37200, 60400, 67300, 73600, 63700, 51400, 42300, 39900, 34600, 35400, 37800, 40000, 47700, 49900, 53200, 47900, 45800, 47200, 59300, 83200, 87700, 85800, 90500, 77500, 60100, 50900, 46600, 47900, 41500, 32000], \"yaxis\": \"y\"}, {\"hoverlabel\": {\"namelength\": 0}, \"hovertemplate\": \"<b>%{hovertext}</b><br><br>Area=Warren County<br>Year=%{x}<br>Unemployed=%{y}\", \"hovertext\": [\"Warren County\", \"Warren County\", \"Warren County\", \"Warren County\", \"Warren County\", \"Warren County\", \"Warren County\", \"Warren County\", \"Warren County\", \"Warren County\", \"Warren County\", \"Warren County\", \"Warren County\", \"Warren County\", \"Warren County\", \"Warren County\", \"Warren County\", \"Warren County\", \"Warren County\", \"Warren County\", \"Warren County\", \"Warren County\", \"Warren County\", \"Warren County\", \"Warren County\", \"Warren County\", \"Warren County\", \"Warren County\", \"Warren County\", \"Warren County\"], \"legendgroup\": \"Area=Warren County\", \"line\": {\"color\": \"#FF6692\", \"dash\": \"solid\"}, \"mode\": \"lines\", \"name\": \"Area=Warren County\", \"showlegend\": true, \"type\": \"scattergl\", \"x\": [1990, 1991, 1992, 1993, 1994, 1995, 1996, 1997, 1998, 1999, 2000, 2001, 2002, 2003, 2004, 2005, 2006, 2007, 2008, 2009, 2010, 2011, 2012, 2013, 2014, 2015, 2016, 2017, 2018, 2019], \"xaxis\": \"x\", \"y\": [21600, 33000, 36500, 31600, 30200, 27900, 26700, 26500, 24100, 22700, 16500, 17700, 20100, 20900, 20600, 19600, 19500, 19500, 24700, 34600, 36900, 36000, 37000, 32500, 25700, 21600, 20200, 19900, 17600, 13500], \"yaxis\": \"y\"}, {\"hoverlabel\": {\"namelength\": 0}, \"hovertemplate\": \"<b>%{hovertext}</b><br><br>Area=Washington County<br>Year=%{x}<br>Unemployed=%{y}\", \"hovertext\": [\"Washington County\", \"Washington County\", \"Washington County\", \"Washington County\", \"Washington County\", \"Washington County\", \"Washington County\", \"Washington County\", \"Washington County\", \"Washington County\", \"Washington County\", \"Washington County\", \"Washington County\", \"Washington County\", \"Washington County\", \"Washington County\", \"Washington County\", \"Washington County\", \"Washington County\", \"Washington County\", \"Washington County\", \"Washington County\", \"Washington County\", \"Washington County\", \"Washington County\", \"Washington County\", \"Washington County\", \"Washington County\", \"Washington County\", \"Washington County\"], \"legendgroup\": \"Area=Washington County\", \"line\": {\"color\": \"#B6E880\", \"dash\": \"solid\"}, \"mode\": \"lines\", \"name\": \"Area=Washington County\", \"showlegend\": true, \"type\": \"scattergl\", \"x\": [1990, 1991, 1992, 1993, 1994, 1995, 1996, 1997, 1998, 1999, 2000, 2001, 2002, 2003, 2004, 2005, 2006, 2007, 2008, 2009, 2010, 2011, 2012, 2013, 2014, 2015, 2016, 2017, 2018, 2019], \"xaxis\": \"x\", \"y\": [18400, 25800, 28100, 23400, 22400, 21300, 19800, 20700, 16700, 15700, 13400, 14500, 16900, 16900, 17800, 17200, 15900, 16000, 21100, 29100, 30100, 28900, 29600, 26400, 20800, 17400, 15800, 15600, 14000, 10800], \"yaxis\": \"y\"}, {\"hoverlabel\": {\"namelength\": 0}, \"hovertemplate\": \"<b>%{hovertext}</b><br><br>Area=Wayne County<br>Year=%{x}<br>Unemployed=%{y}\", \"hovertext\": [\"Wayne County\", \"Wayne County\", \"Wayne County\", \"Wayne County\", \"Wayne County\", \"Wayne County\", \"Wayne County\", \"Wayne County\", \"Wayne County\", \"Wayne County\", \"Wayne County\", \"Wayne County\", \"Wayne County\", \"Wayne County\", \"Wayne County\", \"Wayne County\", \"Wayne County\", \"Wayne County\", \"Wayne County\", \"Wayne County\", \"Wayne County\", \"Wayne County\", \"Wayne County\", \"Wayne County\", \"Wayne County\", \"Wayne County\", \"Wayne County\", \"Wayne County\", \"Wayne County\", \"Wayne County\"], \"legendgroup\": \"Area=Wayne County\", \"line\": {\"color\": \"#FF97FF\", \"dash\": \"solid\"}, \"mode\": \"lines\", \"name\": \"Area=Wayne County\", \"showlegend\": true, \"type\": \"scattergl\", \"x\": [1990, 1991, 1992, 1993, 1994, 1995, 1996, 1997, 1998, 1999, 2000, 2001, 2002, 2003, 2004, 2005, 2006, 2007, 2008, 2009, 2010, 2011, 2012, 2013, 2014, 2015, 2016, 2017, 2018, 2019], \"xaxis\": \"x\", \"y\": [26600, 36700, 41700, 35200, 35100, 32800, 29800, 28800, 28800, 30000, 22400, 27000, 36600, 34500, 32000, 28800, 27100, 27100, 33900, 47500, 50400, 47000, 47900, 41700, 32900, 28200, 26300, 25800, 21900, 17000], \"yaxis\": \"y\"}, {\"hoverlabel\": {\"namelength\": 0}, \"hovertemplate\": \"<b>%{hovertext}</b><br><br>Area=Westchester County<br>Year=%{x}<br>Unemployed=%{y}\", \"hovertext\": [\"Westchester County\", \"Westchester County\", \"Westchester County\", \"Westchester County\", \"Westchester County\", \"Westchester County\", \"Westchester County\", \"Westchester County\", \"Westchester County\", \"Westchester County\", \"Westchester County\", \"Westchester County\", \"Westchester County\", \"Westchester County\", \"Westchester County\", \"Westchester County\", \"Westchester County\", \"Westchester County\", \"Westchester County\", \"Westchester County\", \"Westchester County\", \"Westchester County\", \"Westchester County\", \"Westchester County\", \"Westchester County\", \"Westchester County\", \"Westchester County\", \"Westchester County\", \"Westchester County\", \"Westchester County\"], \"legendgroup\": \"Area=Westchester County\", \"line\": {\"color\": \"#FECB52\", \"dash\": \"solid\"}, \"mode\": \"lines\", \"name\": \"Area=Westchester County\", \"showlegend\": true, \"type\": \"scattergl\", \"x\": [1990, 1991, 1992, 1993, 1994, 1995, 1996, 1997, 1998, 1999, 2000, 2001, 2002, 2003, 2004, 2005, 2006, 2007, 2008, 2009, 2010, 2011, 2012, 2013, 2014, 2015, 2016, 2017, 2018, 2019], \"xaxis\": \"x\", \"y\": [200600, 298600, 337700, 295200, 259600, 232300, 217100, 202100, 181000, 184500, 188600, 210100, 254800, 253200, 254600, 231600, 220700, 217600, 285100, 414700, 422300, 401800, 415900, 358500, 289800, 260300, 245400, 259100, 225900, 177400], \"yaxis\": \"y\"}, {\"hoverlabel\": {\"namelength\": 0}, \"hovertemplate\": \"<b>%{hovertext}</b><br><br>Area=Wyoming County<br>Year=%{x}<br>Unemployed=%{y}\", \"hovertext\": [\"Wyoming County\", \"Wyoming County\", \"Wyoming County\", \"Wyoming County\", \"Wyoming County\", \"Wyoming County\", \"Wyoming County\", \"Wyoming County\", \"Wyoming County\", \"Wyoming County\", \"Wyoming County\", \"Wyoming County\", \"Wyoming County\", \"Wyoming County\", \"Wyoming County\", \"Wyoming County\", \"Wyoming County\", \"Wyoming County\", \"Wyoming County\", \"Wyoming County\", \"Wyoming County\", \"Wyoming County\", \"Wyoming County\", \"Wyoming County\", \"Wyoming County\", \"Wyoming County\", \"Wyoming County\", \"Wyoming County\", \"Wyoming County\", \"Wyoming County\"], \"legendgroup\": \"Area=Wyoming County\", \"line\": {\"color\": \"#636efa\", \"dash\": \"solid\"}, \"mode\": \"lines\", \"name\": \"Area=Wyoming County\", \"showlegend\": true, \"type\": \"scattergl\", \"x\": [1990, 1991, 1992, 1993, 1994, 1995, 1996, 1997, 1998, 1999, 2000, 2001, 2002, 2003, 2004, 2005, 2006, 2007, 2008, 2009, 2010, 2011, 2012, 2013, 2014, 2015, 2016, 2017, 2018, 2019], \"xaxis\": \"x\", \"y\": [13700, 20000, 21300, 20200, 20500, 17300, 16100, 16900, 19200, 17800, 11500, 12100, 14400, 15300, 15900, 13500, 12500, 12500, 16000, 22400, 22200, 19700, 19900, 17800, 14400, 12400, 11500, 12300, 10200, 7700], \"yaxis\": \"y\"}, {\"hoverlabel\": {\"namelength\": 0}, \"hovertemplate\": \"<b>%{hovertext}</b><br><br>Area=Yates County<br>Year=%{x}<br>Unemployed=%{y}\", \"hovertext\": [\"Yates County\", \"Yates County\", \"Yates County\", \"Yates County\", \"Yates County\", \"Yates County\", \"Yates County\", \"Yates County\", \"Yates County\", \"Yates County\", \"Yates County\", \"Yates County\", \"Yates County\", \"Yates County\", \"Yates County\", \"Yates County\", \"Yates County\", \"Yates County\", \"Yates County\", \"Yates County\", \"Yates County\", \"Yates County\", \"Yates County\", \"Yates County\", \"Yates County\", \"Yates County\", \"Yates County\", \"Yates County\", \"Yates County\", \"Yates County\"], \"legendgroup\": \"Area=Yates County\", \"line\": {\"color\": \"#EF553B\", \"dash\": \"solid\"}, \"mode\": \"lines\", \"name\": \"Area=Yates County\", \"showlegend\": true, \"type\": \"scattergl\", \"x\": [1990, 1991, 1992, 1993, 1994, 1995, 1996, 1997, 1998, 1999, 2000, 2001, 2002, 2003, 2004, 2005, 2006, 2007, 2008, 2009, 2010, 2011, 2012, 2013, 2014, 2015, 2016, 2017, 2018, 2019], \"xaxis\": \"x\", \"y\": [6700, 9300, 10100, 8000, 7900, 7400, 6400, 6700, 6200, 6600, 5300, 5400, 7300, 7300, 7100, 6700, 6600, 6600, 8000, 10600, 10800, 11100, 11300, 9900, 7900, 7100, 6300, 6100, 5600, 4300], \"yaxis\": \"y\"}],\n",
       "                        {\"height\": 600, \"legend\": {\"tracegroupgap\": 0}, \"margin\": {\"t\": 60}, \"showlegend\": false, \"template\": {\"data\": {\"bar\": [{\"error_x\": {\"color\": \"#2a3f5f\"}, \"error_y\": {\"color\": \"#2a3f5f\"}, \"marker\": {\"line\": {\"color\": \"#E5ECF6\", \"width\": 0.5}}, \"type\": \"bar\"}], \"barpolar\": [{\"marker\": {\"line\": {\"color\": \"#E5ECF6\", \"width\": 0.5}}, \"type\": \"barpolar\"}], \"carpet\": [{\"aaxis\": {\"endlinecolor\": \"#2a3f5f\", \"gridcolor\": \"white\", \"linecolor\": \"white\", \"minorgridcolor\": \"white\", \"startlinecolor\": \"#2a3f5f\"}, \"baxis\": {\"endlinecolor\": \"#2a3f5f\", \"gridcolor\": \"white\", \"linecolor\": \"white\", \"minorgridcolor\": \"white\", \"startlinecolor\": \"#2a3f5f\"}, \"type\": \"carpet\"}], \"choropleth\": [{\"colorbar\": {\"outlinewidth\": 0, \"ticks\": \"\"}, \"type\": \"choropleth\"}], \"contour\": [{\"colorbar\": {\"outlinewidth\": 0, \"ticks\": \"\"}, \"colorscale\": [[0.0, \"#0d0887\"], [0.1111111111111111, \"#46039f\"], [0.2222222222222222, \"#7201a8\"], [0.3333333333333333, \"#9c179e\"], [0.4444444444444444, \"#bd3786\"], [0.5555555555555556, \"#d8576b\"], [0.6666666666666666, \"#ed7953\"], [0.7777777777777778, \"#fb9f3a\"], [0.8888888888888888, \"#fdca26\"], [1.0, \"#f0f921\"]], \"type\": \"contour\"}], \"contourcarpet\": [{\"colorbar\": {\"outlinewidth\": 0, \"ticks\": \"\"}, \"type\": \"contourcarpet\"}], \"heatmap\": [{\"colorbar\": {\"outlinewidth\": 0, \"ticks\": \"\"}, \"colorscale\": [[0.0, \"#0d0887\"], [0.1111111111111111, \"#46039f\"], [0.2222222222222222, \"#7201a8\"], [0.3333333333333333, \"#9c179e\"], [0.4444444444444444, \"#bd3786\"], [0.5555555555555556, \"#d8576b\"], [0.6666666666666666, \"#ed7953\"], [0.7777777777777778, \"#fb9f3a\"], [0.8888888888888888, \"#fdca26\"], [1.0, \"#f0f921\"]], \"type\": \"heatmap\"}], \"heatmapgl\": [{\"colorbar\": {\"outlinewidth\": 0, \"ticks\": \"\"}, \"colorscale\": [[0.0, \"#0d0887\"], [0.1111111111111111, \"#46039f\"], [0.2222222222222222, \"#7201a8\"], [0.3333333333333333, \"#9c179e\"], [0.4444444444444444, \"#bd3786\"], [0.5555555555555556, \"#d8576b\"], [0.6666666666666666, \"#ed7953\"], [0.7777777777777778, \"#fb9f3a\"], [0.8888888888888888, \"#fdca26\"], [1.0, \"#f0f921\"]], \"type\": \"heatmapgl\"}], \"histogram\": [{\"marker\": {\"colorbar\": {\"outlinewidth\": 0, \"ticks\": \"\"}}, \"type\": \"histogram\"}], \"histogram2d\": [{\"colorbar\": {\"outlinewidth\": 0, \"ticks\": \"\"}, \"colorscale\": [[0.0, \"#0d0887\"], [0.1111111111111111, \"#46039f\"], [0.2222222222222222, \"#7201a8\"], [0.3333333333333333, \"#9c179e\"], [0.4444444444444444, \"#bd3786\"], [0.5555555555555556, \"#d8576b\"], [0.6666666666666666, \"#ed7953\"], [0.7777777777777778, \"#fb9f3a\"], [0.8888888888888888, \"#fdca26\"], [1.0, \"#f0f921\"]], \"type\": \"histogram2d\"}], \"histogram2dcontour\": [{\"colorbar\": {\"outlinewidth\": 0, \"ticks\": \"\"}, \"colorscale\": [[0.0, \"#0d0887\"], [0.1111111111111111, \"#46039f\"], [0.2222222222222222, \"#7201a8\"], [0.3333333333333333, \"#9c179e\"], [0.4444444444444444, \"#bd3786\"], [0.5555555555555556, \"#d8576b\"], [0.6666666666666666, \"#ed7953\"], [0.7777777777777778, \"#fb9f3a\"], [0.8888888888888888, \"#fdca26\"], [1.0, \"#f0f921\"]], \"type\": \"histogram2dcontour\"}], \"mesh3d\": [{\"colorbar\": {\"outlinewidth\": 0, \"ticks\": \"\"}, \"type\": \"mesh3d\"}], \"parcoords\": [{\"line\": {\"colorbar\": {\"outlinewidth\": 0, \"ticks\": \"\"}}, \"type\": \"parcoords\"}], \"pie\": [{\"automargin\": true, \"type\": \"pie\"}], \"scatter\": [{\"marker\": {\"colorbar\": {\"outlinewidth\": 0, \"ticks\": \"\"}}, \"type\": \"scatter\"}], \"scatter3d\": [{\"line\": {\"colorbar\": {\"outlinewidth\": 0, \"ticks\": \"\"}}, \"marker\": {\"colorbar\": {\"outlinewidth\": 0, \"ticks\": \"\"}}, \"type\": \"scatter3d\"}], \"scattercarpet\": [{\"marker\": {\"colorbar\": {\"outlinewidth\": 0, \"ticks\": \"\"}}, \"type\": \"scattercarpet\"}], \"scattergeo\": [{\"marker\": {\"colorbar\": {\"outlinewidth\": 0, \"ticks\": \"\"}}, \"type\": \"scattergeo\"}], \"scattergl\": [{\"marker\": {\"colorbar\": {\"outlinewidth\": 0, \"ticks\": \"\"}}, \"type\": \"scattergl\"}], \"scattermapbox\": [{\"marker\": {\"colorbar\": {\"outlinewidth\": 0, \"ticks\": \"\"}}, \"type\": \"scattermapbox\"}], \"scatterpolar\": [{\"marker\": {\"colorbar\": {\"outlinewidth\": 0, \"ticks\": \"\"}}, \"type\": \"scatterpolar\"}], \"scatterpolargl\": [{\"marker\": {\"colorbar\": {\"outlinewidth\": 0, \"ticks\": \"\"}}, \"type\": \"scatterpolargl\"}], \"scatterternary\": [{\"marker\": {\"colorbar\": {\"outlinewidth\": 0, \"ticks\": \"\"}}, \"type\": \"scatterternary\"}], \"surface\": [{\"colorbar\": {\"outlinewidth\": 0, \"ticks\": \"\"}, \"colorscale\": [[0.0, \"#0d0887\"], [0.1111111111111111, \"#46039f\"], [0.2222222222222222, \"#7201a8\"], [0.3333333333333333, \"#9c179e\"], [0.4444444444444444, \"#bd3786\"], [0.5555555555555556, \"#d8576b\"], [0.6666666666666666, \"#ed7953\"], [0.7777777777777778, \"#fb9f3a\"], [0.8888888888888888, \"#fdca26\"], [1.0, \"#f0f921\"]], \"type\": \"surface\"}], \"table\": [{\"cells\": {\"fill\": {\"color\": \"#EBF0F8\"}, \"line\": {\"color\": \"white\"}}, \"header\": {\"fill\": {\"color\": \"#C8D4E3\"}, \"line\": {\"color\": \"white\"}}, \"type\": \"table\"}]}, \"layout\": {\"annotationdefaults\": {\"arrowcolor\": \"#2a3f5f\", \"arrowhead\": 0, \"arrowwidth\": 1}, \"coloraxis\": {\"colorbar\": {\"outlinewidth\": 0, \"ticks\": \"\"}}, \"colorscale\": {\"diverging\": [[0, \"#8e0152\"], [0.1, \"#c51b7d\"], [0.2, \"#de77ae\"], [0.3, \"#f1b6da\"], [0.4, \"#fde0ef\"], [0.5, \"#f7f7f7\"], [0.6, \"#e6f5d0\"], [0.7, \"#b8e186\"], [0.8, \"#7fbc41\"], [0.9, \"#4d9221\"], [1, \"#276419\"]], \"sequential\": [[0.0, \"#0d0887\"], [0.1111111111111111, \"#46039f\"], [0.2222222222222222, \"#7201a8\"], [0.3333333333333333, \"#9c179e\"], [0.4444444444444444, \"#bd3786\"], [0.5555555555555556, \"#d8576b\"], [0.6666666666666666, \"#ed7953\"], [0.7777777777777778, \"#fb9f3a\"], [0.8888888888888888, \"#fdca26\"], [1.0, \"#f0f921\"]], \"sequentialminus\": [[0.0, \"#0d0887\"], [0.1111111111111111, \"#46039f\"], [0.2222222222222222, \"#7201a8\"], [0.3333333333333333, \"#9c179e\"], [0.4444444444444444, \"#bd3786\"], [0.5555555555555556, \"#d8576b\"], [0.6666666666666666, \"#ed7953\"], [0.7777777777777778, \"#fb9f3a\"], [0.8888888888888888, \"#fdca26\"], [1.0, \"#f0f921\"]]}, \"colorway\": [\"#636efa\", \"#EF553B\", \"#00cc96\", \"#ab63fa\", \"#FFA15A\", \"#19d3f3\", \"#FF6692\", \"#B6E880\", \"#FF97FF\", \"#FECB52\"], \"font\": {\"color\": \"#2a3f5f\"}, \"geo\": {\"bgcolor\": \"white\", \"lakecolor\": \"white\", \"landcolor\": \"#E5ECF6\", \"showlakes\": true, \"showland\": true, \"subunitcolor\": \"white\"}, \"hoverlabel\": {\"align\": \"left\"}, \"hovermode\": \"closest\", \"mapbox\": {\"style\": \"light\"}, \"paper_bgcolor\": \"white\", \"plot_bgcolor\": \"#E5ECF6\", \"polar\": {\"angularaxis\": {\"gridcolor\": \"white\", \"linecolor\": \"white\", \"ticks\": \"\"}, \"bgcolor\": \"#E5ECF6\", \"radialaxis\": {\"gridcolor\": \"white\", \"linecolor\": \"white\", \"ticks\": \"\"}}, \"scene\": {\"xaxis\": {\"backgroundcolor\": \"#E5ECF6\", \"gridcolor\": \"white\", \"gridwidth\": 2, \"linecolor\": \"white\", \"showbackground\": true, \"ticks\": \"\", \"zerolinecolor\": \"white\"}, \"yaxis\": {\"backgroundcolor\": \"#E5ECF6\", \"gridcolor\": \"white\", \"gridwidth\": 2, \"linecolor\": \"white\", \"showbackground\": true, \"ticks\": \"\", \"zerolinecolor\": \"white\"}, \"zaxis\": {\"backgroundcolor\": \"#E5ECF6\", \"gridcolor\": \"white\", \"gridwidth\": 2, \"linecolor\": \"white\", \"showbackground\": true, \"ticks\": \"\", \"zerolinecolor\": \"white\"}}, \"shapedefaults\": {\"line\": {\"color\": \"#2a3f5f\"}}, \"ternary\": {\"aaxis\": {\"gridcolor\": \"white\", \"linecolor\": \"white\", \"ticks\": \"\"}, \"baxis\": {\"gridcolor\": \"white\", \"linecolor\": \"white\", \"ticks\": \"\"}, \"bgcolor\": \"#E5ECF6\", \"caxis\": {\"gridcolor\": \"white\", \"linecolor\": \"white\", \"ticks\": \"\"}}, \"title\": {\"x\": 0.05}, \"xaxis\": {\"automargin\": true, \"gridcolor\": \"white\", \"linecolor\": \"white\", \"ticks\": \"\", \"title\": {\"standoff\": 15}, \"zerolinecolor\": \"white\", \"zerolinewidth\": 2}, \"yaxis\": {\"automargin\": true, \"gridcolor\": \"white\", \"linecolor\": \"white\", \"ticks\": \"\", \"title\": {\"standoff\": 15}, \"zerolinecolor\": \"white\", \"zerolinewidth\": 2}}}, \"title\": {\"text\": \"New York Counties Unemployment Trend from 1990-2019\"}, \"xaxis\": {\"anchor\": \"y\", \"domain\": [0.0, 1.0], \"rangeslider\": {\"visible\": true}, \"title\": {\"text\": \"Year\"}}, \"yaxis\": {\"anchor\": \"x\", \"domain\": [0.0, 1.0], \"title\": {\"text\": \"Unemployed Members in Millions\"}}},\n",
       "                        {\"responsive\": true}\n",
       "                    ).then(function(){\n",
       "                            \n",
       "var gd = document.getElementById('104bbdfd-cd5b-4c70-9bda-906987d37969');\n",
       "var x = new MutationObserver(function (mutations, observer) {{\n",
       "        var display = window.getComputedStyle(gd).display;\n",
       "        if (!display || display === 'none') {{\n",
       "            console.log([gd, 'removed!']);\n",
       "            Plotly.purge(gd);\n",
       "            observer.disconnect();\n",
       "        }}\n",
       "}});\n",
       "\n",
       "// Listen for the removal of the full notebook cells\n",
       "var notebookContainer = gd.closest('#notebook-container');\n",
       "if (notebookContainer) {{\n",
       "    x.observe(notebookContainer, {childList: true});\n",
       "}}\n",
       "\n",
       "// Listen for the clearing of the current output cell\n",
       "var outputEl = gd.closest('.output');\n",
       "if (outputEl) {{\n",
       "    x.observe(outputEl, {childList: true});\n",
       "}}\n",
       "\n",
       "                        })\n",
       "                };\n",
       "                });\n",
       "            </script>\n",
       "        </div>"
      ]
     },
     "metadata": {},
     "output_type": "display_data"
    }
   ],
   "source": [
    "UNEMPLOYMENT3 = pd.read_csv(\"local-area-unemployment-statistics-beginning-1976.csv\")\n",
    "UNEMPLOYMENT3 = UNEMPLOYMENT3[(UNEMPLOYMENT3.Area.str.contains(\"County\"))]\n",
    "UNEMPLOYMENT_BY_Year = UNEMPLOYMENT3.groupby([\"Area\", \"Year\"]).sum()\n",
    "UNEMPLOYMENT_BY_Year = UNEMPLOYMENT_BY_Year.reset_index() \n",
    "\n",
    "fig = px.line(UNEMPLOYMENT_BY_Year, x=\"Year\", y=\"Unemployed\", color=\"Area\",\n",
    "              line_group=\"Area\", hover_name=\"Area\")\n",
    "fig.update_layout(title_text='New York Counties Unemployment Trend from 1990-2019', showlegend=False,\n",
    "                   yaxis_title= \"Unemployed Members in Millions\", xaxis_title=\"Year\", xaxis_rangeslider_visible=True)\n",
    "fig.show()"
   ]
  },
  {
   "cell_type": "markdown",
   "metadata": {},
   "source": [
    "### Temporary Assistance  vs Non-Temporary Assistance  \n"
   ]
  },
  {
   "cell_type": "markdown",
   "metadata": {},
   "source": [
    "For many people temporary assistance SNAP benefits provides assistance during a fairly brief stretch of hard times, such as unemployment. For millions of others – foremost, the elderly, disabled, and those with dependents, – the program is a long-term support. More than 55% of New York SNAP participants are in families with children and almost 46% are in families with members who are elderly or disabled. For most SNAP participants, there are no limits on the number of times or on the total amount of time they can receive benefits as long as they meet the they can participate in the program or on the total amount of time they can receive benefits as long as they meet the eligibility requirements. As a result, recipients whose financial circumstances and other needs fluctuate over time may have multiple spells of participation (Dynamics of Supplemental Nutrition Assistance Program Participation from 2008 to 2012, USDA).\n"
   ]
  },
  {
   "cell_type": "code",
   "execution_count": 19,
   "metadata": {},
   "outputs": [
    {
     "data": {
      "text/html": [
       "<div>\n",
       "<style scoped>\n",
       "    .dataframe tbody tr th:only-of-type {\n",
       "        vertical-align: middle;\n",
       "    }\n",
       "\n",
       "    .dataframe tbody tr th {\n",
       "        vertical-align: top;\n",
       "    }\n",
       "\n",
       "    .dataframe thead th {\n",
       "        text-align: right;\n",
       "    }\n",
       "</style>\n",
       "<table border=\"1\" class=\"dataframe\">\n",
       "  <thead>\n",
       "    <tr style=\"text-align: right;\">\n",
       "      <th></th>\n",
       "      <th>Year</th>\n",
       "      <th>Month Code</th>\n",
       "      <th>District Code</th>\n",
       "      <th>Total SNAP Households</th>\n",
       "      <th>Total SNAP Persons</th>\n",
       "      <th>Total SNAP Benefits</th>\n",
       "      <th>Temporary Assistance SNAP Households</th>\n",
       "      <th>Temporary Assistance SNAP Persons</th>\n",
       "      <th>Temporary Assistance SNAP Benefits</th>\n",
       "      <th>Non-Temporary Assistance SNAP Households</th>\n",
       "      <th>Non-Temporary Assistance SNAP Persons</th>\n",
       "      <th>Non-Temporary Assistance SNAP Benefits</th>\n",
       "    </tr>\n",
       "  </thead>\n",
       "  <tbody>\n",
       "    <tr>\n",
       "      <td>0</td>\n",
       "      <td>2002</td>\n",
       "      <td>4524</td>\n",
       "      <td>20628</td>\n",
       "      <td>8239418</td>\n",
       "      <td>16265748</td>\n",
       "      <td>1520823589</td>\n",
       "      <td>5702540</td>\n",
       "      <td>10095319</td>\n",
       "      <td>1032987771</td>\n",
       "      <td>2536878</td>\n",
       "      <td>6170429</td>\n",
       "      <td>487835818</td>\n",
       "    </tr>\n",
       "    <tr>\n",
       "      <td>1</td>\n",
       "      <td>2003</td>\n",
       "      <td>4524</td>\n",
       "      <td>20628</td>\n",
       "      <td>8827721</td>\n",
       "      <td>17634758</td>\n",
       "      <td>1742027971</td>\n",
       "      <td>6015172</td>\n",
       "      <td>10743616</td>\n",
       "      <td>1164505897</td>\n",
       "      <td>2812549</td>\n",
       "      <td>6891142</td>\n",
       "      <td>577522074</td>\n",
       "    </tr>\n",
       "    <tr>\n",
       "      <td>2</td>\n",
       "      <td>2004</td>\n",
       "      <td>4524</td>\n",
       "      <td>20628</td>\n",
       "      <td>10034110</td>\n",
       "      <td>19752895</td>\n",
       "      <td>1965320388</td>\n",
       "      <td>6778517</td>\n",
       "      <td>11910060</td>\n",
       "      <td>1279220913</td>\n",
       "      <td>3255593</td>\n",
       "      <td>7842835</td>\n",
       "      <td>686099475</td>\n",
       "    </tr>\n",
       "    <tr>\n",
       "      <td>3</td>\n",
       "      <td>2005</td>\n",
       "      <td>4524</td>\n",
       "      <td>20628</td>\n",
       "      <td>11062231</td>\n",
       "      <td>21213360</td>\n",
       "      <td>2188400866</td>\n",
       "      <td>6939810</td>\n",
       "      <td>11587438</td>\n",
       "      <td>1242813319</td>\n",
       "      <td>4122821</td>\n",
       "      <td>9625922</td>\n",
       "      <td>945587547</td>\n",
       "    </tr>\n",
       "    <tr>\n",
       "      <td>4</td>\n",
       "      <td>2006</td>\n",
       "      <td>4524</td>\n",
       "      <td>20628</td>\n",
       "      <td>11271022</td>\n",
       "      <td>21465995</td>\n",
       "      <td>2281071170</td>\n",
       "      <td>7001595</td>\n",
       "      <td>11570197</td>\n",
       "      <td>1280724098</td>\n",
       "      <td>4269427</td>\n",
       "      <td>9895798</td>\n",
       "      <td>1000347072</td>\n",
       "    </tr>\n",
       "    <tr>\n",
       "      <td>5</td>\n",
       "      <td>2007</td>\n",
       "      <td>4524</td>\n",
       "      <td>20628</td>\n",
       "      <td>11515370</td>\n",
       "      <td>21764190</td>\n",
       "      <td>2379991528</td>\n",
       "      <td>6500412</td>\n",
       "      <td>10837302</td>\n",
       "      <td>1233683858</td>\n",
       "      <td>5014958</td>\n",
       "      <td>10926888</td>\n",
       "      <td>1146307670</td>\n",
       "    </tr>\n",
       "    <tr>\n",
       "      <td>6</td>\n",
       "      <td>2008</td>\n",
       "      <td>4524</td>\n",
       "      <td>20628</td>\n",
       "      <td>12919782</td>\n",
       "      <td>24355072</td>\n",
       "      <td>2801699099</td>\n",
       "      <td>6808360</td>\n",
       "      <td>10397381</td>\n",
       "      <td>1251561912</td>\n",
       "      <td>6111422</td>\n",
       "      <td>13957691</td>\n",
       "      <td>1550137187</td>\n",
       "    </tr>\n",
       "    <tr>\n",
       "      <td>7</td>\n",
       "      <td>2009</td>\n",
       "      <td>4524</td>\n",
       "      <td>20628</td>\n",
       "      <td>15560415</td>\n",
       "      <td>29343602</td>\n",
       "      <td>4341851063</td>\n",
       "      <td>7131771</td>\n",
       "      <td>10811283</td>\n",
       "      <td>1730698905</td>\n",
       "      <td>8428644</td>\n",
       "      <td>18532319</td>\n",
       "      <td>2611152158</td>\n",
       "    </tr>\n",
       "    <tr>\n",
       "      <td>8</td>\n",
       "      <td>2010</td>\n",
       "      <td>4524</td>\n",
       "      <td>20628</td>\n",
       "      <td>18075370</td>\n",
       "      <td>34020897</td>\n",
       "      <td>5155293674</td>\n",
       "      <td>7494878</td>\n",
       "      <td>11326226</td>\n",
       "      <td>1883328473</td>\n",
       "      <td>10580492</td>\n",
       "      <td>22694671</td>\n",
       "      <td>3271965201</td>\n",
       "    </tr>\n",
       "    <tr>\n",
       "      <td>9</td>\n",
       "      <td>2011</td>\n",
       "      <td>4524</td>\n",
       "      <td>20628</td>\n",
       "      <td>19415673</td>\n",
       "      <td>36352331</td>\n",
       "      <td>5451671131</td>\n",
       "      <td>7706059</td>\n",
       "      <td>11599642</td>\n",
       "      <td>1918357032</td>\n",
       "      <td>11709614</td>\n",
       "      <td>24752689</td>\n",
       "      <td>3533314099</td>\n",
       "    </tr>\n",
       "    <tr>\n",
       "      <td>10</td>\n",
       "      <td>2012</td>\n",
       "      <td>4524</td>\n",
       "      <td>20628</td>\n",
       "      <td>19985470</td>\n",
       "      <td>37195711</td>\n",
       "      <td>5604893485</td>\n",
       "      <td>7866785</td>\n",
       "      <td>11768402</td>\n",
       "      <td>1961939241</td>\n",
       "      <td>12118685</td>\n",
       "      <td>25427309</td>\n",
       "      <td>3642954244</td>\n",
       "    </tr>\n",
       "    <tr>\n",
       "      <td>11</td>\n",
       "      <td>2013</td>\n",
       "      <td>4524</td>\n",
       "      <td>20628</td>\n",
       "      <td>20639634</td>\n",
       "      <td>38169007</td>\n",
       "      <td>5617041885</td>\n",
       "      <td>7979818</td>\n",
       "      <td>11980063</td>\n",
       "      <td>1942639881</td>\n",
       "      <td>12659816</td>\n",
       "      <td>26188944</td>\n",
       "      <td>3674402004</td>\n",
       "    </tr>\n",
       "    <tr>\n",
       "      <td>12</td>\n",
       "      <td>2014</td>\n",
       "      <td>4524</td>\n",
       "      <td>20628</td>\n",
       "      <td>20215165</td>\n",
       "      <td>37104880</td>\n",
       "      <td>5135576347</td>\n",
       "      <td>7885011</td>\n",
       "      <td>11767488</td>\n",
       "      <td>1793170091</td>\n",
       "      <td>12330154</td>\n",
       "      <td>25337392</td>\n",
       "      <td>3342406256</td>\n",
       "    </tr>\n",
       "    <tr>\n",
       "      <td>13</td>\n",
       "      <td>2015</td>\n",
       "      <td>4524</td>\n",
       "      <td>20628</td>\n",
       "      <td>19890879</td>\n",
       "      <td>36236627</td>\n",
       "      <td>5050237676</td>\n",
       "      <td>8112933</td>\n",
       "      <td>12294202</td>\n",
       "      <td>1884092001</td>\n",
       "      <td>11777946</td>\n",
       "      <td>23942425</td>\n",
       "      <td>3166145675</td>\n",
       "    </tr>\n",
       "    <tr>\n",
       "      <td>14</td>\n",
       "      <td>2016</td>\n",
       "      <td>4524</td>\n",
       "      <td>20628</td>\n",
       "      <td>19563160</td>\n",
       "      <td>35476694</td>\n",
       "      <td>4939920554</td>\n",
       "      <td>8031833</td>\n",
       "      <td>12112077</td>\n",
       "      <td>1869721457</td>\n",
       "      <td>11531327</td>\n",
       "      <td>23364617</td>\n",
       "      <td>3070199097</td>\n",
       "    </tr>\n",
       "    <tr>\n",
       "      <td>15</td>\n",
       "      <td>2017</td>\n",
       "      <td>4524</td>\n",
       "      <td>20628</td>\n",
       "      <td>19193641</td>\n",
       "      <td>34604949</td>\n",
       "      <td>4739753630</td>\n",
       "      <td>7910869</td>\n",
       "      <td>11815118</td>\n",
       "      <td>1818422321</td>\n",
       "      <td>11282772</td>\n",
       "      <td>22789831</td>\n",
       "      <td>2921331309</td>\n",
       "    </tr>\n",
       "    <tr>\n",
       "      <td>16</td>\n",
       "      <td>2018</td>\n",
       "      <td>4524</td>\n",
       "      <td>20628</td>\n",
       "      <td>18643521</td>\n",
       "      <td>33194449</td>\n",
       "      <td>4536724429</td>\n",
       "      <td>7727489</td>\n",
       "      <td>11384513</td>\n",
       "      <td>1757251070</td>\n",
       "      <td>10916032</td>\n",
       "      <td>21809936</td>\n",
       "      <td>2779473359</td>\n",
       "    </tr>\n",
       "  </tbody>\n",
       "</table>\n",
       "</div>"
      ],
      "text/plain": [
       "    Year  Month Code  District Code  Total SNAP Households  \\\n",
       "0   2002        4524          20628                8239418   \n",
       "1   2003        4524          20628                8827721   \n",
       "2   2004        4524          20628               10034110   \n",
       "3   2005        4524          20628               11062231   \n",
       "4   2006        4524          20628               11271022   \n",
       "5   2007        4524          20628               11515370   \n",
       "6   2008        4524          20628               12919782   \n",
       "7   2009        4524          20628               15560415   \n",
       "8   2010        4524          20628               18075370   \n",
       "9   2011        4524          20628               19415673   \n",
       "10  2012        4524          20628               19985470   \n",
       "11  2013        4524          20628               20639634   \n",
       "12  2014        4524          20628               20215165   \n",
       "13  2015        4524          20628               19890879   \n",
       "14  2016        4524          20628               19563160   \n",
       "15  2017        4524          20628               19193641   \n",
       "16  2018        4524          20628               18643521   \n",
       "\n",
       "    Total SNAP Persons  Total SNAP Benefits  \\\n",
       "0             16265748           1520823589   \n",
       "1             17634758           1742027971   \n",
       "2             19752895           1965320388   \n",
       "3             21213360           2188400866   \n",
       "4             21465995           2281071170   \n",
       "5             21764190           2379991528   \n",
       "6             24355072           2801699099   \n",
       "7             29343602           4341851063   \n",
       "8             34020897           5155293674   \n",
       "9             36352331           5451671131   \n",
       "10            37195711           5604893485   \n",
       "11            38169007           5617041885   \n",
       "12            37104880           5135576347   \n",
       "13            36236627           5050237676   \n",
       "14            35476694           4939920554   \n",
       "15            34604949           4739753630   \n",
       "16            33194449           4536724429   \n",
       "\n",
       "    Temporary Assistance SNAP Households  Temporary Assistance SNAP Persons  \\\n",
       "0                                5702540                           10095319   \n",
       "1                                6015172                           10743616   \n",
       "2                                6778517                           11910060   \n",
       "3                                6939810                           11587438   \n",
       "4                                7001595                           11570197   \n",
       "5                                6500412                           10837302   \n",
       "6                                6808360                           10397381   \n",
       "7                                7131771                           10811283   \n",
       "8                                7494878                           11326226   \n",
       "9                                7706059                           11599642   \n",
       "10                               7866785                           11768402   \n",
       "11                               7979818                           11980063   \n",
       "12                               7885011                           11767488   \n",
       "13                               8112933                           12294202   \n",
       "14                               8031833                           12112077   \n",
       "15                               7910869                           11815118   \n",
       "16                               7727489                           11384513   \n",
       "\n",
       "    Temporary Assistance SNAP Benefits  \\\n",
       "0                           1032987771   \n",
       "1                           1164505897   \n",
       "2                           1279220913   \n",
       "3                           1242813319   \n",
       "4                           1280724098   \n",
       "5                           1233683858   \n",
       "6                           1251561912   \n",
       "7                           1730698905   \n",
       "8                           1883328473   \n",
       "9                           1918357032   \n",
       "10                          1961939241   \n",
       "11                          1942639881   \n",
       "12                          1793170091   \n",
       "13                          1884092001   \n",
       "14                          1869721457   \n",
       "15                          1818422321   \n",
       "16                          1757251070   \n",
       "\n",
       "    Non-Temporary Assistance SNAP Households  \\\n",
       "0                                    2536878   \n",
       "1                                    2812549   \n",
       "2                                    3255593   \n",
       "3                                    4122821   \n",
       "4                                    4269427   \n",
       "5                                    5014958   \n",
       "6                                    6111422   \n",
       "7                                    8428644   \n",
       "8                                   10580492   \n",
       "9                                   11709614   \n",
       "10                                  12118685   \n",
       "11                                  12659816   \n",
       "12                                  12330154   \n",
       "13                                  11777946   \n",
       "14                                  11531327   \n",
       "15                                  11282772   \n",
       "16                                  10916032   \n",
       "\n",
       "    Non-Temporary Assistance SNAP Persons  \\\n",
       "0                                 6170429   \n",
       "1                                 6891142   \n",
       "2                                 7842835   \n",
       "3                                 9625922   \n",
       "4                                 9895798   \n",
       "5                                10926888   \n",
       "6                                13957691   \n",
       "7                                18532319   \n",
       "8                                22694671   \n",
       "9                                24752689   \n",
       "10                               25427309   \n",
       "11                               26188944   \n",
       "12                               25337392   \n",
       "13                               23942425   \n",
       "14                               23364617   \n",
       "15                               22789831   \n",
       "16                               21809936   \n",
       "\n",
       "    Non-Temporary Assistance SNAP Benefits  \n",
       "0                                487835818  \n",
       "1                                577522074  \n",
       "2                                686099475  \n",
       "3                                945587547  \n",
       "4                               1000347072  \n",
       "5                               1146307670  \n",
       "6                               1550137187  \n",
       "7                               2611152158  \n",
       "8                               3271965201  \n",
       "9                               3533314099  \n",
       "10                              3642954244  \n",
       "11                              3674402004  \n",
       "12                              3342406256  \n",
       "13                              3166145675  \n",
       "14                              3070199097  \n",
       "15                              2921331309  \n",
       "16                              2779473359  "
      ]
     },
     "execution_count": 19,
     "metadata": {},
     "output_type": "execute_result"
    }
   ],
   "source": [
    "#create dataframe that sums our total SNAP data by year and month\n",
    "SNAP_BY_YEAR = SNAP.groupby([\"Year\"]).sum()\n",
    "SNAP_BY_YEAR = SNAP_BY_YEAR.reset_index() \n",
    "SNAP_BY_YEAR"
   ]
  },
  {
   "cell_type": "code",
   "execution_count": 20,
   "metadata": {},
   "outputs": [
    {
     "data": {
      "application/vnd.plotly.v1+json": {
       "config": {
        "plotlyServerURL": "https://plot.ly"
       },
       "data": [
        {
         "line": {
          "color": "deepskyblue"
         },
         "name": "Temporary Assistance SNAP Benefits",
         "type": "scatter",
         "x": [
          2002,
          2003,
          2004,
          2005,
          2006,
          2007,
          2008,
          2009,
          2010,
          2011,
          2012,
          2013,
          2014,
          2015,
          2016,
          2017,
          2018
         ],
         "y": [
          1032987771,
          1164505897,
          1279220913,
          1242813319,
          1280724098,
          1233683858,
          1251561912,
          1730698905,
          1883328473,
          1918357032,
          1961939241,
          1942639881,
          1793170091,
          1884092001,
          1869721457,
          1818422321,
          1757251070
         ]
        },
        {
         "line": {
          "color": "dimgray"
         },
         "name": "Non-Temporary Assistance SNAP Benefits",
         "type": "scatter",
         "x": [
          2002,
          2003,
          2004,
          2005,
          2006,
          2007,
          2008,
          2009,
          2010,
          2011,
          2012,
          2013,
          2014,
          2015,
          2016,
          2017,
          2018
         ],
         "y": [
          487835818,
          577522074,
          686099475,
          945587547,
          1000347072,
          1146307670,
          1550137187,
          2611152158,
          3271965201,
          3533314099,
          3642954244,
          3674402004,
          3342406256,
          3166145675,
          3070199097,
          2921331309,
          2779473359
         ]
        }
       ],
       "layout": {
        "template": {
         "data": {
          "bar": [
           {
            "error_x": {
             "color": "#2a3f5f"
            },
            "error_y": {
             "color": "#2a3f5f"
            },
            "marker": {
             "line": {
              "color": "#E5ECF6",
              "width": 0.5
             }
            },
            "type": "bar"
           }
          ],
          "barpolar": [
           {
            "marker": {
             "line": {
              "color": "#E5ECF6",
              "width": 0.5
             }
            },
            "type": "barpolar"
           }
          ],
          "carpet": [
           {
            "aaxis": {
             "endlinecolor": "#2a3f5f",
             "gridcolor": "white",
             "linecolor": "white",
             "minorgridcolor": "white",
             "startlinecolor": "#2a3f5f"
            },
            "baxis": {
             "endlinecolor": "#2a3f5f",
             "gridcolor": "white",
             "linecolor": "white",
             "minorgridcolor": "white",
             "startlinecolor": "#2a3f5f"
            },
            "type": "carpet"
           }
          ],
          "choropleth": [
           {
            "colorbar": {
             "outlinewidth": 0,
             "ticks": ""
            },
            "type": "choropleth"
           }
          ],
          "contour": [
           {
            "colorbar": {
             "outlinewidth": 0,
             "ticks": ""
            },
            "colorscale": [
             [
              0,
              "#0d0887"
             ],
             [
              0.1111111111111111,
              "#46039f"
             ],
             [
              0.2222222222222222,
              "#7201a8"
             ],
             [
              0.3333333333333333,
              "#9c179e"
             ],
             [
              0.4444444444444444,
              "#bd3786"
             ],
             [
              0.5555555555555556,
              "#d8576b"
             ],
             [
              0.6666666666666666,
              "#ed7953"
             ],
             [
              0.7777777777777778,
              "#fb9f3a"
             ],
             [
              0.8888888888888888,
              "#fdca26"
             ],
             [
              1,
              "#f0f921"
             ]
            ],
            "type": "contour"
           }
          ],
          "contourcarpet": [
           {
            "colorbar": {
             "outlinewidth": 0,
             "ticks": ""
            },
            "type": "contourcarpet"
           }
          ],
          "heatmap": [
           {
            "colorbar": {
             "outlinewidth": 0,
             "ticks": ""
            },
            "colorscale": [
             [
              0,
              "#0d0887"
             ],
             [
              0.1111111111111111,
              "#46039f"
             ],
             [
              0.2222222222222222,
              "#7201a8"
             ],
             [
              0.3333333333333333,
              "#9c179e"
             ],
             [
              0.4444444444444444,
              "#bd3786"
             ],
             [
              0.5555555555555556,
              "#d8576b"
             ],
             [
              0.6666666666666666,
              "#ed7953"
             ],
             [
              0.7777777777777778,
              "#fb9f3a"
             ],
             [
              0.8888888888888888,
              "#fdca26"
             ],
             [
              1,
              "#f0f921"
             ]
            ],
            "type": "heatmap"
           }
          ],
          "heatmapgl": [
           {
            "colorbar": {
             "outlinewidth": 0,
             "ticks": ""
            },
            "colorscale": [
             [
              0,
              "#0d0887"
             ],
             [
              0.1111111111111111,
              "#46039f"
             ],
             [
              0.2222222222222222,
              "#7201a8"
             ],
             [
              0.3333333333333333,
              "#9c179e"
             ],
             [
              0.4444444444444444,
              "#bd3786"
             ],
             [
              0.5555555555555556,
              "#d8576b"
             ],
             [
              0.6666666666666666,
              "#ed7953"
             ],
             [
              0.7777777777777778,
              "#fb9f3a"
             ],
             [
              0.8888888888888888,
              "#fdca26"
             ],
             [
              1,
              "#f0f921"
             ]
            ],
            "type": "heatmapgl"
           }
          ],
          "histogram": [
           {
            "marker": {
             "colorbar": {
              "outlinewidth": 0,
              "ticks": ""
             }
            },
            "type": "histogram"
           }
          ],
          "histogram2d": [
           {
            "colorbar": {
             "outlinewidth": 0,
             "ticks": ""
            },
            "colorscale": [
             [
              0,
              "#0d0887"
             ],
             [
              0.1111111111111111,
              "#46039f"
             ],
             [
              0.2222222222222222,
              "#7201a8"
             ],
             [
              0.3333333333333333,
              "#9c179e"
             ],
             [
              0.4444444444444444,
              "#bd3786"
             ],
             [
              0.5555555555555556,
              "#d8576b"
             ],
             [
              0.6666666666666666,
              "#ed7953"
             ],
             [
              0.7777777777777778,
              "#fb9f3a"
             ],
             [
              0.8888888888888888,
              "#fdca26"
             ],
             [
              1,
              "#f0f921"
             ]
            ],
            "type": "histogram2d"
           }
          ],
          "histogram2dcontour": [
           {
            "colorbar": {
             "outlinewidth": 0,
             "ticks": ""
            },
            "colorscale": [
             [
              0,
              "#0d0887"
             ],
             [
              0.1111111111111111,
              "#46039f"
             ],
             [
              0.2222222222222222,
              "#7201a8"
             ],
             [
              0.3333333333333333,
              "#9c179e"
             ],
             [
              0.4444444444444444,
              "#bd3786"
             ],
             [
              0.5555555555555556,
              "#d8576b"
             ],
             [
              0.6666666666666666,
              "#ed7953"
             ],
             [
              0.7777777777777778,
              "#fb9f3a"
             ],
             [
              0.8888888888888888,
              "#fdca26"
             ],
             [
              1,
              "#f0f921"
             ]
            ],
            "type": "histogram2dcontour"
           }
          ],
          "mesh3d": [
           {
            "colorbar": {
             "outlinewidth": 0,
             "ticks": ""
            },
            "type": "mesh3d"
           }
          ],
          "parcoords": [
           {
            "line": {
             "colorbar": {
              "outlinewidth": 0,
              "ticks": ""
             }
            },
            "type": "parcoords"
           }
          ],
          "pie": [
           {
            "automargin": true,
            "type": "pie"
           }
          ],
          "scatter": [
           {
            "marker": {
             "colorbar": {
              "outlinewidth": 0,
              "ticks": ""
             }
            },
            "type": "scatter"
           }
          ],
          "scatter3d": [
           {
            "line": {
             "colorbar": {
              "outlinewidth": 0,
              "ticks": ""
             }
            },
            "marker": {
             "colorbar": {
              "outlinewidth": 0,
              "ticks": ""
             }
            },
            "type": "scatter3d"
           }
          ],
          "scattercarpet": [
           {
            "marker": {
             "colorbar": {
              "outlinewidth": 0,
              "ticks": ""
             }
            },
            "type": "scattercarpet"
           }
          ],
          "scattergeo": [
           {
            "marker": {
             "colorbar": {
              "outlinewidth": 0,
              "ticks": ""
             }
            },
            "type": "scattergeo"
           }
          ],
          "scattergl": [
           {
            "marker": {
             "colorbar": {
              "outlinewidth": 0,
              "ticks": ""
             }
            },
            "type": "scattergl"
           }
          ],
          "scattermapbox": [
           {
            "marker": {
             "colorbar": {
              "outlinewidth": 0,
              "ticks": ""
             }
            },
            "type": "scattermapbox"
           }
          ],
          "scatterpolar": [
           {
            "marker": {
             "colorbar": {
              "outlinewidth": 0,
              "ticks": ""
             }
            },
            "type": "scatterpolar"
           }
          ],
          "scatterpolargl": [
           {
            "marker": {
             "colorbar": {
              "outlinewidth": 0,
              "ticks": ""
             }
            },
            "type": "scatterpolargl"
           }
          ],
          "scatterternary": [
           {
            "marker": {
             "colorbar": {
              "outlinewidth": 0,
              "ticks": ""
             }
            },
            "type": "scatterternary"
           }
          ],
          "surface": [
           {
            "colorbar": {
             "outlinewidth": 0,
             "ticks": ""
            },
            "colorscale": [
             [
              0,
              "#0d0887"
             ],
             [
              0.1111111111111111,
              "#46039f"
             ],
             [
              0.2222222222222222,
              "#7201a8"
             ],
             [
              0.3333333333333333,
              "#9c179e"
             ],
             [
              0.4444444444444444,
              "#bd3786"
             ],
             [
              0.5555555555555556,
              "#d8576b"
             ],
             [
              0.6666666666666666,
              "#ed7953"
             ],
             [
              0.7777777777777778,
              "#fb9f3a"
             ],
             [
              0.8888888888888888,
              "#fdca26"
             ],
             [
              1,
              "#f0f921"
             ]
            ],
            "type": "surface"
           }
          ],
          "table": [
           {
            "cells": {
             "fill": {
              "color": "#EBF0F8"
             },
             "line": {
              "color": "white"
             }
            },
            "header": {
             "fill": {
              "color": "#C8D4E3"
             },
             "line": {
              "color": "white"
             }
            },
            "type": "table"
           }
          ]
         },
         "layout": {
          "annotationdefaults": {
           "arrowcolor": "#2a3f5f",
           "arrowhead": 0,
           "arrowwidth": 1
          },
          "coloraxis": {
           "colorbar": {
            "outlinewidth": 0,
            "ticks": ""
           }
          },
          "colorscale": {
           "diverging": [
            [
             0,
             "#8e0152"
            ],
            [
             0.1,
             "#c51b7d"
            ],
            [
             0.2,
             "#de77ae"
            ],
            [
             0.3,
             "#f1b6da"
            ],
            [
             0.4,
             "#fde0ef"
            ],
            [
             0.5,
             "#f7f7f7"
            ],
            [
             0.6,
             "#e6f5d0"
            ],
            [
             0.7,
             "#b8e186"
            ],
            [
             0.8,
             "#7fbc41"
            ],
            [
             0.9,
             "#4d9221"
            ],
            [
             1,
             "#276419"
            ]
           ],
           "sequential": [
            [
             0,
             "#0d0887"
            ],
            [
             0.1111111111111111,
             "#46039f"
            ],
            [
             0.2222222222222222,
             "#7201a8"
            ],
            [
             0.3333333333333333,
             "#9c179e"
            ],
            [
             0.4444444444444444,
             "#bd3786"
            ],
            [
             0.5555555555555556,
             "#d8576b"
            ],
            [
             0.6666666666666666,
             "#ed7953"
            ],
            [
             0.7777777777777778,
             "#fb9f3a"
            ],
            [
             0.8888888888888888,
             "#fdca26"
            ],
            [
             1,
             "#f0f921"
            ]
           ],
           "sequentialminus": [
            [
             0,
             "#0d0887"
            ],
            [
             0.1111111111111111,
             "#46039f"
            ],
            [
             0.2222222222222222,
             "#7201a8"
            ],
            [
             0.3333333333333333,
             "#9c179e"
            ],
            [
             0.4444444444444444,
             "#bd3786"
            ],
            [
             0.5555555555555556,
             "#d8576b"
            ],
            [
             0.6666666666666666,
             "#ed7953"
            ],
            [
             0.7777777777777778,
             "#fb9f3a"
            ],
            [
             0.8888888888888888,
             "#fdca26"
            ],
            [
             1,
             "#f0f921"
            ]
           ]
          },
          "colorway": [
           "#636efa",
           "#EF553B",
           "#00cc96",
           "#ab63fa",
           "#FFA15A",
           "#19d3f3",
           "#FF6692",
           "#B6E880",
           "#FF97FF",
           "#FECB52"
          ],
          "font": {
           "color": "#2a3f5f"
          },
          "geo": {
           "bgcolor": "white",
           "lakecolor": "white",
           "landcolor": "#E5ECF6",
           "showlakes": true,
           "showland": true,
           "subunitcolor": "white"
          },
          "hoverlabel": {
           "align": "left"
          },
          "hovermode": "closest",
          "mapbox": {
           "style": "light"
          },
          "paper_bgcolor": "white",
          "plot_bgcolor": "#E5ECF6",
          "polar": {
           "angularaxis": {
            "gridcolor": "white",
            "linecolor": "white",
            "ticks": ""
           },
           "bgcolor": "#E5ECF6",
           "radialaxis": {
            "gridcolor": "white",
            "linecolor": "white",
            "ticks": ""
           }
          },
          "scene": {
           "xaxis": {
            "backgroundcolor": "#E5ECF6",
            "gridcolor": "white",
            "gridwidth": 2,
            "linecolor": "white",
            "showbackground": true,
            "ticks": "",
            "zerolinecolor": "white"
           },
           "yaxis": {
            "backgroundcolor": "#E5ECF6",
            "gridcolor": "white",
            "gridwidth": 2,
            "linecolor": "white",
            "showbackground": true,
            "ticks": "",
            "zerolinecolor": "white"
           },
           "zaxis": {
            "backgroundcolor": "#E5ECF6",
            "gridcolor": "white",
            "gridwidth": 2,
            "linecolor": "white",
            "showbackground": true,
            "ticks": "",
            "zerolinecolor": "white"
           }
          },
          "shapedefaults": {
           "line": {
            "color": "#2a3f5f"
           }
          },
          "ternary": {
           "aaxis": {
            "gridcolor": "white",
            "linecolor": "white",
            "ticks": ""
           },
           "baxis": {
            "gridcolor": "white",
            "linecolor": "white",
            "ticks": ""
           },
           "bgcolor": "#E5ECF6",
           "caxis": {
            "gridcolor": "white",
            "linecolor": "white",
            "ticks": ""
           }
          },
          "title": {
           "x": 0.05
          },
          "xaxis": {
           "automargin": true,
           "gridcolor": "white",
           "linecolor": "white",
           "ticks": "",
           "title": {
            "standoff": 15
           },
           "zerolinecolor": "white",
           "zerolinewidth": 2
          },
          "yaxis": {
           "automargin": true,
           "gridcolor": "white",
           "linecolor": "white",
           "ticks": "",
           "title": {
            "standoff": 15
           },
           "zerolinecolor": "white",
           "zerolinewidth": 2
          }
         }
        },
        "title": {
         "text": "Temporary Assistance SNAP Benefits vs Non-Temporary Assistance SNAP Benefits"
        },
        "xaxis": {
         "rangeslider": {
          "visible": true
         },
         "title": {
          "text": "Year"
         }
        },
        "yaxis": {
         "title": {
          "text": "Total Amount in Billions"
         }
        }
       }
      },
      "text/html": [
       "<div>\n",
       "        \n",
       "        \n",
       "            <div id=\"b2273662-7c7c-49a1-aebd-534454299976\" class=\"plotly-graph-div\" style=\"height:525px; width:100%;\"></div>\n",
       "            <script type=\"text/javascript\">\n",
       "                require([\"plotly\"], function(Plotly) {\n",
       "                    window.PLOTLYENV=window.PLOTLYENV || {};\n",
       "                    \n",
       "                if (document.getElementById(\"b2273662-7c7c-49a1-aebd-534454299976\")) {\n",
       "                    Plotly.newPlot(\n",
       "                        'b2273662-7c7c-49a1-aebd-534454299976',\n",
       "                        [{\"line\": {\"color\": \"deepskyblue\"}, \"name\": \"Temporary Assistance SNAP Benefits\", \"type\": \"scatter\", \"x\": [2002, 2003, 2004, 2005, 2006, 2007, 2008, 2009, 2010, 2011, 2012, 2013, 2014, 2015, 2016, 2017, 2018], \"y\": [1032987771, 1164505897, 1279220913, 1242813319, 1280724098, 1233683858, 1251561912, 1730698905, 1883328473, 1918357032, 1961939241, 1942639881, 1793170091, 1884092001, 1869721457, 1818422321, 1757251070]}, {\"line\": {\"color\": \"dimgray\"}, \"name\": \"Non-Temporary Assistance SNAP Benefits\", \"type\": \"scatter\", \"x\": [2002, 2003, 2004, 2005, 2006, 2007, 2008, 2009, 2010, 2011, 2012, 2013, 2014, 2015, 2016, 2017, 2018], \"y\": [487835818, 577522074, 686099475, 945587547, 1000347072, 1146307670, 1550137187, 2611152158, 3271965201, 3533314099, 3642954244, 3674402004, 3342406256, 3166145675, 3070199097, 2921331309, 2779473359]}],\n",
       "                        {\"template\": {\"data\": {\"bar\": [{\"error_x\": {\"color\": \"#2a3f5f\"}, \"error_y\": {\"color\": \"#2a3f5f\"}, \"marker\": {\"line\": {\"color\": \"#E5ECF6\", \"width\": 0.5}}, \"type\": \"bar\"}], \"barpolar\": [{\"marker\": {\"line\": {\"color\": \"#E5ECF6\", \"width\": 0.5}}, \"type\": \"barpolar\"}], \"carpet\": [{\"aaxis\": {\"endlinecolor\": \"#2a3f5f\", \"gridcolor\": \"white\", \"linecolor\": \"white\", \"minorgridcolor\": \"white\", \"startlinecolor\": \"#2a3f5f\"}, \"baxis\": {\"endlinecolor\": \"#2a3f5f\", \"gridcolor\": \"white\", \"linecolor\": \"white\", \"minorgridcolor\": \"white\", \"startlinecolor\": \"#2a3f5f\"}, \"type\": \"carpet\"}], \"choropleth\": [{\"colorbar\": {\"outlinewidth\": 0, \"ticks\": \"\"}, \"type\": \"choropleth\"}], \"contour\": [{\"colorbar\": {\"outlinewidth\": 0, \"ticks\": \"\"}, \"colorscale\": [[0.0, \"#0d0887\"], [0.1111111111111111, \"#46039f\"], [0.2222222222222222, \"#7201a8\"], [0.3333333333333333, \"#9c179e\"], [0.4444444444444444, \"#bd3786\"], [0.5555555555555556, \"#d8576b\"], [0.6666666666666666, \"#ed7953\"], [0.7777777777777778, \"#fb9f3a\"], [0.8888888888888888, \"#fdca26\"], [1.0, \"#f0f921\"]], \"type\": \"contour\"}], \"contourcarpet\": [{\"colorbar\": {\"outlinewidth\": 0, \"ticks\": \"\"}, \"type\": \"contourcarpet\"}], \"heatmap\": [{\"colorbar\": {\"outlinewidth\": 0, \"ticks\": \"\"}, \"colorscale\": [[0.0, \"#0d0887\"], [0.1111111111111111, \"#46039f\"], [0.2222222222222222, \"#7201a8\"], [0.3333333333333333, \"#9c179e\"], [0.4444444444444444, \"#bd3786\"], [0.5555555555555556, \"#d8576b\"], [0.6666666666666666, \"#ed7953\"], [0.7777777777777778, \"#fb9f3a\"], [0.8888888888888888, \"#fdca26\"], [1.0, \"#f0f921\"]], \"type\": \"heatmap\"}], \"heatmapgl\": [{\"colorbar\": {\"outlinewidth\": 0, \"ticks\": \"\"}, \"colorscale\": [[0.0, \"#0d0887\"], [0.1111111111111111, \"#46039f\"], [0.2222222222222222, \"#7201a8\"], [0.3333333333333333, \"#9c179e\"], [0.4444444444444444, \"#bd3786\"], [0.5555555555555556, \"#d8576b\"], [0.6666666666666666, \"#ed7953\"], [0.7777777777777778, \"#fb9f3a\"], [0.8888888888888888, \"#fdca26\"], [1.0, \"#f0f921\"]], \"type\": \"heatmapgl\"}], \"histogram\": [{\"marker\": {\"colorbar\": {\"outlinewidth\": 0, \"ticks\": \"\"}}, \"type\": \"histogram\"}], \"histogram2d\": [{\"colorbar\": {\"outlinewidth\": 0, \"ticks\": \"\"}, \"colorscale\": [[0.0, \"#0d0887\"], [0.1111111111111111, \"#46039f\"], [0.2222222222222222, \"#7201a8\"], [0.3333333333333333, \"#9c179e\"], [0.4444444444444444, \"#bd3786\"], [0.5555555555555556, \"#d8576b\"], [0.6666666666666666, \"#ed7953\"], [0.7777777777777778, \"#fb9f3a\"], [0.8888888888888888, \"#fdca26\"], [1.0, \"#f0f921\"]], \"type\": \"histogram2d\"}], \"histogram2dcontour\": [{\"colorbar\": {\"outlinewidth\": 0, \"ticks\": \"\"}, \"colorscale\": [[0.0, \"#0d0887\"], [0.1111111111111111, \"#46039f\"], [0.2222222222222222, \"#7201a8\"], [0.3333333333333333, \"#9c179e\"], [0.4444444444444444, \"#bd3786\"], [0.5555555555555556, \"#d8576b\"], [0.6666666666666666, \"#ed7953\"], [0.7777777777777778, \"#fb9f3a\"], [0.8888888888888888, \"#fdca26\"], [1.0, \"#f0f921\"]], \"type\": \"histogram2dcontour\"}], \"mesh3d\": [{\"colorbar\": {\"outlinewidth\": 0, \"ticks\": \"\"}, \"type\": \"mesh3d\"}], \"parcoords\": [{\"line\": {\"colorbar\": {\"outlinewidth\": 0, \"ticks\": \"\"}}, \"type\": \"parcoords\"}], \"pie\": [{\"automargin\": true, \"type\": \"pie\"}], \"scatter\": [{\"marker\": {\"colorbar\": {\"outlinewidth\": 0, \"ticks\": \"\"}}, \"type\": \"scatter\"}], \"scatter3d\": [{\"line\": {\"colorbar\": {\"outlinewidth\": 0, \"ticks\": \"\"}}, \"marker\": {\"colorbar\": {\"outlinewidth\": 0, \"ticks\": \"\"}}, \"type\": \"scatter3d\"}], \"scattercarpet\": [{\"marker\": {\"colorbar\": {\"outlinewidth\": 0, \"ticks\": \"\"}}, \"type\": \"scattercarpet\"}], \"scattergeo\": [{\"marker\": {\"colorbar\": {\"outlinewidth\": 0, \"ticks\": \"\"}}, \"type\": \"scattergeo\"}], \"scattergl\": [{\"marker\": {\"colorbar\": {\"outlinewidth\": 0, \"ticks\": \"\"}}, \"type\": \"scattergl\"}], \"scattermapbox\": [{\"marker\": {\"colorbar\": {\"outlinewidth\": 0, \"ticks\": \"\"}}, \"type\": \"scattermapbox\"}], \"scatterpolar\": [{\"marker\": {\"colorbar\": {\"outlinewidth\": 0, \"ticks\": \"\"}}, \"type\": \"scatterpolar\"}], \"scatterpolargl\": [{\"marker\": {\"colorbar\": {\"outlinewidth\": 0, \"ticks\": \"\"}}, \"type\": \"scatterpolargl\"}], \"scatterternary\": [{\"marker\": {\"colorbar\": {\"outlinewidth\": 0, \"ticks\": \"\"}}, \"type\": \"scatterternary\"}], \"surface\": [{\"colorbar\": {\"outlinewidth\": 0, \"ticks\": \"\"}, \"colorscale\": [[0.0, \"#0d0887\"], [0.1111111111111111, \"#46039f\"], [0.2222222222222222, \"#7201a8\"], [0.3333333333333333, \"#9c179e\"], [0.4444444444444444, \"#bd3786\"], [0.5555555555555556, \"#d8576b\"], [0.6666666666666666, \"#ed7953\"], [0.7777777777777778, \"#fb9f3a\"], [0.8888888888888888, \"#fdca26\"], [1.0, \"#f0f921\"]], \"type\": \"surface\"}], \"table\": [{\"cells\": {\"fill\": {\"color\": \"#EBF0F8\"}, \"line\": {\"color\": \"white\"}}, \"header\": {\"fill\": {\"color\": \"#C8D4E3\"}, \"line\": {\"color\": \"white\"}}, \"type\": \"table\"}]}, \"layout\": {\"annotationdefaults\": {\"arrowcolor\": \"#2a3f5f\", \"arrowhead\": 0, \"arrowwidth\": 1}, \"coloraxis\": {\"colorbar\": {\"outlinewidth\": 0, \"ticks\": \"\"}}, \"colorscale\": {\"diverging\": [[0, \"#8e0152\"], [0.1, \"#c51b7d\"], [0.2, \"#de77ae\"], [0.3, \"#f1b6da\"], [0.4, \"#fde0ef\"], [0.5, \"#f7f7f7\"], [0.6, \"#e6f5d0\"], [0.7, \"#b8e186\"], [0.8, \"#7fbc41\"], [0.9, \"#4d9221\"], [1, \"#276419\"]], \"sequential\": [[0.0, \"#0d0887\"], [0.1111111111111111, \"#46039f\"], [0.2222222222222222, \"#7201a8\"], [0.3333333333333333, \"#9c179e\"], [0.4444444444444444, \"#bd3786\"], [0.5555555555555556, \"#d8576b\"], [0.6666666666666666, \"#ed7953\"], [0.7777777777777778, \"#fb9f3a\"], [0.8888888888888888, \"#fdca26\"], [1.0, \"#f0f921\"]], \"sequentialminus\": [[0.0, \"#0d0887\"], [0.1111111111111111, \"#46039f\"], [0.2222222222222222, \"#7201a8\"], [0.3333333333333333, \"#9c179e\"], [0.4444444444444444, \"#bd3786\"], [0.5555555555555556, \"#d8576b\"], [0.6666666666666666, \"#ed7953\"], [0.7777777777777778, \"#fb9f3a\"], [0.8888888888888888, \"#fdca26\"], [1.0, \"#f0f921\"]]}, \"colorway\": [\"#636efa\", \"#EF553B\", \"#00cc96\", \"#ab63fa\", \"#FFA15A\", \"#19d3f3\", \"#FF6692\", \"#B6E880\", \"#FF97FF\", \"#FECB52\"], \"font\": {\"color\": \"#2a3f5f\"}, \"geo\": {\"bgcolor\": \"white\", \"lakecolor\": \"white\", \"landcolor\": \"#E5ECF6\", \"showlakes\": true, \"showland\": true, \"subunitcolor\": \"white\"}, \"hoverlabel\": {\"align\": \"left\"}, \"hovermode\": \"closest\", \"mapbox\": {\"style\": \"light\"}, \"paper_bgcolor\": \"white\", \"plot_bgcolor\": \"#E5ECF6\", \"polar\": {\"angularaxis\": {\"gridcolor\": \"white\", \"linecolor\": \"white\", \"ticks\": \"\"}, \"bgcolor\": \"#E5ECF6\", \"radialaxis\": {\"gridcolor\": \"white\", \"linecolor\": \"white\", \"ticks\": \"\"}}, \"scene\": {\"xaxis\": {\"backgroundcolor\": \"#E5ECF6\", \"gridcolor\": \"white\", \"gridwidth\": 2, \"linecolor\": \"white\", \"showbackground\": true, \"ticks\": \"\", \"zerolinecolor\": \"white\"}, \"yaxis\": {\"backgroundcolor\": \"#E5ECF6\", \"gridcolor\": \"white\", \"gridwidth\": 2, \"linecolor\": \"white\", \"showbackground\": true, \"ticks\": \"\", \"zerolinecolor\": \"white\"}, \"zaxis\": {\"backgroundcolor\": \"#E5ECF6\", \"gridcolor\": \"white\", \"gridwidth\": 2, \"linecolor\": \"white\", \"showbackground\": true, \"ticks\": \"\", \"zerolinecolor\": \"white\"}}, \"shapedefaults\": {\"line\": {\"color\": \"#2a3f5f\"}}, \"ternary\": {\"aaxis\": {\"gridcolor\": \"white\", \"linecolor\": \"white\", \"ticks\": \"\"}, \"baxis\": {\"gridcolor\": \"white\", \"linecolor\": \"white\", \"ticks\": \"\"}, \"bgcolor\": \"#E5ECF6\", \"caxis\": {\"gridcolor\": \"white\", \"linecolor\": \"white\", \"ticks\": \"\"}}, \"title\": {\"x\": 0.05}, \"xaxis\": {\"automargin\": true, \"gridcolor\": \"white\", \"linecolor\": \"white\", \"ticks\": \"\", \"title\": {\"standoff\": 15}, \"zerolinecolor\": \"white\", \"zerolinewidth\": 2}, \"yaxis\": {\"automargin\": true, \"gridcolor\": \"white\", \"linecolor\": \"white\", \"ticks\": \"\", \"title\": {\"standoff\": 15}, \"zerolinecolor\": \"white\", \"zerolinewidth\": 2}}}, \"title\": {\"text\": \"Temporary Assistance SNAP Benefits vs Non-Temporary Assistance SNAP Benefits\"}, \"xaxis\": {\"rangeslider\": {\"visible\": true}, \"title\": {\"text\": \"Year\"}}, \"yaxis\": {\"title\": {\"text\": \"Total Amount in Billions\"}}},\n",
       "                        {\"responsive\": true}\n",
       "                    ).then(function(){\n",
       "                            \n",
       "var gd = document.getElementById('b2273662-7c7c-49a1-aebd-534454299976');\n",
       "var x = new MutationObserver(function (mutations, observer) {{\n",
       "        var display = window.getComputedStyle(gd).display;\n",
       "        if (!display || display === 'none') {{\n",
       "            console.log([gd, 'removed!']);\n",
       "            Plotly.purge(gd);\n",
       "            observer.disconnect();\n",
       "        }}\n",
       "}});\n",
       "\n",
       "// Listen for the removal of the full notebook cells\n",
       "var notebookContainer = gd.closest('#notebook-container');\n",
       "if (notebookContainer) {{\n",
       "    x.observe(notebookContainer, {childList: true});\n",
       "}}\n",
       "\n",
       "// Listen for the clearing of the current output cell\n",
       "var outputEl = gd.closest('.output');\n",
       "if (outputEl) {{\n",
       "    x.observe(outputEl, {childList: true});\n",
       "}}\n",
       "\n",
       "                        })\n",
       "                };\n",
       "                });\n",
       "            </script>\n",
       "        </div>"
      ]
     },
     "metadata": {},
     "output_type": "display_data"
    }
   ],
   "source": [
    "df = SNAP_BY_YEAR\n",
    "\n",
    "\n",
    "\n",
    "fig = go.Figure()\n",
    "fig.add_trace(go.Scatter(x=df.Year, y=df['Temporary Assistance SNAP Benefits'], name=\"Temporary Assistance SNAP Benefits\",\n",
    "                         line_color='deepskyblue'))\n",
    "\n",
    "fig.add_trace(go.Scatter(x=df.Year, y=df['Non-Temporary Assistance SNAP Benefits'], name=\"Non-Temporary Assistance SNAP Benefits\",\n",
    "                         line_color='dimgray'))\n",
    "\n",
    "fig.update_layout(title_text='Temporary Assistance SNAP Benefits vs Non-Temporary Assistance SNAP Benefits',\n",
    "                  xaxis_rangeslider_visible=True, yaxis_title=\"Total Amount in Billions\", xaxis_title=\"Year\",\n",
    ")\n",
    "fig.show()"
   ]
  },
  {
   "cell_type": "code",
   "execution_count": 21,
   "metadata": {},
   "outputs": [
    {
     "data": {
      "application/vnd.plotly.v1+json": {
       "config": {
        "plotlyServerURL": "https://plot.ly"
       },
       "data": [
        {
         "line": {
          "color": "deepskyblue"
         },
         "name": "Temporary Assistance SNAP Households",
         "type": "scatter",
         "x": [
          2002,
          2003,
          2004,
          2005,
          2006,
          2007,
          2008,
          2009,
          2010,
          2011,
          2012,
          2013,
          2014,
          2015,
          2016,
          2017,
          2018
         ],
         "y": [
          5702540,
          6015172,
          6778517,
          6939810,
          7001595,
          6500412,
          6808360,
          7131771,
          7494878,
          7706059,
          7866785,
          7979818,
          7885011,
          8112933,
          8031833,
          7910869,
          7727489
         ]
        },
        {
         "line": {
          "color": "dimgray"
         },
         "name": "Non-Temporary Assistance SNAP Households",
         "type": "scatter",
         "x": [
          2002,
          2003,
          2004,
          2005,
          2006,
          2007,
          2008,
          2009,
          2010,
          2011,
          2012,
          2013,
          2014,
          2015,
          2016,
          2017,
          2018
         ],
         "y": [
          2536878,
          2812549,
          3255593,
          4122821,
          4269427,
          5014958,
          6111422,
          8428644,
          10580492,
          11709614,
          12118685,
          12659816,
          12330154,
          11777946,
          11531327,
          11282772,
          10916032
         ]
        }
       ],
       "layout": {
        "template": {
         "data": {
          "bar": [
           {
            "error_x": {
             "color": "#2a3f5f"
            },
            "error_y": {
             "color": "#2a3f5f"
            },
            "marker": {
             "line": {
              "color": "#E5ECF6",
              "width": 0.5
             }
            },
            "type": "bar"
           }
          ],
          "barpolar": [
           {
            "marker": {
             "line": {
              "color": "#E5ECF6",
              "width": 0.5
             }
            },
            "type": "barpolar"
           }
          ],
          "carpet": [
           {
            "aaxis": {
             "endlinecolor": "#2a3f5f",
             "gridcolor": "white",
             "linecolor": "white",
             "minorgridcolor": "white",
             "startlinecolor": "#2a3f5f"
            },
            "baxis": {
             "endlinecolor": "#2a3f5f",
             "gridcolor": "white",
             "linecolor": "white",
             "minorgridcolor": "white",
             "startlinecolor": "#2a3f5f"
            },
            "type": "carpet"
           }
          ],
          "choropleth": [
           {
            "colorbar": {
             "outlinewidth": 0,
             "ticks": ""
            },
            "type": "choropleth"
           }
          ],
          "contour": [
           {
            "colorbar": {
             "outlinewidth": 0,
             "ticks": ""
            },
            "colorscale": [
             [
              0,
              "#0d0887"
             ],
             [
              0.1111111111111111,
              "#46039f"
             ],
             [
              0.2222222222222222,
              "#7201a8"
             ],
             [
              0.3333333333333333,
              "#9c179e"
             ],
             [
              0.4444444444444444,
              "#bd3786"
             ],
             [
              0.5555555555555556,
              "#d8576b"
             ],
             [
              0.6666666666666666,
              "#ed7953"
             ],
             [
              0.7777777777777778,
              "#fb9f3a"
             ],
             [
              0.8888888888888888,
              "#fdca26"
             ],
             [
              1,
              "#f0f921"
             ]
            ],
            "type": "contour"
           }
          ],
          "contourcarpet": [
           {
            "colorbar": {
             "outlinewidth": 0,
             "ticks": ""
            },
            "type": "contourcarpet"
           }
          ],
          "heatmap": [
           {
            "colorbar": {
             "outlinewidth": 0,
             "ticks": ""
            },
            "colorscale": [
             [
              0,
              "#0d0887"
             ],
             [
              0.1111111111111111,
              "#46039f"
             ],
             [
              0.2222222222222222,
              "#7201a8"
             ],
             [
              0.3333333333333333,
              "#9c179e"
             ],
             [
              0.4444444444444444,
              "#bd3786"
             ],
             [
              0.5555555555555556,
              "#d8576b"
             ],
             [
              0.6666666666666666,
              "#ed7953"
             ],
             [
              0.7777777777777778,
              "#fb9f3a"
             ],
             [
              0.8888888888888888,
              "#fdca26"
             ],
             [
              1,
              "#f0f921"
             ]
            ],
            "type": "heatmap"
           }
          ],
          "heatmapgl": [
           {
            "colorbar": {
             "outlinewidth": 0,
             "ticks": ""
            },
            "colorscale": [
             [
              0,
              "#0d0887"
             ],
             [
              0.1111111111111111,
              "#46039f"
             ],
             [
              0.2222222222222222,
              "#7201a8"
             ],
             [
              0.3333333333333333,
              "#9c179e"
             ],
             [
              0.4444444444444444,
              "#bd3786"
             ],
             [
              0.5555555555555556,
              "#d8576b"
             ],
             [
              0.6666666666666666,
              "#ed7953"
             ],
             [
              0.7777777777777778,
              "#fb9f3a"
             ],
             [
              0.8888888888888888,
              "#fdca26"
             ],
             [
              1,
              "#f0f921"
             ]
            ],
            "type": "heatmapgl"
           }
          ],
          "histogram": [
           {
            "marker": {
             "colorbar": {
              "outlinewidth": 0,
              "ticks": ""
             }
            },
            "type": "histogram"
           }
          ],
          "histogram2d": [
           {
            "colorbar": {
             "outlinewidth": 0,
             "ticks": ""
            },
            "colorscale": [
             [
              0,
              "#0d0887"
             ],
             [
              0.1111111111111111,
              "#46039f"
             ],
             [
              0.2222222222222222,
              "#7201a8"
             ],
             [
              0.3333333333333333,
              "#9c179e"
             ],
             [
              0.4444444444444444,
              "#bd3786"
             ],
             [
              0.5555555555555556,
              "#d8576b"
             ],
             [
              0.6666666666666666,
              "#ed7953"
             ],
             [
              0.7777777777777778,
              "#fb9f3a"
             ],
             [
              0.8888888888888888,
              "#fdca26"
             ],
             [
              1,
              "#f0f921"
             ]
            ],
            "type": "histogram2d"
           }
          ],
          "histogram2dcontour": [
           {
            "colorbar": {
             "outlinewidth": 0,
             "ticks": ""
            },
            "colorscale": [
             [
              0,
              "#0d0887"
             ],
             [
              0.1111111111111111,
              "#46039f"
             ],
             [
              0.2222222222222222,
              "#7201a8"
             ],
             [
              0.3333333333333333,
              "#9c179e"
             ],
             [
              0.4444444444444444,
              "#bd3786"
             ],
             [
              0.5555555555555556,
              "#d8576b"
             ],
             [
              0.6666666666666666,
              "#ed7953"
             ],
             [
              0.7777777777777778,
              "#fb9f3a"
             ],
             [
              0.8888888888888888,
              "#fdca26"
             ],
             [
              1,
              "#f0f921"
             ]
            ],
            "type": "histogram2dcontour"
           }
          ],
          "mesh3d": [
           {
            "colorbar": {
             "outlinewidth": 0,
             "ticks": ""
            },
            "type": "mesh3d"
           }
          ],
          "parcoords": [
           {
            "line": {
             "colorbar": {
              "outlinewidth": 0,
              "ticks": ""
             }
            },
            "type": "parcoords"
           }
          ],
          "pie": [
           {
            "automargin": true,
            "type": "pie"
           }
          ],
          "scatter": [
           {
            "marker": {
             "colorbar": {
              "outlinewidth": 0,
              "ticks": ""
             }
            },
            "type": "scatter"
           }
          ],
          "scatter3d": [
           {
            "line": {
             "colorbar": {
              "outlinewidth": 0,
              "ticks": ""
             }
            },
            "marker": {
             "colorbar": {
              "outlinewidth": 0,
              "ticks": ""
             }
            },
            "type": "scatter3d"
           }
          ],
          "scattercarpet": [
           {
            "marker": {
             "colorbar": {
              "outlinewidth": 0,
              "ticks": ""
             }
            },
            "type": "scattercarpet"
           }
          ],
          "scattergeo": [
           {
            "marker": {
             "colorbar": {
              "outlinewidth": 0,
              "ticks": ""
             }
            },
            "type": "scattergeo"
           }
          ],
          "scattergl": [
           {
            "marker": {
             "colorbar": {
              "outlinewidth": 0,
              "ticks": ""
             }
            },
            "type": "scattergl"
           }
          ],
          "scattermapbox": [
           {
            "marker": {
             "colorbar": {
              "outlinewidth": 0,
              "ticks": ""
             }
            },
            "type": "scattermapbox"
           }
          ],
          "scatterpolar": [
           {
            "marker": {
             "colorbar": {
              "outlinewidth": 0,
              "ticks": ""
             }
            },
            "type": "scatterpolar"
           }
          ],
          "scatterpolargl": [
           {
            "marker": {
             "colorbar": {
              "outlinewidth": 0,
              "ticks": ""
             }
            },
            "type": "scatterpolargl"
           }
          ],
          "scatterternary": [
           {
            "marker": {
             "colorbar": {
              "outlinewidth": 0,
              "ticks": ""
             }
            },
            "type": "scatterternary"
           }
          ],
          "surface": [
           {
            "colorbar": {
             "outlinewidth": 0,
             "ticks": ""
            },
            "colorscale": [
             [
              0,
              "#0d0887"
             ],
             [
              0.1111111111111111,
              "#46039f"
             ],
             [
              0.2222222222222222,
              "#7201a8"
             ],
             [
              0.3333333333333333,
              "#9c179e"
             ],
             [
              0.4444444444444444,
              "#bd3786"
             ],
             [
              0.5555555555555556,
              "#d8576b"
             ],
             [
              0.6666666666666666,
              "#ed7953"
             ],
             [
              0.7777777777777778,
              "#fb9f3a"
             ],
             [
              0.8888888888888888,
              "#fdca26"
             ],
             [
              1,
              "#f0f921"
             ]
            ],
            "type": "surface"
           }
          ],
          "table": [
           {
            "cells": {
             "fill": {
              "color": "#EBF0F8"
             },
             "line": {
              "color": "white"
             }
            },
            "header": {
             "fill": {
              "color": "#C8D4E3"
             },
             "line": {
              "color": "white"
             }
            },
            "type": "table"
           }
          ]
         },
         "layout": {
          "annotationdefaults": {
           "arrowcolor": "#2a3f5f",
           "arrowhead": 0,
           "arrowwidth": 1
          },
          "coloraxis": {
           "colorbar": {
            "outlinewidth": 0,
            "ticks": ""
           }
          },
          "colorscale": {
           "diverging": [
            [
             0,
             "#8e0152"
            ],
            [
             0.1,
             "#c51b7d"
            ],
            [
             0.2,
             "#de77ae"
            ],
            [
             0.3,
             "#f1b6da"
            ],
            [
             0.4,
             "#fde0ef"
            ],
            [
             0.5,
             "#f7f7f7"
            ],
            [
             0.6,
             "#e6f5d0"
            ],
            [
             0.7,
             "#b8e186"
            ],
            [
             0.8,
             "#7fbc41"
            ],
            [
             0.9,
             "#4d9221"
            ],
            [
             1,
             "#276419"
            ]
           ],
           "sequential": [
            [
             0,
             "#0d0887"
            ],
            [
             0.1111111111111111,
             "#46039f"
            ],
            [
             0.2222222222222222,
             "#7201a8"
            ],
            [
             0.3333333333333333,
             "#9c179e"
            ],
            [
             0.4444444444444444,
             "#bd3786"
            ],
            [
             0.5555555555555556,
             "#d8576b"
            ],
            [
             0.6666666666666666,
             "#ed7953"
            ],
            [
             0.7777777777777778,
             "#fb9f3a"
            ],
            [
             0.8888888888888888,
             "#fdca26"
            ],
            [
             1,
             "#f0f921"
            ]
           ],
           "sequentialminus": [
            [
             0,
             "#0d0887"
            ],
            [
             0.1111111111111111,
             "#46039f"
            ],
            [
             0.2222222222222222,
             "#7201a8"
            ],
            [
             0.3333333333333333,
             "#9c179e"
            ],
            [
             0.4444444444444444,
             "#bd3786"
            ],
            [
             0.5555555555555556,
             "#d8576b"
            ],
            [
             0.6666666666666666,
             "#ed7953"
            ],
            [
             0.7777777777777778,
             "#fb9f3a"
            ],
            [
             0.8888888888888888,
             "#fdca26"
            ],
            [
             1,
             "#f0f921"
            ]
           ]
          },
          "colorway": [
           "#636efa",
           "#EF553B",
           "#00cc96",
           "#ab63fa",
           "#FFA15A",
           "#19d3f3",
           "#FF6692",
           "#B6E880",
           "#FF97FF",
           "#FECB52"
          ],
          "font": {
           "color": "#2a3f5f"
          },
          "geo": {
           "bgcolor": "white",
           "lakecolor": "white",
           "landcolor": "#E5ECF6",
           "showlakes": true,
           "showland": true,
           "subunitcolor": "white"
          },
          "hoverlabel": {
           "align": "left"
          },
          "hovermode": "closest",
          "mapbox": {
           "style": "light"
          },
          "paper_bgcolor": "white",
          "plot_bgcolor": "#E5ECF6",
          "polar": {
           "angularaxis": {
            "gridcolor": "white",
            "linecolor": "white",
            "ticks": ""
           },
           "bgcolor": "#E5ECF6",
           "radialaxis": {
            "gridcolor": "white",
            "linecolor": "white",
            "ticks": ""
           }
          },
          "scene": {
           "xaxis": {
            "backgroundcolor": "#E5ECF6",
            "gridcolor": "white",
            "gridwidth": 2,
            "linecolor": "white",
            "showbackground": true,
            "ticks": "",
            "zerolinecolor": "white"
           },
           "yaxis": {
            "backgroundcolor": "#E5ECF6",
            "gridcolor": "white",
            "gridwidth": 2,
            "linecolor": "white",
            "showbackground": true,
            "ticks": "",
            "zerolinecolor": "white"
           },
           "zaxis": {
            "backgroundcolor": "#E5ECF6",
            "gridcolor": "white",
            "gridwidth": 2,
            "linecolor": "white",
            "showbackground": true,
            "ticks": "",
            "zerolinecolor": "white"
           }
          },
          "shapedefaults": {
           "line": {
            "color": "#2a3f5f"
           }
          },
          "ternary": {
           "aaxis": {
            "gridcolor": "white",
            "linecolor": "white",
            "ticks": ""
           },
           "baxis": {
            "gridcolor": "white",
            "linecolor": "white",
            "ticks": ""
           },
           "bgcolor": "#E5ECF6",
           "caxis": {
            "gridcolor": "white",
            "linecolor": "white",
            "ticks": ""
           }
          },
          "title": {
           "x": 0.05
          },
          "xaxis": {
           "automargin": true,
           "gridcolor": "white",
           "linecolor": "white",
           "ticks": "",
           "title": {
            "standoff": 15
           },
           "zerolinecolor": "white",
           "zerolinewidth": 2
          },
          "yaxis": {
           "automargin": true,
           "gridcolor": "white",
           "linecolor": "white",
           "ticks": "",
           "title": {
            "standoff": 15
           },
           "zerolinecolor": "white",
           "zerolinewidth": 2
          }
         }
        },
        "title": {
         "text": "Temporary Assistance SNAP Households vs Non-Temporary Assistance SNAP Households"
        },
        "xaxis": {
         "rangeslider": {
          "visible": true
         },
         "title": {
          "text": "Year"
         }
        },
        "yaxis": {
         "title": {
          "text": "Total Number in Millions"
         }
        }
       }
      },
      "text/html": [
       "<div>\n",
       "        \n",
       "        \n",
       "            <div id=\"7688c424-ac97-4b95-92a0-7eb73170639f\" class=\"plotly-graph-div\" style=\"height:525px; width:100%;\"></div>\n",
       "            <script type=\"text/javascript\">\n",
       "                require([\"plotly\"], function(Plotly) {\n",
       "                    window.PLOTLYENV=window.PLOTLYENV || {};\n",
       "                    \n",
       "                if (document.getElementById(\"7688c424-ac97-4b95-92a0-7eb73170639f\")) {\n",
       "                    Plotly.newPlot(\n",
       "                        '7688c424-ac97-4b95-92a0-7eb73170639f',\n",
       "                        [{\"line\": {\"color\": \"deepskyblue\"}, \"name\": \"Temporary Assistance SNAP Households\", \"type\": \"scatter\", \"x\": [2002, 2003, 2004, 2005, 2006, 2007, 2008, 2009, 2010, 2011, 2012, 2013, 2014, 2015, 2016, 2017, 2018], \"y\": [5702540, 6015172, 6778517, 6939810, 7001595, 6500412, 6808360, 7131771, 7494878, 7706059, 7866785, 7979818, 7885011, 8112933, 8031833, 7910869, 7727489]}, {\"line\": {\"color\": \"dimgray\"}, \"name\": \"Non-Temporary Assistance SNAP Households\", \"type\": \"scatter\", \"x\": [2002, 2003, 2004, 2005, 2006, 2007, 2008, 2009, 2010, 2011, 2012, 2013, 2014, 2015, 2016, 2017, 2018], \"y\": [2536878, 2812549, 3255593, 4122821, 4269427, 5014958, 6111422, 8428644, 10580492, 11709614, 12118685, 12659816, 12330154, 11777946, 11531327, 11282772, 10916032]}],\n",
       "                        {\"template\": {\"data\": {\"bar\": [{\"error_x\": {\"color\": \"#2a3f5f\"}, \"error_y\": {\"color\": \"#2a3f5f\"}, \"marker\": {\"line\": {\"color\": \"#E5ECF6\", \"width\": 0.5}}, \"type\": \"bar\"}], \"barpolar\": [{\"marker\": {\"line\": {\"color\": \"#E5ECF6\", \"width\": 0.5}}, \"type\": \"barpolar\"}], \"carpet\": [{\"aaxis\": {\"endlinecolor\": \"#2a3f5f\", \"gridcolor\": \"white\", \"linecolor\": \"white\", \"minorgridcolor\": \"white\", \"startlinecolor\": \"#2a3f5f\"}, \"baxis\": {\"endlinecolor\": \"#2a3f5f\", \"gridcolor\": \"white\", \"linecolor\": \"white\", \"minorgridcolor\": \"white\", \"startlinecolor\": \"#2a3f5f\"}, \"type\": \"carpet\"}], \"choropleth\": [{\"colorbar\": {\"outlinewidth\": 0, \"ticks\": \"\"}, \"type\": \"choropleth\"}], \"contour\": [{\"colorbar\": {\"outlinewidth\": 0, \"ticks\": \"\"}, \"colorscale\": [[0.0, \"#0d0887\"], [0.1111111111111111, \"#46039f\"], [0.2222222222222222, \"#7201a8\"], [0.3333333333333333, \"#9c179e\"], [0.4444444444444444, \"#bd3786\"], [0.5555555555555556, \"#d8576b\"], [0.6666666666666666, \"#ed7953\"], [0.7777777777777778, \"#fb9f3a\"], [0.8888888888888888, \"#fdca26\"], [1.0, \"#f0f921\"]], \"type\": \"contour\"}], \"contourcarpet\": [{\"colorbar\": {\"outlinewidth\": 0, \"ticks\": \"\"}, \"type\": \"contourcarpet\"}], \"heatmap\": [{\"colorbar\": {\"outlinewidth\": 0, \"ticks\": \"\"}, \"colorscale\": [[0.0, \"#0d0887\"], [0.1111111111111111, \"#46039f\"], [0.2222222222222222, \"#7201a8\"], [0.3333333333333333, \"#9c179e\"], [0.4444444444444444, \"#bd3786\"], [0.5555555555555556, \"#d8576b\"], [0.6666666666666666, \"#ed7953\"], [0.7777777777777778, \"#fb9f3a\"], [0.8888888888888888, \"#fdca26\"], [1.0, \"#f0f921\"]], \"type\": \"heatmap\"}], \"heatmapgl\": [{\"colorbar\": {\"outlinewidth\": 0, \"ticks\": \"\"}, \"colorscale\": [[0.0, \"#0d0887\"], [0.1111111111111111, \"#46039f\"], [0.2222222222222222, \"#7201a8\"], [0.3333333333333333, \"#9c179e\"], [0.4444444444444444, \"#bd3786\"], [0.5555555555555556, \"#d8576b\"], [0.6666666666666666, \"#ed7953\"], [0.7777777777777778, \"#fb9f3a\"], [0.8888888888888888, \"#fdca26\"], [1.0, \"#f0f921\"]], \"type\": \"heatmapgl\"}], \"histogram\": [{\"marker\": {\"colorbar\": {\"outlinewidth\": 0, \"ticks\": \"\"}}, \"type\": \"histogram\"}], \"histogram2d\": [{\"colorbar\": {\"outlinewidth\": 0, \"ticks\": \"\"}, \"colorscale\": [[0.0, \"#0d0887\"], [0.1111111111111111, \"#46039f\"], [0.2222222222222222, \"#7201a8\"], [0.3333333333333333, \"#9c179e\"], [0.4444444444444444, \"#bd3786\"], [0.5555555555555556, \"#d8576b\"], [0.6666666666666666, \"#ed7953\"], [0.7777777777777778, \"#fb9f3a\"], [0.8888888888888888, \"#fdca26\"], [1.0, \"#f0f921\"]], \"type\": \"histogram2d\"}], \"histogram2dcontour\": [{\"colorbar\": {\"outlinewidth\": 0, \"ticks\": \"\"}, \"colorscale\": [[0.0, \"#0d0887\"], [0.1111111111111111, \"#46039f\"], [0.2222222222222222, \"#7201a8\"], [0.3333333333333333, \"#9c179e\"], [0.4444444444444444, \"#bd3786\"], [0.5555555555555556, \"#d8576b\"], [0.6666666666666666, \"#ed7953\"], [0.7777777777777778, \"#fb9f3a\"], [0.8888888888888888, \"#fdca26\"], [1.0, \"#f0f921\"]], \"type\": \"histogram2dcontour\"}], \"mesh3d\": [{\"colorbar\": {\"outlinewidth\": 0, \"ticks\": \"\"}, \"type\": \"mesh3d\"}], \"parcoords\": [{\"line\": {\"colorbar\": {\"outlinewidth\": 0, \"ticks\": \"\"}}, \"type\": \"parcoords\"}], \"pie\": [{\"automargin\": true, \"type\": \"pie\"}], \"scatter\": [{\"marker\": {\"colorbar\": {\"outlinewidth\": 0, \"ticks\": \"\"}}, \"type\": \"scatter\"}], \"scatter3d\": [{\"line\": {\"colorbar\": {\"outlinewidth\": 0, \"ticks\": \"\"}}, \"marker\": {\"colorbar\": {\"outlinewidth\": 0, \"ticks\": \"\"}}, \"type\": \"scatter3d\"}], \"scattercarpet\": [{\"marker\": {\"colorbar\": {\"outlinewidth\": 0, \"ticks\": \"\"}}, \"type\": \"scattercarpet\"}], \"scattergeo\": [{\"marker\": {\"colorbar\": {\"outlinewidth\": 0, \"ticks\": \"\"}}, \"type\": \"scattergeo\"}], \"scattergl\": [{\"marker\": {\"colorbar\": {\"outlinewidth\": 0, \"ticks\": \"\"}}, \"type\": \"scattergl\"}], \"scattermapbox\": [{\"marker\": {\"colorbar\": {\"outlinewidth\": 0, \"ticks\": \"\"}}, \"type\": \"scattermapbox\"}], \"scatterpolar\": [{\"marker\": {\"colorbar\": {\"outlinewidth\": 0, \"ticks\": \"\"}}, \"type\": \"scatterpolar\"}], \"scatterpolargl\": [{\"marker\": {\"colorbar\": {\"outlinewidth\": 0, \"ticks\": \"\"}}, \"type\": \"scatterpolargl\"}], \"scatterternary\": [{\"marker\": {\"colorbar\": {\"outlinewidth\": 0, \"ticks\": \"\"}}, \"type\": \"scatterternary\"}], \"surface\": [{\"colorbar\": {\"outlinewidth\": 0, \"ticks\": \"\"}, \"colorscale\": [[0.0, \"#0d0887\"], [0.1111111111111111, \"#46039f\"], [0.2222222222222222, \"#7201a8\"], [0.3333333333333333, \"#9c179e\"], [0.4444444444444444, \"#bd3786\"], [0.5555555555555556, \"#d8576b\"], [0.6666666666666666, \"#ed7953\"], [0.7777777777777778, \"#fb9f3a\"], [0.8888888888888888, \"#fdca26\"], [1.0, \"#f0f921\"]], \"type\": \"surface\"}], \"table\": [{\"cells\": {\"fill\": {\"color\": \"#EBF0F8\"}, \"line\": {\"color\": \"white\"}}, \"header\": {\"fill\": {\"color\": \"#C8D4E3\"}, \"line\": {\"color\": \"white\"}}, \"type\": \"table\"}]}, \"layout\": {\"annotationdefaults\": {\"arrowcolor\": \"#2a3f5f\", \"arrowhead\": 0, \"arrowwidth\": 1}, \"coloraxis\": {\"colorbar\": {\"outlinewidth\": 0, \"ticks\": \"\"}}, \"colorscale\": {\"diverging\": [[0, \"#8e0152\"], [0.1, \"#c51b7d\"], [0.2, \"#de77ae\"], [0.3, \"#f1b6da\"], [0.4, \"#fde0ef\"], [0.5, \"#f7f7f7\"], [0.6, \"#e6f5d0\"], [0.7, \"#b8e186\"], [0.8, \"#7fbc41\"], [0.9, \"#4d9221\"], [1, \"#276419\"]], \"sequential\": [[0.0, \"#0d0887\"], [0.1111111111111111, \"#46039f\"], [0.2222222222222222, \"#7201a8\"], [0.3333333333333333, \"#9c179e\"], [0.4444444444444444, \"#bd3786\"], [0.5555555555555556, \"#d8576b\"], [0.6666666666666666, \"#ed7953\"], [0.7777777777777778, \"#fb9f3a\"], [0.8888888888888888, \"#fdca26\"], [1.0, \"#f0f921\"]], \"sequentialminus\": [[0.0, \"#0d0887\"], [0.1111111111111111, \"#46039f\"], [0.2222222222222222, \"#7201a8\"], [0.3333333333333333, \"#9c179e\"], [0.4444444444444444, \"#bd3786\"], [0.5555555555555556, \"#d8576b\"], [0.6666666666666666, \"#ed7953\"], [0.7777777777777778, \"#fb9f3a\"], [0.8888888888888888, \"#fdca26\"], [1.0, \"#f0f921\"]]}, \"colorway\": [\"#636efa\", \"#EF553B\", \"#00cc96\", \"#ab63fa\", \"#FFA15A\", \"#19d3f3\", \"#FF6692\", \"#B6E880\", \"#FF97FF\", \"#FECB52\"], \"font\": {\"color\": \"#2a3f5f\"}, \"geo\": {\"bgcolor\": \"white\", \"lakecolor\": \"white\", \"landcolor\": \"#E5ECF6\", \"showlakes\": true, \"showland\": true, \"subunitcolor\": \"white\"}, \"hoverlabel\": {\"align\": \"left\"}, \"hovermode\": \"closest\", \"mapbox\": {\"style\": \"light\"}, \"paper_bgcolor\": \"white\", \"plot_bgcolor\": \"#E5ECF6\", \"polar\": {\"angularaxis\": {\"gridcolor\": \"white\", \"linecolor\": \"white\", \"ticks\": \"\"}, \"bgcolor\": \"#E5ECF6\", \"radialaxis\": {\"gridcolor\": \"white\", \"linecolor\": \"white\", \"ticks\": \"\"}}, \"scene\": {\"xaxis\": {\"backgroundcolor\": \"#E5ECF6\", \"gridcolor\": \"white\", \"gridwidth\": 2, \"linecolor\": \"white\", \"showbackground\": true, \"ticks\": \"\", \"zerolinecolor\": \"white\"}, \"yaxis\": {\"backgroundcolor\": \"#E5ECF6\", \"gridcolor\": \"white\", \"gridwidth\": 2, \"linecolor\": \"white\", \"showbackground\": true, \"ticks\": \"\", \"zerolinecolor\": \"white\"}, \"zaxis\": {\"backgroundcolor\": \"#E5ECF6\", \"gridcolor\": \"white\", \"gridwidth\": 2, \"linecolor\": \"white\", \"showbackground\": true, \"ticks\": \"\", \"zerolinecolor\": \"white\"}}, \"shapedefaults\": {\"line\": {\"color\": \"#2a3f5f\"}}, \"ternary\": {\"aaxis\": {\"gridcolor\": \"white\", \"linecolor\": \"white\", \"ticks\": \"\"}, \"baxis\": {\"gridcolor\": \"white\", \"linecolor\": \"white\", \"ticks\": \"\"}, \"bgcolor\": \"#E5ECF6\", \"caxis\": {\"gridcolor\": \"white\", \"linecolor\": \"white\", \"ticks\": \"\"}}, \"title\": {\"x\": 0.05}, \"xaxis\": {\"automargin\": true, \"gridcolor\": \"white\", \"linecolor\": \"white\", \"ticks\": \"\", \"title\": {\"standoff\": 15}, \"zerolinecolor\": \"white\", \"zerolinewidth\": 2}, \"yaxis\": {\"automargin\": true, \"gridcolor\": \"white\", \"linecolor\": \"white\", \"ticks\": \"\", \"title\": {\"standoff\": 15}, \"zerolinecolor\": \"white\", \"zerolinewidth\": 2}}}, \"title\": {\"text\": \"Temporary Assistance SNAP Households vs Non-Temporary Assistance SNAP Households\"}, \"xaxis\": {\"rangeslider\": {\"visible\": true}, \"title\": {\"text\": \"Year\"}}, \"yaxis\": {\"title\": {\"text\": \"Total Number in Millions\"}}},\n",
       "                        {\"responsive\": true}\n",
       "                    ).then(function(){\n",
       "                            \n",
       "var gd = document.getElementById('7688c424-ac97-4b95-92a0-7eb73170639f');\n",
       "var x = new MutationObserver(function (mutations, observer) {{\n",
       "        var display = window.getComputedStyle(gd).display;\n",
       "        if (!display || display === 'none') {{\n",
       "            console.log([gd, 'removed!']);\n",
       "            Plotly.purge(gd);\n",
       "            observer.disconnect();\n",
       "        }}\n",
       "}});\n",
       "\n",
       "// Listen for the removal of the full notebook cells\n",
       "var notebookContainer = gd.closest('#notebook-container');\n",
       "if (notebookContainer) {{\n",
       "    x.observe(notebookContainer, {childList: true});\n",
       "}}\n",
       "\n",
       "// Listen for the clearing of the current output cell\n",
       "var outputEl = gd.closest('.output');\n",
       "if (outputEl) {{\n",
       "    x.observe(outputEl, {childList: true});\n",
       "}}\n",
       "\n",
       "                        })\n",
       "                };\n",
       "                });\n",
       "            </script>\n",
       "        </div>"
      ]
     },
     "metadata": {},
     "output_type": "display_data"
    }
   ],
   "source": [
    "df = SNAP_BY_YEAR\n",
    "\n",
    "fig = go.Figure()\n",
    "fig.add_trace(go.Scatter(x=df.Year, y=df['Temporary Assistance SNAP Households'], name=\"Temporary Assistance SNAP Households\",\n",
    "                         line_color='deepskyblue'))\n",
    "\n",
    "fig.add_trace(go.Scatter(x=df.Year, y=df['Non-Temporary Assistance SNAP Households'], name=\"Non-Temporary Assistance SNAP Households\",\n",
    "                         line_color='dimgray'))\n",
    "\n",
    "fig.update_layout(title_text='Temporary Assistance SNAP Households vs Non-Temporary Assistance SNAP Households',\n",
    "                  xaxis_rangeslider_visible=True, yaxis_title=\"Total Number in Millions\", xaxis_title=\"Year\",\n",
    ")\n",
    "fig.show()"
   ]
  },
  {
   "cell_type": "markdown",
   "metadata": {},
   "source": [
    "### 2019  Counties Trends of SNAP Recipients and Unemployed Residents\n"
   ]
  },
  {
   "cell_type": "code",
   "execution_count": 22,
   "metadata": {
    "scrolled": true
   },
   "outputs": [
    {
     "data": {
      "text/html": [
       "<div>\n",
       "<style scoped>\n",
       "    .dataframe tbody tr th:only-of-type {\n",
       "        vertical-align: middle;\n",
       "    }\n",
       "\n",
       "    .dataframe tbody tr th {\n",
       "        vertical-align: top;\n",
       "    }\n",
       "\n",
       "    .dataframe thead th {\n",
       "        text-align: right;\n",
       "    }\n",
       "</style>\n",
       "<table border=\"1\" class=\"dataframe\">\n",
       "  <thead>\n",
       "    <tr style=\"text-align: right;\">\n",
       "      <th></th>\n",
       "      <th>District</th>\n",
       "      <th>Total SNAP Households</th>\n",
       "      <th>Total SNAP Persons</th>\n",
       "      <th>Total SNAP Benefits</th>\n",
       "    </tr>\n",
       "  </thead>\n",
       "  <tbody>\n",
       "    <tr>\n",
       "      <td>28</td>\n",
       "      <td>New York City</td>\n",
       "      <td>161330969</td>\n",
       "      <td>293476455</td>\n",
       "      <td>41038508747</td>\n",
       "    </tr>\n",
       "    <tr>\n",
       "      <td>13</td>\n",
       "      <td>Erie</td>\n",
       "      <td>13123170</td>\n",
       "      <td>25239602</td>\n",
       "      <td>3068267899</td>\n",
       "    </tr>\n",
       "    <tr>\n",
       "      <td>25</td>\n",
       "      <td>Monroe</td>\n",
       "      <td>10275679</td>\n",
       "      <td>19852521</td>\n",
       "      <td>2427652139</td>\n",
       "    </tr>\n",
       "    <tr>\n",
       "      <td>47</td>\n",
       "      <td>Suffolk</td>\n",
       "      <td>9142000</td>\n",
       "      <td>15876632</td>\n",
       "      <td>2099145957</td>\n",
       "    </tr>\n",
       "    <tr>\n",
       "      <td>55</td>\n",
       "      <td>Westchester</td>\n",
       "      <td>6752584</td>\n",
       "      <td>12382034</td>\n",
       "      <td>1606611205</td>\n",
       "    </tr>\n",
       "    <tr>\n",
       "      <td>31</td>\n",
       "      <td>Onondaga</td>\n",
       "      <td>5751597</td>\n",
       "      <td>11599643</td>\n",
       "      <td>1395632872</td>\n",
       "    </tr>\n",
       "    <tr>\n",
       "      <td>27</td>\n",
       "      <td>Nassau</td>\n",
       "      <td>5529184</td>\n",
       "      <td>9035019</td>\n",
       "      <td>1180309318</td>\n",
       "    </tr>\n",
       "    <tr>\n",
       "      <td>33</td>\n",
       "      <td>Orange</td>\n",
       "      <td>2911422</td>\n",
       "      <td>6946590</td>\n",
       "      <td>862859091</td>\n",
       "    </tr>\n",
       "    <tr>\n",
       "      <td>30</td>\n",
       "      <td>Oneida</td>\n",
       "      <td>3259819</td>\n",
       "      <td>6699278</td>\n",
       "      <td>787221422</td>\n",
       "    </tr>\n",
       "    <tr>\n",
       "      <td>39</td>\n",
       "      <td>Rockland</td>\n",
       "      <td>2345469</td>\n",
       "      <td>6672471</td>\n",
       "      <td>823365236</td>\n",
       "    </tr>\n",
       "  </tbody>\n",
       "</table>\n",
       "</div>"
      ],
      "text/plain": [
       "         District  Total SNAP Households  Total SNAP Persons  \\\n",
       "28  New York City              161330969           293476455   \n",
       "13           Erie               13123170            25239602   \n",
       "25         Monroe               10275679            19852521   \n",
       "47        Suffolk                9142000            15876632   \n",
       "55    Westchester                6752584            12382034   \n",
       "31       Onondaga                5751597            11599643   \n",
       "27         Nassau                5529184             9035019   \n",
       "33         Orange                2911422             6946590   \n",
       "30         Oneida                3259819             6699278   \n",
       "39       Rockland                2345469             6672471   \n",
       "\n",
       "    Total SNAP Benefits  \n",
       "28          41038508747  \n",
       "13           3068267899  \n",
       "25           2427652139  \n",
       "47           2099145957  \n",
       "55           1606611205  \n",
       "31           1395632872  \n",
       "27           1180309318  \n",
       "33            862859091  \n",
       "30            787221422  \n",
       "39            823365236  "
      ]
     },
     "execution_count": 22,
     "metadata": {},
     "output_type": "execute_result"
    }
   ],
   "source": [
    "#create dataframe that sums our total 2018 SNAP data by district\n",
    "SNAP_BY_Area = SNAP.loc[(SNAP.Year == 2019)]\n",
    "SNAP_BY_Area = SNAP.groupby([\"District\"]).sum()\n",
    "SNAP_BY_Area = SNAP_BY_Area.reset_index() \n",
    "SNAP_BY_Area = SNAP_BY_Area.loc[:,['District', 'Total SNAP Households', 'Total SNAP Persons', 'Total SNAP Benefits']]\n",
    "SNAP_BY_Area = SNAP_BY_Area.nlargest(10, ['Total SNAP Persons']) \n",
    "\n",
    "#sort_values(\"Total SNAP Persons\", axis = 0, ascending = False, inplace = True) \n",
    "SNAP_BY_Area"
   ]
  },
  {
   "cell_type": "code",
   "execution_count": 23,
   "metadata": {},
   "outputs": [
    {
     "data": {
      "application/vnd.plotly.v1+json": {
       "config": {
        "plotlyServerURL": "https://plot.ly"
       },
       "data": [
        {
         "orientation": "h",
         "type": "bar",
         "x": [
          293476455,
          25239602,
          19852521,
          15876632,
          12382034,
          11599643,
          9035019,
          6946590,
          6699278,
          6672471
         ],
         "y": [
          "New York City",
          "Erie",
          "Monroe",
          "Suffolk",
          "Westchester",
          "Onondaga",
          "Nassau",
          "Orange",
          "Oneida",
          "Rockland"
         ]
        }
       ],
       "layout": {
        "template": {
         "data": {
          "bar": [
           {
            "error_x": {
             "color": "#2a3f5f"
            },
            "error_y": {
             "color": "#2a3f5f"
            },
            "marker": {
             "line": {
              "color": "#E5ECF6",
              "width": 0.5
             }
            },
            "type": "bar"
           }
          ],
          "barpolar": [
           {
            "marker": {
             "line": {
              "color": "#E5ECF6",
              "width": 0.5
             }
            },
            "type": "barpolar"
           }
          ],
          "carpet": [
           {
            "aaxis": {
             "endlinecolor": "#2a3f5f",
             "gridcolor": "white",
             "linecolor": "white",
             "minorgridcolor": "white",
             "startlinecolor": "#2a3f5f"
            },
            "baxis": {
             "endlinecolor": "#2a3f5f",
             "gridcolor": "white",
             "linecolor": "white",
             "minorgridcolor": "white",
             "startlinecolor": "#2a3f5f"
            },
            "type": "carpet"
           }
          ],
          "choropleth": [
           {
            "colorbar": {
             "outlinewidth": 0,
             "ticks": ""
            },
            "type": "choropleth"
           }
          ],
          "contour": [
           {
            "colorbar": {
             "outlinewidth": 0,
             "ticks": ""
            },
            "colorscale": [
             [
              0,
              "#0d0887"
             ],
             [
              0.1111111111111111,
              "#46039f"
             ],
             [
              0.2222222222222222,
              "#7201a8"
             ],
             [
              0.3333333333333333,
              "#9c179e"
             ],
             [
              0.4444444444444444,
              "#bd3786"
             ],
             [
              0.5555555555555556,
              "#d8576b"
             ],
             [
              0.6666666666666666,
              "#ed7953"
             ],
             [
              0.7777777777777778,
              "#fb9f3a"
             ],
             [
              0.8888888888888888,
              "#fdca26"
             ],
             [
              1,
              "#f0f921"
             ]
            ],
            "type": "contour"
           }
          ],
          "contourcarpet": [
           {
            "colorbar": {
             "outlinewidth": 0,
             "ticks": ""
            },
            "type": "contourcarpet"
           }
          ],
          "heatmap": [
           {
            "colorbar": {
             "outlinewidth": 0,
             "ticks": ""
            },
            "colorscale": [
             [
              0,
              "#0d0887"
             ],
             [
              0.1111111111111111,
              "#46039f"
             ],
             [
              0.2222222222222222,
              "#7201a8"
             ],
             [
              0.3333333333333333,
              "#9c179e"
             ],
             [
              0.4444444444444444,
              "#bd3786"
             ],
             [
              0.5555555555555556,
              "#d8576b"
             ],
             [
              0.6666666666666666,
              "#ed7953"
             ],
             [
              0.7777777777777778,
              "#fb9f3a"
             ],
             [
              0.8888888888888888,
              "#fdca26"
             ],
             [
              1,
              "#f0f921"
             ]
            ],
            "type": "heatmap"
           }
          ],
          "heatmapgl": [
           {
            "colorbar": {
             "outlinewidth": 0,
             "ticks": ""
            },
            "colorscale": [
             [
              0,
              "#0d0887"
             ],
             [
              0.1111111111111111,
              "#46039f"
             ],
             [
              0.2222222222222222,
              "#7201a8"
             ],
             [
              0.3333333333333333,
              "#9c179e"
             ],
             [
              0.4444444444444444,
              "#bd3786"
             ],
             [
              0.5555555555555556,
              "#d8576b"
             ],
             [
              0.6666666666666666,
              "#ed7953"
             ],
             [
              0.7777777777777778,
              "#fb9f3a"
             ],
             [
              0.8888888888888888,
              "#fdca26"
             ],
             [
              1,
              "#f0f921"
             ]
            ],
            "type": "heatmapgl"
           }
          ],
          "histogram": [
           {
            "marker": {
             "colorbar": {
              "outlinewidth": 0,
              "ticks": ""
             }
            },
            "type": "histogram"
           }
          ],
          "histogram2d": [
           {
            "colorbar": {
             "outlinewidth": 0,
             "ticks": ""
            },
            "colorscale": [
             [
              0,
              "#0d0887"
             ],
             [
              0.1111111111111111,
              "#46039f"
             ],
             [
              0.2222222222222222,
              "#7201a8"
             ],
             [
              0.3333333333333333,
              "#9c179e"
             ],
             [
              0.4444444444444444,
              "#bd3786"
             ],
             [
              0.5555555555555556,
              "#d8576b"
             ],
             [
              0.6666666666666666,
              "#ed7953"
             ],
             [
              0.7777777777777778,
              "#fb9f3a"
             ],
             [
              0.8888888888888888,
              "#fdca26"
             ],
             [
              1,
              "#f0f921"
             ]
            ],
            "type": "histogram2d"
           }
          ],
          "histogram2dcontour": [
           {
            "colorbar": {
             "outlinewidth": 0,
             "ticks": ""
            },
            "colorscale": [
             [
              0,
              "#0d0887"
             ],
             [
              0.1111111111111111,
              "#46039f"
             ],
             [
              0.2222222222222222,
              "#7201a8"
             ],
             [
              0.3333333333333333,
              "#9c179e"
             ],
             [
              0.4444444444444444,
              "#bd3786"
             ],
             [
              0.5555555555555556,
              "#d8576b"
             ],
             [
              0.6666666666666666,
              "#ed7953"
             ],
             [
              0.7777777777777778,
              "#fb9f3a"
             ],
             [
              0.8888888888888888,
              "#fdca26"
             ],
             [
              1,
              "#f0f921"
             ]
            ],
            "type": "histogram2dcontour"
           }
          ],
          "mesh3d": [
           {
            "colorbar": {
             "outlinewidth": 0,
             "ticks": ""
            },
            "type": "mesh3d"
           }
          ],
          "parcoords": [
           {
            "line": {
             "colorbar": {
              "outlinewidth": 0,
              "ticks": ""
             }
            },
            "type": "parcoords"
           }
          ],
          "pie": [
           {
            "automargin": true,
            "type": "pie"
           }
          ],
          "scatter": [
           {
            "marker": {
             "colorbar": {
              "outlinewidth": 0,
              "ticks": ""
             }
            },
            "type": "scatter"
           }
          ],
          "scatter3d": [
           {
            "line": {
             "colorbar": {
              "outlinewidth": 0,
              "ticks": ""
             }
            },
            "marker": {
             "colorbar": {
              "outlinewidth": 0,
              "ticks": ""
             }
            },
            "type": "scatter3d"
           }
          ],
          "scattercarpet": [
           {
            "marker": {
             "colorbar": {
              "outlinewidth": 0,
              "ticks": ""
             }
            },
            "type": "scattercarpet"
           }
          ],
          "scattergeo": [
           {
            "marker": {
             "colorbar": {
              "outlinewidth": 0,
              "ticks": ""
             }
            },
            "type": "scattergeo"
           }
          ],
          "scattergl": [
           {
            "marker": {
             "colorbar": {
              "outlinewidth": 0,
              "ticks": ""
             }
            },
            "type": "scattergl"
           }
          ],
          "scattermapbox": [
           {
            "marker": {
             "colorbar": {
              "outlinewidth": 0,
              "ticks": ""
             }
            },
            "type": "scattermapbox"
           }
          ],
          "scatterpolar": [
           {
            "marker": {
             "colorbar": {
              "outlinewidth": 0,
              "ticks": ""
             }
            },
            "type": "scatterpolar"
           }
          ],
          "scatterpolargl": [
           {
            "marker": {
             "colorbar": {
              "outlinewidth": 0,
              "ticks": ""
             }
            },
            "type": "scatterpolargl"
           }
          ],
          "scatterternary": [
           {
            "marker": {
             "colorbar": {
              "outlinewidth": 0,
              "ticks": ""
             }
            },
            "type": "scatterternary"
           }
          ],
          "surface": [
           {
            "colorbar": {
             "outlinewidth": 0,
             "ticks": ""
            },
            "colorscale": [
             [
              0,
              "#0d0887"
             ],
             [
              0.1111111111111111,
              "#46039f"
             ],
             [
              0.2222222222222222,
              "#7201a8"
             ],
             [
              0.3333333333333333,
              "#9c179e"
             ],
             [
              0.4444444444444444,
              "#bd3786"
             ],
             [
              0.5555555555555556,
              "#d8576b"
             ],
             [
              0.6666666666666666,
              "#ed7953"
             ],
             [
              0.7777777777777778,
              "#fb9f3a"
             ],
             [
              0.8888888888888888,
              "#fdca26"
             ],
             [
              1,
              "#f0f921"
             ]
            ],
            "type": "surface"
           }
          ],
          "table": [
           {
            "cells": {
             "fill": {
              "color": "#EBF0F8"
             },
             "line": {
              "color": "white"
             }
            },
            "header": {
             "fill": {
              "color": "#C8D4E3"
             },
             "line": {
              "color": "white"
             }
            },
            "type": "table"
           }
          ]
         },
         "layout": {
          "annotationdefaults": {
           "arrowcolor": "#2a3f5f",
           "arrowhead": 0,
           "arrowwidth": 1
          },
          "coloraxis": {
           "colorbar": {
            "outlinewidth": 0,
            "ticks": ""
           }
          },
          "colorscale": {
           "diverging": [
            [
             0,
             "#8e0152"
            ],
            [
             0.1,
             "#c51b7d"
            ],
            [
             0.2,
             "#de77ae"
            ],
            [
             0.3,
             "#f1b6da"
            ],
            [
             0.4,
             "#fde0ef"
            ],
            [
             0.5,
             "#f7f7f7"
            ],
            [
             0.6,
             "#e6f5d0"
            ],
            [
             0.7,
             "#b8e186"
            ],
            [
             0.8,
             "#7fbc41"
            ],
            [
             0.9,
             "#4d9221"
            ],
            [
             1,
             "#276419"
            ]
           ],
           "sequential": [
            [
             0,
             "#0d0887"
            ],
            [
             0.1111111111111111,
             "#46039f"
            ],
            [
             0.2222222222222222,
             "#7201a8"
            ],
            [
             0.3333333333333333,
             "#9c179e"
            ],
            [
             0.4444444444444444,
             "#bd3786"
            ],
            [
             0.5555555555555556,
             "#d8576b"
            ],
            [
             0.6666666666666666,
             "#ed7953"
            ],
            [
             0.7777777777777778,
             "#fb9f3a"
            ],
            [
             0.8888888888888888,
             "#fdca26"
            ],
            [
             1,
             "#f0f921"
            ]
           ],
           "sequentialminus": [
            [
             0,
             "#0d0887"
            ],
            [
             0.1111111111111111,
             "#46039f"
            ],
            [
             0.2222222222222222,
             "#7201a8"
            ],
            [
             0.3333333333333333,
             "#9c179e"
            ],
            [
             0.4444444444444444,
             "#bd3786"
            ],
            [
             0.5555555555555556,
             "#d8576b"
            ],
            [
             0.6666666666666666,
             "#ed7953"
            ],
            [
             0.7777777777777778,
             "#fb9f3a"
            ],
            [
             0.8888888888888888,
             "#fdca26"
            ],
            [
             1,
             "#f0f921"
            ]
           ]
          },
          "colorway": [
           "#636efa",
           "#EF553B",
           "#00cc96",
           "#ab63fa",
           "#FFA15A",
           "#19d3f3",
           "#FF6692",
           "#B6E880",
           "#FF97FF",
           "#FECB52"
          ],
          "font": {
           "color": "#2a3f5f"
          },
          "geo": {
           "bgcolor": "white",
           "lakecolor": "white",
           "landcolor": "#E5ECF6",
           "showlakes": true,
           "showland": true,
           "subunitcolor": "white"
          },
          "hoverlabel": {
           "align": "left"
          },
          "hovermode": "closest",
          "mapbox": {
           "style": "light"
          },
          "paper_bgcolor": "white",
          "plot_bgcolor": "#E5ECF6",
          "polar": {
           "angularaxis": {
            "gridcolor": "white",
            "linecolor": "white",
            "ticks": ""
           },
           "bgcolor": "#E5ECF6",
           "radialaxis": {
            "gridcolor": "white",
            "linecolor": "white",
            "ticks": ""
           }
          },
          "scene": {
           "xaxis": {
            "backgroundcolor": "#E5ECF6",
            "gridcolor": "white",
            "gridwidth": 2,
            "linecolor": "white",
            "showbackground": true,
            "ticks": "",
            "zerolinecolor": "white"
           },
           "yaxis": {
            "backgroundcolor": "#E5ECF6",
            "gridcolor": "white",
            "gridwidth": 2,
            "linecolor": "white",
            "showbackground": true,
            "ticks": "",
            "zerolinecolor": "white"
           },
           "zaxis": {
            "backgroundcolor": "#E5ECF6",
            "gridcolor": "white",
            "gridwidth": 2,
            "linecolor": "white",
            "showbackground": true,
            "ticks": "",
            "zerolinecolor": "white"
           }
          },
          "shapedefaults": {
           "line": {
            "color": "#2a3f5f"
           }
          },
          "ternary": {
           "aaxis": {
            "gridcolor": "white",
            "linecolor": "white",
            "ticks": ""
           },
           "baxis": {
            "gridcolor": "white",
            "linecolor": "white",
            "ticks": ""
           },
           "bgcolor": "#E5ECF6",
           "caxis": {
            "gridcolor": "white",
            "linecolor": "white",
            "ticks": ""
           }
          },
          "title": {
           "x": 0.05
          },
          "xaxis": {
           "automargin": true,
           "gridcolor": "white",
           "linecolor": "white",
           "ticks": "",
           "title": {
            "standoff": 15
           },
           "zerolinecolor": "white",
           "zerolinewidth": 2
          },
          "yaxis": {
           "automargin": true,
           "gridcolor": "white",
           "linecolor": "white",
           "ticks": "",
           "title": {
            "standoff": 15
           },
           "zerolinecolor": "white",
           "zerolinewidth": 2
          }
         }
        },
        "title": {
         "text": "Top 10 Counties Total SNAP Persons Counties in 2019"
        },
        "xaxis": {
         "title": {
          "text": "Total Number in Millions"
         }
        },
        "yaxis": {
         "title": {
          "text": "Counties"
         }
        }
       }
      },
      "text/html": [
       "<div>\n",
       "        \n",
       "        \n",
       "            <div id=\"18d8e275-5db8-49db-a4f9-02ae9759d4ce\" class=\"plotly-graph-div\" style=\"height:525px; width:100%;\"></div>\n",
       "            <script type=\"text/javascript\">\n",
       "                require([\"plotly\"], function(Plotly) {\n",
       "                    window.PLOTLYENV=window.PLOTLYENV || {};\n",
       "                    \n",
       "                if (document.getElementById(\"18d8e275-5db8-49db-a4f9-02ae9759d4ce\")) {\n",
       "                    Plotly.newPlot(\n",
       "                        '18d8e275-5db8-49db-a4f9-02ae9759d4ce',\n",
       "                        [{\"orientation\": \"h\", \"type\": \"bar\", \"x\": [293476455, 25239602, 19852521, 15876632, 12382034, 11599643, 9035019, 6946590, 6699278, 6672471], \"y\": [\"New York City\", \"Erie\", \"Monroe\", \"Suffolk\", \"Westchester\", \"Onondaga\", \"Nassau\", \"Orange\", \"Oneida\", \"Rockland\"]}],\n",
       "                        {\"template\": {\"data\": {\"bar\": [{\"error_x\": {\"color\": \"#2a3f5f\"}, \"error_y\": {\"color\": \"#2a3f5f\"}, \"marker\": {\"line\": {\"color\": \"#E5ECF6\", \"width\": 0.5}}, \"type\": \"bar\"}], \"barpolar\": [{\"marker\": {\"line\": {\"color\": \"#E5ECF6\", \"width\": 0.5}}, \"type\": \"barpolar\"}], \"carpet\": [{\"aaxis\": {\"endlinecolor\": \"#2a3f5f\", \"gridcolor\": \"white\", \"linecolor\": \"white\", \"minorgridcolor\": \"white\", \"startlinecolor\": \"#2a3f5f\"}, \"baxis\": {\"endlinecolor\": \"#2a3f5f\", \"gridcolor\": \"white\", \"linecolor\": \"white\", \"minorgridcolor\": \"white\", \"startlinecolor\": \"#2a3f5f\"}, \"type\": \"carpet\"}], \"choropleth\": [{\"colorbar\": {\"outlinewidth\": 0, \"ticks\": \"\"}, \"type\": \"choropleth\"}], \"contour\": [{\"colorbar\": {\"outlinewidth\": 0, \"ticks\": \"\"}, \"colorscale\": [[0.0, \"#0d0887\"], [0.1111111111111111, \"#46039f\"], [0.2222222222222222, \"#7201a8\"], [0.3333333333333333, \"#9c179e\"], [0.4444444444444444, \"#bd3786\"], [0.5555555555555556, \"#d8576b\"], [0.6666666666666666, \"#ed7953\"], [0.7777777777777778, \"#fb9f3a\"], [0.8888888888888888, \"#fdca26\"], [1.0, \"#f0f921\"]], \"type\": \"contour\"}], \"contourcarpet\": [{\"colorbar\": {\"outlinewidth\": 0, \"ticks\": \"\"}, \"type\": \"contourcarpet\"}], \"heatmap\": [{\"colorbar\": {\"outlinewidth\": 0, \"ticks\": \"\"}, \"colorscale\": [[0.0, \"#0d0887\"], [0.1111111111111111, \"#46039f\"], [0.2222222222222222, \"#7201a8\"], [0.3333333333333333, \"#9c179e\"], [0.4444444444444444, \"#bd3786\"], [0.5555555555555556, \"#d8576b\"], [0.6666666666666666, \"#ed7953\"], [0.7777777777777778, \"#fb9f3a\"], [0.8888888888888888, \"#fdca26\"], [1.0, \"#f0f921\"]], \"type\": \"heatmap\"}], \"heatmapgl\": [{\"colorbar\": {\"outlinewidth\": 0, \"ticks\": \"\"}, \"colorscale\": [[0.0, \"#0d0887\"], [0.1111111111111111, \"#46039f\"], [0.2222222222222222, \"#7201a8\"], [0.3333333333333333, \"#9c179e\"], [0.4444444444444444, \"#bd3786\"], [0.5555555555555556, \"#d8576b\"], [0.6666666666666666, \"#ed7953\"], [0.7777777777777778, \"#fb9f3a\"], [0.8888888888888888, \"#fdca26\"], [1.0, \"#f0f921\"]], \"type\": \"heatmapgl\"}], \"histogram\": [{\"marker\": {\"colorbar\": {\"outlinewidth\": 0, \"ticks\": \"\"}}, \"type\": \"histogram\"}], \"histogram2d\": [{\"colorbar\": {\"outlinewidth\": 0, \"ticks\": \"\"}, \"colorscale\": [[0.0, \"#0d0887\"], [0.1111111111111111, \"#46039f\"], [0.2222222222222222, \"#7201a8\"], [0.3333333333333333, \"#9c179e\"], [0.4444444444444444, \"#bd3786\"], [0.5555555555555556, \"#d8576b\"], [0.6666666666666666, \"#ed7953\"], [0.7777777777777778, \"#fb9f3a\"], [0.8888888888888888, \"#fdca26\"], [1.0, \"#f0f921\"]], \"type\": \"histogram2d\"}], \"histogram2dcontour\": [{\"colorbar\": {\"outlinewidth\": 0, \"ticks\": \"\"}, \"colorscale\": [[0.0, \"#0d0887\"], [0.1111111111111111, \"#46039f\"], [0.2222222222222222, \"#7201a8\"], [0.3333333333333333, \"#9c179e\"], [0.4444444444444444, \"#bd3786\"], [0.5555555555555556, \"#d8576b\"], [0.6666666666666666, \"#ed7953\"], [0.7777777777777778, \"#fb9f3a\"], [0.8888888888888888, \"#fdca26\"], [1.0, \"#f0f921\"]], \"type\": \"histogram2dcontour\"}], \"mesh3d\": [{\"colorbar\": {\"outlinewidth\": 0, \"ticks\": \"\"}, \"type\": \"mesh3d\"}], \"parcoords\": [{\"line\": {\"colorbar\": {\"outlinewidth\": 0, \"ticks\": \"\"}}, \"type\": \"parcoords\"}], \"pie\": [{\"automargin\": true, \"type\": \"pie\"}], \"scatter\": [{\"marker\": {\"colorbar\": {\"outlinewidth\": 0, \"ticks\": \"\"}}, \"type\": \"scatter\"}], \"scatter3d\": [{\"line\": {\"colorbar\": {\"outlinewidth\": 0, \"ticks\": \"\"}}, \"marker\": {\"colorbar\": {\"outlinewidth\": 0, \"ticks\": \"\"}}, \"type\": \"scatter3d\"}], \"scattercarpet\": [{\"marker\": {\"colorbar\": {\"outlinewidth\": 0, \"ticks\": \"\"}}, \"type\": \"scattercarpet\"}], \"scattergeo\": [{\"marker\": {\"colorbar\": {\"outlinewidth\": 0, \"ticks\": \"\"}}, \"type\": \"scattergeo\"}], \"scattergl\": [{\"marker\": {\"colorbar\": {\"outlinewidth\": 0, \"ticks\": \"\"}}, \"type\": \"scattergl\"}], \"scattermapbox\": [{\"marker\": {\"colorbar\": {\"outlinewidth\": 0, \"ticks\": \"\"}}, \"type\": \"scattermapbox\"}], \"scatterpolar\": [{\"marker\": {\"colorbar\": {\"outlinewidth\": 0, \"ticks\": \"\"}}, \"type\": \"scatterpolar\"}], \"scatterpolargl\": [{\"marker\": {\"colorbar\": {\"outlinewidth\": 0, \"ticks\": \"\"}}, \"type\": \"scatterpolargl\"}], \"scatterternary\": [{\"marker\": {\"colorbar\": {\"outlinewidth\": 0, \"ticks\": \"\"}}, \"type\": \"scatterternary\"}], \"surface\": [{\"colorbar\": {\"outlinewidth\": 0, \"ticks\": \"\"}, \"colorscale\": [[0.0, \"#0d0887\"], [0.1111111111111111, \"#46039f\"], [0.2222222222222222, \"#7201a8\"], [0.3333333333333333, \"#9c179e\"], [0.4444444444444444, \"#bd3786\"], [0.5555555555555556, \"#d8576b\"], [0.6666666666666666, \"#ed7953\"], [0.7777777777777778, \"#fb9f3a\"], [0.8888888888888888, \"#fdca26\"], [1.0, \"#f0f921\"]], \"type\": \"surface\"}], \"table\": [{\"cells\": {\"fill\": {\"color\": \"#EBF0F8\"}, \"line\": {\"color\": \"white\"}}, \"header\": {\"fill\": {\"color\": \"#C8D4E3\"}, \"line\": {\"color\": \"white\"}}, \"type\": \"table\"}]}, \"layout\": {\"annotationdefaults\": {\"arrowcolor\": \"#2a3f5f\", \"arrowhead\": 0, \"arrowwidth\": 1}, \"coloraxis\": {\"colorbar\": {\"outlinewidth\": 0, \"ticks\": \"\"}}, \"colorscale\": {\"diverging\": [[0, \"#8e0152\"], [0.1, \"#c51b7d\"], [0.2, \"#de77ae\"], [0.3, \"#f1b6da\"], [0.4, \"#fde0ef\"], [0.5, \"#f7f7f7\"], [0.6, \"#e6f5d0\"], [0.7, \"#b8e186\"], [0.8, \"#7fbc41\"], [0.9, \"#4d9221\"], [1, \"#276419\"]], \"sequential\": [[0.0, \"#0d0887\"], [0.1111111111111111, \"#46039f\"], [0.2222222222222222, \"#7201a8\"], [0.3333333333333333, \"#9c179e\"], [0.4444444444444444, \"#bd3786\"], [0.5555555555555556, \"#d8576b\"], [0.6666666666666666, \"#ed7953\"], [0.7777777777777778, \"#fb9f3a\"], [0.8888888888888888, \"#fdca26\"], [1.0, \"#f0f921\"]], \"sequentialminus\": [[0.0, \"#0d0887\"], [0.1111111111111111, \"#46039f\"], [0.2222222222222222, \"#7201a8\"], [0.3333333333333333, \"#9c179e\"], [0.4444444444444444, \"#bd3786\"], [0.5555555555555556, \"#d8576b\"], [0.6666666666666666, \"#ed7953\"], [0.7777777777777778, \"#fb9f3a\"], [0.8888888888888888, \"#fdca26\"], [1.0, \"#f0f921\"]]}, \"colorway\": [\"#636efa\", \"#EF553B\", \"#00cc96\", \"#ab63fa\", \"#FFA15A\", \"#19d3f3\", \"#FF6692\", \"#B6E880\", \"#FF97FF\", \"#FECB52\"], \"font\": {\"color\": \"#2a3f5f\"}, \"geo\": {\"bgcolor\": \"white\", \"lakecolor\": \"white\", \"landcolor\": \"#E5ECF6\", \"showlakes\": true, \"showland\": true, \"subunitcolor\": \"white\"}, \"hoverlabel\": {\"align\": \"left\"}, \"hovermode\": \"closest\", \"mapbox\": {\"style\": \"light\"}, \"paper_bgcolor\": \"white\", \"plot_bgcolor\": \"#E5ECF6\", \"polar\": {\"angularaxis\": {\"gridcolor\": \"white\", \"linecolor\": \"white\", \"ticks\": \"\"}, \"bgcolor\": \"#E5ECF6\", \"radialaxis\": {\"gridcolor\": \"white\", \"linecolor\": \"white\", \"ticks\": \"\"}}, \"scene\": {\"xaxis\": {\"backgroundcolor\": \"#E5ECF6\", \"gridcolor\": \"white\", \"gridwidth\": 2, \"linecolor\": \"white\", \"showbackground\": true, \"ticks\": \"\", \"zerolinecolor\": \"white\"}, \"yaxis\": {\"backgroundcolor\": \"#E5ECF6\", \"gridcolor\": \"white\", \"gridwidth\": 2, \"linecolor\": \"white\", \"showbackground\": true, \"ticks\": \"\", \"zerolinecolor\": \"white\"}, \"zaxis\": {\"backgroundcolor\": \"#E5ECF6\", \"gridcolor\": \"white\", \"gridwidth\": 2, \"linecolor\": \"white\", \"showbackground\": true, \"ticks\": \"\", \"zerolinecolor\": \"white\"}}, \"shapedefaults\": {\"line\": {\"color\": \"#2a3f5f\"}}, \"ternary\": {\"aaxis\": {\"gridcolor\": \"white\", \"linecolor\": \"white\", \"ticks\": \"\"}, \"baxis\": {\"gridcolor\": \"white\", \"linecolor\": \"white\", \"ticks\": \"\"}, \"bgcolor\": \"#E5ECF6\", \"caxis\": {\"gridcolor\": \"white\", \"linecolor\": \"white\", \"ticks\": \"\"}}, \"title\": {\"x\": 0.05}, \"xaxis\": {\"automargin\": true, \"gridcolor\": \"white\", \"linecolor\": \"white\", \"ticks\": \"\", \"title\": {\"standoff\": 15}, \"zerolinecolor\": \"white\", \"zerolinewidth\": 2}, \"yaxis\": {\"automargin\": true, \"gridcolor\": \"white\", \"linecolor\": \"white\", \"ticks\": \"\", \"title\": {\"standoff\": 15}, \"zerolinecolor\": \"white\", \"zerolinewidth\": 2}}}, \"title\": {\"text\": \"Top 10 Counties Total SNAP Persons Counties in 2019\"}, \"xaxis\": {\"title\": {\"text\": \"Total Number in Millions\"}}, \"yaxis\": {\"title\": {\"text\": \"Counties\"}}},\n",
       "                        {\"responsive\": true}\n",
       "                    ).then(function(){\n",
       "                            \n",
       "var gd = document.getElementById('18d8e275-5db8-49db-a4f9-02ae9759d4ce');\n",
       "var x = new MutationObserver(function (mutations, observer) {{\n",
       "        var display = window.getComputedStyle(gd).display;\n",
       "        if (!display || display === 'none') {{\n",
       "            console.log([gd, 'removed!']);\n",
       "            Plotly.purge(gd);\n",
       "            observer.disconnect();\n",
       "        }}\n",
       "}});\n",
       "\n",
       "// Listen for the removal of the full notebook cells\n",
       "var notebookContainer = gd.closest('#notebook-container');\n",
       "if (notebookContainer) {{\n",
       "    x.observe(notebookContainer, {childList: true});\n",
       "}}\n",
       "\n",
       "// Listen for the clearing of the current output cell\n",
       "var outputEl = gd.closest('.output');\n",
       "if (outputEl) {{\n",
       "    x.observe(outputEl, {childList: true});\n",
       "}}\n",
       "\n",
       "                        })\n",
       "                };\n",
       "                });\n",
       "            </script>\n",
       "        </div>"
      ]
     },
     "metadata": {},
     "output_type": "display_data"
    }
   ],
   "source": [
    "\n",
    "df = SNAP_BY_Area\n",
    "\n",
    "fig = go.Figure(go.Bar(\n",
    "            x= df['Total SNAP Persons'],\n",
    "            y= df.District,\n",
    "            orientation='h'))\n",
    "fig.update_layout(title_text='Top 10 Counties Total SNAP Persons Counties in 2019',\n",
    "                   yaxis_title=\"Counties\", xaxis_title=\"Total Number in Millions\",\n",
    ")\n",
    "\n",
    "fig.show()\n"
   ]
  },
  {
   "cell_type": "code",
   "execution_count": 24,
   "metadata": {},
   "outputs": [
    {
     "data": {
      "text/html": [
       "<div>\n",
       "<style scoped>\n",
       "    .dataframe tbody tr th:only-of-type {\n",
       "        vertical-align: middle;\n",
       "    }\n",
       "\n",
       "    .dataframe tbody tr th {\n",
       "        vertical-align: top;\n",
       "    }\n",
       "\n",
       "    .dataframe thead th {\n",
       "        text-align: right;\n",
       "    }\n",
       "</style>\n",
       "<table border=\"1\" class=\"dataframe\">\n",
       "  <thead>\n",
       "    <tr style=\"text-align: right;\">\n",
       "      <th></th>\n",
       "      <th>Area</th>\n",
       "      <th>Labor Force</th>\n",
       "      <th>Employed</th>\n",
       "      <th>Unemployed</th>\n",
       "    </tr>\n",
       "  </thead>\n",
       "  <tbody>\n",
       "    <tr>\n",
       "      <td>23</td>\n",
       "      <td>Kings County</td>\n",
       "      <td>385227300</td>\n",
       "      <td>354746100</td>\n",
       "      <td>30482100</td>\n",
       "    </tr>\n",
       "    <tr>\n",
       "      <td>40</td>\n",
       "      <td>Queens County</td>\n",
       "      <td>381732400</td>\n",
       "      <td>356655800</td>\n",
       "      <td>25077400</td>\n",
       "    </tr>\n",
       "    <tr>\n",
       "      <td>30</td>\n",
       "      <td>New York County</td>\n",
       "      <td>309931200</td>\n",
       "      <td>290174700</td>\n",
       "      <td>19757400</td>\n",
       "    </tr>\n",
       "    <tr>\n",
       "      <td>51</td>\n",
       "      <td>Suffolk County</td>\n",
       "      <td>268618200</td>\n",
       "      <td>254646200</td>\n",
       "      <td>13972500</td>\n",
       "    </tr>\n",
       "    <tr>\n",
       "      <td>29</td>\n",
       "      <td>Nassau County</td>\n",
       "      <td>247044300</td>\n",
       "      <td>235538900</td>\n",
       "      <td>11504600</td>\n",
       "    </tr>\n",
       "    <tr>\n",
       "      <td>2</td>\n",
       "      <td>Bronx County</td>\n",
       "      <td>186851200</td>\n",
       "      <td>169508800</td>\n",
       "      <td>17342200</td>\n",
       "    </tr>\n",
       "    <tr>\n",
       "      <td>59</td>\n",
       "      <td>Westchester County</td>\n",
       "      <td>168087700</td>\n",
       "      <td>160091500</td>\n",
       "      <td>7996100</td>\n",
       "    </tr>\n",
       "    <tr>\n",
       "      <td>14</td>\n",
       "      <td>Erie County</td>\n",
       "      <td>166348900</td>\n",
       "      <td>156706700</td>\n",
       "      <td>9643700</td>\n",
       "    </tr>\n",
       "    <tr>\n",
       "      <td>27</td>\n",
       "      <td>Monroe County</td>\n",
       "      <td>134542600</td>\n",
       "      <td>127815100</td>\n",
       "      <td>6728400</td>\n",
       "    </tr>\n",
       "    <tr>\n",
       "      <td>33</td>\n",
       "      <td>Onondaga County</td>\n",
       "      <td>83309000</td>\n",
       "      <td>79057200</td>\n",
       "      <td>4252000</td>\n",
       "    </tr>\n",
       "  </tbody>\n",
       "</table>\n",
       "</div>"
      ],
      "text/plain": [
       "                  Area  Labor Force   Employed  Unemployed\n",
       "23        Kings County    385227300  354746100    30482100\n",
       "40       Queens County    381732400  356655800    25077400\n",
       "30     New York County    309931200  290174700    19757400\n",
       "51      Suffolk County    268618200  254646200    13972500\n",
       "29       Nassau County    247044300  235538900    11504600\n",
       "2         Bronx County    186851200  169508800    17342200\n",
       "59  Westchester County    168087700  160091500     7996100\n",
       "14         Erie County    166348900  156706700     9643700\n",
       "27       Monroe County    134542600  127815100     6728400\n",
       "33     Onondaga County     83309000   79057200     4252000"
      ]
     },
     "execution_count": 24,
     "metadata": {},
     "output_type": "execute_result"
    }
   ],
   "source": [
    "#create dataframe that sums our total 2019 UNEMPLOYMENT data by district\n",
    "\n",
    "\n",
    "UNEMPLOYMENT2 = pd.read_csv(\"local-area-unemployment-statistics-beginning-1976.csv\")\n",
    "UNEMPLOYMENT2 = UNEMPLOYMENT2[(UNEMPLOYMENT2.Area.str.contains(\"County\"))]\n",
    "UNEMPLOYMENT2\n",
    "UNEMPLOYMENT_BY_Area = UNEMPLOYMENT2.loc[(UNEMPLOYMENT2.Year == 2019)]\n",
    "UNEMPLOYMENT_BY_Area = UNEMPLOYMENT2.groupby([\"Area\"]).sum()\n",
    "UNEMPLOYMENT_BY_Area = UNEMPLOYMENT_BY_Area.reset_index() \n",
    "UNEMPLOYMENT_BY_Area\n",
    "UNEMPLOYMENT_BY_Area = UNEMPLOYMENT_BY_Area.loc[:,['Area', 'Labor Force', 'Employed', 'Unemployed']]\n",
    "UNEMPLOYMENT_BY_Area = UNEMPLOYMENT_BY_Area.nlargest(10, ['Labor Force']) \n",
    "UNEMPLOYMENT_BY_Area"
   ]
  },
  {
   "cell_type": "code",
   "execution_count": 25,
   "metadata": {},
   "outputs": [
    {
     "data": {
      "application/vnd.plotly.v1+json": {
       "config": {
        "plotlyServerURL": "https://plot.ly"
       },
       "data": [
        {
         "name": "Employed",
         "type": "bar",
         "x": [
          "Kings County",
          "Queens County",
          "New York County",
          "Suffolk County",
          "Nassau County",
          "Bronx County",
          "Westchester County",
          "Erie County",
          "Monroe County",
          "Onondaga County"
         ],
         "y": [
          354746100,
          356655800,
          290174700,
          254646200,
          235538900,
          169508800,
          160091500,
          156706700,
          127815100,
          79057200
         ]
        },
        {
         "name": "Unemployed",
         "type": "bar",
         "x": [
          "Kings County",
          "Queens County",
          "New York County",
          "Suffolk County",
          "Nassau County",
          "Bronx County",
          "Westchester County",
          "Erie County",
          "Monroe County",
          "Onondaga County"
         ],
         "y": [
          30482100,
          25077400,
          19757400,
          13972500,
          11504600,
          17342200,
          7996100,
          9643700,
          6728400,
          4252000
         ]
        }
       ],
       "layout": {
        "barmode": "stack",
        "template": {
         "data": {
          "bar": [
           {
            "error_x": {
             "color": "#2a3f5f"
            },
            "error_y": {
             "color": "#2a3f5f"
            },
            "marker": {
             "line": {
              "color": "#E5ECF6",
              "width": 0.5
             }
            },
            "type": "bar"
           }
          ],
          "barpolar": [
           {
            "marker": {
             "line": {
              "color": "#E5ECF6",
              "width": 0.5
             }
            },
            "type": "barpolar"
           }
          ],
          "carpet": [
           {
            "aaxis": {
             "endlinecolor": "#2a3f5f",
             "gridcolor": "white",
             "linecolor": "white",
             "minorgridcolor": "white",
             "startlinecolor": "#2a3f5f"
            },
            "baxis": {
             "endlinecolor": "#2a3f5f",
             "gridcolor": "white",
             "linecolor": "white",
             "minorgridcolor": "white",
             "startlinecolor": "#2a3f5f"
            },
            "type": "carpet"
           }
          ],
          "choropleth": [
           {
            "colorbar": {
             "outlinewidth": 0,
             "ticks": ""
            },
            "type": "choropleth"
           }
          ],
          "contour": [
           {
            "colorbar": {
             "outlinewidth": 0,
             "ticks": ""
            },
            "colorscale": [
             [
              0,
              "#0d0887"
             ],
             [
              0.1111111111111111,
              "#46039f"
             ],
             [
              0.2222222222222222,
              "#7201a8"
             ],
             [
              0.3333333333333333,
              "#9c179e"
             ],
             [
              0.4444444444444444,
              "#bd3786"
             ],
             [
              0.5555555555555556,
              "#d8576b"
             ],
             [
              0.6666666666666666,
              "#ed7953"
             ],
             [
              0.7777777777777778,
              "#fb9f3a"
             ],
             [
              0.8888888888888888,
              "#fdca26"
             ],
             [
              1,
              "#f0f921"
             ]
            ],
            "type": "contour"
           }
          ],
          "contourcarpet": [
           {
            "colorbar": {
             "outlinewidth": 0,
             "ticks": ""
            },
            "type": "contourcarpet"
           }
          ],
          "heatmap": [
           {
            "colorbar": {
             "outlinewidth": 0,
             "ticks": ""
            },
            "colorscale": [
             [
              0,
              "#0d0887"
             ],
             [
              0.1111111111111111,
              "#46039f"
             ],
             [
              0.2222222222222222,
              "#7201a8"
             ],
             [
              0.3333333333333333,
              "#9c179e"
             ],
             [
              0.4444444444444444,
              "#bd3786"
             ],
             [
              0.5555555555555556,
              "#d8576b"
             ],
             [
              0.6666666666666666,
              "#ed7953"
             ],
             [
              0.7777777777777778,
              "#fb9f3a"
             ],
             [
              0.8888888888888888,
              "#fdca26"
             ],
             [
              1,
              "#f0f921"
             ]
            ],
            "type": "heatmap"
           }
          ],
          "heatmapgl": [
           {
            "colorbar": {
             "outlinewidth": 0,
             "ticks": ""
            },
            "colorscale": [
             [
              0,
              "#0d0887"
             ],
             [
              0.1111111111111111,
              "#46039f"
             ],
             [
              0.2222222222222222,
              "#7201a8"
             ],
             [
              0.3333333333333333,
              "#9c179e"
             ],
             [
              0.4444444444444444,
              "#bd3786"
             ],
             [
              0.5555555555555556,
              "#d8576b"
             ],
             [
              0.6666666666666666,
              "#ed7953"
             ],
             [
              0.7777777777777778,
              "#fb9f3a"
             ],
             [
              0.8888888888888888,
              "#fdca26"
             ],
             [
              1,
              "#f0f921"
             ]
            ],
            "type": "heatmapgl"
           }
          ],
          "histogram": [
           {
            "marker": {
             "colorbar": {
              "outlinewidth": 0,
              "ticks": ""
             }
            },
            "type": "histogram"
           }
          ],
          "histogram2d": [
           {
            "colorbar": {
             "outlinewidth": 0,
             "ticks": ""
            },
            "colorscale": [
             [
              0,
              "#0d0887"
             ],
             [
              0.1111111111111111,
              "#46039f"
             ],
             [
              0.2222222222222222,
              "#7201a8"
             ],
             [
              0.3333333333333333,
              "#9c179e"
             ],
             [
              0.4444444444444444,
              "#bd3786"
             ],
             [
              0.5555555555555556,
              "#d8576b"
             ],
             [
              0.6666666666666666,
              "#ed7953"
             ],
             [
              0.7777777777777778,
              "#fb9f3a"
             ],
             [
              0.8888888888888888,
              "#fdca26"
             ],
             [
              1,
              "#f0f921"
             ]
            ],
            "type": "histogram2d"
           }
          ],
          "histogram2dcontour": [
           {
            "colorbar": {
             "outlinewidth": 0,
             "ticks": ""
            },
            "colorscale": [
             [
              0,
              "#0d0887"
             ],
             [
              0.1111111111111111,
              "#46039f"
             ],
             [
              0.2222222222222222,
              "#7201a8"
             ],
             [
              0.3333333333333333,
              "#9c179e"
             ],
             [
              0.4444444444444444,
              "#bd3786"
             ],
             [
              0.5555555555555556,
              "#d8576b"
             ],
             [
              0.6666666666666666,
              "#ed7953"
             ],
             [
              0.7777777777777778,
              "#fb9f3a"
             ],
             [
              0.8888888888888888,
              "#fdca26"
             ],
             [
              1,
              "#f0f921"
             ]
            ],
            "type": "histogram2dcontour"
           }
          ],
          "mesh3d": [
           {
            "colorbar": {
             "outlinewidth": 0,
             "ticks": ""
            },
            "type": "mesh3d"
           }
          ],
          "parcoords": [
           {
            "line": {
             "colorbar": {
              "outlinewidth": 0,
              "ticks": ""
             }
            },
            "type": "parcoords"
           }
          ],
          "pie": [
           {
            "automargin": true,
            "type": "pie"
           }
          ],
          "scatter": [
           {
            "marker": {
             "colorbar": {
              "outlinewidth": 0,
              "ticks": ""
             }
            },
            "type": "scatter"
           }
          ],
          "scatter3d": [
           {
            "line": {
             "colorbar": {
              "outlinewidth": 0,
              "ticks": ""
             }
            },
            "marker": {
             "colorbar": {
              "outlinewidth": 0,
              "ticks": ""
             }
            },
            "type": "scatter3d"
           }
          ],
          "scattercarpet": [
           {
            "marker": {
             "colorbar": {
              "outlinewidth": 0,
              "ticks": ""
             }
            },
            "type": "scattercarpet"
           }
          ],
          "scattergeo": [
           {
            "marker": {
             "colorbar": {
              "outlinewidth": 0,
              "ticks": ""
             }
            },
            "type": "scattergeo"
           }
          ],
          "scattergl": [
           {
            "marker": {
             "colorbar": {
              "outlinewidth": 0,
              "ticks": ""
             }
            },
            "type": "scattergl"
           }
          ],
          "scattermapbox": [
           {
            "marker": {
             "colorbar": {
              "outlinewidth": 0,
              "ticks": ""
             }
            },
            "type": "scattermapbox"
           }
          ],
          "scatterpolar": [
           {
            "marker": {
             "colorbar": {
              "outlinewidth": 0,
              "ticks": ""
             }
            },
            "type": "scatterpolar"
           }
          ],
          "scatterpolargl": [
           {
            "marker": {
             "colorbar": {
              "outlinewidth": 0,
              "ticks": ""
             }
            },
            "type": "scatterpolargl"
           }
          ],
          "scatterternary": [
           {
            "marker": {
             "colorbar": {
              "outlinewidth": 0,
              "ticks": ""
             }
            },
            "type": "scatterternary"
           }
          ],
          "surface": [
           {
            "colorbar": {
             "outlinewidth": 0,
             "ticks": ""
            },
            "colorscale": [
             [
              0,
              "#0d0887"
             ],
             [
              0.1111111111111111,
              "#46039f"
             ],
             [
              0.2222222222222222,
              "#7201a8"
             ],
             [
              0.3333333333333333,
              "#9c179e"
             ],
             [
              0.4444444444444444,
              "#bd3786"
             ],
             [
              0.5555555555555556,
              "#d8576b"
             ],
             [
              0.6666666666666666,
              "#ed7953"
             ],
             [
              0.7777777777777778,
              "#fb9f3a"
             ],
             [
              0.8888888888888888,
              "#fdca26"
             ],
             [
              1,
              "#f0f921"
             ]
            ],
            "type": "surface"
           }
          ],
          "table": [
           {
            "cells": {
             "fill": {
              "color": "#EBF0F8"
             },
             "line": {
              "color": "white"
             }
            },
            "header": {
             "fill": {
              "color": "#C8D4E3"
             },
             "line": {
              "color": "white"
             }
            },
            "type": "table"
           }
          ]
         },
         "layout": {
          "annotationdefaults": {
           "arrowcolor": "#2a3f5f",
           "arrowhead": 0,
           "arrowwidth": 1
          },
          "coloraxis": {
           "colorbar": {
            "outlinewidth": 0,
            "ticks": ""
           }
          },
          "colorscale": {
           "diverging": [
            [
             0,
             "#8e0152"
            ],
            [
             0.1,
             "#c51b7d"
            ],
            [
             0.2,
             "#de77ae"
            ],
            [
             0.3,
             "#f1b6da"
            ],
            [
             0.4,
             "#fde0ef"
            ],
            [
             0.5,
             "#f7f7f7"
            ],
            [
             0.6,
             "#e6f5d0"
            ],
            [
             0.7,
             "#b8e186"
            ],
            [
             0.8,
             "#7fbc41"
            ],
            [
             0.9,
             "#4d9221"
            ],
            [
             1,
             "#276419"
            ]
           ],
           "sequential": [
            [
             0,
             "#0d0887"
            ],
            [
             0.1111111111111111,
             "#46039f"
            ],
            [
             0.2222222222222222,
             "#7201a8"
            ],
            [
             0.3333333333333333,
             "#9c179e"
            ],
            [
             0.4444444444444444,
             "#bd3786"
            ],
            [
             0.5555555555555556,
             "#d8576b"
            ],
            [
             0.6666666666666666,
             "#ed7953"
            ],
            [
             0.7777777777777778,
             "#fb9f3a"
            ],
            [
             0.8888888888888888,
             "#fdca26"
            ],
            [
             1,
             "#f0f921"
            ]
           ],
           "sequentialminus": [
            [
             0,
             "#0d0887"
            ],
            [
             0.1111111111111111,
             "#46039f"
            ],
            [
             0.2222222222222222,
             "#7201a8"
            ],
            [
             0.3333333333333333,
             "#9c179e"
            ],
            [
             0.4444444444444444,
             "#bd3786"
            ],
            [
             0.5555555555555556,
             "#d8576b"
            ],
            [
             0.6666666666666666,
             "#ed7953"
            ],
            [
             0.7777777777777778,
             "#fb9f3a"
            ],
            [
             0.8888888888888888,
             "#fdca26"
            ],
            [
             1,
             "#f0f921"
            ]
           ]
          },
          "colorway": [
           "#636efa",
           "#EF553B",
           "#00cc96",
           "#ab63fa",
           "#FFA15A",
           "#19d3f3",
           "#FF6692",
           "#B6E880",
           "#FF97FF",
           "#FECB52"
          ],
          "font": {
           "color": "#2a3f5f"
          },
          "geo": {
           "bgcolor": "white",
           "lakecolor": "white",
           "landcolor": "#E5ECF6",
           "showlakes": true,
           "showland": true,
           "subunitcolor": "white"
          },
          "hoverlabel": {
           "align": "left"
          },
          "hovermode": "closest",
          "mapbox": {
           "style": "light"
          },
          "paper_bgcolor": "white",
          "plot_bgcolor": "#E5ECF6",
          "polar": {
           "angularaxis": {
            "gridcolor": "white",
            "linecolor": "white",
            "ticks": ""
           },
           "bgcolor": "#E5ECF6",
           "radialaxis": {
            "gridcolor": "white",
            "linecolor": "white",
            "ticks": ""
           }
          },
          "scene": {
           "xaxis": {
            "backgroundcolor": "#E5ECF6",
            "gridcolor": "white",
            "gridwidth": 2,
            "linecolor": "white",
            "showbackground": true,
            "ticks": "",
            "zerolinecolor": "white"
           },
           "yaxis": {
            "backgroundcolor": "#E5ECF6",
            "gridcolor": "white",
            "gridwidth": 2,
            "linecolor": "white",
            "showbackground": true,
            "ticks": "",
            "zerolinecolor": "white"
           },
           "zaxis": {
            "backgroundcolor": "#E5ECF6",
            "gridcolor": "white",
            "gridwidth": 2,
            "linecolor": "white",
            "showbackground": true,
            "ticks": "",
            "zerolinecolor": "white"
           }
          },
          "shapedefaults": {
           "line": {
            "color": "#2a3f5f"
           }
          },
          "ternary": {
           "aaxis": {
            "gridcolor": "white",
            "linecolor": "white",
            "ticks": ""
           },
           "baxis": {
            "gridcolor": "white",
            "linecolor": "white",
            "ticks": ""
           },
           "bgcolor": "#E5ECF6",
           "caxis": {
            "gridcolor": "white",
            "linecolor": "white",
            "ticks": ""
           }
          },
          "title": {
           "x": 0.05
          },
          "xaxis": {
           "automargin": true,
           "gridcolor": "white",
           "linecolor": "white",
           "ticks": "",
           "title": {
            "standoff": 15
           },
           "zerolinecolor": "white",
           "zerolinewidth": 2
          },
          "yaxis": {
           "automargin": true,
           "gridcolor": "white",
           "linecolor": "white",
           "ticks": "",
           "title": {
            "standoff": 15
           },
           "zerolinecolor": "white",
           "zerolinewidth": 2
          }
         }
        },
        "title": {
         "text": "Top 10 Counties Unemploymed vs Employed in 2019"
        },
        "xaxis": {
         "categoryorder": "category ascending",
         "title": {
          "text": "Top 10 Counties"
         }
        },
        "yaxis": {
         "title": {
          "text": "Total Number in Millions"
         }
        }
       }
      },
      "text/html": [
       "<div>\n",
       "        \n",
       "        \n",
       "            <div id=\"63a5019b-1653-45f6-b19c-1fc2a6e12b6c\" class=\"plotly-graph-div\" style=\"height:525px; width:100%;\"></div>\n",
       "            <script type=\"text/javascript\">\n",
       "                require([\"plotly\"], function(Plotly) {\n",
       "                    window.PLOTLYENV=window.PLOTLYENV || {};\n",
       "                    \n",
       "                if (document.getElementById(\"63a5019b-1653-45f6-b19c-1fc2a6e12b6c\")) {\n",
       "                    Plotly.newPlot(\n",
       "                        '63a5019b-1653-45f6-b19c-1fc2a6e12b6c',\n",
       "                        [{\"name\": \"Employed\", \"type\": \"bar\", \"x\": [\"Kings County\", \"Queens County\", \"New York County\", \"Suffolk County\", \"Nassau County\", \"Bronx County\", \"Westchester County\", \"Erie County\", \"Monroe County\", \"Onondaga County\"], \"y\": [354746100, 356655800, 290174700, 254646200, 235538900, 169508800, 160091500, 156706700, 127815100, 79057200]}, {\"name\": \"Unemployed\", \"type\": \"bar\", \"x\": [\"Kings County\", \"Queens County\", \"New York County\", \"Suffolk County\", \"Nassau County\", \"Bronx County\", \"Westchester County\", \"Erie County\", \"Monroe County\", \"Onondaga County\"], \"y\": [30482100, 25077400, 19757400, 13972500, 11504600, 17342200, 7996100, 9643700, 6728400, 4252000]}],\n",
       "                        {\"barmode\": \"stack\", \"template\": {\"data\": {\"bar\": [{\"error_x\": {\"color\": \"#2a3f5f\"}, \"error_y\": {\"color\": \"#2a3f5f\"}, \"marker\": {\"line\": {\"color\": \"#E5ECF6\", \"width\": 0.5}}, \"type\": \"bar\"}], \"barpolar\": [{\"marker\": {\"line\": {\"color\": \"#E5ECF6\", \"width\": 0.5}}, \"type\": \"barpolar\"}], \"carpet\": [{\"aaxis\": {\"endlinecolor\": \"#2a3f5f\", \"gridcolor\": \"white\", \"linecolor\": \"white\", \"minorgridcolor\": \"white\", \"startlinecolor\": \"#2a3f5f\"}, \"baxis\": {\"endlinecolor\": \"#2a3f5f\", \"gridcolor\": \"white\", \"linecolor\": \"white\", \"minorgridcolor\": \"white\", \"startlinecolor\": \"#2a3f5f\"}, \"type\": \"carpet\"}], \"choropleth\": [{\"colorbar\": {\"outlinewidth\": 0, \"ticks\": \"\"}, \"type\": \"choropleth\"}], \"contour\": [{\"colorbar\": {\"outlinewidth\": 0, \"ticks\": \"\"}, \"colorscale\": [[0.0, \"#0d0887\"], [0.1111111111111111, \"#46039f\"], [0.2222222222222222, \"#7201a8\"], [0.3333333333333333, \"#9c179e\"], [0.4444444444444444, \"#bd3786\"], [0.5555555555555556, \"#d8576b\"], [0.6666666666666666, \"#ed7953\"], [0.7777777777777778, \"#fb9f3a\"], [0.8888888888888888, \"#fdca26\"], [1.0, \"#f0f921\"]], \"type\": \"contour\"}], \"contourcarpet\": [{\"colorbar\": {\"outlinewidth\": 0, \"ticks\": \"\"}, \"type\": \"contourcarpet\"}], \"heatmap\": [{\"colorbar\": {\"outlinewidth\": 0, \"ticks\": \"\"}, \"colorscale\": [[0.0, \"#0d0887\"], [0.1111111111111111, \"#46039f\"], [0.2222222222222222, \"#7201a8\"], [0.3333333333333333, \"#9c179e\"], [0.4444444444444444, \"#bd3786\"], [0.5555555555555556, \"#d8576b\"], [0.6666666666666666, \"#ed7953\"], [0.7777777777777778, \"#fb9f3a\"], [0.8888888888888888, \"#fdca26\"], [1.0, \"#f0f921\"]], \"type\": \"heatmap\"}], \"heatmapgl\": [{\"colorbar\": {\"outlinewidth\": 0, \"ticks\": \"\"}, \"colorscale\": [[0.0, \"#0d0887\"], [0.1111111111111111, \"#46039f\"], [0.2222222222222222, \"#7201a8\"], [0.3333333333333333, \"#9c179e\"], [0.4444444444444444, \"#bd3786\"], [0.5555555555555556, \"#d8576b\"], [0.6666666666666666, \"#ed7953\"], [0.7777777777777778, \"#fb9f3a\"], [0.8888888888888888, \"#fdca26\"], [1.0, \"#f0f921\"]], \"type\": \"heatmapgl\"}], \"histogram\": [{\"marker\": {\"colorbar\": {\"outlinewidth\": 0, \"ticks\": \"\"}}, \"type\": \"histogram\"}], \"histogram2d\": [{\"colorbar\": {\"outlinewidth\": 0, \"ticks\": \"\"}, \"colorscale\": [[0.0, \"#0d0887\"], [0.1111111111111111, \"#46039f\"], [0.2222222222222222, \"#7201a8\"], [0.3333333333333333, \"#9c179e\"], [0.4444444444444444, \"#bd3786\"], [0.5555555555555556, \"#d8576b\"], [0.6666666666666666, \"#ed7953\"], [0.7777777777777778, \"#fb9f3a\"], [0.8888888888888888, \"#fdca26\"], [1.0, \"#f0f921\"]], \"type\": \"histogram2d\"}], \"histogram2dcontour\": [{\"colorbar\": {\"outlinewidth\": 0, \"ticks\": \"\"}, \"colorscale\": [[0.0, \"#0d0887\"], [0.1111111111111111, \"#46039f\"], [0.2222222222222222, \"#7201a8\"], [0.3333333333333333, \"#9c179e\"], [0.4444444444444444, \"#bd3786\"], [0.5555555555555556, \"#d8576b\"], [0.6666666666666666, \"#ed7953\"], [0.7777777777777778, \"#fb9f3a\"], [0.8888888888888888, \"#fdca26\"], [1.0, \"#f0f921\"]], \"type\": \"histogram2dcontour\"}], \"mesh3d\": [{\"colorbar\": {\"outlinewidth\": 0, \"ticks\": \"\"}, \"type\": \"mesh3d\"}], \"parcoords\": [{\"line\": {\"colorbar\": {\"outlinewidth\": 0, \"ticks\": \"\"}}, \"type\": \"parcoords\"}], \"pie\": [{\"automargin\": true, \"type\": \"pie\"}], \"scatter\": [{\"marker\": {\"colorbar\": {\"outlinewidth\": 0, \"ticks\": \"\"}}, \"type\": \"scatter\"}], \"scatter3d\": [{\"line\": {\"colorbar\": {\"outlinewidth\": 0, \"ticks\": \"\"}}, \"marker\": {\"colorbar\": {\"outlinewidth\": 0, \"ticks\": \"\"}}, \"type\": \"scatter3d\"}], \"scattercarpet\": [{\"marker\": {\"colorbar\": {\"outlinewidth\": 0, \"ticks\": \"\"}}, \"type\": \"scattercarpet\"}], \"scattergeo\": [{\"marker\": {\"colorbar\": {\"outlinewidth\": 0, \"ticks\": \"\"}}, \"type\": \"scattergeo\"}], \"scattergl\": [{\"marker\": {\"colorbar\": {\"outlinewidth\": 0, \"ticks\": \"\"}}, \"type\": \"scattergl\"}], \"scattermapbox\": [{\"marker\": {\"colorbar\": {\"outlinewidth\": 0, \"ticks\": \"\"}}, \"type\": \"scattermapbox\"}], \"scatterpolar\": [{\"marker\": {\"colorbar\": {\"outlinewidth\": 0, \"ticks\": \"\"}}, \"type\": \"scatterpolar\"}], \"scatterpolargl\": [{\"marker\": {\"colorbar\": {\"outlinewidth\": 0, \"ticks\": \"\"}}, \"type\": \"scatterpolargl\"}], \"scatterternary\": [{\"marker\": {\"colorbar\": {\"outlinewidth\": 0, \"ticks\": \"\"}}, \"type\": \"scatterternary\"}], \"surface\": [{\"colorbar\": {\"outlinewidth\": 0, \"ticks\": \"\"}, \"colorscale\": [[0.0, \"#0d0887\"], [0.1111111111111111, \"#46039f\"], [0.2222222222222222, \"#7201a8\"], [0.3333333333333333, \"#9c179e\"], [0.4444444444444444, \"#bd3786\"], [0.5555555555555556, \"#d8576b\"], [0.6666666666666666, \"#ed7953\"], [0.7777777777777778, \"#fb9f3a\"], [0.8888888888888888, \"#fdca26\"], [1.0, \"#f0f921\"]], \"type\": \"surface\"}], \"table\": [{\"cells\": {\"fill\": {\"color\": \"#EBF0F8\"}, \"line\": {\"color\": \"white\"}}, \"header\": {\"fill\": {\"color\": \"#C8D4E3\"}, \"line\": {\"color\": \"white\"}}, \"type\": \"table\"}]}, \"layout\": {\"annotationdefaults\": {\"arrowcolor\": \"#2a3f5f\", \"arrowhead\": 0, \"arrowwidth\": 1}, \"coloraxis\": {\"colorbar\": {\"outlinewidth\": 0, \"ticks\": \"\"}}, \"colorscale\": {\"diverging\": [[0, \"#8e0152\"], [0.1, \"#c51b7d\"], [0.2, \"#de77ae\"], [0.3, \"#f1b6da\"], [0.4, \"#fde0ef\"], [0.5, \"#f7f7f7\"], [0.6, \"#e6f5d0\"], [0.7, \"#b8e186\"], [0.8, \"#7fbc41\"], [0.9, \"#4d9221\"], [1, \"#276419\"]], \"sequential\": [[0.0, \"#0d0887\"], [0.1111111111111111, \"#46039f\"], [0.2222222222222222, \"#7201a8\"], [0.3333333333333333, \"#9c179e\"], [0.4444444444444444, \"#bd3786\"], [0.5555555555555556, \"#d8576b\"], [0.6666666666666666, \"#ed7953\"], [0.7777777777777778, \"#fb9f3a\"], [0.8888888888888888, \"#fdca26\"], [1.0, \"#f0f921\"]], \"sequentialminus\": [[0.0, \"#0d0887\"], [0.1111111111111111, \"#46039f\"], [0.2222222222222222, \"#7201a8\"], [0.3333333333333333, \"#9c179e\"], [0.4444444444444444, \"#bd3786\"], [0.5555555555555556, \"#d8576b\"], [0.6666666666666666, \"#ed7953\"], [0.7777777777777778, \"#fb9f3a\"], [0.8888888888888888, \"#fdca26\"], [1.0, \"#f0f921\"]]}, \"colorway\": [\"#636efa\", \"#EF553B\", \"#00cc96\", \"#ab63fa\", \"#FFA15A\", \"#19d3f3\", \"#FF6692\", \"#B6E880\", \"#FF97FF\", \"#FECB52\"], \"font\": {\"color\": \"#2a3f5f\"}, \"geo\": {\"bgcolor\": \"white\", \"lakecolor\": \"white\", \"landcolor\": \"#E5ECF6\", \"showlakes\": true, \"showland\": true, \"subunitcolor\": \"white\"}, \"hoverlabel\": {\"align\": \"left\"}, \"hovermode\": \"closest\", \"mapbox\": {\"style\": \"light\"}, \"paper_bgcolor\": \"white\", \"plot_bgcolor\": \"#E5ECF6\", \"polar\": {\"angularaxis\": {\"gridcolor\": \"white\", \"linecolor\": \"white\", \"ticks\": \"\"}, \"bgcolor\": \"#E5ECF6\", \"radialaxis\": {\"gridcolor\": \"white\", \"linecolor\": \"white\", \"ticks\": \"\"}}, \"scene\": {\"xaxis\": {\"backgroundcolor\": \"#E5ECF6\", \"gridcolor\": \"white\", \"gridwidth\": 2, \"linecolor\": \"white\", \"showbackground\": true, \"ticks\": \"\", \"zerolinecolor\": \"white\"}, \"yaxis\": {\"backgroundcolor\": \"#E5ECF6\", \"gridcolor\": \"white\", \"gridwidth\": 2, \"linecolor\": \"white\", \"showbackground\": true, \"ticks\": \"\", \"zerolinecolor\": \"white\"}, \"zaxis\": {\"backgroundcolor\": \"#E5ECF6\", \"gridcolor\": \"white\", \"gridwidth\": 2, \"linecolor\": \"white\", \"showbackground\": true, \"ticks\": \"\", \"zerolinecolor\": \"white\"}}, \"shapedefaults\": {\"line\": {\"color\": \"#2a3f5f\"}}, \"ternary\": {\"aaxis\": {\"gridcolor\": \"white\", \"linecolor\": \"white\", \"ticks\": \"\"}, \"baxis\": {\"gridcolor\": \"white\", \"linecolor\": \"white\", \"ticks\": \"\"}, \"bgcolor\": \"#E5ECF6\", \"caxis\": {\"gridcolor\": \"white\", \"linecolor\": \"white\", \"ticks\": \"\"}}, \"title\": {\"x\": 0.05}, \"xaxis\": {\"automargin\": true, \"gridcolor\": \"white\", \"linecolor\": \"white\", \"ticks\": \"\", \"title\": {\"standoff\": 15}, \"zerolinecolor\": \"white\", \"zerolinewidth\": 2}, \"yaxis\": {\"automargin\": true, \"gridcolor\": \"white\", \"linecolor\": \"white\", \"ticks\": \"\", \"title\": {\"standoff\": 15}, \"zerolinecolor\": \"white\", \"zerolinewidth\": 2}}}, \"title\": {\"text\": \"Top 10 Counties Unemploymed vs Employed in 2019\"}, \"xaxis\": {\"categoryorder\": \"category ascending\", \"title\": {\"text\": \"Top 10 Counties\"}}, \"yaxis\": {\"title\": {\"text\": \"Total Number in Millions\"}}},\n",
       "                        {\"responsive\": true}\n",
       "                    ).then(function(){\n",
       "                            \n",
       "var gd = document.getElementById('63a5019b-1653-45f6-b19c-1fc2a6e12b6c');\n",
       "var x = new MutationObserver(function (mutations, observer) {{\n",
       "        var display = window.getComputedStyle(gd).display;\n",
       "        if (!display || display === 'none') {{\n",
       "            console.log([gd, 'removed!']);\n",
       "            Plotly.purge(gd);\n",
       "            observer.disconnect();\n",
       "        }}\n",
       "}});\n",
       "\n",
       "// Listen for the removal of the full notebook cells\n",
       "var notebookContainer = gd.closest('#notebook-container');\n",
       "if (notebookContainer) {{\n",
       "    x.observe(notebookContainer, {childList: true});\n",
       "}}\n",
       "\n",
       "// Listen for the clearing of the current output cell\n",
       "var outputEl = gd.closest('.output');\n",
       "if (outputEl) {{\n",
       "    x.observe(outputEl, {childList: true});\n",
       "}}\n",
       "\n",
       "                        })\n",
       "                };\n",
       "                });\n",
       "            </script>\n",
       "        </div>"
      ]
     },
     "metadata": {},
     "output_type": "display_data"
    }
   ],
   "source": [
    "df = UNEMPLOYMENT_BY_Area\n",
    "\n",
    "x = df['Area']\n",
    "fig = go.Figure(go.Bar(x=x, y=df['Employed'], name='Employed'))\n",
    "fig.add_trace(go.Bar(x=x, y=df['Unemployed'], name='Unemployed'))\n",
    "\n",
    "fig.update_layout(title_text='Top 10 Counties Unemploymed vs Employed in 2019',\n",
    "                   yaxis_title=\"Total Number in Millions\", xaxis_title=\"Top 10 Counties\",barmode='stack', xaxis={'categoryorder':'category ascending'})\n",
    "fig.show()"
   ]
  },
  {
   "cell_type": "markdown",
   "metadata": {},
   "source": [
    "### Areas Eligible to Create Waviers with New SNAP Rules"
   ]
  },
  {
   "cell_type": "code",
   "execution_count": 26,
   "metadata": {},
   "outputs": [],
   "source": [
    "#creating dataframe for counties who experienced an unemployment rate of 6.0 or higher in the last year \n",
    "\n",
    "\n",
    "UNEMPLOYMENT3 = UNEMPLOYMENT3 = pd.read_csv(\"local-area-unemployment-statistics-beginning-1976.csv\")\n",
    "UNEMPLOYMENT3 = UNEMPLOYMENT3.loc[(UNEMPLOYMENT3.Area.str.contains(\"County\"))]\n",
    "UNEMPLOYMENT3 = UNEMPLOYMENT3.loc[(UNEMPLOYMENT3.Year == 2019)]\n",
    "UNEMPLOYMENT3.columns = UNEMPLOYMENT3.columns.str.replace(' ', '')\n",
    "UNEMPLOYMENT3 = UNEMPLOYMENT3.loc[(UNEMPLOYMENT3.UnemploymentRate >= 6.0)]"
   ]
  },
  {
   "cell_type": "code",
   "execution_count": 27,
   "metadata": {},
   "outputs": [
    {
     "data": {
      "application/vnd.plotly.v1+json": {
       "config": {
        "plotlyServerURL": "https://plot.ly"
       },
       "data": [
        {
         "alignmentgroup": "True",
         "hoverlabel": {
          "namelength": 0
         },
         "hovertemplate": "Area=%{x}<br>UnemploymentRate=%{y}",
         "legendgroup": "",
         "marker": {
          "color": "#636efa"
         },
         "name": "",
         "offsetgroup": "",
         "orientation": "v",
         "showlegend": false,
         "textposition": "auto",
         "type": "bar",
         "x": [
          "Allegany County",
          "Allegany County",
          "Allegany County",
          "Bronx County",
          "Bronx County",
          "Bronx County",
          "Cattaraugus County",
          "Cortland County",
          "Hamilton County",
          "Hamilton County",
          "Hamilton County",
          "Hamilton County",
          "Jefferson County",
          "Jefferson County",
          "Jefferson County",
          "Lewis County",
          "Lewis County",
          "Lewis County",
          "Oswego County",
          "Oswego County",
          "Schoharie County",
          "Schuyler County",
          "Schuyler County",
          "St. Lawrence County",
          "St. Lawrence County",
          "St. Lawrence County"
         ],
         "xaxis": "x",
         "y": [
          6,
          6.3,
          6.7,
          6.1,
          6.2,
          6.6,
          6,
          6.2,
          7.8,
          7.5,
          8.2,
          8.4,
          6.3,
          6.6,
          6.7,
          7.2,
          7.1,
          7,
          6.2,
          6.5,
          6.2,
          6.1,
          6.2,
          6.1,
          6,
          6.3
         ],
         "yaxis": "y"
        }
       ],
       "layout": {
        "barmode": "relative",
        "height": 600,
        "legend": {
         "tracegroupgap": 0
        },
        "margin": {
         "t": 60
        },
        "template": {
         "data": {
          "bar": [
           {
            "error_x": {
             "color": "#2a3f5f"
            },
            "error_y": {
             "color": "#2a3f5f"
            },
            "marker": {
             "line": {
              "color": "#E5ECF6",
              "width": 0.5
             }
            },
            "type": "bar"
           }
          ],
          "barpolar": [
           {
            "marker": {
             "line": {
              "color": "#E5ECF6",
              "width": 0.5
             }
            },
            "type": "barpolar"
           }
          ],
          "carpet": [
           {
            "aaxis": {
             "endlinecolor": "#2a3f5f",
             "gridcolor": "white",
             "linecolor": "white",
             "minorgridcolor": "white",
             "startlinecolor": "#2a3f5f"
            },
            "baxis": {
             "endlinecolor": "#2a3f5f",
             "gridcolor": "white",
             "linecolor": "white",
             "minorgridcolor": "white",
             "startlinecolor": "#2a3f5f"
            },
            "type": "carpet"
           }
          ],
          "choropleth": [
           {
            "colorbar": {
             "outlinewidth": 0,
             "ticks": ""
            },
            "type": "choropleth"
           }
          ],
          "contour": [
           {
            "colorbar": {
             "outlinewidth": 0,
             "ticks": ""
            },
            "colorscale": [
             [
              0,
              "#0d0887"
             ],
             [
              0.1111111111111111,
              "#46039f"
             ],
             [
              0.2222222222222222,
              "#7201a8"
             ],
             [
              0.3333333333333333,
              "#9c179e"
             ],
             [
              0.4444444444444444,
              "#bd3786"
             ],
             [
              0.5555555555555556,
              "#d8576b"
             ],
             [
              0.6666666666666666,
              "#ed7953"
             ],
             [
              0.7777777777777778,
              "#fb9f3a"
             ],
             [
              0.8888888888888888,
              "#fdca26"
             ],
             [
              1,
              "#f0f921"
             ]
            ],
            "type": "contour"
           }
          ],
          "contourcarpet": [
           {
            "colorbar": {
             "outlinewidth": 0,
             "ticks": ""
            },
            "type": "contourcarpet"
           }
          ],
          "heatmap": [
           {
            "colorbar": {
             "outlinewidth": 0,
             "ticks": ""
            },
            "colorscale": [
             [
              0,
              "#0d0887"
             ],
             [
              0.1111111111111111,
              "#46039f"
             ],
             [
              0.2222222222222222,
              "#7201a8"
             ],
             [
              0.3333333333333333,
              "#9c179e"
             ],
             [
              0.4444444444444444,
              "#bd3786"
             ],
             [
              0.5555555555555556,
              "#d8576b"
             ],
             [
              0.6666666666666666,
              "#ed7953"
             ],
             [
              0.7777777777777778,
              "#fb9f3a"
             ],
             [
              0.8888888888888888,
              "#fdca26"
             ],
             [
              1,
              "#f0f921"
             ]
            ],
            "type": "heatmap"
           }
          ],
          "heatmapgl": [
           {
            "colorbar": {
             "outlinewidth": 0,
             "ticks": ""
            },
            "colorscale": [
             [
              0,
              "#0d0887"
             ],
             [
              0.1111111111111111,
              "#46039f"
             ],
             [
              0.2222222222222222,
              "#7201a8"
             ],
             [
              0.3333333333333333,
              "#9c179e"
             ],
             [
              0.4444444444444444,
              "#bd3786"
             ],
             [
              0.5555555555555556,
              "#d8576b"
             ],
             [
              0.6666666666666666,
              "#ed7953"
             ],
             [
              0.7777777777777778,
              "#fb9f3a"
             ],
             [
              0.8888888888888888,
              "#fdca26"
             ],
             [
              1,
              "#f0f921"
             ]
            ],
            "type": "heatmapgl"
           }
          ],
          "histogram": [
           {
            "marker": {
             "colorbar": {
              "outlinewidth": 0,
              "ticks": ""
             }
            },
            "type": "histogram"
           }
          ],
          "histogram2d": [
           {
            "colorbar": {
             "outlinewidth": 0,
             "ticks": ""
            },
            "colorscale": [
             [
              0,
              "#0d0887"
             ],
             [
              0.1111111111111111,
              "#46039f"
             ],
             [
              0.2222222222222222,
              "#7201a8"
             ],
             [
              0.3333333333333333,
              "#9c179e"
             ],
             [
              0.4444444444444444,
              "#bd3786"
             ],
             [
              0.5555555555555556,
              "#d8576b"
             ],
             [
              0.6666666666666666,
              "#ed7953"
             ],
             [
              0.7777777777777778,
              "#fb9f3a"
             ],
             [
              0.8888888888888888,
              "#fdca26"
             ],
             [
              1,
              "#f0f921"
             ]
            ],
            "type": "histogram2d"
           }
          ],
          "histogram2dcontour": [
           {
            "colorbar": {
             "outlinewidth": 0,
             "ticks": ""
            },
            "colorscale": [
             [
              0,
              "#0d0887"
             ],
             [
              0.1111111111111111,
              "#46039f"
             ],
             [
              0.2222222222222222,
              "#7201a8"
             ],
             [
              0.3333333333333333,
              "#9c179e"
             ],
             [
              0.4444444444444444,
              "#bd3786"
             ],
             [
              0.5555555555555556,
              "#d8576b"
             ],
             [
              0.6666666666666666,
              "#ed7953"
             ],
             [
              0.7777777777777778,
              "#fb9f3a"
             ],
             [
              0.8888888888888888,
              "#fdca26"
             ],
             [
              1,
              "#f0f921"
             ]
            ],
            "type": "histogram2dcontour"
           }
          ],
          "mesh3d": [
           {
            "colorbar": {
             "outlinewidth": 0,
             "ticks": ""
            },
            "type": "mesh3d"
           }
          ],
          "parcoords": [
           {
            "line": {
             "colorbar": {
              "outlinewidth": 0,
              "ticks": ""
             }
            },
            "type": "parcoords"
           }
          ],
          "pie": [
           {
            "automargin": true,
            "type": "pie"
           }
          ],
          "scatter": [
           {
            "marker": {
             "colorbar": {
              "outlinewidth": 0,
              "ticks": ""
             }
            },
            "type": "scatter"
           }
          ],
          "scatter3d": [
           {
            "line": {
             "colorbar": {
              "outlinewidth": 0,
              "ticks": ""
             }
            },
            "marker": {
             "colorbar": {
              "outlinewidth": 0,
              "ticks": ""
             }
            },
            "type": "scatter3d"
           }
          ],
          "scattercarpet": [
           {
            "marker": {
             "colorbar": {
              "outlinewidth": 0,
              "ticks": ""
             }
            },
            "type": "scattercarpet"
           }
          ],
          "scattergeo": [
           {
            "marker": {
             "colorbar": {
              "outlinewidth": 0,
              "ticks": ""
             }
            },
            "type": "scattergeo"
           }
          ],
          "scattergl": [
           {
            "marker": {
             "colorbar": {
              "outlinewidth": 0,
              "ticks": ""
             }
            },
            "type": "scattergl"
           }
          ],
          "scattermapbox": [
           {
            "marker": {
             "colorbar": {
              "outlinewidth": 0,
              "ticks": ""
             }
            },
            "type": "scattermapbox"
           }
          ],
          "scatterpolar": [
           {
            "marker": {
             "colorbar": {
              "outlinewidth": 0,
              "ticks": ""
             }
            },
            "type": "scatterpolar"
           }
          ],
          "scatterpolargl": [
           {
            "marker": {
             "colorbar": {
              "outlinewidth": 0,
              "ticks": ""
             }
            },
            "type": "scatterpolargl"
           }
          ],
          "scatterternary": [
           {
            "marker": {
             "colorbar": {
              "outlinewidth": 0,
              "ticks": ""
             }
            },
            "type": "scatterternary"
           }
          ],
          "surface": [
           {
            "colorbar": {
             "outlinewidth": 0,
             "ticks": ""
            },
            "colorscale": [
             [
              0,
              "#0d0887"
             ],
             [
              0.1111111111111111,
              "#46039f"
             ],
             [
              0.2222222222222222,
              "#7201a8"
             ],
             [
              0.3333333333333333,
              "#9c179e"
             ],
             [
              0.4444444444444444,
              "#bd3786"
             ],
             [
              0.5555555555555556,
              "#d8576b"
             ],
             [
              0.6666666666666666,
              "#ed7953"
             ],
             [
              0.7777777777777778,
              "#fb9f3a"
             ],
             [
              0.8888888888888888,
              "#fdca26"
             ],
             [
              1,
              "#f0f921"
             ]
            ],
            "type": "surface"
           }
          ],
          "table": [
           {
            "cells": {
             "fill": {
              "color": "#EBF0F8"
             },
             "line": {
              "color": "white"
             }
            },
            "header": {
             "fill": {
              "color": "#C8D4E3"
             },
             "line": {
              "color": "white"
             }
            },
            "type": "table"
           }
          ]
         },
         "layout": {
          "annotationdefaults": {
           "arrowcolor": "#2a3f5f",
           "arrowhead": 0,
           "arrowwidth": 1
          },
          "coloraxis": {
           "colorbar": {
            "outlinewidth": 0,
            "ticks": ""
           }
          },
          "colorscale": {
           "diverging": [
            [
             0,
             "#8e0152"
            ],
            [
             0.1,
             "#c51b7d"
            ],
            [
             0.2,
             "#de77ae"
            ],
            [
             0.3,
             "#f1b6da"
            ],
            [
             0.4,
             "#fde0ef"
            ],
            [
             0.5,
             "#f7f7f7"
            ],
            [
             0.6,
             "#e6f5d0"
            ],
            [
             0.7,
             "#b8e186"
            ],
            [
             0.8,
             "#7fbc41"
            ],
            [
             0.9,
             "#4d9221"
            ],
            [
             1,
             "#276419"
            ]
           ],
           "sequential": [
            [
             0,
             "#0d0887"
            ],
            [
             0.1111111111111111,
             "#46039f"
            ],
            [
             0.2222222222222222,
             "#7201a8"
            ],
            [
             0.3333333333333333,
             "#9c179e"
            ],
            [
             0.4444444444444444,
             "#bd3786"
            ],
            [
             0.5555555555555556,
             "#d8576b"
            ],
            [
             0.6666666666666666,
             "#ed7953"
            ],
            [
             0.7777777777777778,
             "#fb9f3a"
            ],
            [
             0.8888888888888888,
             "#fdca26"
            ],
            [
             1,
             "#f0f921"
            ]
           ],
           "sequentialminus": [
            [
             0,
             "#0d0887"
            ],
            [
             0.1111111111111111,
             "#46039f"
            ],
            [
             0.2222222222222222,
             "#7201a8"
            ],
            [
             0.3333333333333333,
             "#9c179e"
            ],
            [
             0.4444444444444444,
             "#bd3786"
            ],
            [
             0.5555555555555556,
             "#d8576b"
            ],
            [
             0.6666666666666666,
             "#ed7953"
            ],
            [
             0.7777777777777778,
             "#fb9f3a"
            ],
            [
             0.8888888888888888,
             "#fdca26"
            ],
            [
             1,
             "#f0f921"
            ]
           ]
          },
          "colorway": [
           "#636efa",
           "#EF553B",
           "#00cc96",
           "#ab63fa",
           "#FFA15A",
           "#19d3f3",
           "#FF6692",
           "#B6E880",
           "#FF97FF",
           "#FECB52"
          ],
          "font": {
           "color": "#2a3f5f"
          },
          "geo": {
           "bgcolor": "white",
           "lakecolor": "white",
           "landcolor": "#E5ECF6",
           "showlakes": true,
           "showland": true,
           "subunitcolor": "white"
          },
          "hoverlabel": {
           "align": "left"
          },
          "hovermode": "closest",
          "mapbox": {
           "style": "light"
          },
          "paper_bgcolor": "white",
          "plot_bgcolor": "#E5ECF6",
          "polar": {
           "angularaxis": {
            "gridcolor": "white",
            "linecolor": "white",
            "ticks": ""
           },
           "bgcolor": "#E5ECF6",
           "radialaxis": {
            "gridcolor": "white",
            "linecolor": "white",
            "ticks": ""
           }
          },
          "scene": {
           "xaxis": {
            "backgroundcolor": "#E5ECF6",
            "gridcolor": "white",
            "gridwidth": 2,
            "linecolor": "white",
            "showbackground": true,
            "ticks": "",
            "zerolinecolor": "white"
           },
           "yaxis": {
            "backgroundcolor": "#E5ECF6",
            "gridcolor": "white",
            "gridwidth": 2,
            "linecolor": "white",
            "showbackground": true,
            "ticks": "",
            "zerolinecolor": "white"
           },
           "zaxis": {
            "backgroundcolor": "#E5ECF6",
            "gridcolor": "white",
            "gridwidth": 2,
            "linecolor": "white",
            "showbackground": true,
            "ticks": "",
            "zerolinecolor": "white"
           }
          },
          "shapedefaults": {
           "line": {
            "color": "#2a3f5f"
           }
          },
          "ternary": {
           "aaxis": {
            "gridcolor": "white",
            "linecolor": "white",
            "ticks": ""
           },
           "baxis": {
            "gridcolor": "white",
            "linecolor": "white",
            "ticks": ""
           },
           "bgcolor": "#E5ECF6",
           "caxis": {
            "gridcolor": "white",
            "linecolor": "white",
            "ticks": ""
           }
          },
          "title": {
           "x": 0.05
          },
          "xaxis": {
           "automargin": true,
           "gridcolor": "white",
           "linecolor": "white",
           "ticks": "",
           "title": {
            "standoff": 15
           },
           "zerolinecolor": "white",
           "zerolinewidth": 2
          },
          "yaxis": {
           "automargin": true,
           "gridcolor": "white",
           "linecolor": "white",
           "ticks": "",
           "title": {
            "standoff": 15
           },
           "zerolinecolor": "white",
           "zerolinewidth": 2
          }
         }
        },
        "title": {
         "text": "Potential Counties Impacted by SNAP New Rules"
        },
        "xaxis": {
         "anchor": "y",
         "domain": [
          0,
          1
         ],
         "title": {
          "text": "Counties"
         }
        },
        "yaxis": {
         "anchor": "x",
         "domain": [
          0,
          1
         ],
         "title": {
          "text": ""
         }
        }
       }
      },
      "text/html": [
       "<div>\n",
       "        \n",
       "        \n",
       "            <div id=\"abb8b2f8-be8f-47df-98a8-0260ede5332c\" class=\"plotly-graph-div\" style=\"height:600px; width:100%;\"></div>\n",
       "            <script type=\"text/javascript\">\n",
       "                require([\"plotly\"], function(Plotly) {\n",
       "                    window.PLOTLYENV=window.PLOTLYENV || {};\n",
       "                    \n",
       "                if (document.getElementById(\"abb8b2f8-be8f-47df-98a8-0260ede5332c\")) {\n",
       "                    Plotly.newPlot(\n",
       "                        'abb8b2f8-be8f-47df-98a8-0260ede5332c',\n",
       "                        [{\"alignmentgroup\": \"True\", \"hoverlabel\": {\"namelength\": 0}, \"hovertemplate\": \"Area=%{x}<br>UnemploymentRate=%{y}\", \"legendgroup\": \"\", \"marker\": {\"color\": \"#636efa\"}, \"name\": \"\", \"offsetgroup\": \"\", \"orientation\": \"v\", \"showlegend\": false, \"textposition\": \"auto\", \"type\": \"bar\", \"x\": [\"Allegany County\", \"Allegany County\", \"Allegany County\", \"Bronx County\", \"Bronx County\", \"Bronx County\", \"Cattaraugus County\", \"Cortland County\", \"Hamilton County\", \"Hamilton County\", \"Hamilton County\", \"Hamilton County\", \"Jefferson County\", \"Jefferson County\", \"Jefferson County\", \"Lewis County\", \"Lewis County\", \"Lewis County\", \"Oswego County\", \"Oswego County\", \"Schoharie County\", \"Schuyler County\", \"Schuyler County\", \"St. Lawrence County\", \"St. Lawrence County\", \"St. Lawrence County\"], \"xaxis\": \"x\", \"y\": [6.0, 6.3, 6.7, 6.1, 6.2, 6.6, 6.0, 6.2, 7.8, 7.5, 8.2, 8.4, 6.3, 6.6, 6.7, 7.2, 7.1, 7.0, 6.2, 6.5, 6.2, 6.1, 6.2, 6.1, 6.0, 6.3], \"yaxis\": \"y\"}],\n",
       "                        {\"barmode\": \"relative\", \"height\": 600, \"legend\": {\"tracegroupgap\": 0}, \"margin\": {\"t\": 60}, \"template\": {\"data\": {\"bar\": [{\"error_x\": {\"color\": \"#2a3f5f\"}, \"error_y\": {\"color\": \"#2a3f5f\"}, \"marker\": {\"line\": {\"color\": \"#E5ECF6\", \"width\": 0.5}}, \"type\": \"bar\"}], \"barpolar\": [{\"marker\": {\"line\": {\"color\": \"#E5ECF6\", \"width\": 0.5}}, \"type\": \"barpolar\"}], \"carpet\": [{\"aaxis\": {\"endlinecolor\": \"#2a3f5f\", \"gridcolor\": \"white\", \"linecolor\": \"white\", \"minorgridcolor\": \"white\", \"startlinecolor\": \"#2a3f5f\"}, \"baxis\": {\"endlinecolor\": \"#2a3f5f\", \"gridcolor\": \"white\", \"linecolor\": \"white\", \"minorgridcolor\": \"white\", \"startlinecolor\": \"#2a3f5f\"}, \"type\": \"carpet\"}], \"choropleth\": [{\"colorbar\": {\"outlinewidth\": 0, \"ticks\": \"\"}, \"type\": \"choropleth\"}], \"contour\": [{\"colorbar\": {\"outlinewidth\": 0, \"ticks\": \"\"}, \"colorscale\": [[0.0, \"#0d0887\"], [0.1111111111111111, \"#46039f\"], [0.2222222222222222, \"#7201a8\"], [0.3333333333333333, \"#9c179e\"], [0.4444444444444444, \"#bd3786\"], [0.5555555555555556, \"#d8576b\"], [0.6666666666666666, \"#ed7953\"], [0.7777777777777778, \"#fb9f3a\"], [0.8888888888888888, \"#fdca26\"], [1.0, \"#f0f921\"]], \"type\": \"contour\"}], \"contourcarpet\": [{\"colorbar\": {\"outlinewidth\": 0, \"ticks\": \"\"}, \"type\": \"contourcarpet\"}], \"heatmap\": [{\"colorbar\": {\"outlinewidth\": 0, \"ticks\": \"\"}, \"colorscale\": [[0.0, \"#0d0887\"], [0.1111111111111111, \"#46039f\"], [0.2222222222222222, \"#7201a8\"], [0.3333333333333333, \"#9c179e\"], [0.4444444444444444, \"#bd3786\"], [0.5555555555555556, \"#d8576b\"], [0.6666666666666666, \"#ed7953\"], [0.7777777777777778, \"#fb9f3a\"], [0.8888888888888888, \"#fdca26\"], [1.0, \"#f0f921\"]], \"type\": \"heatmap\"}], \"heatmapgl\": [{\"colorbar\": {\"outlinewidth\": 0, \"ticks\": \"\"}, \"colorscale\": [[0.0, \"#0d0887\"], [0.1111111111111111, \"#46039f\"], [0.2222222222222222, \"#7201a8\"], [0.3333333333333333, \"#9c179e\"], [0.4444444444444444, \"#bd3786\"], [0.5555555555555556, \"#d8576b\"], [0.6666666666666666, \"#ed7953\"], [0.7777777777777778, \"#fb9f3a\"], [0.8888888888888888, \"#fdca26\"], [1.0, \"#f0f921\"]], \"type\": \"heatmapgl\"}], \"histogram\": [{\"marker\": {\"colorbar\": {\"outlinewidth\": 0, \"ticks\": \"\"}}, \"type\": \"histogram\"}], \"histogram2d\": [{\"colorbar\": {\"outlinewidth\": 0, \"ticks\": \"\"}, \"colorscale\": [[0.0, \"#0d0887\"], [0.1111111111111111, \"#46039f\"], [0.2222222222222222, \"#7201a8\"], [0.3333333333333333, \"#9c179e\"], [0.4444444444444444, \"#bd3786\"], [0.5555555555555556, \"#d8576b\"], [0.6666666666666666, \"#ed7953\"], [0.7777777777777778, \"#fb9f3a\"], [0.8888888888888888, \"#fdca26\"], [1.0, \"#f0f921\"]], \"type\": \"histogram2d\"}], \"histogram2dcontour\": [{\"colorbar\": {\"outlinewidth\": 0, \"ticks\": \"\"}, \"colorscale\": [[0.0, \"#0d0887\"], [0.1111111111111111, \"#46039f\"], [0.2222222222222222, \"#7201a8\"], [0.3333333333333333, \"#9c179e\"], [0.4444444444444444, \"#bd3786\"], [0.5555555555555556, \"#d8576b\"], [0.6666666666666666, \"#ed7953\"], [0.7777777777777778, \"#fb9f3a\"], [0.8888888888888888, \"#fdca26\"], [1.0, \"#f0f921\"]], \"type\": \"histogram2dcontour\"}], \"mesh3d\": [{\"colorbar\": {\"outlinewidth\": 0, \"ticks\": \"\"}, \"type\": \"mesh3d\"}], \"parcoords\": [{\"line\": {\"colorbar\": {\"outlinewidth\": 0, \"ticks\": \"\"}}, \"type\": \"parcoords\"}], \"pie\": [{\"automargin\": true, \"type\": \"pie\"}], \"scatter\": [{\"marker\": {\"colorbar\": {\"outlinewidth\": 0, \"ticks\": \"\"}}, \"type\": \"scatter\"}], \"scatter3d\": [{\"line\": {\"colorbar\": {\"outlinewidth\": 0, \"ticks\": \"\"}}, \"marker\": {\"colorbar\": {\"outlinewidth\": 0, \"ticks\": \"\"}}, \"type\": \"scatter3d\"}], \"scattercarpet\": [{\"marker\": {\"colorbar\": {\"outlinewidth\": 0, \"ticks\": \"\"}}, \"type\": \"scattercarpet\"}], \"scattergeo\": [{\"marker\": {\"colorbar\": {\"outlinewidth\": 0, \"ticks\": \"\"}}, \"type\": \"scattergeo\"}], \"scattergl\": [{\"marker\": {\"colorbar\": {\"outlinewidth\": 0, \"ticks\": \"\"}}, \"type\": \"scattergl\"}], \"scattermapbox\": [{\"marker\": {\"colorbar\": {\"outlinewidth\": 0, \"ticks\": \"\"}}, \"type\": \"scattermapbox\"}], \"scatterpolar\": [{\"marker\": {\"colorbar\": {\"outlinewidth\": 0, \"ticks\": \"\"}}, \"type\": \"scatterpolar\"}], \"scatterpolargl\": [{\"marker\": {\"colorbar\": {\"outlinewidth\": 0, \"ticks\": \"\"}}, \"type\": \"scatterpolargl\"}], \"scatterternary\": [{\"marker\": {\"colorbar\": {\"outlinewidth\": 0, \"ticks\": \"\"}}, \"type\": \"scatterternary\"}], \"surface\": [{\"colorbar\": {\"outlinewidth\": 0, \"ticks\": \"\"}, \"colorscale\": [[0.0, \"#0d0887\"], [0.1111111111111111, \"#46039f\"], [0.2222222222222222, \"#7201a8\"], [0.3333333333333333, \"#9c179e\"], [0.4444444444444444, \"#bd3786\"], [0.5555555555555556, \"#d8576b\"], [0.6666666666666666, \"#ed7953\"], [0.7777777777777778, \"#fb9f3a\"], [0.8888888888888888, \"#fdca26\"], [1.0, \"#f0f921\"]], \"type\": \"surface\"}], \"table\": [{\"cells\": {\"fill\": {\"color\": \"#EBF0F8\"}, \"line\": {\"color\": \"white\"}}, \"header\": {\"fill\": {\"color\": \"#C8D4E3\"}, \"line\": {\"color\": \"white\"}}, \"type\": \"table\"}]}, \"layout\": {\"annotationdefaults\": {\"arrowcolor\": \"#2a3f5f\", \"arrowhead\": 0, \"arrowwidth\": 1}, \"coloraxis\": {\"colorbar\": {\"outlinewidth\": 0, \"ticks\": \"\"}}, \"colorscale\": {\"diverging\": [[0, \"#8e0152\"], [0.1, \"#c51b7d\"], [0.2, \"#de77ae\"], [0.3, \"#f1b6da\"], [0.4, \"#fde0ef\"], [0.5, \"#f7f7f7\"], [0.6, \"#e6f5d0\"], [0.7, \"#b8e186\"], [0.8, \"#7fbc41\"], [0.9, \"#4d9221\"], [1, \"#276419\"]], \"sequential\": [[0.0, \"#0d0887\"], [0.1111111111111111, \"#46039f\"], [0.2222222222222222, \"#7201a8\"], [0.3333333333333333, \"#9c179e\"], [0.4444444444444444, \"#bd3786\"], [0.5555555555555556, \"#d8576b\"], [0.6666666666666666, \"#ed7953\"], [0.7777777777777778, \"#fb9f3a\"], [0.8888888888888888, \"#fdca26\"], [1.0, \"#f0f921\"]], \"sequentialminus\": [[0.0, \"#0d0887\"], [0.1111111111111111, \"#46039f\"], [0.2222222222222222, \"#7201a8\"], [0.3333333333333333, \"#9c179e\"], [0.4444444444444444, \"#bd3786\"], [0.5555555555555556, \"#d8576b\"], [0.6666666666666666, \"#ed7953\"], [0.7777777777777778, \"#fb9f3a\"], [0.8888888888888888, \"#fdca26\"], [1.0, \"#f0f921\"]]}, \"colorway\": [\"#636efa\", \"#EF553B\", \"#00cc96\", \"#ab63fa\", \"#FFA15A\", \"#19d3f3\", \"#FF6692\", \"#B6E880\", \"#FF97FF\", \"#FECB52\"], \"font\": {\"color\": \"#2a3f5f\"}, \"geo\": {\"bgcolor\": \"white\", \"lakecolor\": \"white\", \"landcolor\": \"#E5ECF6\", \"showlakes\": true, \"showland\": true, \"subunitcolor\": \"white\"}, \"hoverlabel\": {\"align\": \"left\"}, \"hovermode\": \"closest\", \"mapbox\": {\"style\": \"light\"}, \"paper_bgcolor\": \"white\", \"plot_bgcolor\": \"#E5ECF6\", \"polar\": {\"angularaxis\": {\"gridcolor\": \"white\", \"linecolor\": \"white\", \"ticks\": \"\"}, \"bgcolor\": \"#E5ECF6\", \"radialaxis\": {\"gridcolor\": \"white\", \"linecolor\": \"white\", \"ticks\": \"\"}}, \"scene\": {\"xaxis\": {\"backgroundcolor\": \"#E5ECF6\", \"gridcolor\": \"white\", \"gridwidth\": 2, \"linecolor\": \"white\", \"showbackground\": true, \"ticks\": \"\", \"zerolinecolor\": \"white\"}, \"yaxis\": {\"backgroundcolor\": \"#E5ECF6\", \"gridcolor\": \"white\", \"gridwidth\": 2, \"linecolor\": \"white\", \"showbackground\": true, \"ticks\": \"\", \"zerolinecolor\": \"white\"}, \"zaxis\": {\"backgroundcolor\": \"#E5ECF6\", \"gridcolor\": \"white\", \"gridwidth\": 2, \"linecolor\": \"white\", \"showbackground\": true, \"ticks\": \"\", \"zerolinecolor\": \"white\"}}, \"shapedefaults\": {\"line\": {\"color\": \"#2a3f5f\"}}, \"ternary\": {\"aaxis\": {\"gridcolor\": \"white\", \"linecolor\": \"white\", \"ticks\": \"\"}, \"baxis\": {\"gridcolor\": \"white\", \"linecolor\": \"white\", \"ticks\": \"\"}, \"bgcolor\": \"#E5ECF6\", \"caxis\": {\"gridcolor\": \"white\", \"linecolor\": \"white\", \"ticks\": \"\"}}, \"title\": {\"x\": 0.05}, \"xaxis\": {\"automargin\": true, \"gridcolor\": \"white\", \"linecolor\": \"white\", \"ticks\": \"\", \"title\": {\"standoff\": 15}, \"zerolinecolor\": \"white\", \"zerolinewidth\": 2}, \"yaxis\": {\"automargin\": true, \"gridcolor\": \"white\", \"linecolor\": \"white\", \"ticks\": \"\", \"title\": {\"standoff\": 15}, \"zerolinecolor\": \"white\", \"zerolinewidth\": 2}}}, \"title\": {\"text\": \"Potential Counties Impacted by SNAP New Rules\"}, \"xaxis\": {\"anchor\": \"y\", \"domain\": [0.0, 1.0], \"title\": {\"text\": \"Counties\"}}, \"yaxis\": {\"anchor\": \"x\", \"domain\": [0.0, 1.0], \"title\": {\"text\": \"\"}}},\n",
       "                        {\"responsive\": true}\n",
       "                    ).then(function(){\n",
       "                            \n",
       "var gd = document.getElementById('abb8b2f8-be8f-47df-98a8-0260ede5332c');\n",
       "var x = new MutationObserver(function (mutations, observer) {{\n",
       "        var display = window.getComputedStyle(gd).display;\n",
       "        if (!display || display === 'none') {{\n",
       "            console.log([gd, 'removed!']);\n",
       "            Plotly.purge(gd);\n",
       "            observer.disconnect();\n",
       "        }}\n",
       "}});\n",
       "\n",
       "// Listen for the removal of the full notebook cells\n",
       "var notebookContainer = gd.closest('#notebook-container');\n",
       "if (notebookContainer) {{\n",
       "    x.observe(notebookContainer, {childList: true});\n",
       "}}\n",
       "\n",
       "// Listen for the clearing of the current output cell\n",
       "var outputEl = gd.closest('.output');\n",
       "if (outputEl) {{\n",
       "    x.observe(outputEl, {childList: true});\n",
       "}}\n",
       "\n",
       "                        })\n",
       "                };\n",
       "                });\n",
       "            </script>\n",
       "        </div>"
      ]
     },
     "metadata": {},
     "output_type": "display_data"
    }
   ],
   "source": [
    "fig = px.bar(UNEMPLOYMENT3, x='Area', y='UnemploymentRate')\n",
    "fig.update_layout(title_text='Potential Counties Impacted by SNAP New Rules',\n",
    "                   yaxis_title=\"\", xaxis_title=\"Counties\")\n",
    "\n",
    "fig.show()"
   ]
  },
  {
   "cell_type": "code",
   "execution_count": 28,
   "metadata": {},
   "outputs": [
    {
     "data": {
      "text/html": [
       "<div>\n",
       "<style scoped>\n",
       "    .dataframe tbody tr th:only-of-type {\n",
       "        vertical-align: middle;\n",
       "    }\n",
       "\n",
       "    .dataframe tbody tr th {\n",
       "        vertical-align: top;\n",
       "    }\n",
       "\n",
       "    .dataframe thead th {\n",
       "        text-align: right;\n",
       "    }\n",
       "</style>\n",
       "<table border=\"1\" class=\"dataframe\">\n",
       "  <thead>\n",
       "    <tr style=\"text-align: right;\">\n",
       "      <th></th>\n",
       "      <th>Area</th>\n",
       "      <th>UnemploymentRate</th>\n",
       "    </tr>\n",
       "  </thead>\n",
       "  <tbody>\n",
       "    <tr>\n",
       "      <td>0</td>\n",
       "      <td>Allegany County</td>\n",
       "      <td>6.333333</td>\n",
       "    </tr>\n",
       "    <tr>\n",
       "      <td>1</td>\n",
       "      <td>Bronx County</td>\n",
       "      <td>6.300000</td>\n",
       "    </tr>\n",
       "    <tr>\n",
       "      <td>2</td>\n",
       "      <td>Cattaraugus County</td>\n",
       "      <td>6.000000</td>\n",
       "    </tr>\n",
       "    <tr>\n",
       "      <td>3</td>\n",
       "      <td>Cortland County</td>\n",
       "      <td>6.200000</td>\n",
       "    </tr>\n",
       "    <tr>\n",
       "      <td>4</td>\n",
       "      <td>Hamilton County</td>\n",
       "      <td>7.975000</td>\n",
       "    </tr>\n",
       "    <tr>\n",
       "      <td>5</td>\n",
       "      <td>Jefferson County</td>\n",
       "      <td>6.533333</td>\n",
       "    </tr>\n",
       "    <tr>\n",
       "      <td>6</td>\n",
       "      <td>Lewis County</td>\n",
       "      <td>7.100000</td>\n",
       "    </tr>\n",
       "    <tr>\n",
       "      <td>7</td>\n",
       "      <td>Oswego County</td>\n",
       "      <td>6.350000</td>\n",
       "    </tr>\n",
       "    <tr>\n",
       "      <td>8</td>\n",
       "      <td>Schoharie County</td>\n",
       "      <td>6.200000</td>\n",
       "    </tr>\n",
       "    <tr>\n",
       "      <td>9</td>\n",
       "      <td>Schuyler County</td>\n",
       "      <td>6.150000</td>\n",
       "    </tr>\n",
       "    <tr>\n",
       "      <td>10</td>\n",
       "      <td>St. Lawrence County</td>\n",
       "      <td>6.133333</td>\n",
       "    </tr>\n",
       "  </tbody>\n",
       "</table>\n",
       "</div>"
      ],
      "text/plain": [
       "                   Area  UnemploymentRate\n",
       "0       Allegany County          6.333333\n",
       "1          Bronx County          6.300000\n",
       "2    Cattaraugus County          6.000000\n",
       "3       Cortland County          6.200000\n",
       "4       Hamilton County          7.975000\n",
       "5      Jefferson County          6.533333\n",
       "6          Lewis County          7.100000\n",
       "7         Oswego County          6.350000\n",
       "8      Schoharie County          6.200000\n",
       "9       Schuyler County          6.150000\n",
       "10  St. Lawrence County          6.133333"
      ]
     },
     "execution_count": 28,
     "metadata": {},
     "output_type": "execute_result"
    }
   ],
   "source": [
    "UNEMPLOYMENT_Impact = UNEMPLOYMENT3.groupby([\"Area\"]).UnemploymentRate.mean().to_frame()\n",
    "UNEMPLOYMENT_Impact = UNEMPLOYMENT_Impact.reset_index()\n",
    "UNEMPLOYMENT_Impact\n",
    "#average of areas with a unemployment rate of => 6.0"
   ]
  },
  {
   "cell_type": "code",
   "execution_count": 29,
   "metadata": {},
   "outputs": [
    {
     "data": {
      "application/vnd.plotly.v1+json": {
       "config": {
        "plotlyServerURL": "https://plot.ly"
       },
       "data": [
        {
         "hoverlabel": {
          "namelength": 0
         },
         "hovertemplate": "UnemploymentRate=%{x}<br>Area=%{y}",
         "legendgroup": "",
         "marker": {
          "color": "#636efa",
          "symbol": "circle"
         },
         "mode": "markers",
         "name": "",
         "showlegend": false,
         "type": "scatter",
         "x": [
          6.333333333333333,
          6.3,
          6,
          6.2,
          7.975,
          6.533333333333332,
          7.1000000000000005,
          6.35,
          6.2,
          6.15,
          6.133333333333333
         ],
         "xaxis": "x",
         "y": [
          "Allegany County",
          "Bronx County",
          "Cattaraugus County",
          "Cortland County",
          "Hamilton County",
          "Jefferson County",
          "Lewis County",
          "Oswego County",
          "Schoharie County",
          "Schuyler County",
          "St. Lawrence County"
         ],
         "yaxis": "y"
        }
       ],
       "layout": {
        "height": 600,
        "legend": {
         "tracegroupgap": 0
        },
        "template": {
         "data": {
          "bar": [
           {
            "error_x": {
             "color": "#2a3f5f"
            },
            "error_y": {
             "color": "#2a3f5f"
            },
            "marker": {
             "line": {
              "color": "#E5ECF6",
              "width": 0.5
             }
            },
            "type": "bar"
           }
          ],
          "barpolar": [
           {
            "marker": {
             "line": {
              "color": "#E5ECF6",
              "width": 0.5
             }
            },
            "type": "barpolar"
           }
          ],
          "carpet": [
           {
            "aaxis": {
             "endlinecolor": "#2a3f5f",
             "gridcolor": "white",
             "linecolor": "white",
             "minorgridcolor": "white",
             "startlinecolor": "#2a3f5f"
            },
            "baxis": {
             "endlinecolor": "#2a3f5f",
             "gridcolor": "white",
             "linecolor": "white",
             "minorgridcolor": "white",
             "startlinecolor": "#2a3f5f"
            },
            "type": "carpet"
           }
          ],
          "choropleth": [
           {
            "colorbar": {
             "outlinewidth": 0,
             "ticks": ""
            },
            "type": "choropleth"
           }
          ],
          "contour": [
           {
            "colorbar": {
             "outlinewidth": 0,
             "ticks": ""
            },
            "colorscale": [
             [
              0,
              "#0d0887"
             ],
             [
              0.1111111111111111,
              "#46039f"
             ],
             [
              0.2222222222222222,
              "#7201a8"
             ],
             [
              0.3333333333333333,
              "#9c179e"
             ],
             [
              0.4444444444444444,
              "#bd3786"
             ],
             [
              0.5555555555555556,
              "#d8576b"
             ],
             [
              0.6666666666666666,
              "#ed7953"
             ],
             [
              0.7777777777777778,
              "#fb9f3a"
             ],
             [
              0.8888888888888888,
              "#fdca26"
             ],
             [
              1,
              "#f0f921"
             ]
            ],
            "type": "contour"
           }
          ],
          "contourcarpet": [
           {
            "colorbar": {
             "outlinewidth": 0,
             "ticks": ""
            },
            "type": "contourcarpet"
           }
          ],
          "heatmap": [
           {
            "colorbar": {
             "outlinewidth": 0,
             "ticks": ""
            },
            "colorscale": [
             [
              0,
              "#0d0887"
             ],
             [
              0.1111111111111111,
              "#46039f"
             ],
             [
              0.2222222222222222,
              "#7201a8"
             ],
             [
              0.3333333333333333,
              "#9c179e"
             ],
             [
              0.4444444444444444,
              "#bd3786"
             ],
             [
              0.5555555555555556,
              "#d8576b"
             ],
             [
              0.6666666666666666,
              "#ed7953"
             ],
             [
              0.7777777777777778,
              "#fb9f3a"
             ],
             [
              0.8888888888888888,
              "#fdca26"
             ],
             [
              1,
              "#f0f921"
             ]
            ],
            "type": "heatmap"
           }
          ],
          "heatmapgl": [
           {
            "colorbar": {
             "outlinewidth": 0,
             "ticks": ""
            },
            "colorscale": [
             [
              0,
              "#0d0887"
             ],
             [
              0.1111111111111111,
              "#46039f"
             ],
             [
              0.2222222222222222,
              "#7201a8"
             ],
             [
              0.3333333333333333,
              "#9c179e"
             ],
             [
              0.4444444444444444,
              "#bd3786"
             ],
             [
              0.5555555555555556,
              "#d8576b"
             ],
             [
              0.6666666666666666,
              "#ed7953"
             ],
             [
              0.7777777777777778,
              "#fb9f3a"
             ],
             [
              0.8888888888888888,
              "#fdca26"
             ],
             [
              1,
              "#f0f921"
             ]
            ],
            "type": "heatmapgl"
           }
          ],
          "histogram": [
           {
            "marker": {
             "colorbar": {
              "outlinewidth": 0,
              "ticks": ""
             }
            },
            "type": "histogram"
           }
          ],
          "histogram2d": [
           {
            "colorbar": {
             "outlinewidth": 0,
             "ticks": ""
            },
            "colorscale": [
             [
              0,
              "#0d0887"
             ],
             [
              0.1111111111111111,
              "#46039f"
             ],
             [
              0.2222222222222222,
              "#7201a8"
             ],
             [
              0.3333333333333333,
              "#9c179e"
             ],
             [
              0.4444444444444444,
              "#bd3786"
             ],
             [
              0.5555555555555556,
              "#d8576b"
             ],
             [
              0.6666666666666666,
              "#ed7953"
             ],
             [
              0.7777777777777778,
              "#fb9f3a"
             ],
             [
              0.8888888888888888,
              "#fdca26"
             ],
             [
              1,
              "#f0f921"
             ]
            ],
            "type": "histogram2d"
           }
          ],
          "histogram2dcontour": [
           {
            "colorbar": {
             "outlinewidth": 0,
             "ticks": ""
            },
            "colorscale": [
             [
              0,
              "#0d0887"
             ],
             [
              0.1111111111111111,
              "#46039f"
             ],
             [
              0.2222222222222222,
              "#7201a8"
             ],
             [
              0.3333333333333333,
              "#9c179e"
             ],
             [
              0.4444444444444444,
              "#bd3786"
             ],
             [
              0.5555555555555556,
              "#d8576b"
             ],
             [
              0.6666666666666666,
              "#ed7953"
             ],
             [
              0.7777777777777778,
              "#fb9f3a"
             ],
             [
              0.8888888888888888,
              "#fdca26"
             ],
             [
              1,
              "#f0f921"
             ]
            ],
            "type": "histogram2dcontour"
           }
          ],
          "mesh3d": [
           {
            "colorbar": {
             "outlinewidth": 0,
             "ticks": ""
            },
            "type": "mesh3d"
           }
          ],
          "parcoords": [
           {
            "line": {
             "colorbar": {
              "outlinewidth": 0,
              "ticks": ""
             }
            },
            "type": "parcoords"
           }
          ],
          "pie": [
           {
            "automargin": true,
            "type": "pie"
           }
          ],
          "scatter": [
           {
            "marker": {
             "colorbar": {
              "outlinewidth": 0,
              "ticks": ""
             }
            },
            "type": "scatter"
           }
          ],
          "scatter3d": [
           {
            "line": {
             "colorbar": {
              "outlinewidth": 0,
              "ticks": ""
             }
            },
            "marker": {
             "colorbar": {
              "outlinewidth": 0,
              "ticks": ""
             }
            },
            "type": "scatter3d"
           }
          ],
          "scattercarpet": [
           {
            "marker": {
             "colorbar": {
              "outlinewidth": 0,
              "ticks": ""
             }
            },
            "type": "scattercarpet"
           }
          ],
          "scattergeo": [
           {
            "marker": {
             "colorbar": {
              "outlinewidth": 0,
              "ticks": ""
             }
            },
            "type": "scattergeo"
           }
          ],
          "scattergl": [
           {
            "marker": {
             "colorbar": {
              "outlinewidth": 0,
              "ticks": ""
             }
            },
            "type": "scattergl"
           }
          ],
          "scattermapbox": [
           {
            "marker": {
             "colorbar": {
              "outlinewidth": 0,
              "ticks": ""
             }
            },
            "type": "scattermapbox"
           }
          ],
          "scatterpolar": [
           {
            "marker": {
             "colorbar": {
              "outlinewidth": 0,
              "ticks": ""
             }
            },
            "type": "scatterpolar"
           }
          ],
          "scatterpolargl": [
           {
            "marker": {
             "colorbar": {
              "outlinewidth": 0,
              "ticks": ""
             }
            },
            "type": "scatterpolargl"
           }
          ],
          "scatterternary": [
           {
            "marker": {
             "colorbar": {
              "outlinewidth": 0,
              "ticks": ""
             }
            },
            "type": "scatterternary"
           }
          ],
          "surface": [
           {
            "colorbar": {
             "outlinewidth": 0,
             "ticks": ""
            },
            "colorscale": [
             [
              0,
              "#0d0887"
             ],
             [
              0.1111111111111111,
              "#46039f"
             ],
             [
              0.2222222222222222,
              "#7201a8"
             ],
             [
              0.3333333333333333,
              "#9c179e"
             ],
             [
              0.4444444444444444,
              "#bd3786"
             ],
             [
              0.5555555555555556,
              "#d8576b"
             ],
             [
              0.6666666666666666,
              "#ed7953"
             ],
             [
              0.7777777777777778,
              "#fb9f3a"
             ],
             [
              0.8888888888888888,
              "#fdca26"
             ],
             [
              1,
              "#f0f921"
             ]
            ],
            "type": "surface"
           }
          ],
          "table": [
           {
            "cells": {
             "fill": {
              "color": "#EBF0F8"
             },
             "line": {
              "color": "white"
             }
            },
            "header": {
             "fill": {
              "color": "#C8D4E3"
             },
             "line": {
              "color": "white"
             }
            },
            "type": "table"
           }
          ]
         },
         "layout": {
          "annotationdefaults": {
           "arrowcolor": "#2a3f5f",
           "arrowhead": 0,
           "arrowwidth": 1
          },
          "coloraxis": {
           "colorbar": {
            "outlinewidth": 0,
            "ticks": ""
           }
          },
          "colorscale": {
           "diverging": [
            [
             0,
             "#8e0152"
            ],
            [
             0.1,
             "#c51b7d"
            ],
            [
             0.2,
             "#de77ae"
            ],
            [
             0.3,
             "#f1b6da"
            ],
            [
             0.4,
             "#fde0ef"
            ],
            [
             0.5,
             "#f7f7f7"
            ],
            [
             0.6,
             "#e6f5d0"
            ],
            [
             0.7,
             "#b8e186"
            ],
            [
             0.8,
             "#7fbc41"
            ],
            [
             0.9,
             "#4d9221"
            ],
            [
             1,
             "#276419"
            ]
           ],
           "sequential": [
            [
             0,
             "#0d0887"
            ],
            [
             0.1111111111111111,
             "#46039f"
            ],
            [
             0.2222222222222222,
             "#7201a8"
            ],
            [
             0.3333333333333333,
             "#9c179e"
            ],
            [
             0.4444444444444444,
             "#bd3786"
            ],
            [
             0.5555555555555556,
             "#d8576b"
            ],
            [
             0.6666666666666666,
             "#ed7953"
            ],
            [
             0.7777777777777778,
             "#fb9f3a"
            ],
            [
             0.8888888888888888,
             "#fdca26"
            ],
            [
             1,
             "#f0f921"
            ]
           ],
           "sequentialminus": [
            [
             0,
             "#0d0887"
            ],
            [
             0.1111111111111111,
             "#46039f"
            ],
            [
             0.2222222222222222,
             "#7201a8"
            ],
            [
             0.3333333333333333,
             "#9c179e"
            ],
            [
             0.4444444444444444,
             "#bd3786"
            ],
            [
             0.5555555555555556,
             "#d8576b"
            ],
            [
             0.6666666666666666,
             "#ed7953"
            ],
            [
             0.7777777777777778,
             "#fb9f3a"
            ],
            [
             0.8888888888888888,
             "#fdca26"
            ],
            [
             1,
             "#f0f921"
            ]
           ]
          },
          "colorway": [
           "#636efa",
           "#EF553B",
           "#00cc96",
           "#ab63fa",
           "#FFA15A",
           "#19d3f3",
           "#FF6692",
           "#B6E880",
           "#FF97FF",
           "#FECB52"
          ],
          "font": {
           "color": "#2a3f5f"
          },
          "geo": {
           "bgcolor": "white",
           "lakecolor": "white",
           "landcolor": "#E5ECF6",
           "showlakes": true,
           "showland": true,
           "subunitcolor": "white"
          },
          "hoverlabel": {
           "align": "left"
          },
          "hovermode": "closest",
          "mapbox": {
           "style": "light"
          },
          "paper_bgcolor": "white",
          "plot_bgcolor": "#E5ECF6",
          "polar": {
           "angularaxis": {
            "gridcolor": "white",
            "linecolor": "white",
            "ticks": ""
           },
           "bgcolor": "#E5ECF6",
           "radialaxis": {
            "gridcolor": "white",
            "linecolor": "white",
            "ticks": ""
           }
          },
          "scene": {
           "xaxis": {
            "backgroundcolor": "#E5ECF6",
            "gridcolor": "white",
            "gridwidth": 2,
            "linecolor": "white",
            "showbackground": true,
            "ticks": "",
            "zerolinecolor": "white"
           },
           "yaxis": {
            "backgroundcolor": "#E5ECF6",
            "gridcolor": "white",
            "gridwidth": 2,
            "linecolor": "white",
            "showbackground": true,
            "ticks": "",
            "zerolinecolor": "white"
           },
           "zaxis": {
            "backgroundcolor": "#E5ECF6",
            "gridcolor": "white",
            "gridwidth": 2,
            "linecolor": "white",
            "showbackground": true,
            "ticks": "",
            "zerolinecolor": "white"
           }
          },
          "shapedefaults": {
           "line": {
            "color": "#2a3f5f"
           }
          },
          "ternary": {
           "aaxis": {
            "gridcolor": "white",
            "linecolor": "white",
            "ticks": ""
           },
           "baxis": {
            "gridcolor": "white",
            "linecolor": "white",
            "ticks": ""
           },
           "bgcolor": "#E5ECF6",
           "caxis": {
            "gridcolor": "white",
            "linecolor": "white",
            "ticks": ""
           }
          },
          "title": {
           "x": 0.05
          },
          "xaxis": {
           "automargin": true,
           "gridcolor": "white",
           "linecolor": "white",
           "ticks": "",
           "title": {
            "standoff": 15
           },
           "zerolinecolor": "white",
           "zerolinewidth": 2
          },
          "yaxis": {
           "automargin": true,
           "gridcolor": "white",
           "linecolor": "white",
           "ticks": "",
           "title": {
            "standoff": 15
           },
           "zerolinecolor": "white",
           "zerolinewidth": 2
          }
         }
        },
        "title": {
         "text": "Potential Counties Impacted by SNAP New Rules"
        },
        "xaxis": {
         "anchor": "y",
         "domain": [
          0,
          1
         ],
         "title": {
          "text": "UnemploymentRate"
         }
        },
        "yaxis": {
         "anchor": "x",
         "domain": [
          0,
          1
         ],
         "title": {
          "text": "Area"
         }
        }
       }
      },
      "text/html": [
       "<div>\n",
       "        \n",
       "        \n",
       "            <div id=\"450aa018-3352-4ddb-a80d-2e4cc677df18\" class=\"plotly-graph-div\" style=\"height:600px; width:100%;\"></div>\n",
       "            <script type=\"text/javascript\">\n",
       "                require([\"plotly\"], function(Plotly) {\n",
       "                    window.PLOTLYENV=window.PLOTLYENV || {};\n",
       "                    \n",
       "                if (document.getElementById(\"450aa018-3352-4ddb-a80d-2e4cc677df18\")) {\n",
       "                    Plotly.newPlot(\n",
       "                        '450aa018-3352-4ddb-a80d-2e4cc677df18',\n",
       "                        [{\"hoverlabel\": {\"namelength\": 0}, \"hovertemplate\": \"UnemploymentRate=%{x}<br>Area=%{y}\", \"legendgroup\": \"\", \"marker\": {\"color\": \"#636efa\", \"symbol\": \"circle\"}, \"mode\": \"markers\", \"name\": \"\", \"showlegend\": false, \"type\": \"scatter\", \"x\": [6.333333333333333, 6.3, 6.0, 6.2, 7.975, 6.533333333333332, 7.1000000000000005, 6.35, 6.2, 6.15, 6.133333333333333], \"xaxis\": \"x\", \"y\": [\"Allegany County\", \"Bronx County\", \"Cattaraugus County\", \"Cortland County\", \"Hamilton County\", \"Jefferson County\", \"Lewis County\", \"Oswego County\", \"Schoharie County\", \"Schuyler County\", \"St. Lawrence County\"], \"yaxis\": \"y\"}],\n",
       "                        {\"height\": 600, \"legend\": {\"tracegroupgap\": 0}, \"template\": {\"data\": {\"bar\": [{\"error_x\": {\"color\": \"#2a3f5f\"}, \"error_y\": {\"color\": \"#2a3f5f\"}, \"marker\": {\"line\": {\"color\": \"#E5ECF6\", \"width\": 0.5}}, \"type\": \"bar\"}], \"barpolar\": [{\"marker\": {\"line\": {\"color\": \"#E5ECF6\", \"width\": 0.5}}, \"type\": \"barpolar\"}], \"carpet\": [{\"aaxis\": {\"endlinecolor\": \"#2a3f5f\", \"gridcolor\": \"white\", \"linecolor\": \"white\", \"minorgridcolor\": \"white\", \"startlinecolor\": \"#2a3f5f\"}, \"baxis\": {\"endlinecolor\": \"#2a3f5f\", \"gridcolor\": \"white\", \"linecolor\": \"white\", \"minorgridcolor\": \"white\", \"startlinecolor\": \"#2a3f5f\"}, \"type\": \"carpet\"}], \"choropleth\": [{\"colorbar\": {\"outlinewidth\": 0, \"ticks\": \"\"}, \"type\": \"choropleth\"}], \"contour\": [{\"colorbar\": {\"outlinewidth\": 0, \"ticks\": \"\"}, \"colorscale\": [[0.0, \"#0d0887\"], [0.1111111111111111, \"#46039f\"], [0.2222222222222222, \"#7201a8\"], [0.3333333333333333, \"#9c179e\"], [0.4444444444444444, \"#bd3786\"], [0.5555555555555556, \"#d8576b\"], [0.6666666666666666, \"#ed7953\"], [0.7777777777777778, \"#fb9f3a\"], [0.8888888888888888, \"#fdca26\"], [1.0, \"#f0f921\"]], \"type\": \"contour\"}], \"contourcarpet\": [{\"colorbar\": {\"outlinewidth\": 0, \"ticks\": \"\"}, \"type\": \"contourcarpet\"}], \"heatmap\": [{\"colorbar\": {\"outlinewidth\": 0, \"ticks\": \"\"}, \"colorscale\": [[0.0, \"#0d0887\"], [0.1111111111111111, \"#46039f\"], [0.2222222222222222, \"#7201a8\"], [0.3333333333333333, \"#9c179e\"], [0.4444444444444444, \"#bd3786\"], [0.5555555555555556, \"#d8576b\"], [0.6666666666666666, \"#ed7953\"], [0.7777777777777778, \"#fb9f3a\"], [0.8888888888888888, \"#fdca26\"], [1.0, \"#f0f921\"]], \"type\": \"heatmap\"}], \"heatmapgl\": [{\"colorbar\": {\"outlinewidth\": 0, \"ticks\": \"\"}, \"colorscale\": [[0.0, \"#0d0887\"], [0.1111111111111111, \"#46039f\"], [0.2222222222222222, \"#7201a8\"], [0.3333333333333333, \"#9c179e\"], [0.4444444444444444, \"#bd3786\"], [0.5555555555555556, \"#d8576b\"], [0.6666666666666666, \"#ed7953\"], [0.7777777777777778, \"#fb9f3a\"], [0.8888888888888888, \"#fdca26\"], [1.0, \"#f0f921\"]], \"type\": \"heatmapgl\"}], \"histogram\": [{\"marker\": {\"colorbar\": {\"outlinewidth\": 0, \"ticks\": \"\"}}, \"type\": \"histogram\"}], \"histogram2d\": [{\"colorbar\": {\"outlinewidth\": 0, \"ticks\": \"\"}, \"colorscale\": [[0.0, \"#0d0887\"], [0.1111111111111111, \"#46039f\"], [0.2222222222222222, \"#7201a8\"], [0.3333333333333333, \"#9c179e\"], [0.4444444444444444, \"#bd3786\"], [0.5555555555555556, \"#d8576b\"], [0.6666666666666666, \"#ed7953\"], [0.7777777777777778, \"#fb9f3a\"], [0.8888888888888888, \"#fdca26\"], [1.0, \"#f0f921\"]], \"type\": \"histogram2d\"}], \"histogram2dcontour\": [{\"colorbar\": {\"outlinewidth\": 0, \"ticks\": \"\"}, \"colorscale\": [[0.0, \"#0d0887\"], [0.1111111111111111, \"#46039f\"], [0.2222222222222222, \"#7201a8\"], [0.3333333333333333, \"#9c179e\"], [0.4444444444444444, \"#bd3786\"], [0.5555555555555556, \"#d8576b\"], [0.6666666666666666, \"#ed7953\"], [0.7777777777777778, \"#fb9f3a\"], [0.8888888888888888, \"#fdca26\"], [1.0, \"#f0f921\"]], \"type\": \"histogram2dcontour\"}], \"mesh3d\": [{\"colorbar\": {\"outlinewidth\": 0, \"ticks\": \"\"}, \"type\": \"mesh3d\"}], \"parcoords\": [{\"line\": {\"colorbar\": {\"outlinewidth\": 0, \"ticks\": \"\"}}, \"type\": \"parcoords\"}], \"pie\": [{\"automargin\": true, \"type\": \"pie\"}], \"scatter\": [{\"marker\": {\"colorbar\": {\"outlinewidth\": 0, \"ticks\": \"\"}}, \"type\": \"scatter\"}], \"scatter3d\": [{\"line\": {\"colorbar\": {\"outlinewidth\": 0, \"ticks\": \"\"}}, \"marker\": {\"colorbar\": {\"outlinewidth\": 0, \"ticks\": \"\"}}, \"type\": \"scatter3d\"}], \"scattercarpet\": [{\"marker\": {\"colorbar\": {\"outlinewidth\": 0, \"ticks\": \"\"}}, \"type\": \"scattercarpet\"}], \"scattergeo\": [{\"marker\": {\"colorbar\": {\"outlinewidth\": 0, \"ticks\": \"\"}}, \"type\": \"scattergeo\"}], \"scattergl\": [{\"marker\": {\"colorbar\": {\"outlinewidth\": 0, \"ticks\": \"\"}}, \"type\": \"scattergl\"}], \"scattermapbox\": [{\"marker\": {\"colorbar\": {\"outlinewidth\": 0, \"ticks\": \"\"}}, \"type\": \"scattermapbox\"}], \"scatterpolar\": [{\"marker\": {\"colorbar\": {\"outlinewidth\": 0, \"ticks\": \"\"}}, \"type\": \"scatterpolar\"}], \"scatterpolargl\": [{\"marker\": {\"colorbar\": {\"outlinewidth\": 0, \"ticks\": \"\"}}, \"type\": \"scatterpolargl\"}], \"scatterternary\": [{\"marker\": {\"colorbar\": {\"outlinewidth\": 0, \"ticks\": \"\"}}, \"type\": \"scatterternary\"}], \"surface\": [{\"colorbar\": {\"outlinewidth\": 0, \"ticks\": \"\"}, \"colorscale\": [[0.0, \"#0d0887\"], [0.1111111111111111, \"#46039f\"], [0.2222222222222222, \"#7201a8\"], [0.3333333333333333, \"#9c179e\"], [0.4444444444444444, \"#bd3786\"], [0.5555555555555556, \"#d8576b\"], [0.6666666666666666, \"#ed7953\"], [0.7777777777777778, \"#fb9f3a\"], [0.8888888888888888, \"#fdca26\"], [1.0, \"#f0f921\"]], \"type\": \"surface\"}], \"table\": [{\"cells\": {\"fill\": {\"color\": \"#EBF0F8\"}, \"line\": {\"color\": \"white\"}}, \"header\": {\"fill\": {\"color\": \"#C8D4E3\"}, \"line\": {\"color\": \"white\"}}, \"type\": \"table\"}]}, \"layout\": {\"annotationdefaults\": {\"arrowcolor\": \"#2a3f5f\", \"arrowhead\": 0, \"arrowwidth\": 1}, \"coloraxis\": {\"colorbar\": {\"outlinewidth\": 0, \"ticks\": \"\"}}, \"colorscale\": {\"diverging\": [[0, \"#8e0152\"], [0.1, \"#c51b7d\"], [0.2, \"#de77ae\"], [0.3, \"#f1b6da\"], [0.4, \"#fde0ef\"], [0.5, \"#f7f7f7\"], [0.6, \"#e6f5d0\"], [0.7, \"#b8e186\"], [0.8, \"#7fbc41\"], [0.9, \"#4d9221\"], [1, \"#276419\"]], \"sequential\": [[0.0, \"#0d0887\"], [0.1111111111111111, \"#46039f\"], [0.2222222222222222, \"#7201a8\"], [0.3333333333333333, \"#9c179e\"], [0.4444444444444444, \"#bd3786\"], [0.5555555555555556, \"#d8576b\"], [0.6666666666666666, \"#ed7953\"], [0.7777777777777778, \"#fb9f3a\"], [0.8888888888888888, \"#fdca26\"], [1.0, \"#f0f921\"]], \"sequentialminus\": [[0.0, \"#0d0887\"], [0.1111111111111111, \"#46039f\"], [0.2222222222222222, \"#7201a8\"], [0.3333333333333333, \"#9c179e\"], [0.4444444444444444, \"#bd3786\"], [0.5555555555555556, \"#d8576b\"], [0.6666666666666666, \"#ed7953\"], [0.7777777777777778, \"#fb9f3a\"], [0.8888888888888888, \"#fdca26\"], [1.0, \"#f0f921\"]]}, \"colorway\": [\"#636efa\", \"#EF553B\", \"#00cc96\", \"#ab63fa\", \"#FFA15A\", \"#19d3f3\", \"#FF6692\", \"#B6E880\", \"#FF97FF\", \"#FECB52\"], \"font\": {\"color\": \"#2a3f5f\"}, \"geo\": {\"bgcolor\": \"white\", \"lakecolor\": \"white\", \"landcolor\": \"#E5ECF6\", \"showlakes\": true, \"showland\": true, \"subunitcolor\": \"white\"}, \"hoverlabel\": {\"align\": \"left\"}, \"hovermode\": \"closest\", \"mapbox\": {\"style\": \"light\"}, \"paper_bgcolor\": \"white\", \"plot_bgcolor\": \"#E5ECF6\", \"polar\": {\"angularaxis\": {\"gridcolor\": \"white\", \"linecolor\": \"white\", \"ticks\": \"\"}, \"bgcolor\": \"#E5ECF6\", \"radialaxis\": {\"gridcolor\": \"white\", \"linecolor\": \"white\", \"ticks\": \"\"}}, \"scene\": {\"xaxis\": {\"backgroundcolor\": \"#E5ECF6\", \"gridcolor\": \"white\", \"gridwidth\": 2, \"linecolor\": \"white\", \"showbackground\": true, \"ticks\": \"\", \"zerolinecolor\": \"white\"}, \"yaxis\": {\"backgroundcolor\": \"#E5ECF6\", \"gridcolor\": \"white\", \"gridwidth\": 2, \"linecolor\": \"white\", \"showbackground\": true, \"ticks\": \"\", \"zerolinecolor\": \"white\"}, \"zaxis\": {\"backgroundcolor\": \"#E5ECF6\", \"gridcolor\": \"white\", \"gridwidth\": 2, \"linecolor\": \"white\", \"showbackground\": true, \"ticks\": \"\", \"zerolinecolor\": \"white\"}}, \"shapedefaults\": {\"line\": {\"color\": \"#2a3f5f\"}}, \"ternary\": {\"aaxis\": {\"gridcolor\": \"white\", \"linecolor\": \"white\", \"ticks\": \"\"}, \"baxis\": {\"gridcolor\": \"white\", \"linecolor\": \"white\", \"ticks\": \"\"}, \"bgcolor\": \"#E5ECF6\", \"caxis\": {\"gridcolor\": \"white\", \"linecolor\": \"white\", \"ticks\": \"\"}}, \"title\": {\"x\": 0.05}, \"xaxis\": {\"automargin\": true, \"gridcolor\": \"white\", \"linecolor\": \"white\", \"ticks\": \"\", \"title\": {\"standoff\": 15}, \"zerolinecolor\": \"white\", \"zerolinewidth\": 2}, \"yaxis\": {\"automargin\": true, \"gridcolor\": \"white\", \"linecolor\": \"white\", \"ticks\": \"\", \"title\": {\"standoff\": 15}, \"zerolinecolor\": \"white\", \"zerolinewidth\": 2}}}, \"title\": {\"text\": \"Potential Counties Impacted by SNAP New Rules\"}, \"xaxis\": {\"anchor\": \"y\", \"domain\": [0.0, 1.0], \"title\": {\"text\": \"UnemploymentRate\"}}, \"yaxis\": {\"anchor\": \"x\", \"domain\": [0.0, 1.0], \"title\": {\"text\": \"Area\"}}},\n",
       "                        {\"responsive\": true}\n",
       "                    ).then(function(){\n",
       "                            \n",
       "var gd = document.getElementById('450aa018-3352-4ddb-a80d-2e4cc677df18');\n",
       "var x = new MutationObserver(function (mutations, observer) {{\n",
       "        var display = window.getComputedStyle(gd).display;\n",
       "        if (!display || display === 'none') {{\n",
       "            console.log([gd, 'removed!']);\n",
       "            Plotly.purge(gd);\n",
       "            observer.disconnect();\n",
       "        }}\n",
       "}});\n",
       "\n",
       "// Listen for the removal of the full notebook cells\n",
       "var notebookContainer = gd.closest('#notebook-container');\n",
       "if (notebookContainer) {{\n",
       "    x.observe(notebookContainer, {childList: true});\n",
       "}}\n",
       "\n",
       "// Listen for the clearing of the current output cell\n",
       "var outputEl = gd.closest('.output');\n",
       "if (outputEl) {{\n",
       "    x.observe(outputEl, {childList: true});\n",
       "}}\n",
       "\n",
       "                        })\n",
       "                };\n",
       "                });\n",
       "            </script>\n",
       "        </div>"
      ]
     },
     "metadata": {},
     "output_type": "display_data"
    }
   ],
   "source": [
    "fig = px.scatter(UNEMPLOYMENT_Impact, x=\"UnemploymentRate\", y=\"Area\",\n",
    "                 title=\"Potential Counties Impacted by SNAP New Rules\"                )\n",
    "\n",
    "fig.show()"
   ]
  },
  {
   "cell_type": "markdown",
   "metadata": {},
   "source": [
    "### Conclusion\n",
    "\n",
    "During my research, I've learned that majority of the population on food stamps benefit will not be impacted by the new rules put in place by USDA because this population consist of children, seniors, adults caring for a dependent, or those unable to work.  As a result, childless adults are a small, but highly vulnerable, segment of SNAP participants, accounting for about 10% of all SNAP participants. I will be continuing research on this topic and looking more into detail on the characteristics of those in the small population who may be impacted by new rules. I predict that these individuals are low-income citizens in low paying fields that have little to no job stability. I also would like to look at unemployment data that specifies the number of hours worked and the duration throughout the year.\n",
    "\n",
    "Overall, I believe this policy will have a negative impact on those struggling to find and maintain a job. Although our economy is experiencing growth, there is still a huge population working in low-income positions and struggling to qualify for the positions in fields with vast openings. Those in these low-income positions often look for public assistance programs such as SNAP to support themselves. We cannot eliminate programs such as SNAP without offering opportunities that will help low-income workers quality for higher paying jobs and therefore putting them in positions to no longer depend on programs like SNAP.\n"
   ]
  },
  {
   "cell_type": "code",
   "execution_count": 31,
   "metadata": {},
   "outputs": [
    {
     "ename": "SyntaxError",
     "evalue": "invalid syntax (<ipython-input-31-24c32c254453>, line 1)",
     "output_type": "error",
     "traceback": [
      "\u001b[0;36m  File \u001b[0;32m\"<ipython-input-31-24c32c254453>\"\u001b[0;36m, line \u001b[0;32m1\u001b[0m\n\u001b[0;31m    jupyter nbconvert my_notebook.ipynb --to html --output output.html\u001b[0m\n\u001b[0m                    ^\u001b[0m\n\u001b[0;31mSyntaxError\u001b[0m\u001b[0;31m:\u001b[0m invalid syntax\n"
     ]
    }
   ],
   "source": [
    "jupyter nbconvert my_notebook.ipynb --to html --output output.html\n"
   ]
  },
  {
   "cell_type": "code",
   "execution_count": null,
   "metadata": {},
   "outputs": [],
   "source": []
  }
 ],
 "metadata": {
  "kernelspec": {
   "display_name": "Python 3",
   "language": "python",
   "name": "python3"
  },
  "language_info": {
   "codemirror_mode": {
    "name": "ipython",
    "version": 3
   },
   "file_extension": ".py",
   "mimetype": "text/x-python",
   "name": "python",
   "nbconvert_exporter": "python",
   "pygments_lexer": "ipython3",
   "version": "3.7.4"
  }
 },
 "nbformat": 4,
 "nbformat_minor": 2
}
